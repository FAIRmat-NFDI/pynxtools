{
 "cells": [
  {
   "cell_type": "code",
   "execution_count": 41,
   "metadata": {},
   "outputs": [],
   "source": [
    "import numpy as np\n",
    "import h5py \n",
    "from typing import Tuple\n",
    "from base_reader import BaseReader\n",
    "import yaml\n",
    "import pprint\n",
    "from convert import *\n",
    "import json\n",
    "import xml.etree.ElementTree as ET"
   ]
  },
  {
   "cell_type": "code",
   "execution_count": 42,
   "metadata": {},
   "outputs": [
    {
     "name": "stdout",
     "output_type": "stream",
     "text": [
      "{'start_time': '2021-12-13T13:45:14+01:00', 'type': 'Laser', 'name': 'Tungsten Diselenide', 'probe': 'X-ray', 'distance': '0.0', 'incident_energy': '21.7', 'incident_energy_spread': '0.110', 'incident_polarization': '[1,1,0,0]', 'energy_resolution': '0.140', 'momentum_resolution': '0.08', 'fast_axes': '[x,y,tof]', 'slow_axes': 'None', 'scheme': 'tof', 'lens_mode': '6kV_kmode_m4.2_30VTOF_453ns_focus_Gated_21.0V_FMCP.sav', 'projection': 'reciprocal', 'pass_energy': '30.0', 'energy_scan_mode': 'fixed', 'amplifier_type': 'MCP', 'detector_type': 'DLD', 'sensor_pixels': '[1800,1800]', 'applied': 'True', 'chemical_formula': 'WSe2', 'description': '2-D semiconductor', 'temperature': '18', 'situation': 'vacuum', 'pressure': '0.001'}\n"
     ]
    }
   ],
   "source": [
    "with open(\"NXmpes_core_draft.yml\", 'r') as f:\n",
    "    meta_dict= yaml.full_load(f)\n",
    "    print(meta_dict)"
   ]
  },
  {
   "cell_type": "code",
   "execution_count": 43,
   "metadata": {},
   "outputs": [],
   "source": [
    "#Writing the metadata to an hdf5 file.\n",
    "with h5py.File('fixed_metadata.h5','w') as hf:\n",
    "    hf.attrs.update(meta_dict)"
   ]
  },
  {
   "cell_type": "code",
   "execution_count": 44,
   "metadata": {},
   "outputs": [],
   "source": [
    "#Generating the template from Sherjeel's code\n",
    "\n",
    "nxdl= \"NXmpes_core_draft.nxdl.xml\" #appdef\n",
    "tree = ET.parse(nxdl)\n",
    "\n",
    "template = {}\n",
    "root = get_first_group(tree.getroot())\n",
    "generate_template_from_nxdl(root, '', template)\n"
   ]
  },
  {
   "cell_type": "code",
   "execution_count": 45,
   "metadata": {},
   "outputs": [],
   "source": [
    "class Reader(BaseReader):\n",
    "    \n",
    "    def reader(template, input_file): #For the case of one input file\n",
    "        with h5py.File(input_file, 'r') as f:\n",
    "\n",
    "            metadata= dict(f.attrs.items())\n",
    "\n",
    "            for path in template:\n",
    "                path_trunc= path.split('/')[-1]\n",
    "\n",
    "                if path_trunc in metadata:\n",
    "                    template[path]= metadata[path_trunc]\n",
    "                    \n",
    "        return template"
   ]
  },
  {
   "cell_type": "code",
   "execution_count": 46,
   "metadata": {},
   "outputs": [
    {
     "name": "stdout",
     "output_type": "stream",
     "text": [
      "{'/NXentry/@entry': None,\n",
      " '/NXentry/NXdata/@energy_indices': None,\n",
      " '/NXentry/NXdata/@kx_indices': None,\n",
      " '/NXentry/NXdata/@signal': None,\n",
      " '/NXentry/NXdata/data': None,\n",
      " '/NXentry/NXinstrument/NXbeam/distance': '0.0',\n",
      " '/NXentry/NXinstrument/NXbeam/distance/units': None,\n",
      " '/NXentry/NXinstrument/NXbeam/incident_energy': '21.7',\n",
      " '/NXentry/NXinstrument/NXbeam/incident_energy/units': None,\n",
      " '/NXentry/NXinstrument/NXbeam/incident_energy_spread': '0.110',\n",
      " '/NXentry/NXinstrument/NXbeam/incident_energy_spread/units': None,\n",
      " '/NXentry/NXinstrument/NXbeam/incident_polarization': '[1,1,0,0]',\n",
      " '/NXentry/NXinstrument/NXbeam/incident_polarization/units': None,\n",
      " '/NXentry/NXinstrument/NXelectronanalyser/NXcollectionlens/NXaperture/description': '2-D '\n",
      "                                                                                     'semiconductor',\n",
      " '/NXentry/NXinstrument/NXelectronanalyser/NXcollectionlens/NXaperture/shape': None,\n",
      " '/NXentry/NXinstrument/NXelectronanalyser/NXcollectionlens/NXaperture/size': None,\n",
      " '/NXentry/NXinstrument/NXelectronanalyser/NXcollectionlens/NXaperture/size/units': None,\n",
      " '/NXentry/NXinstrument/NXelectronanalyser/NXcollectionlens/lens_mode': '6kV_kmode_m4.2_30VTOF_453ns_focus_Gated_21.0V_FMCP.sav',\n",
      " '/NXentry/NXinstrument/NXelectronanalyser/NXcollectionlens/projection': 'reciprocal',\n",
      " '/NXentry/NXinstrument/NXelectronanalyser/NXcollectionlens/scheme': 'tof',\n",
      " '/NXentry/NXinstrument/NXelectronanalyser/NXdetector/NXdata/@signal': None,\n",
      " '/NXentry/NXinstrument/NXelectronanalyser/NXdetector/NXdata/raw': None,\n",
      " '/NXentry/NXinstrument/NXelectronanalyser/NXdetector/amplifier_type': 'MCP',\n",
      " '/NXentry/NXinstrument/NXelectronanalyser/NXdetector/detector_type': 'DLD',\n",
      " '/NXentry/NXinstrument/NXelectronanalyser/NXdetector/sensor_pixels': '[1800,1800]',\n",
      " '/NXentry/NXinstrument/NXelectronanalyser/NXenergydispersion/energy_scan_mode': 'fixed',\n",
      " '/NXentry/NXinstrument/NXelectronanalyser/NXenergydispersion/pass_energy': '30.0',\n",
      " '/NXentry/NXinstrument/NXelectronanalyser/NXenergydispersion/pass_energy/units': None,\n",
      " '/NXentry/NXinstrument/NXelectronanalyser/NXenergydispersion/scheme': 'tof',\n",
      " '/NXentry/NXinstrument/NXelectronanalyser/description': '2-D semiconductor',\n",
      " '/NXentry/NXinstrument/NXelectronanalyser/energy_resolution': '0.140',\n",
      " '/NXentry/NXinstrument/NXelectronanalyser/energy_resolution/units': None,\n",
      " '/NXentry/NXinstrument/NXelectronanalyser/fast_axes': '[x,y,tof]',\n",
      " '/NXentry/NXinstrument/NXelectronanalyser/momentum_resolution': '0.08',\n",
      " '/NXentry/NXinstrument/NXelectronanalyser/momentum_resolution/units': None,\n",
      " '/NXentry/NXinstrument/NXelectronanalyser/slow_axes': 'None',\n",
      " '/NXentry/NXinstrument/NXsource/name': 'Tungsten Diselenide',\n",
      " '/NXentry/NXinstrument/NXsource/probe': 'X-ray',\n",
      " '/NXentry/NXinstrument/NXsource/type': 'Laser',\n",
      " '/NXentry/NXprocess/NXcalibration/applied': 'True',\n",
      " '/NXentry/NXprocess/NXdistortion/applied': 'True',\n",
      " '/NXentry/NXprocess/NXregistration/applied': 'True',\n",
      " '/NXentry/NXprocess/calculated_energy': None,\n",
      " '/NXentry/NXprocess/calculated_energy/units': None,\n",
      " '/NXentry/NXprocess/calculated_kx': None,\n",
      " '/NXentry/NXprocess/calculated_kx/units': None,\n",
      " '/NXentry/NXsample/chemical_formula': 'WSe2',\n",
      " '/NXentry/NXsample/description': '2-D semiconductor',\n",
      " '/NXentry/NXsample/name': 'Tungsten Diselenide',\n",
      " '/NXentry/NXsample/preparation_date': None,\n",
      " '/NXentry/NXsample/preparation_date/units': None,\n",
      " '/NXentry/NXsample/pressure': '0.001',\n",
      " '/NXentry/NXsample/pressure/units': None,\n",
      " '/NXentry/NXsample/sample_history': None,\n",
      " '/NXentry/NXsample/situation': 'vacuum',\n",
      " '/NXentry/NXsample/temperature': '18',\n",
      " '/NXentry/NXsample/temperature/units': None,\n",
      " '/NXentry/definition': None,\n",
      " '/NXentry/definition/@version': None,\n",
      " '/NXentry/start_time': '2021-12-13T13:45:14+01:00',\n",
      " '/NXentry/title': None}\n"
     ]
    }
   ],
   "source": [
    "READER = Reader\n",
    "pprint.pprint(READER.reader(template, \"fixed_metadata.h5\"))"
   ]
  },
  {
   "cell_type": "code",
   "execution_count": null,
   "metadata": {},
   "outputs": [],
   "source": []
  }
 ],
 "metadata": {
  "kernelspec": {
   "display_name": "Python 3",
   "language": "python",
   "name": "python3"
  },
  "language_info": {
   "codemirror_mode": {
    "name": "ipython",
    "version": 3
   },
   "file_extension": ".py",
   "mimetype": "text/x-python",
   "name": "python",
   "nbconvert_exporter": "python",
   "pygments_lexer": "ipython3",
   "version": "3.7.10"
  }
 },
 "nbformat": 4,
 "nbformat_minor": 2
}
