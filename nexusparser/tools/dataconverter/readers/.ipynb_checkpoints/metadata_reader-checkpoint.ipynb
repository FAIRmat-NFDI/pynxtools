{
 "cells": [
  {
   "cell_type": "code",
   "execution_count": 1,
   "metadata": {},
   "outputs": [],
   "source": [
    "import numpy as np\n",
    "import h5py "
   ]
  },
  {
   "cell_type": "code",
   "execution_count": 35,
   "metadata": {},
   "outputs": [],
   "source": [
    "def reader(template, input_file):\n",
    "    with h5py.File(input_file, 'r') as f:\n",
    "    #     print(f.keys()) #Accessing the keys\n",
    "    \n",
    "        metadata= dict(f.attrs.items())\n",
    "        \n",
    "        #Filling in\n",
    "        template['/entry/start_time']= metadata['CompileTimeStamp']\n",
    "        \n",
    "        #Subsequent paths to be filled\n",
    "        \n",
    "    return template"
   ]
  },
  {
   "cell_type": "code",
   "execution_count": 36,
   "metadata": {},
   "outputs": [],
   "source": [
    "temp= dict() #template to be created from nxdl by the converter"
   ]
  },
  {
   "cell_type": "code",
   "execution_count": 37,
   "metadata": {},
   "outputs": [
    {
     "name": "stdout",
     "output_type": "stream",
     "text": [
      "{'/entry/start_time': b'Thu Aug  2 13:46:15 2018'}\n"
     ]
    }
   ],
   "source": [
    "print(reader(temp, \"Scan0025_1.h5\"))"
   ]
  },
  {
   "cell_type": "code",
   "execution_count": null,
   "metadata": {},
   "outputs": [],
   "source": []
  }
 ],
 "metadata": {
  "kernelspec": {
   "display_name": "Python 3",
   "language": "python",
   "name": "python3"
  },
  "language_info": {
   "codemirror_mode": {
    "name": "ipython",
    "version": 3
   },
   "file_extension": ".py",
   "mimetype": "text/x-python",
   "name": "python",
   "nbconvert_exporter": "python",
   "pygments_lexer": "ipython3",
   "version": "3.7.10"
  }
 },
 "nbformat": 4,
 "nbformat_minor": 2
}
