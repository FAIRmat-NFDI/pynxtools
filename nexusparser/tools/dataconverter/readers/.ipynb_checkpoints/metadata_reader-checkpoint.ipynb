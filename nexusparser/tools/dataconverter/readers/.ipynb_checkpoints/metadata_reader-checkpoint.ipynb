{
 "cells": [
  {
   "cell_type": "code",
   "execution_count": 18,
   "metadata": {},
   "outputs": [],
   "source": [
    "import numpy as np\n",
    "import h5py \n",
    "from typing import Tuple\n",
    "from base_reader import BaseReader"
   ]
  },
  {
   "cell_type": "code",
   "execution_count": 19,
   "metadata": {},
   "outputs": [],
   "source": [
    "class Reader(BaseReader):\n",
    "    \n",
    "    def reader(template, input_file):\n",
    "        with h5py.File(input_file, 'r') as f:\n",
    "#             print(f.keys()) #Accessing the keys\n",
    "\n",
    "            metadata= dict(f.attrs.items())\n",
    "#             print('Metadata :', metadata)\n",
    "            \n",
    "            #Filling in\n",
    "            template['/entry/start_time']= metadata['CompileTimeStamp']\n",
    "\n",
    "            #Subsequent paths to be filled\n",
    "\n",
    "        return template"
   ]
  },
  {
   "cell_type": "code",
   "execution_count": 20,
   "metadata": {},
   "outputs": [],
   "source": [
    "temp= dict() #template to be created from nxdl by the converter"
   ]
  },
  {
   "cell_type": "code",
   "execution_count": 21,
   "metadata": {},
   "outputs": [
    {
     "name": "stdout",
     "output_type": "stream",
     "text": [
      "Metadata : {'CAClientMajorVersion': 0, 'CAClientMinorVersion': 1, 'CompileTimeStamp': b'Thu Aug  2 13:46:15 2018', 'KTOF:Apertures:m1.RBV': 0.6748799999999999, 'KTOF:Apertures:m2.RBV': -0.42513199999999995, 'KTOF:Apertures:m3.RBV': -11.334245, 'KTOF:CS:D3:DX': 5.0, 'KTOF:CS:D3:DY': -34.0, 'KTOF:Lens:A:V': 403.0572814941406, 'KTOF:Lens:B:V': 2499.996337890625, 'KTOF:Lens:C:V': 422.2531433105469, 'KTOF:Lens:D:V': 208.87728881835938, 'KTOF:Lens:E:V': 199.48744201660156, 'KTOF:Lens:Extr:V': 6000.7, 'KTOF:Lens:F:V': 69.238037109375, 'KTOF:Lens:Foc:V': 158.00140380859375, 'KTOF:Lens:G:V': 30.01753044128418, 'KTOF:Lens:H:V': 29.99847984313965, 'KTOF:Lens:I:V': 44.4984245300293, 'KTOF:Lens:MCPback:V': 1749.9921875, 'KTOF:Lens:MCPfront:V': 20.995439529418945, 'KTOF:Lens:Sample:V': 15.99865436553955, 'KTOF:Lens:TOF:V': 29.999588012695312, 'KTOF:Lens:UCA:V': 1200.0008544921875, 'KTOF:Lens:UDLD:V': 400.0025634765625, 'KTOF:Lens:UFA:V': 599.9956665039062, 'KTOF:Lens:Z1:V': 2449.993408203125, 'KTOF:Lens:Z2:V': 1489.8914794921875, 'trARPES:Carving:OMG.RBV': 61.0, 'trARPES:Carving:PHI.RBV': 0.0, 'trARPES:Carving:TEMP-B': 300.01, 'trARPES:Carving:TEMP_RBV': 299.88, 'trARPES:Carving:THT.RBV': 409.56, 'trARPES:Carving:TRX.RBV': 2.86, 'trARPES:Carving:TRY.RBV': -2.18, 'trARPES:Carving:TRZ.RBV': 33.86, 'trARPES:DelayStage:Pos': -39.90125, 'trARPES:DelayStage:p1': -39.90124811450001, 'trARPES:DelayStage:p2': -39.676403771000004, 'trARPES:DelayStage:t0': -39.8263, 'trARPES:HHG:1:PRESSURE': 0.00083, 'trARPES:HHG:Iris:opening.RBV': 20.0, 'trARPES:PIC_PRE:1:PRESSURE': 8.49e-10, 'trARPES:Pump:Power.RBV': 0.005, 'trARPES:XGS600:PressureAC:P_RD': 7.34e-11, 'trARPES:XGS600:PressureTC:P_RD': 8.493e-11}\n",
      "Template : {'/entry/start_time': b'Thu Aug  2 13:46:15 2018'}\n"
     ]
    }
   ],
   "source": [
    "READER = Reader\n",
    "print('Template :', READER.reader(temp, \"Scan0025_1.h5\"))"
   ]
  },
  {
   "cell_type": "code",
   "execution_count": null,
   "metadata": {},
   "outputs": [],
   "source": []
  }
 ],
 "metadata": {
  "kernelspec": {
   "display_name": "Python 3",
   "language": "python",
   "name": "python3"
  },
  "language_info": {
   "codemirror_mode": {
    "name": "ipython",
    "version": 3
   },
   "file_extension": ".py",
   "mimetype": "text/x-python",
   "name": "python",
   "nbconvert_exporter": "python",
   "pygments_lexer": "ipython3",
   "version": "3.7.10"
  }
 },
 "nbformat": 4,
 "nbformat_minor": 2
}
