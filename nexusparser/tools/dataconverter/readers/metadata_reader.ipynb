{
 "cells": [
  {
   "cell_type": "code",
   "execution_count": 1,
   "metadata": {},
   "outputs": [],
   "source": [
    "import numpy as np\n",
    "import h5py "
   ]
  },
  {
   "cell_type": "code",
   "execution_count": 12,
   "metadata": {},
   "outputs": [
    {
     "name": "stdout",
     "output_type": "stream",
     "text": [
      "<KeysViewHDF5 ['EventFormat', 'Stream_0', 'Stream_1', 'Stream_2', 'Stream_3', 'Stream_4', 'Stream_5', 'msMarkers']>\n",
      "CAClientMajorVersion 0\n",
      "CAClientMinorVersion 1\n",
      "CompileTimeStamp b'Thu Aug  2 13:46:15 2018'\n",
      "KTOF:Apertures:m1.RBV 0.6748799999999999\n",
      "KTOF:Apertures:m2.RBV -0.42513199999999995\n",
      "KTOF:Apertures:m3.RBV -11.334245\n",
      "KTOF:CS:D3:DX 5.0\n",
      "KTOF:CS:D3:DY -34.0\n",
      "KTOF:Lens:A:V 403.0572814941406\n",
      "KTOF:Lens:B:V 2499.996337890625\n",
      "KTOF:Lens:C:V 422.2531433105469\n",
      "KTOF:Lens:D:V 208.87728881835938\n",
      "KTOF:Lens:E:V 199.48744201660156\n",
      "KTOF:Lens:Extr:V 6000.7\n",
      "KTOF:Lens:F:V 69.238037109375\n",
      "KTOF:Lens:Foc:V 158.00140380859375\n",
      "KTOF:Lens:G:V 30.01753044128418\n",
      "KTOF:Lens:H:V 29.99847984313965\n",
      "KTOF:Lens:I:V 44.4984245300293\n",
      "KTOF:Lens:MCPback:V 1749.9921875\n",
      "KTOF:Lens:MCPfront:V 20.995439529418945\n",
      "KTOF:Lens:Sample:V 15.99865436553955\n",
      "KTOF:Lens:TOF:V 29.999588012695312\n",
      "KTOF:Lens:UCA:V 1200.0008544921875\n",
      "KTOF:Lens:UDLD:V 400.0025634765625\n",
      "KTOF:Lens:UFA:V 599.9956665039062\n",
      "KTOF:Lens:Z1:V 2449.993408203125\n",
      "KTOF:Lens:Z2:V 1489.8914794921875\n",
      "trARPES:Carving:OMG.RBV 61.0\n",
      "trARPES:Carving:PHI.RBV 0.0\n",
      "trARPES:Carving:TEMP-B 300.01\n",
      "trARPES:Carving:TEMP_RBV 299.88\n",
      "trARPES:Carving:THT.RBV 409.56\n",
      "trARPES:Carving:TRX.RBV 2.86\n",
      "trARPES:Carving:TRY.RBV -2.18\n",
      "trARPES:Carving:TRZ.RBV 33.86\n",
      "trARPES:DelayStage:Pos -39.90125\n",
      "trARPES:DelayStage:p1 -39.90124811450001\n",
      "trARPES:DelayStage:p2 -39.676403771000004\n",
      "trARPES:DelayStage:t0 -39.8263\n",
      "trARPES:HHG:1:PRESSURE 0.00083\n",
      "trARPES:HHG:Iris:opening.RBV 20.0\n",
      "trARPES:PIC_PRE:1:PRESSURE 8.49e-10\n",
      "trARPES:Pump:Power.RBV 0.005\n",
      "trARPES:XGS600:PressureAC:P_RD 7.34e-11\n",
      "trARPES:XGS600:PressureTC:P_RD 8.493e-11\n"
     ]
    }
   ],
   "source": [
    "with h5py.File(\"/mnt/pcshare/2021/2021_06/2021_06_26/Scan0025_1/Scan0025_1.h5\", 'r') as f:\n",
    "    print(f.keys()) #Accessing the keys\n",
    "#     print(f.attrs.keys()) #Accessing the metadata attributes\n",
    "    #To get the metadata \n",
    "    for attr in f.attrs.keys():\n",
    "        print(attr, f.attrs[attr])"
   ]
  },
  {
   "cell_type": "code",
   "execution_count": null,
   "metadata": {},
   "outputs": [],
   "source": []
  }
 ],
 "metadata": {
  "kernelspec": {
   "display_name": "Python 3",
   "language": "python",
   "name": "python3"
  },
  "language_info": {
   "codemirror_mode": {
    "name": "ipython",
    "version": 3
   },
   "file_extension": ".py",
   "mimetype": "text/x-python",
   "name": "python",
   "nbconvert_exporter": "python",
   "pygments_lexer": "ipython3",
   "version": "3.7.3"
  }
 },
 "nbformat": 4,
 "nbformat_minor": 2
}
