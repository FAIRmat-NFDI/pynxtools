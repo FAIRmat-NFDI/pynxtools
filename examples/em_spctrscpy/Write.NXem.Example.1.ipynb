{
 "cells": [
  {
   "cell_type": "markdown",
   "metadata": {},
   "source": [
    "## Using dataconverter/em_spctrscpy for mapping EDX(S) and EELS spectroscopy as well as electron microscopy images to NeXus/HDF5/NXem"
   ]
  },
  {
   "cell_type": "markdown",
   "metadata": {
    "tags": []
   },
   "source": [
    "### **Step 1:** Check that packages are installed and working in your local Python environment."
   ]
  },
  {
   "cell_type": "markdown",
   "metadata": {},
   "source": [
    "Check the result of the query below specifically that `jupyterlab_h5web` and `pynxtools` are installed in your environment.<br>\n",
    "Note that next to the name pynxtools you should see the directory in which it is installed. Otherwise, make sure that you follow<br>\n",
    "the instructions in the `README` files:  \n",
    "- How to set up a development environment as in the main README  \n",
    "- Lauch the jupyter lab from this environement as in the README of folder `examples`"
   ]
  },
  {
   "cell_type": "code",
   "execution_count": null,
   "metadata": {
    "tags": []
   },
   "outputs": [],
   "source": [
    "! pip list | grep \"h5py\\|nexus\\|jupyter\" && jupyter serverextension list && jupyter labextension list && python -V"
   ]
  },
  {
   "cell_type": "markdown",
   "metadata": {},
   "source": [
    "Set the pynxtools directory and start H5Web for interactive exploring of HDF5 files."
   ]
  },
  {
   "cell_type": "code",
   "execution_count": null,
   "metadata": {},
   "outputs": [],
   "source": [
    "import os\n",
    "from jupyterlab_h5web import H5Web\n",
    "print(f\"Current working directory: {os.getcwd()}\")\n",
    "print(f\"So-called base, home, or root directory of the pynxtools: {os.getcwd().replace('/examples/em_spctrscpy', '')}\")"
   ]
  },
  {
   "cell_type": "markdown",
   "metadata": {},
   "source": [
    "### **Step 2:** Download EM-SPCTRSCPY-specific example data or use your own dataset."
   ]
  },
  {
   "cell_type": "markdown",
   "metadata": {
    "tags": []
   },
   "source": [
    "Example data can be found on Zenodo https://zenodo.org/record/7908429."
   ]
  },
  {
   "cell_type": "code",
   "execution_count": null,
   "metadata": {
    "tags": []
   },
   "outputs": [],
   "source": [
    "import zipfile as zp"
   ]
  },
  {
   "cell_type": "code",
   "execution_count": null,
   "metadata": {
    "tags": []
   },
   "outputs": [],
   "source": [
    "! curl --output EM.Various.Datasets.1.zip https://zenodo.org/record/7908429/files/EM.Various.Datasets.1.zip"
   ]
  },
  {
   "cell_type": "code",
   "execution_count": null,
   "metadata": {},
   "outputs": [],
   "source": [
    "zp.ZipFile(\"EM.Various.Datasets.1.zip\").extractall(path=\"\", members=None, pwd=None)"
   ]
  },
  {
   "cell_type": "markdown",
   "metadata": {},
   "source": [
    "These files should serve exclusively as examples. <font color=\"orange\">The dataconverter for EM-SPCTRSCPY always requires a pair of files</font>:\n",
    "* A **YAML file with metadata** (either edited manually or via an ELN).<br>\n",
    "  The eln_data_em_spctrscpy.yaml file in the example can be edited with a text editor.<br>\n",
    "* A **community or technology partner / vendor file** with the data from the microscope session.<br>\n",
    "  Hyperspy is used for parsing, tests were performed for DM3, BCF, and Velox EMD files.<br>"
   ]
  },
  {
   "cell_type": "markdown",
   "metadata": {},
   "source": [
    "<div class=\"alert alert-block alert-info\">\n",
    "For GUI-based editing, a NOMAD OASIS instance is needed.<br>\n",
    "</div>"
   ]
  },
  {
   "cell_type": "markdown",
   "metadata": {},
   "source": [
    "<div class=\"alert alert-block alert-danger\">\n",
    "Please note that the metadata inside the provided eln_data_em_spctrscpy.yaml file contains example values.<br>\n",
    "These reflect not necessarily the conditions when the raw data for the example were collected!<br>\n",
    "The file is meant to be edited by you if you work with datasets others than the here provided!<br>\n",
    "</div>"
   ]
  },
  {
   "cell_type": "markdown",
   "metadata": {
    "tags": []
   },
   "source": [
    "### **Step 3:** Run the EM-spectroscopy-specific dataconverter on the example data."
   ]
  },
  {
   "cell_type": "markdown",
   "metadata": {},
   "source": [
    "Now we run our parser. The --reader flag takes the em_spctrscpy reader, the --nxdl flag takes the application definition for this technique NXem.<br>"
   ]
  },
  {
   "cell_type": "markdown",
   "metadata": {},
   "source": [
    "### **Step 3a:** Optionally see the command line help of the dataconverter."
   ]
  },
  {
   "cell_type": "code",
   "execution_count": null,
   "metadata": {},
   "outputs": [],
   "source": [
    "! dataconverter --help"
   ]
  },
  {
   "cell_type": "markdown",
   "metadata": {},
   "source": [
    "### **Step 3b:** Optionally explore all paths which NXem provides."
   ]
  },
  {
   "cell_type": "code",
   "execution_count": null,
   "metadata": {
    "tags": []
   },
   "outputs": [],
   "source": [
    "! dataconverter --nxdl NXem --reader em_spctrscpy --generate-template"
   ]
  },
  {
   "cell_type": "markdown",
   "metadata": {},
   "source": [
    "### **Step 3c**: Convert the files in the example into an NXem-compliant NeXus/HDF5 file."
   ]
  },
  {
   "cell_type": "code",
   "execution_count": null,
   "metadata": {
    "tags": []
   },
   "outputs": [],
   "source": [
    "#parser-nexus/tests/data/tools/dataconverter/readers/em_spctrscpy/\n",
    "eln_data_file_name = [\"eln_data_em_spctrscpy.yaml\"]\n",
    "input_data_file_name = [\"46_ES-LP_L1_brg.bcf\",\n",
    "                        \"1613_Si_HAADF_610_kx.emd\",\n",
    "                        \"EELS_map_2_ROI_1_location_4.dm3\"]\n",
    "output_file_name = [\"em_sp.case1.nxs\",\n",
    "                    \"em_sp.case2.nxs\",\n",
    "                    \"em_sp.case3.nxs\"]\n",
    "for case_id in [0, 1, 2]:\n",
    "    ELN = eln_data_file_name[0]\n",
    "    INPUT = input_data_file_name[case_id]\n",
    "    OUTPUT = output_file_name[case_id]\n",
    "\n",
    "    ! dataconverter --reader em_spctrscpy --nxdl NXem --input-file $ELN --input-file $INPUT --output $OUTPUT"
   ]
  },
  {
   "cell_type": "markdown",
   "metadata": {},
   "source": [
    "The key take home message is that the command above-specified triggers the automatic creation of the HDF5 file. This *.nxs file, is an HDF5 file."
   ]
  },
  {
   "cell_type": "markdown",
   "metadata": {
    "tags": []
   },
   "source": [
    "### **Step 4:** Inspect the NeXus/HDF5 file using H5Web"
   ]
  },
  {
   "cell_type": "code",
   "execution_count": null,
   "metadata": {},
   "outputs": [],
   "source": [
    "# H5Web(OUTPUT)\n",
    "H5Web(\"em_sp.case1.nxs\")\n",
    "# H5Web(\"em_sp.case2.nxs\")\n",
    "# H5Web(\"em_sp.case3.nxs\")"
   ]
  },
  {
   "cell_type": "markdown",
   "metadata": {},
   "source": [
    "### **Optional:** Generate synthetic data for testing and development purposes"
   ]
  },
  {
   "cell_type": "markdown",
   "metadata": {},
   "source": [
    "The apm reader has a functionality to generate synthetic dataset which are meant for pursuing code development."
   ]
  },
  {
   "cell_type": "code",
   "execution_count": null,
   "metadata": {
    "tags": []
   },
   "outputs": [],
   "source": [
    "! dataconverter --reader em_spctrscpy --nxdl NXem --input-file synthesize1 --output em_sp.case0.nxs"
   ]
  },
  {
   "cell_type": "code",
   "execution_count": null,
   "metadata": {},
   "outputs": [],
   "source": [
    "H5Web(\"em_sp.case0.nxs\")"
   ]
  },
  {
   "cell_type": "markdown",
   "metadata": {},
   "source": [
    "Here is where the general template ends. Continue with filling in the notebook with your own post-processing of this *.nxs file."
   ]
  },
  {
   "cell_type": "markdown",
   "metadata": {},
   "source": [
    "***"
   ]
  },
  {
   "cell_type": "markdown",
   "metadata": {},
   "source": [
    "### Contact person for this example in FAIRmat:\n",
    "Markus Kühbach"
   ]
  },
  {
   "cell_type": "markdown",
   "metadata": {},
   "source": [
    "### Contact person for the apm reader and related examples in FAIRmat:\n",
    "Markus Kühbach, 2023/08/31<br>\n",
    "\n",
    "### Funding\n",
    "<a href=\"https://www.fairmat-nfdi.eu/fairmat\">FAIRmat</a> is a consortium on research data management which is part of the German NFDI.<br>\n",
    "The project is funded by the Deutsche Forschungsgemeinschaft (DFG, German Research Foundation) – project 460197019."
   ]
  },
  {
   "cell_type": "code",
   "execution_count": null,
   "metadata": {},
   "outputs": [],
   "source": []
  }
 ],
 "metadata": {
  "kernelspec": {
   "display_name": "Python 3 (ipykernel)",
   "language": "python",
   "name": "python3"
  },
  "language_info": {
   "codemirror_mode": {
    "name": "ipython",
    "version": 3
   },
   "file_extension": ".py",
   "mimetype": "text/x-python",
   "name": "python",
   "nbconvert_exporter": "python",
   "pygments_lexer": "ipython3",
   "version": "3.10.12"
  },
  "vscode": {
   "interpreter": {
    "hash": "fb9c1bd38c7663f011bf442e740f4844d912585f80182885cfafffa0a1ff37a6"
   }
  }
 },
 "nbformat": 4,
 "nbformat_minor": 4
}
