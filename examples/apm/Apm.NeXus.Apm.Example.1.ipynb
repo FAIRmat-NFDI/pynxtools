{
 "cells": [
  {
   "cell_type": "markdown",
   "metadata": {},
   "source": [
    "## NOMAD-PARSER-NEXUS/DATACONVERTER demo for Atom Probe Microscopy (APM) data"
   ]
  },
  {
   "cell_type": "markdown",
   "metadata": {
    "tags": []
   },
   "source": [
    "### **Step 1:** Check that everything is ready to go and download example data for APM. "
   ]
  },
  {
   "cell_type": "code",
   "execution_count": 3,
   "metadata": {},
   "outputs": [
    {
     "name": "stdout",
     "output_type": "stream",
     "text": [
      "h5py                 3.7.0\n",
      "jupyter_client       7.3.5\n",
      "jupyter-core         4.11.1\n",
      "jupyter-server       1.19.1\n",
      "jupyterlab-h5web     6.0.1\n",
      "jupyterlab-pygments  0.2.2\n",
      "nexusutils           0.0.1\n",
      "config dir: /home/mkuehbach/.jupyter\n",
      "    jupyterlab_h5web \u001b[32m enabled \u001b[0m\n",
      "    - Validating...\n",
      "      jupyterlab_h5web 5.0.0 \u001b[32mOK\u001b[0m\n",
      "    jupyter_nbextensions_configurator \u001b[32m enabled \u001b[0m\n",
      "    - Validating...\n",
      "      jupyter_nbextensions_configurator 0.4.1 \u001b[32mOK\u001b[0m\n",
      "config dir: /home/mkuehbach/.local/etc/jupyter\n",
      "    jupyterlab \u001b[32m enabled \u001b[0m\n",
      "    - Validating...\n",
      "      jupyterlab 3.4.3 \u001b[32mOK\u001b[0m\n",
      "    jupyterlab_h5web \u001b[32m enabled \u001b[0m\n",
      "    - Validating...\n",
      "      jupyterlab_h5web 5.0.0 \u001b[32mOK\u001b[0m\n",
      "JupyterLab v3.4.3\n",
      "/home/mkuehbach/.local/share/jupyter/labextensions\n",
      "        jupyterlab_pygments v0.2.2 \u001b[32menabled\u001b[0m \u001b[32mOK\u001b[0m (python, jupyterlab_pygments)\n",
      "        jupyterlab-h5web v5.0.0 \u001b[32menabled\u001b[0m \u001b[32mOK\u001b[0m (python, jupyterlab_h5web)\n",
      "        @jupyter-widgets/jupyterlab-manager v3.1.0 \u001b[32menabled\u001b[0m \u001b[32mOK\u001b[0m (python, jupyterlab_widgets)\n",
      "\n",
      "Python 3.7.14\n"
     ]
    }
   ],
   "source": [
    "! pip list | grep 'h5py\\|nexus\\|jupyter' && jupyter serverextension list && jupyter labextension list && python -V"
   ]
  },
  {
   "cell_type": "markdown",
   "metadata": {},
   "source": [
    "Set the nexusparser directory."
   ]
  },
  {
   "cell_type": "code",
   "execution_count": 44,
   "metadata": {},
   "outputs": [
    {
     "name": "stdout",
     "output_type": "stream",
     "text": [
      "Current working directory\n",
      "/home/mkuehbach/SPRINT-9/20221006_refactor_nomad_parser_nexus/nomad-parser-nexus/examples/apm\n",
      "Base/home/root directory of the nomad-parser-nexus\n",
      "/home/mkuehbach/SPRINT-9/20221006_refactor_nomad_parser_nexus/nomad-parser-nexus\n"
     ]
    }
   ],
   "source": [
    "import os\n",
    "print('Current working directory')\n",
    "print(os.getcwd())\n",
    "nexus_dir = os.getcwd().replace('/examples/apm', '')\n",
    "# import nexusutils\n",
    "# nexus_dir = os.path.dirname(nexusutils.__file__)\n",
    "print('Base/home/root directory of the nomad-parser-nexus')\n",
    "print(nexus_dir)"
   ]
  },
  {
   "cell_type": "markdown",
   "metadata": {},
   "source": [
    "### **Step 2:** Download APM-specific example data."
   ]
  },
  {
   "cell_type": "markdown",
   "metadata": {
    "tags": []
   },
   "source": [
    "For this case, the data can be found in zenodo."
   ]
  },
  {
   "cell_type": "code",
   "execution_count": 14,
   "metadata": {
    "tags": []
   },
   "outputs": [],
   "source": [
    "import shutil  # unpacks in current path unless an additional path argument is provided"
   ]
  },
  {
   "cell_type": "code",
   "execution_count": 15,
   "metadata": {},
   "outputs": [
    {
     "name": "stdout",
     "output_type": "stream",
     "text": [
      "  % Total    % Received % Xferd  Average Speed   Time    Time     Time  Current\n",
      "                                 Dload  Upload   Total   Spent    Left  Speed\n",
      "100  127M  100  127M    0     0  1507k      0  0:01:26  0:01:26 --:--:-- 1059k\n"
     ]
    }
   ],
   "source": [
    "# http://dx.doi.org/10.5281/zenodo.6808516\n",
    "! curl --output APM.LEAP.Datasets.1.zip https://zenodo.org/record/6808516/files/APM.LEAP.Datasets.1.zip\n",
    "shutil.unpack_archive('APM.LEAP.Datasets.1.zip')"
   ]
  },
  {
   "cell_type": "markdown",
   "metadata": {},
   "source": [
    "These files should serve exclusively as examples. <font color=\"orange\">The dataconverter for APM always requires a triplet of files</font>:\n",
    "* A **community or vendor file** with the ion positions and mass-to-charge state ratio values for the tomographic reconstruction. POS, ePOS, or APT are allowed.\n",
    "* A file with **ranging definitions**, i.e. how mass-to-charge-state ratio values map on ion species. RNG or RRNG are allowed.\n",
    "* A **file with additional metadata (edited manually or via an ELN) in YAML format**. The eln_data_apm.yaml file in the example can be edited with a text editor.\n",
    "For GUI-based editing, a NOMAD OASIS instance is needed.<br>\n",
    "<font color=\"red\">Please note that the metadata inside the provided eln_data_apm.yaml file has example data in it.</font>\n",
    "<font color=\"red\">These reflect not necessarily the conditions when the raw data for the example were given. The file is meant to be edited!</font>"
   ]
  },
  {
   "cell_type": "markdown",
   "metadata": {
    "tags": []
   },
   "source": [
    "### **Step 3:** Run your APM-specific dataconverter/readers/ on the example data."
   ]
  },
  {
   "cell_type": "markdown",
   "metadata": {},
   "source": [
    "Now we run our parser. The --reader flag takes the atom probe microscopy reader (apm), the --nxdl flag takes the application definition for this technique.<br> "
   ]
  },
  {
   "cell_type": "markdown",
   "metadata": {},
   "source": [
    "Inspect what can/should be in the NeXus file."
   ]
  },
  {
   "cell_type": "code",
   "execution_count": 27,
   "metadata": {},
   "outputs": [
    {
     "name": "stdout",
     "output_type": "stream",
     "text": [
      "/home/mkuehbach/SPRINT-9/20221006_refactor_nomad_parser_nexus/nomad-parser-nexus\n"
     ]
    }
   ],
   "source": [
    "! echo {nexus_dir}"
   ]
  },
  {
   "cell_type": "markdown",
   "metadata": {},
   "source": [
    "### **Step 3a:** Optionally see the command line help of the dataconverter."
   ]
  },
  {
   "cell_type": "code",
   "execution_count": 28,
   "metadata": {},
   "outputs": [
    {
     "name": "stdout",
     "output_type": "stream",
     "text": [
      "Usage: convert.py [OPTIONS]\n",
      "\n",
      "  The CLI entrypoint for the convert function\n",
      "\n",
      "Options:\n",
      "  --input-file TEXT               The path to the input data file to read.\n",
      "                                  (Repeat for more than one file.)\n",
      "  --reader [example|apm|transmission|json_map|json_yml|em_nion|ellips|em_spctrscpy|mpes|hall]\n",
      "                                  The reader to use. default=\"example\"\n",
      "  --nxdl TEXT                     The name of the NXDL file to use without\n",
      "                                  extension.\n",
      "  --output TEXT                   The path to the output NeXus file to be\n",
      "                                  generated.\n",
      "  --generate-template             Just print out the template generated from\n",
      "                                  given NXDL file.\n",
      "  --fair                          Let the converter know to be stricter in\n",
      "                                  checking the documentation.\n",
      "  --params-file FILENAME          Allows to pass a .yaml file with all the\n",
      "                                  parameters the converter supports.\n",
      "  --help                          Show this message and exit.\n"
     ]
    }
   ],
   "source": [
    "! python3 {nexus_dir}/nexusutils/dataconverter/convert.py --help"
   ]
  },
  {
   "cell_type": "markdown",
   "metadata": {},
   "source": [
    "### **Step 3b:** Optionally explore all paths which NXapm provides."
   ]
  },
  {
   "cell_type": "code",
   "execution_count": 29,
   "metadata": {
    "tags": []
   },
   "outputs": [
    {
     "name": "stdout",
     "output_type": "stream",
     "text": [
      "{\n",
      "    \"/ENTRY[entry]/@version\": \"None\",\n",
      "    \"/ENTRY[entry]/COORDINATE_SYSTEM_SET[coordinate_system_set]\": \"None\",\n",
      "    \"/ENTRY[entry]/COORDINATE_SYSTEM_SET[coordinate_system_set]/TRANSFORMATIONS[transformations]\": \"None\",\n",
      "    \"/ENTRY[entry]/DATA[data]\": \"None\",\n",
      "    \"/ENTRY[entry]/MONITOR[monitor]\": \"None\",\n",
      "    \"/ENTRY[entry]/USER[user]/address\": \"None\",\n",
      "    \"/ENTRY[entry]/USER[user]/affiliation\": \"None\",\n",
      "    \"/ENTRY[entry]/USER[user]/email\": \"None\",\n",
      "    \"/ENTRY[entry]/USER[user]/name\": \"None\",\n",
      "    \"/ENTRY[entry]/USER[user]/orcid\": \"None\",\n",
      "    \"/ENTRY[entry]/USER[user]/orcid_platform\": \"None\",\n",
      "    \"/ENTRY[entry]/USER[user]/role\": \"None\",\n",
      "    \"/ENTRY[entry]/USER[user]/social_media_name\": \"None\",\n",
      "    \"/ENTRY[entry]/USER[user]/social_media_platform\": \"None\",\n",
      "    \"/ENTRY[entry]/USER[user]/telephone_number\": \"None\",\n",
      "    \"/ENTRY[entry]/atom_probe/FABRICATION[fabrication]/capabilities\": \"None\",\n",
      "    \"/ENTRY[entry]/atom_probe/FABRICATION[fabrication]/identifier\": \"None\",\n",
      "    \"/ENTRY[entry]/atom_probe/REFLECTRON[reflectron]/FABRICATION[fabrication]/capabilities\": \"None\",\n",
      "    \"/ENTRY[entry]/atom_probe/REFLECTRON[reflectron]/FABRICATION[fabrication]/identifier\": \"None\",\n",
      "    \"/ENTRY[entry]/atom_probe/REFLECTRON[reflectron]/applied\": \"None\",\n",
      "    \"/ENTRY[entry]/atom_probe/REFLECTRON[reflectron]/description\": \"None\",\n",
      "    \"/ENTRY[entry]/atom_probe/REFLECTRON[reflectron]/name\": \"None\",\n",
      "    \"/ENTRY[entry]/atom_probe/analysis_chamber/FABRICATION[fabrication]/capabilities\": \"None\",\n",
      "    \"/ENTRY[entry]/atom_probe/analysis_chamber/FABRICATION[fabrication]/identifier\": \"None\",\n",
      "    \"/ENTRY[entry]/atom_probe/analysis_chamber/description\": \"None\",\n",
      "    \"/ENTRY[entry]/atom_probe/analysis_chamber/name\": \"None\",\n",
      "    \"/ENTRY[entry]/atom_probe/analysis_chamber/pressure\": \"None\",\n",
      "    \"/ENTRY[entry]/atom_probe/analysis_chamber/pressure/@units\": \"None\",\n",
      "    \"/ENTRY[entry]/atom_probe/buffer_chamber/FABRICATION[fabrication]/capabilities\": \"None\",\n",
      "    \"/ENTRY[entry]/atom_probe/buffer_chamber/FABRICATION[fabrication]/identifier\": \"None\",\n",
      "    \"/ENTRY[entry]/atom_probe/buffer_chamber/description\": \"None\",\n",
      "    \"/ENTRY[entry]/atom_probe/buffer_chamber/name\": \"None\",\n",
      "    \"/ENTRY[entry]/atom_probe/buffer_chamber/pressure\": \"None\",\n",
      "    \"/ENTRY[entry]/atom_probe/buffer_chamber/pressure/@units\": \"None\",\n",
      "    \"/ENTRY[entry]/atom_probe/control_software/analysis_chamber\": \"None\",\n",
      "    \"/ENTRY[entry]/atom_probe/control_software/buffer_chamber\": \"None\",\n",
      "    \"/ENTRY[entry]/atom_probe/control_software/load_lock_chamber\": \"None\",\n",
      "    \"/ENTRY[entry]/atom_probe/control_software/program\": \"None\",\n",
      "    \"/ENTRY[entry]/atom_probe/control_software/program/@version\": \"None\",\n",
      "    \"/ENTRY[entry]/atom_probe/field_of_view\": \"None\",\n",
      "    \"/ENTRY[entry]/atom_probe/field_of_view/@units\": \"None\",\n",
      "    \"/ENTRY[entry]/atom_probe/flight_path_length\": \"None\",\n",
      "    \"/ENTRY[entry]/atom_probe/flight_path_length/@units\": \"None\",\n",
      "    \"/ENTRY[entry]/atom_probe/getter_pump/FABRICATION[fabrication]/capabilities\": \"None\",\n",
      "    \"/ENTRY[entry]/atom_probe/getter_pump/FABRICATION[fabrication]/identifier\": \"None\",\n",
      "    \"/ENTRY[entry]/atom_probe/getter_pump/design\": \"None\",\n",
      "    \"/ENTRY[entry]/atom_probe/hit_multiplicity/hit_multiplicity\": \"None\",\n",
      "    \"/ENTRY[entry]/atom_probe/hit_multiplicity/program\": \"None\",\n",
      "    \"/ENTRY[entry]/atom_probe/hit_multiplicity/program/@version\": \"None\",\n",
      "    \"/ENTRY[entry]/atom_probe/hit_multiplicity/pulse_id\": \"None\",\n",
      "    \"/ENTRY[entry]/atom_probe/hit_multiplicity/pulses_since_last_ion\": \"None\",\n",
      "    \"/ENTRY[entry]/atom_probe/instrument_name\": \"None\",\n",
      "    \"/ENTRY[entry]/atom_probe/ion_detector/manufacturer_name\": \"None\",\n",
      "    \"/ENTRY[entry]/atom_probe/ion_detector/model\": \"None\",\n",
      "    \"/ENTRY[entry]/atom_probe/ion_detector/name\": \"None\",\n",
      "    \"/ENTRY[entry]/atom_probe/ion_detector/serial_number\": \"None\",\n",
      "    \"/ENTRY[entry]/atom_probe/ion_detector/signal_amplitude\": \"None\",\n",
      "    \"/ENTRY[entry]/atom_probe/ion_detector/signal_amplitude/@units\": \"None\",\n",
      "    \"/ENTRY[entry]/atom_probe/ion_detector/type\": \"None\",\n",
      "    \"/ENTRY[entry]/atom_probe/ion_filtering/evaporation_id_included\": \"None\",\n",
      "    \"/ENTRY[entry]/atom_probe/ion_filtering/program\": \"None\",\n",
      "    \"/ENTRY[entry]/atom_probe/ion_filtering/program/@version\": \"None\",\n",
      "    \"/ENTRY[entry]/atom_probe/ion_impact_positions/arrival_time_pairs\": \"None\",\n",
      "    \"/ENTRY[entry]/atom_probe/ion_impact_positions/arrival_time_pairs/@units\": \"None\",\n",
      "    \"/ENTRY[entry]/atom_probe/ion_impact_positions/hit_positions\": \"None\",\n",
      "    \"/ENTRY[entry]/atom_probe/ion_impact_positions/hit_positions/@units\": \"None\",\n",
      "    \"/ENTRY[entry]/atom_probe/ion_impact_positions/program\": \"None\",\n",
      "    \"/ENTRY[entry]/atom_probe/ion_impact_positions/program/@version\": \"None\",\n",
      "    \"/ENTRY[entry]/atom_probe/load_lock_chamber/FABRICATION[fabrication]/capabilities\": \"None\",\n",
      "    \"/ENTRY[entry]/atom_probe/load_lock_chamber/FABRICATION[fabrication]/identifier\": \"None\",\n",
      "    \"/ENTRY[entry]/atom_probe/load_lock_chamber/description\": \"None\",\n",
      "    \"/ENTRY[entry]/atom_probe/load_lock_chamber/name\": \"None\",\n",
      "    \"/ENTRY[entry]/atom_probe/load_lock_chamber/pressure\": \"None\",\n",
      "    \"/ENTRY[entry]/atom_probe/load_lock_chamber/pressure/@units\": \"None\",\n",
      "    \"/ENTRY[entry]/atom_probe/local_electrode/APERTURE_EM[aperture_em]/FABRICATION[fabrication]/capabilities\": \"None\",\n",
      "    \"/ENTRY[entry]/atom_probe/local_electrode/APERTURE_EM[aperture_em]/FABRICATION[fabrication]/identifier\": \"None\",\n",
      "    \"/ENTRY[entry]/atom_probe/local_electrode/APERTURE_EM[aperture_em]/name\": \"None\",\n",
      "    \"/ENTRY[entry]/atom_probe/local_electrode/APERTURE_EM[aperture_em]/value\": \"None\",\n",
      "    \"/ENTRY[entry]/atom_probe/local_electrode/name\": \"None\",\n",
      "    \"/ENTRY[entry]/atom_probe/location\": \"None\",\n",
      "    \"/ENTRY[entry]/atom_probe/mass_to_charge_conversion/mass_to_charge\": \"None\",\n",
      "    \"/ENTRY[entry]/atom_probe/mass_to_charge_conversion/mass_to_charge/@units\": \"None\",\n",
      "    \"/ENTRY[entry]/atom_probe/mass_to_charge_conversion/parameter\": \"None\",\n",
      "    \"/ENTRY[entry]/atom_probe/mass_to_charge_conversion/program\": \"None\",\n",
      "    \"/ENTRY[entry]/atom_probe/mass_to_charge_conversion/program/@version\": \"None\",\n",
      "    \"/ENTRY[entry]/atom_probe/pulser/laser_beam\": \"None\",\n",
      "    \"/ENTRY[entry]/atom_probe/pulser/laser_beam/pinhole_position\": \"None\",\n",
      "    \"/ENTRY[entry]/atom_probe/pulser/laser_beam/spot_position\": \"None\",\n",
      "    \"/ENTRY[entry]/atom_probe/pulser/laser_gun/FABRICATION[fabrication]/capabilities\": \"None\",\n",
      "    \"/ENTRY[entry]/atom_probe/pulser/laser_gun/FABRICATION[fabrication]/identifier\": \"None\",\n",
      "    \"/ENTRY[entry]/atom_probe/pulser/laser_gun/name\": \"None\",\n",
      "    \"/ENTRY[entry]/atom_probe/pulser/laser_gun/power\": \"None\",\n",
      "    \"/ENTRY[entry]/atom_probe/pulser/laser_gun/pulse_energy\": \"None\",\n",
      "    \"/ENTRY[entry]/atom_probe/pulser/laser_gun/wavelength\": \"None\",\n",
      "    \"/ENTRY[entry]/atom_probe/pulser/pulse_fraction\": \"None\",\n",
      "    \"/ENTRY[entry]/atom_probe/pulser/pulse_frequency\": \"None\",\n",
      "    \"/ENTRY[entry]/atom_probe/pulser/pulse_mode\": \"None\",\n",
      "    \"/ENTRY[entry]/atom_probe/pulser/pulsed_voltage\": \"None\",\n",
      "    \"/ENTRY[entry]/atom_probe/pulser/standing_voltage\": \"None\",\n",
      "    \"/ENTRY[entry]/atom_probe/ranging/background_quantification/program\": \"None\",\n",
      "    \"/ENTRY[entry]/atom_probe/ranging/background_quantification/program/@version\": \"None\",\n",
      "    \"/ENTRY[entry]/atom_probe/ranging/mass_to_charge_distribution/mass_spectrum/@long_name\": \"None\",\n",
      "    \"/ENTRY[entry]/atom_probe/ranging/mass_to_charge_distribution/mass_spectrum/bin_ends\": \"None\",\n",
      "    \"/ENTRY[entry]/atom_probe/ranging/mass_to_charge_distribution/mass_spectrum/bin_ends/@units\": \"None\",\n",
      "    \"/ENTRY[entry]/atom_probe/ranging/mass_to_charge_distribution/mass_spectrum/counts\": \"None\",\n",
      "    \"/ENTRY[entry]/atom_probe/ranging/mass_to_charge_distribution/program\": \"None\",\n",
      "    \"/ENTRY[entry]/atom_probe/ranging/mass_to_charge_distribution/program/@version\": \"None\",\n",
      "    \"/ENTRY[entry]/atom_probe/ranging/mass_to_charge_distribution/range_increment\": \"None\",\n",
      "    \"/ENTRY[entry]/atom_probe/ranging/mass_to_charge_distribution/range_increment/@units\": \"None\",\n",
      "    \"/ENTRY[entry]/atom_probe/ranging/mass_to_charge_distribution/range_minmax\": \"None\",\n",
      "    \"/ENTRY[entry]/atom_probe/ranging/mass_to_charge_distribution/range_minmax/@units\": \"None\",\n",
      "    \"/ENTRY[entry]/atom_probe/ranging/maximum_number_of_atoms_per_molecular_ion\": \"None\",\n",
      "    \"/ENTRY[entry]/atom_probe/ranging/number_of_ion_types\": \"None\",\n",
      "    \"/ENTRY[entry]/atom_probe/ranging/peak_identification/ION[ion]/charge_state\": \"None\",\n",
      "    \"/ENTRY[entry]/atom_probe/ranging/peak_identification/ION[ion]/isotope_vector\": \"None\",\n",
      "    \"/ENTRY[entry]/atom_probe/ranging/peak_identification/ION[ion]/mass_to_charge_range\": \"None\",\n",
      "    \"/ENTRY[entry]/atom_probe/ranging/peak_identification/ION[ion]/nuclid_list\": \"None\",\n",
      "    \"/ENTRY[entry]/atom_probe/ranging/peak_identification/program\": \"None\",\n",
      "    \"/ENTRY[entry]/atom_probe/ranging/peak_identification/program/@version\": \"None\",\n",
      "    \"/ENTRY[entry]/atom_probe/ranging/peak_search_and_deconvolution/PEAK[peak]/label\": \"None\",\n",
      "    \"/ENTRY[entry]/atom_probe/ranging/peak_search_and_deconvolution/PEAK[peak]/peak_model\": \"None\",\n",
      "    \"/ENTRY[entry]/atom_probe/ranging/peak_search_and_deconvolution/program\": \"None\",\n",
      "    \"/ENTRY[entry]/atom_probe/ranging/peak_search_and_deconvolution/program/@version\": \"None\",\n",
      "    \"/ENTRY[entry]/atom_probe/ranging/program\": \"None\",\n",
      "    \"/ENTRY[entry]/atom_probe/ranging/program/@version\": \"None\",\n",
      "    \"/ENTRY[entry]/atom_probe/reconstruction/crystallographic_calibration\": \"None\",\n",
      "    \"/ENTRY[entry]/atom_probe/reconstruction/naive_point_cloud_density_map/DATA[data]/@long_name\": \"None\",\n",
      "    \"/ENTRY[entry]/atom_probe/reconstruction/naive_point_cloud_density_map/DATA[data]/counts\": \"None\",\n",
      "    \"/ENTRY[entry]/atom_probe/reconstruction/naive_point_cloud_density_map/DATA[data]/xpos\": \"None\",\n",
      "    \"/ENTRY[entry]/atom_probe/reconstruction/naive_point_cloud_density_map/DATA[data]/xpos/@units\": \"None\",\n",
      "    \"/ENTRY[entry]/atom_probe/reconstruction/naive_point_cloud_density_map/DATA[data]/ypos\": \"None\",\n",
      "    \"/ENTRY[entry]/atom_probe/reconstruction/naive_point_cloud_density_map/DATA[data]/ypos/@units\": \"None\",\n",
      "    \"/ENTRY[entry]/atom_probe/reconstruction/naive_point_cloud_density_map/DATA[data]/zpos\": \"None\",\n",
      "    \"/ENTRY[entry]/atom_probe/reconstruction/naive_point_cloud_density_map/DATA[data]/zpos/@units\": \"None\",\n",
      "    \"/ENTRY[entry]/atom_probe/reconstruction/naive_point_cloud_density_map/program\": \"None\",\n",
      "    \"/ENTRY[entry]/atom_probe/reconstruction/naive_point_cloud_density_map/program/@version\": \"None\",\n",
      "    \"/ENTRY[entry]/atom_probe/reconstruction/parameter\": \"None\",\n",
      "    \"/ENTRY[entry]/atom_probe/reconstruction/program\": \"None\",\n",
      "    \"/ENTRY[entry]/atom_probe/reconstruction/program/@version\": \"None\",\n",
      "    \"/ENTRY[entry]/atom_probe/reconstruction/protocol_name\": \"None\",\n",
      "    \"/ENTRY[entry]/atom_probe/reconstruction/reconstructed_positions\": \"None\",\n",
      "    \"/ENTRY[entry]/atom_probe/reconstruction/reconstructed_positions/@units\": \"None\",\n",
      "    \"/ENTRY[entry]/atom_probe/roughening_pump/FABRICATION[fabrication]/capabilities\": \"None\",\n",
      "    \"/ENTRY[entry]/atom_probe/roughening_pump/FABRICATION[fabrication]/identifier\": \"None\",\n",
      "    \"/ENTRY[entry]/atom_probe/roughening_pump/design\": \"None\",\n",
      "    \"/ENTRY[entry]/atom_probe/specimen_monitoring/detection_rate\": \"None\",\n",
      "    \"/ENTRY[entry]/atom_probe/specimen_monitoring/detection_rate/@units\": \"None\",\n",
      "    \"/ENTRY[entry]/atom_probe/specimen_monitoring/initial_radius\": \"None\",\n",
      "    \"/ENTRY[entry]/atom_probe/specimen_monitoring/initial_radius/@units\": \"None\",\n",
      "    \"/ENTRY[entry]/atom_probe/specimen_monitoring/shank_angle\": \"None\",\n",
      "    \"/ENTRY[entry]/atom_probe/specimen_monitoring/shank_angle/@units\": \"None\",\n",
      "    \"/ENTRY[entry]/atom_probe/stage_lab/base_temperature\": \"None\",\n",
      "    \"/ENTRY[entry]/atom_probe/stage_lab/base_temperature/@units\": \"None\",\n",
      "    \"/ENTRY[entry]/atom_probe/turbomolecular_pump/FABRICATION[fabrication]/capabilities\": \"None\",\n",
      "    \"/ENTRY[entry]/atom_probe/turbomolecular_pump/FABRICATION[fabrication]/identifier\": \"None\",\n",
      "    \"/ENTRY[entry]/atom_probe/turbomolecular_pump/design\": \"None\",\n",
      "    \"/ENTRY[entry]/atom_probe/voltage_and_bowl_correction/calibrated_tof\": \"None\",\n",
      "    \"/ENTRY[entry]/atom_probe/voltage_and_bowl_correction/calibrated_tof/@units\": \"None\",\n",
      "    \"/ENTRY[entry]/atom_probe/voltage_and_bowl_correction/program\": \"None\",\n",
      "    \"/ENTRY[entry]/atom_probe/voltage_and_bowl_correction/program/@version\": \"None\",\n",
      "    \"/ENTRY[entry]/atom_probe/voltage_and_bowl_correction/raw_tof\": \"None\",\n",
      "    \"/ENTRY[entry]/atom_probe/voltage_and_bowl_correction/raw_tof/@units\": \"None\",\n",
      "    \"/ENTRY[entry]/atom_probe/voltage_and_bowl_correction/tof_calibration\": \"None\",\n",
      "    \"/ENTRY[entry]/definition\": \"None\",\n",
      "    \"/ENTRY[entry]/end_time\": \"None\",\n",
      "    \"/ENTRY[entry]/experiment_description\": \"None\",\n",
      "    \"/ENTRY[entry]/experiment_documentation\": \"None\",\n",
      "    \"/ENTRY[entry]/experiment_identifier\": \"None\",\n",
      "    \"/ENTRY[entry]/operation_mode\": \"None\",\n",
      "    \"/ENTRY[entry]/program\": \"None\",\n",
      "    \"/ENTRY[entry]/program/@version\": \"None\",\n",
      "    \"/ENTRY[entry]/run_number\": \"None\",\n",
      "    \"/ENTRY[entry]/specimen/atom_types\": \"None\",\n",
      "    \"/ENTRY[entry]/specimen/description\": \"None\",\n",
      "    \"/ENTRY[entry]/specimen/name\": \"None\",\n",
      "    \"/ENTRY[entry]/specimen/preparation_date\": \"None\",\n",
      "    \"/ENTRY[entry]/specimen/sample_history\": \"None\",\n",
      "    \"/ENTRY[entry]/specimen/short_title\": \"None\",\n",
      "    \"/ENTRY[entry]/start_time\": \"None\",\n",
      "    \"/ENTRY[entry]/thumbnail/@type\": \"None\"\n",
      "}\n"
     ]
    }
   ],
   "source": [
    "# to inspect what can/should all be in the NeXus file\n",
    "! python3 {nexus_dir}/nexusutils/dataconverter/convert.py --nxdl NXapm --generate-template"
   ]
  },
  {
   "cell_type": "markdown",
   "metadata": {},
   "source": [
    "### **Step 3c**: Convert the files in the example into an NXapm-compliant NeXus HDF5 file."
   ]
  },
  {
   "cell_type": "code",
   "execution_count": 31,
   "metadata": {
    "tags": []
   },
   "outputs": [
    {
     "name": "stdout",
     "output_type": "stream",
     "text": [
      "Using apm reader to convert the given files:  \n",
      "• R31_06365-v02.pos\n",
      "• R31_06365-v02.rrng\n",
      "• eln_data_apm.yaml \n",
      "Parsing numerical data and metadata from reconstructed dataset...\n",
      "Extracting data from POS file: R31_06365-v02.pos\n",
      "Parsing numerical data and metadata from ranging definitions file...\n",
      "Extracting data from RRNG file: R31_06365-v02.rrng\n",
      "Parsing metadata as well as numerical data from NOMAD OASIS ELN...\n",
      "Parsing entry...\n",
      "Parsing user...\n",
      "Parsing sample...\n",
      "Parsing instrument header...\n",
      "Parsing fabrication...\n",
      "Parsing analysis chamber...\n",
      "Parsing reflectron...\n",
      "Parsing local electrode...\n",
      "Parsing detector...\n",
      "Parsing stage_lab...\n",
      "Parsing specimen_monitoring...\n",
      "Parsing control software...\n",
      "Parsing pulser...\n",
      "Parsing reconstruction...\n",
      "Parsing ranging...\n",
      "Creating default plottable data...\n",
      "Create default plots on-the-fly...\n",
      "--> Enter histogram computation \n",
      "(4868202, 3)\n",
      "Default plot 3D discretized reconstruction at 1nm binning.\n",
      "--> Enter mass spectrum computation \n",
      "(4868202, 1)\n",
      "Plot mass spectrum at 0.01Da binning was created.\n",
      "Forwarding the instantiated template to the NXS writer...\n",
      "The path, /ENTRY[entry]/atom_probe/reconstruction/naive_point_cloud_density_map/DATA[data]/@xpos_indices, is being written but has no documentation.\n",
      "The path, /ENTRY[entry]/atom_probe/reconstruction/naive_point_cloud_density_map/DATA[data]/@ypos_indices, is being written but has no documentation.\n",
      "The path, /ENTRY[entry]/atom_probe/reconstruction/naive_point_cloud_density_map/DATA[data]/@zpos_indices, is being written but has no documentation.\n",
      "The path, /ENTRY[entry]/atom_probe/ranging/mass_to_charge_distribution/mass_spectrum/@bin_ends_indices, is being written but has no documentation.\n",
      "The output file generated: usa_pos.nxs\n"
     ]
    }
   ],
   "source": [
    "! python3 {nexus_dir}/nexusutils/dataconverter/convert.py \\\n",
    "--reader apm \\\n",
    "--nxdl NXapm \\\n",
    "--input-file R31_06365-v02.pos \\\n",
    "--input-file R31_06365-v02.rrng \\\n",
    "--input-file eln_data_apm.yaml \\\n",
    "--output usa_pos.nxs"
   ]
  },
  {
   "cell_type": "markdown",
   "metadata": {},
   "source": [
    "The key take home message is that the command above-specified triggers the automatic creation of the HDF5 file. This *.nxs file, is an HDF5 file."
   ]
  },
  {
   "cell_type": "markdown",
   "metadata": {
    "tags": []
   },
   "source": [
    "### **Step 4:** Inspect the HDF5/NeXus file apm*.test.nxs using H5Web."
   ]
  },
  {
   "cell_type": "code",
   "execution_count": 32,
   "metadata": {},
   "outputs": [],
   "source": [
    "from jupyterlab_h5web import H5Web"
   ]
  },
  {
   "cell_type": "code",
   "execution_count": 33,
   "metadata": {},
   "outputs": [],
   "source": [
    "h5_file_name = 'usa_pos.nxs'"
   ]
  },
  {
   "cell_type": "code",
   "execution_count": 34,
   "metadata": {},
   "outputs": [
    {
     "data": {
      "application/x-hdf5": "/home/mkuehbach/SPRINT-9/20221006_refactor_nomad_parser_nexus/nomad-parser-nexus/examples/apm/usa_pos.nxs",
      "text/plain": [
       "<jupyterlab_h5web.widget.H5Web object>"
      ]
     },
     "execution_count": 34,
     "metadata": {},
     "output_type": "execute_result"
    }
   ],
   "source": [
    "H5Web(h5_file_name)"
   ]
  },
  {
   "cell_type": "markdown",
   "metadata": {},
   "source": [
    "You can also visualize the .nxs file by double clicking on it in the file explorer panel to the left side of your jupyter lab screen in the browser."
   ]
  },
  {
   "cell_type": "markdown",
   "metadata": {
    "tags": []
   },
   "source": [
    "### **Step 5:** Optionally, do some post-processing with the generated usa_pos.nxs file."
   ]
  },
  {
   "cell_type": "markdown",
   "metadata": {},
   "source": [
    "To compute a mass-to-charge histogram and explore eventual ranging definitions that have also been carried over in the conversion step (step 6)."
   ]
  },
  {
   "cell_type": "code",
   "execution_count": 35,
   "metadata": {},
   "outputs": [],
   "source": [
    "import numpy as np\n",
    "import matplotlib.pyplot as plt\n",
    "from matplotlib.collections import PatchCollection\n",
    "from matplotlib.patches import Rectangle\n",
    "plt.rcParams['figure.figsize'] = [20, 10]\n",
    "plt.rcParams['figure.dpi'] = 300\n",
    "import h5py as h5\n",
    "#needs shutils for decompressing zip archives, which is a default module/package in Python since >=v3.6"
   ]
  },
  {
   "cell_type": "markdown",
   "metadata": {},
   "source": [
    "Read mass-to-charge-state ratio values, create a histogram (\"mass spectrum\"), and mark ranges."
   ]
  },
  {
   "cell_type": "code",
   "execution_count": 36,
   "metadata": {},
   "outputs": [
    {
     "name": "stdout",
     "output_type": "stream",
     "text": [
      "Array with mass-to-charge-state ratios loaded\n",
      "27 iontypes were distinguished\n"
     ]
    }
   ],
   "source": [
    "# load data and ranges\n",
    "hf = h5.File(h5_file_name, 'r')\n",
    "mq = hf['entry/atom_probe/mass_to_charge_conversion/mass_to_charge'][:]\n",
    "nions = np.uint32(hf['entry/atom_probe/ranging/number_of_ion_types'])\n",
    "print('Array with mass-to-charge-state ratios loaded')\n",
    "print(str(nions) + ' iontypes were distinguished')"
   ]
  },
  {
   "cell_type": "code",
   "execution_count": 37,
   "metadata": {},
   "outputs": [
    {
     "name": "stdout",
     "output_type": "stream",
     "text": [
      "Dataset ranging from [0.0, 100.0] Da.\n",
      "Using a mass-to-charge-state ratio resolution of 0.01 Da.\n"
     ]
    }
   ],
   "source": [
    "# define binning\n",
    "[mqmin, mqmax] = [0., 100.0]  # Da np.max(mq)]\n",
    "print('Dataset ranging from [' + str(mqmin) + ', ' + str(mqmax) +'] Da.')\n",
    "mqincr = 0.01 #Da\n",
    "print('Using a mass-to-charge-state ratio resolution of '+str(mqincr)+' Da.')"
   ]
  },
  {
   "cell_type": "code",
   "execution_count": 38,
   "metadata": {},
   "outputs": [
    {
     "name": "stdout",
     "output_type": "stream",
     "text": [
      "Histogram has 10001 bins.\n"
     ]
    }
   ],
   "source": [
    "# transform collection of mass-to-charge-state ratios into a histogram\n",
    "hst1d = np.unique(np.uint64(np.floor((mq[np.logical_and(mq >= mqmin, mq <= mqmax)] - mqmin) / mqincr)), return_counts=True)\n",
    "nbins = np.uint64((mqmax - mqmin) / mqincr + 1)\n",
    "print('Histogram has ' + str(nbins) + ' bins.')"
   ]
  },
  {
   "cell_type": "code",
   "execution_count": 39,
   "metadata": {},
   "outputs": [
    {
     "name": "stdout",
     "output_type": "stream",
     "text": [
      "Mass-to-charge-state histogram created.\n"
     ]
    }
   ],
   "source": [
    "# use matplotlib and numpy to plot histogram data \n",
    "xy = np.zeros([nbins, 2], np.float64)\n",
    "xy[:,0] = np.linspace(mqmin + mqincr, mqmax + mqincr, nbins, endpoint=True)\n",
    "xy[:,1] = 0.5  # * np.ones([nbins], np.float64)  # 0.5 to be able to plot logarithm you can not measure half an atom\n",
    "for i in np.arange(0, len(hst1d[0])):\n",
    "    binidx = hst1d[0][i]\n",
    "    xy[binidx, 1] = hst1d[1][i]\n",
    "print('Mass-to-charge-state histogram created.')"
   ]
  },
  {
   "cell_type": "code",
   "execution_count": 40,
   "metadata": {},
   "outputs": [
    {
     "name": "stdout",
     "output_type": "stream",
     "text": [
      "Mass-to-charge-state histogram visualized.\n"
     ]
    },
    {
     "data": {
      "text/plain": [
       "(0.5, 10099999.995)"
      ]
     },
     "execution_count": 40,
     "metadata": {},
     "output_type": "execute_result"
    },
    {
     "data": {
      "image/png": "[encoded data removed]",
      "text/plain": [
       "<Figure size 432x288 with 1 Axes>"
      ]
     },
     "metadata": {
      "needs_background": "light"
     },
     "output_type": "display_data"
    }
   ],
   "source": [
    "[xmi, xmx, ymi, ymx] = [mqmin, 10**np.ceil(np.log10(mqmax)), 0.5, 10**np.ceil(np.log10(np.max(xy[:,1])))]\n",
    "[xmi, xmx, ymi, ymx] = [mqmin, mqmax, 0.5, 10**np.ceil(np.log10(np.max(xy[:,1])))]\n",
    "fig, cnts_over_mq = plt.subplots(1, 1)\n",
    "plt.plot(xy[:, 0], xy[:, 1], color='blue', alpha=0.5, linewidth=1.0)\n",
    "for i in np.arange(1,nions + 1):\n",
    "    # load ranges and plot them\n",
    "    ranges = hf['entry/atom_probe/ranging/peak_identification/ion' + str(i) + '/mass_to_charge_range'][:]\n",
    "    for min_max in ranges:\n",
    "        cnts_over_mq.vlines(min_max[0], 0, 1, transform=cnts_over_mq.get_xaxis_transform(), alpha=0.1, color='grey', linestyles='dotted')\n",
    "        cnts_over_mq.vlines(min_max[1], 0, 1, transform=cnts_over_mq.get_xaxis_transform(), alpha=0.1, color='grey', linestyles='dotted')\n",
    "        #rng = Rectangle((min_max[0], ymi), min_max[1] - min_max[0], ymx - ymi, edgecolor='r', facecolor=\"none\")\n",
    "# plt.xticks([1, 2, 3, 4, 5, 6, 7, 8, 9], ['Min', '0.0025', '0.025', '0.25', '0.50', '0.75', '0.975', '0.9975', 'Max'])\n",
    "plt.yscale('log')\n",
    "plt.legend( [r'Mass-to-charge-state ratio $\\Delta\\frac{m}{q} = $'+str(mqincr)+' Da'], loc='upper right')\n",
    "plt.xlabel(r'Mass-to-charge-state-ratio (Da)')\n",
    "plt.ylabel(r'Counts')\n",
    "print('Mass-to-charge-state histogram visualized.')\n",
    "# scale bar with add margin to the bottom and top of the yaxis to avoid that lines fall on x axis\n",
    "margin=0.01  # polishing the margins\n",
    "plt.xlim([-margin * (xmx - xmi) + xmi, +margin * (xmx - xmi) + xmx])\n",
    "plt.ylim([ymi, +margin * (ymx - ymi) + ymx])"
   ]
  },
  {
   "cell_type": "code",
   "execution_count": 41,
   "metadata": {},
   "outputs": [
    {
     "name": "stdout",
     "output_type": "stream",
     "text": [
      "usa_pos.nxs.MassToChargeStateRatios.png stored to disk.\n"
     ]
    }
   ],
   "source": [
    "#save the figure\n",
    "figfn = h5_file_name + '.MassToChargeStateRatios.png'\n",
    "fig.savefig(figfn, dpi=300, facecolor='w', edgecolor='w', orientation='landscape', format='png', \n",
    "            transparent=False, bbox_inches='tight', pad_inches=0.1, metadata=None)\n",
    "#plt.close('all')\n",
    "print(figfn + ' stored to disk.')"
   ]
  },
  {
   "cell_type": "markdown",
   "metadata": {},
   "source": [
    "### Further comments:"
   ]
  },
  {
   "cell_type": "markdown",
   "metadata": {},
   "source": [
    "* Feel free to explore our atom probe microscopy containers in the north branch for more advanced processing"
   ]
  },
  {
   "cell_type": "code",
   "execution_count": null,
   "metadata": {},
   "outputs": [],
   "source": [
    "### Contact person for this example in FAIRmat:\n",
    "Markus Kühbach"
   ]
  }
 ],
 "metadata": {
  "kernelspec": {
   "display_name": "Python 3 (ipykernel)",
   "language": "python",
   "name": "python3"
  },
  "language_info": {
   "codemirror_mode": {
    "name": "ipython",
    "version": 3
   },
   "file_extension": ".py",
   "mimetype": "text/x-python",
   "name": "python",
   "nbconvert_exporter": "python",
   "pygments_lexer": "ipython3",
   "version": "3.8.10"
  }
 },
 "nbformat": 4,
 "nbformat_minor": 4
}
