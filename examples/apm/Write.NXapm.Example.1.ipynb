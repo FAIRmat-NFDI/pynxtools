{
 "cells": [
  {
   "cell_type": "markdown",
   "metadata": {},
   "source": [
    "## Using dataconverter/apm for mapping atom probe microscopy data to NeXus/HDF5/NXapm"
   ]
  },
  {
   "cell_type": "markdown",
   "metadata": {
    "tags": []
   },
   "source": [
    "### **Step 1:** Check that packages are installed and working in your local Python environment."
   ]
  },
  {
   "cell_type": "markdown",
   "metadata": {},
   "source": [
    "Check the result of the query below specifically that `jupyterlab_h5web` and `pynxtools` are installed in your environment.<br>\n",
    "Note that next to the name pynxtools you should see the directory in which it is installed. Otherwise, make sure that you follow<br>\n",
    "the instructions in the `README` files:  \n",
    "- How to set up a development environment as in the main README  \n",
    "- Lauch the jupyter lab from this environement as in the README of folder `examples`"
   ]
  },
  {
   "cell_type": "code",
   "execution_count": null,
   "metadata": {},
   "outputs": [],
   "source": [
    "! pip list | grep \"h5py\\|nexus\\|jupyter\" && jupyter serverextension list && jupyter labextension list && python -V"
   ]
  },
  {
   "cell_type": "markdown",
   "metadata": {},
   "source": [
    "Set the pynxtools directory and start H5Web for interactive exploring of HDF5 files."
   ]
  },
  {
   "cell_type": "code",
   "execution_count": null,
   "metadata": {},
   "outputs": [],
   "source": [
    "import os\n",
    "from jupyterlab_h5web import H5Web\n",
    "print(f\"Current working directory: {os.getcwd()}\")\n",
    "print(f\"So-called base, home, or root directory of the pynxtools: {os.getcwd().replace('/examples/apm', '')}\")"
   ]
  },
  {
   "cell_type": "markdown",
   "metadata": {},
   "source": [
    "### **Step 2:** Download APM-specific example data or used your own dataset."
   ]
  },
  {
   "cell_type": "markdown",
   "metadata": {
    "tags": []
   },
   "source": [
    "Example data can be found on Zenodo https://www.zenodo.org/record/7908429."
   ]
  },
  {
   "cell_type": "code",
   "execution_count": null,
   "metadata": {
    "tags": []
   },
   "outputs": [],
   "source": [
    "import zipfile as zp"
   ]
  },
  {
   "cell_type": "code",
   "execution_count": null,
   "metadata": {},
   "outputs": [],
   "source": [
    "! curl --output usa_denton_smith_apav_si.zip https://zenodo.org/record/7908429/files/usa_denton_smith_apav_si.zip"
   ]
  },
  {
   "cell_type": "code",
   "execution_count": null,
   "metadata": {},
   "outputs": [],
   "source": [
    "zp.ZipFile(\"usa_denton_smith_apav_si.zip\").extractall(path=\"\", members=None, pwd=None)"
   ]
  },
  {
   "cell_type": "markdown",
   "metadata": {},
   "source": [
    "These files should serve exclusively as examples. <font color=\"orange\">The dataconverter for APM always requires a triplet of files</font>:\n",
    "* A **YAML file with metadata** (either edited manually/or generated via an ELN).<br>\n",
    "  The eln_data_apm.yaml file in the example can be edited with a text editor.<br>\n",
    "* A file with **reconstructed ion positions** in community, technology partner format with<br>\n",
    "  the ion positions and mass-to-charge state ratio values for the tomographic reconstruction.<br>\n",
    "  POS, ePOS, or APT are allowed. Inspect some of the above-mentioned examples on Zenodo.<br>\n",
    "* A file with **ranging definitions** in community, technology partner format with<br>\n",
    "  the definitions how mass-to-charge-state-ratio values map on ion species.<br>\n",
    "  RNG, RRNG and is possible. A MatLab script can be used to inject other representations<br>\n",
    "  via transcoding own formats to a simple text file, an example of which is<br>\n",
    "  R56_01769.rng.fig.txt<br>"
   ]
  },
  {
   "cell_type": "markdown",
   "metadata": {},
   "source": [
    "<div class=\"alert alert-block alert-info\">\n",
    "For GUI-based editing, a NOMAD OASIS instance is needed.<br>\n",
    "</div>"
   ]
  },
  {
   "cell_type": "markdown",
   "metadata": {},
   "source": [
    "<div class=\"alert alert-block alert-danger\">\n",
    "Please note that the metadata inside the provided eln_data_apm.yaml file contains example values.<br>\n",
    "These reflect not necessarily the conditions when the raw data for the example were collected!<br>\n",
    "The file is meant to be edited by you if you work with datasets others than the here provided!<br>\n",
    "</div>"
   ]
  },
  {
   "cell_type": "markdown",
   "metadata": {
    "tags": []
   },
   "source": [
    "### **Step 3:** Run the APM-specific dataconverter on the example data."
   ]
  },
  {
   "cell_type": "markdown",
   "metadata": {},
   "source": [
    "Now we run our parser. The --reader flag takes the atom probe microscopy reader (apm), the --nxdl flag takes the application definition for this technique NXapm.<br> "
   ]
  },
  {
   "cell_type": "markdown",
   "metadata": {},
   "source": [
    "### **Step 3a:** Optionally see the command line help of the dataconverter."
   ]
  },
  {
   "cell_type": "code",
   "execution_count": null,
   "metadata": {},
   "outputs": [],
   "source": [
    "! dataconverter --help"
   ]
  },
  {
   "cell_type": "markdown",
   "metadata": {},
   "source": [
    "### **Step 3b:** Optionally explore all paths which NXapm provides."
   ]
  },
  {
   "cell_type": "code",
   "execution_count": null,
   "metadata": {
    "tags": []
   },
   "outputs": [],
   "source": [
    "# to inspect what can/should all be in the NeXus file\n",
    "! dataconverter --nxdl NXapm --generate-template"
   ]
  },
  {
   "cell_type": "markdown",
   "metadata": {},
   "source": [
    "### **Step 3c**: Convert the files in the example into an NXapm-compliant NeXus/HDF5 file."
   ]
  },
  {
   "cell_type": "code",
   "execution_count": null,
   "metadata": {
    "tags": []
   },
   "outputs": [],
   "source": [
    "#parser-nexus/tests/data/tools/dataconverter/readers/em_om/\n",
    "eln_data_file_name = [\"eln_data_apm.yaml\"]\n",
    "input_recon_file_name = [\"Si.apt\",\n",
    "                         \"Si.epos\",\n",
    "                         \"Si.pos\",\n",
    "                         \"R31_06365-v02.pos\",\n",
    "                         \"R18_58152-v02.epos\",\n",
    "                         \"70_50_50.apt\"]\n",
    "#                         \"R56_01769-v01.pos\"]\n",
    "input_range_file_name = [\"Si.RRNG\",\n",
    "                         \"Si.RNG\",\n",
    "                         \"Si.RNG\",\n",
    "                         \"R31_06365-v02.rrng\",\n",
    "                         \"R31_06365-v02.rrng\",\n",
    "                         \"R31_06365-v02.rrng\"]\n",
    "#                         \"R56_01769.rng.fig.txt\"]\n",
    "output_file_name = [\"apm.case1.nxs\",\n",
    "                    \"apm.case2.nxs\",\n",
    "                    \"apm.case3.nxs\",\n",
    "                    \"apm.case4.nxs\",\n",
    "                    \"apm.case5.nxs\",\n",
    "                    \"apm.case6.nxs\"]\n",
    "for case_id in [0]:\n",
    "    ELN = eln_data_file_name[0]\n",
    "    INPUT_RECON = input_recon_file_name[case_id]\n",
    "    INPUT_RANGE = input_range_file_name[case_id]\n",
    "    OUTPUT = output_file_name[case_id]\n",
    "\n",
    "    ! dataconverter --reader apm --nxdl NXapm --input-file $ELN --input-file \\\n",
    "    $INPUT_RECON --input-file $INPUT_RANGE --output $OUTPUT"
   ]
  },
  {
   "cell_type": "markdown",
   "metadata": {},
   "source": [
    "The key take home message is that the command above-specified triggers the automatic creation of the HDF5 file. This *.nxs file, is an HDF5 file."
   ]
  },
  {
   "cell_type": "markdown",
   "metadata": {
    "tags": []
   },
   "source": [
    "### **Step 4:** Inspect the NeXus/HDF5 file using H5Web."
   ]
  },
  {
   "cell_type": "code",
   "execution_count": null,
   "metadata": {},
   "outputs": [],
   "source": [
    "# H5Web(OUTPUT)\n",
    "H5Web(\"apm.case1.nxs\")"
   ]
  },
  {
   "cell_type": "markdown",
   "metadata": {},
   "source": [
    "You can also visualize the .nxs file by double clicking on it in the file explorer panel to the left side of your jupyter lab screen in the browser."
   ]
  },
  {
   "cell_type": "markdown",
   "metadata": {
    "tags": []
   },
   "source": [
    "### **Step 5:** Optionally, do some post-processing with the generated usa_pos.nxs file."
   ]
  },
  {
   "cell_type": "markdown",
   "metadata": {},
   "source": [
    "To compute a mass-to-charge histogram and explore eventual ranging definitions that have also been carried over in the conversion step (step 6)."
   ]
  },
  {
   "cell_type": "code",
   "execution_count": null,
   "metadata": {},
   "outputs": [],
   "source": [
    "import numpy as np\n",
    "import matplotlib.pyplot as plt\n",
    "from matplotlib.collections import PatchCollection\n",
    "from matplotlib.patches import Rectangle\n",
    "plt.rcParams[\"figure.figsize\"] = [20, 10]\n",
    "plt.rcParams[\"figure.dpi\"] = 300\n",
    "import h5py as h5\n",
    "#needs shutils for decompressing zip archives, which is a default module/package in Python since >=v3.6"
   ]
  },
  {
   "cell_type": "markdown",
   "metadata": {},
   "source": [
    "Read mass-to-charge-state ratio values, create a histogram (\"mass spectrum\"), and mark ranges."
   ]
  },
  {
   "cell_type": "code",
   "execution_count": null,
   "metadata": {},
   "outputs": [],
   "source": [
    "# load data and ranges e.g. for case1\n",
    "nxs_file_name = \"apm.case1.nxs\"\n",
    "hf = h5.File(nxs_file_name, \"r\")\n",
    "mq = hf[\"entry1/atom_probe/mass_to_charge_conversion/mass_to_charge\"][:]\n",
    "nions = np.uint32(hf[\"entry1/atom_probe/ranging/number_of_ion_types\"][()])\n",
    "print(f\"Array with mass-to-charge-state ratios loaded, {nions} iontypes are distinguished\")"
   ]
  },
  {
   "cell_type": "code",
   "execution_count": null,
   "metadata": {},
   "outputs": [],
   "source": [
    "# define binning\n",
    "[mqmin, mqmax] = [0., 100.0]  # Da np.max(mq)]\n",
    "print(f\"Dataset ranging from [ {mqmin}, {mqmax}] Da.\")\n",
    "mqincr = 0.01  # Da\n",
    "print(f\"Using a mass-to-charge-state ratio resolution of {mqincr} Da.\")"
   ]
  },
  {
   "cell_type": "code",
   "execution_count": null,
   "metadata": {},
   "outputs": [],
   "source": [
    "# transform collection of mass-to-charge-state ratios into a histogram\n",
    "hst1d = np.unique(np.uint64(np.floor((mq[np.logical_and(mq >= mqmin, mq <= mqmax)] - mqmin) / mqincr)), return_counts=True)\n",
    "nbins = np.uint64((mqmax - mqmin) / mqincr + 1)\n",
    "print(f\"Histogram has {nbins} bins.\")"
   ]
  },
  {
   "cell_type": "code",
   "execution_count": null,
   "metadata": {},
   "outputs": [],
   "source": [
    "# use matplotlib and numpy to plot histogram data \n",
    "xy = np.zeros([nbins, 2], np.float64)\n",
    "xy[:,0] = np.linspace(mqmin + mqincr, mqmax + mqincr, nbins, endpoint=True)\n",
    "xy[:,1] = 0.5  # * np.ones([nbins], np.float64)  # 0.5 to be able to plot logarithm you can not measure half an atom\n",
    "for i in np.arange(0, len(hst1d[0])):\n",
    "    binidx = hst1d[0][i]\n",
    "    xy[binidx, 1] = hst1d[1][i]\n",
    "print(\"Mass-to-charge-state histogram created.\")"
   ]
  },
  {
   "cell_type": "code",
   "execution_count": null,
   "metadata": {},
   "outputs": [],
   "source": [
    "[xmi, xmx, ymi, ymx] = [mqmin, 10**np.ceil(np.log10(mqmax)), 0.5, 10**np.ceil(np.log10(np.max(xy[:,1])))]\n",
    "[xmi, xmx, ymi, ymx] = [mqmin, mqmax, 0.5, 10**np.ceil(np.log10(np.max(xy[:,1])))]\n",
    "fig, cnts_over_mq = plt.subplots(1, 1)\n",
    "plt.plot(xy[:, 0], xy[:, 1], color=\"blue\", alpha=0.5, linewidth=1.0)\n",
    "for i in np.arange(1, nions):\n",
    "    print(f\"Collect ion{i}...\")\n",
    "    # load ranges and plot them\n",
    "    ranges = hf[f\"entry1/atom_probe/ranging/peak_identification/ion{i}/mass_to_charge_range\"][:]\n",
    "    for min_max in ranges:\n",
    "        cnts_over_mq.vlines(min_max[0], 0, 1, transform=cnts_over_mq.get_xaxis_transform(), alpha=0.1, color=\"grey\", linestyles=\"dotted\")\n",
    "        cnts_over_mq.vlines(min_max[1], 0, 1, transform=cnts_over_mq.get_xaxis_transform(), alpha=0.1, color=\"grey\", linestyles=\"dotted\")\n",
    "        # rng = Rectangle((min_max[0], ymi), min_max[1] - min_max[0], ymx - ymi, edgecolor=\"r\", facecolor=\"none\")\n",
    "# plt.xticks([1, 2, 3, 4, 5, 6, 7, 8, 9], [\"Min\", \"0.0025\", \"0.025\", \"0.25\", \"0.50\", \"0.75\", \"0.975\", \"0.9975\", \"Max\"])\n",
    "plt.yscale(\"log\")\n",
    "plt.legend([r\"Mass-to-charge-state ratio $\\Delta\\frac{m}{q} = $\"+str(mqincr)+\" Da\"], loc=\"upper right\")\n",
    "plt.xlabel(r\"Mass-to-charge-state-ratio (Da)\")\n",
    "plt.ylabel(r\"Counts\")\n",
    "print(\"Mass-to-charge-state histogram visualized.\")\n",
    "# scale bar with add margin to the bottom and top of the yaxis to avoid that lines fall on x axis\n",
    "margin=0.01  # polishing the margins\n",
    "plt.xlim([-margin * (xmx - xmi) + xmi, +margin * (xmx - xmi) + xmx])\n",
    "plt.ylim([ymi, +margin * (ymx - ymi) + ymx])"
   ]
  },
  {
   "cell_type": "code",
   "execution_count": null,
   "metadata": {},
   "outputs": [],
   "source": [
    "# save the figure\n",
    "figfn = nxs_file_name + \".MassToChargeStateRatio.png\"\n",
    "fig.savefig(figfn, dpi=300, facecolor=\"w\", edgecolor=\"w\", orientation=\"landscape\", format=\"png\", \n",
    "            transparent=False, bbox_inches=\"tight\", pad_inches=0.1, metadata=None)\n",
    "# plt.close(\"all\")\n",
    "print(f\"{figfn} stored to disk.\")"
   ]
  },
  {
   "cell_type": "markdown",
   "metadata": {},
   "source": [
    "### **Optional:** Generate synthetic data for testing and development purposes"
   ]
  },
  {
   "cell_type": "markdown",
   "metadata": {},
   "source": [
    "<div class=\"alert alert-block alert-danger\">\n",
    "Currently, this functionality requires a Python environment with a newer version of the ase library than the one<br>\n",
    "which is used by the installation of pynxtools (which is currently ase==3.19.0). Instead, ase>=3.22.1 should be used.<br>\n",
    "The issue with the specific functionalities used in the *create_reconstructed_positions* function is that when using<br>\n",
    "ase==3.19.0 in combination with numpy>=1.2x uses the deprecated np.float data type.<br>\n",
    "Developers interested in creating synthetic data should locally install ase>=3.22.1<br>\n",
    "and then re-execute this notebook.<br>\n",
    "</div>"
   ]
  },
  {
   "cell_type": "code",
   "execution_count": null,
   "metadata": {},
   "outputs": [],
   "source": [
    "! pip list | grep ase*\n",
    "! pip list | grep numpy*"
   ]
  },
  {
   "cell_type": "markdown",
   "metadata": {},
   "source": [
    "The apm reader has a functionality to generate synthetic dataset which are meant for pursuing code development."
   ]
  },
  {
   "cell_type": "markdown",
   "metadata": {},
   "source": [
    "<div class=\"alert alert-block alert-danger\">\n",
    "This functionality uses recent features of ase which demands an environment that is currently not supported<br>\n",
    "by NOMAD OASIS. As the here exemplified settings for this example are configured to represent an environment<br>\n",
    "matching close to NOMAD users who are interested in this developer functionality should do the following:<br>\n",
    "Run this example in a standalone environment where ase is upgraded to the latest version and then use<br>\n",
    "the generated NeXus files either as is or upload them to NOMAD OASIS.<br>\n",
    "</div>"
   ]
  },
  {
   "cell_type": "code",
   "execution_count": null,
   "metadata": {
    "tags": []
   },
   "outputs": [],
   "source": [
    "# ! dataconverter --reader apm --nxdl NXapm --input-file synthesize1 --output apm.case0.nxs"
   ]
  },
  {
   "cell_type": "code",
   "execution_count": null,
   "metadata": {},
   "outputs": [],
   "source": [
    "H5Web(\"apm.case0.nxs\")"
   ]
  },
  {
   "cell_type": "markdown",
   "metadata": {},
   "source": [
    "### Further comments:"
   ]
  },
  {
   "cell_type": "markdown",
   "metadata": {},
   "source": [
    "* Feel free to explore our atom probe microscopy containers in the north branch for more advanced processing"
   ]
  },
  {
   "cell_type": "markdown",
   "metadata": {},
   "source": [
    "### Contact person for the apm reader and related examples in FAIRmat:\n",
    "Markus Kühbach, 2023/05<br>\n",
    "\n",
    "### Funding\n",
    "<a href=\"https://www.fairmat-nfdi.eu/fairmat\">FAIRmat</a> is a consortium on research data management which is part of the German NFDI.<br>\n",
    "The project is funded by the Deutsche Forschungsgemeinschaft (DFG, German Research Foundation) – project 460197019."
   ]
  },
  {
   "cell_type": "code",
   "execution_count": null,
   "metadata": {},
   "outputs": [],
   "source": []
  }
 ],
 "metadata": {
  "kernelspec": {
   "display_name": "Python 3 (ipykernel)",
   "language": "python",
   "name": "python3"
  },
  "language_info": {
   "codemirror_mode": {
    "name": "ipython",
    "version": 3
   },
   "file_extension": ".py",
   "mimetype": "text/x-python",
   "name": "python",
   "nbconvert_exporter": "python",
   "pygments_lexer": "ipython3",
   "version": "3.8.16"
  }
 },
 "nbformat": 4,
 "nbformat_minor": 4
}
