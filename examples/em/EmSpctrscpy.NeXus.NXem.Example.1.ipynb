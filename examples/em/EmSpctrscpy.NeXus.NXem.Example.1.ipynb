{
 "cells": [
  {
   "cell_type": "markdown",
   "metadata": {},
   "source": [
    "## NOMAD-PARSER-NEXUS/DATACONVERTER for X-ray and Electron Energy Loss Spectroscopy with Electron Microscopy data (EM-SPCTRSCPY)"
   ]
  },
  {
   "cell_type": "markdown",
   "metadata": {
    "tags": []
   },
   "source": [
    "### **Step 1:** Check that everything is ready to go and download example data for EDS/STEM, EELS/TEM."
   ]
  },
  {
   "cell_type": "markdown",
   "metadata": {},
   "source": [
    "check the result of the query below if the modules `jupyterlab_h5web` and `nexusutils` are installed in your environement. Note that next to the name nexusutils you should see the directory in which it is installed. Otherwise make sure that you followed the instructions in the `README` files:  \n",
    "- how to set up a development environment as in the main README  \n",
    "- lauch the jupyter lab from this environement as in the README of folder `examples`"
   ]
  },
  {
   "cell_type": "code",
   "execution_count": null,
   "metadata": {},
   "outputs": [],
   "source": [
    "! pip list | grep 'h5py\\|nexus\\|jupyter' && jupyter serverextension list && jupyter labextension list && python -V"
   ]
  },
  {
   "cell_type": "markdown",
   "metadata": {},
   "source": [
    "Set nexus directory."
   ]
  },
  {
   "cell_type": "code",
   "execution_count": null,
   "metadata": {},
   "outputs": [],
   "source": [
    "import os\n",
    "print('Current working directory')\n",
    "print(os.getcwd())\n",
    "nexus_dir = os.getcwd().replace('/examples/em', '')\n",
    "# import nexusutils\n",
    "# nexus_dir = os.path.dirname(nexusutils.__file__)\n",
    "print('Base/home/root directory of the nomad-parser-nexus')\n",
    "print(nexus_dir)"
   ]
  },
  {
   "cell_type": "markdown",
   "metadata": {},
   "source": [
    "### **Step 2:** Download EM-SPCTRSCPY-specific example data or use your own numerical dataset."
   ]
  },
  {
   "cell_type": "markdown",
   "metadata": {
    "tags": []
   },
   "source": [
    "Example data can be found on Zenodo http://dx.doi.org/10.5281/zenodo.7030811."
   ]
  },
  {
   "cell_type": "code",
   "execution_count": null,
   "metadata": {
    "tags": []
   },
   "outputs": [],
   "source": [
    "import shutil\n",
    "! cd $PWD && curl --output em-spctrscpy-sprint9-example.zip https://zenodo.org/record/7050774/files/em-spctrscpy-sprint9-example.zip\n",
    "shutil.unpack_archive('em-spctrscpy-sprint9-example.zip')"
   ]
  },
  {
   "cell_type": "markdown",
   "metadata": {},
   "source": [
    "These files should serve exclusively as examples. <font color=\"orange\">The dataconverter for EM-SPCTRSCPY always requires a pair of files</font>:\n",
    "* The **numerical datasets** from the microscope or image processing software. Currently *.bcf, *.emd, or *.dm3 are supported.\n",
    "* A **file with additional metadata (edited manually or via an ELLN) in YAML format.** The eln_data_em.yaml in the example can be edited with a text editor. For GUI-based editing, a NOMAD OASIS instance is needed.<br>\n",
    "<font color=\"red\">Please note that the metadata inside the provided eln_data_em.yaml file has example data in it.</font><br>\n",
    "<font color=\"red\">These reflect not necessarily the conditions when the raw data for the example given. The file is meant to be edited!</font>."
   ]
  },
  {
   "cell_type": "markdown",
   "metadata": {
    "tags": []
   },
   "source": [
    "### **Step 3:** Run your EM-spectroscopy-specific dataconverter/readers/ on the example data."
   ]
  },
  {
   "cell_type": "markdown",
   "metadata": {},
   "source": [
    "Now we run our parser. The --reader flag takes the em-spctrscpy reader, the --nxdl flag takes the application definition for this technique NXem."
   ]
  },
  {
   "cell_type": "code",
   "execution_count": null,
   "metadata": {},
   "outputs": [],
   "source": [
    "! dataconverter --help"
   ]
  },
  {
   "cell_type": "markdown",
   "metadata": {},
   "source": [
    "If you want to see which groups, fields, and attributes are defined in NXem."
   ]
  },
  {
   "cell_type": "code",
   "execution_count": null,
   "metadata": {},
   "outputs": [],
   "source": [
    "! dataconverter --nxdl NXem --reader em_spctrscpy --generate-template"
   ]
  },
  {
   "cell_type": "markdown",
   "metadata": {},
   "source": [
    "Parse the files to convert them to a NeXus HDF5 file matching the NXem application definition."
   ]
  },
  {
   "cell_type": "code",
   "execution_count": null,
   "metadata": {},
   "outputs": [],
   "source": [
    "#parser-nexus/tests/data/tools/dataconverter/readers/em/\n",
    "numerical_data = [\"46_ES-LP_L1_brg.bcf\", \"1613_Si_HAADF_610_kx.emd\", \"EELS_map_2_ROI_1_location_4.dm3\"]\n",
    "output_file_name = [\"epfl_bcf.nxs\", \"epfl_emd.nxs\", \"hu_dm3.nxs\"]\n",
    "! dataconverter \\\n",
    "--reader em_spctrscpy \\\n",
    "--nxdl NXem \\\n",
    "--input-file EELS_map_2_ROI_1_location_4.dm3 \\\n",
    "--input-file eln_data_em.yaml \\\n",
    "--output hu_dm3.nxs"
   ]
  },
  {
   "cell_type": "markdown",
   "metadata": {},
   "source": [
    "The key take home message is that the command above-specified triggers the automatic creation of the HDF5 file. This *.nxs file, is an HDF5 file."
   ]
  },
  {
   "cell_type": "markdown",
   "metadata": {
    "tags": []
   },
   "source": [
    "### **Step 4:** Inspect the HDF5/NeXus file using H5Web"
   ]
  },
  {
   "cell_type": "code",
   "execution_count": null,
   "metadata": {},
   "outputs": [],
   "source": [
    "from jupyterlab_h5web import H5Web"
   ]
  },
  {
   "cell_type": "code",
   "execution_count": null,
   "metadata": {},
   "outputs": [],
   "source": [
    "h5_file_name = output_file_name[-1]"
   ]
  },
  {
   "cell_type": "code",
   "execution_count": null,
   "metadata": {},
   "outputs": [],
   "source": [
    "H5Web(h5_file_name)"
   ]
  },
  {
   "cell_type": "markdown",
   "metadata": {},
   "source": [
    "Here is where the general template ends. Continue with filling in the notebook with your own post-processing of this *.nxs file."
   ]
  },
  {
   "cell_type": "markdown",
   "metadata": {},
   "source": [
    "***"
   ]
  },
  {
   "cell_type": "markdown",
   "metadata": {},
   "source": [
    "### Contact person for this example in FAIRmat:\n",
    "Markus Kühbach"
   ]
  },
  {
   "cell_type": "code",
   "execution_count": null,
   "metadata": {},
   "outputs": [],
   "source": []
  }
 ],
 "metadata": {
  "kernelspec": {
   "display_name": "Python 3.7.11 ('nomad_north')",
   "language": "python",
   "name": "python3"
  },
  "language_info": {
   "codemirror_mode": {
    "name": "ipython",
    "version": 3
   },
   "file_extension": ".py",
   "mimetype": "text/x-python",
   "name": "python",
   "nbconvert_exporter": "python",
   "pygments_lexer": "ipython3",
   "version": "3.7.11"
  },
  "vscode": {
   "interpreter": {
    "hash": "fb9c1bd38c7663f011bf442e740f4844d912585f80182885cfafffa0a1ff37a6"
   }
  }
 },
 "nbformat": 4,
 "nbformat_minor": 4
}
