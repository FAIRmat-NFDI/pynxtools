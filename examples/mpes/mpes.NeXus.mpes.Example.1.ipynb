{
 "cells": [
  {
   "cell_type": "markdown",
   "metadata": {},
   "source": [
    "## nexusutils demo for Multidimensional Photoemission Spectroscopy (MPES)"
   ]
  },
  {
   "cell_type": "markdown",
   "metadata": {},
   "source": [
    "Jupyter notebook displaying parsing from FHI preprocessing software output (x-array based .h5) to NXmpes formatted nexus"
   ]
  },
  {
   "cell_type": "markdown",
   "metadata": {
    "tags": []
   },
   "source": [
    "### **Step 1:** Check that everything is ready to go and download example data. "
   ]
  },
  {
   "cell_type": "markdown",
   "metadata": {},
   "source": [
    "check the result of the query below if the modules `jupyterlab_h5web` and `nexusutils` are installed in your environement. Note that next to the name nexusutils you should see the directory in which it is installed. Otherwise make sure that you followed the instructions in the `README` files:  \n",
    "- how to set up a development environment as in the main README  \n",
    "- lauch the jupyter lab from this environement as in the README of folder `examples`"
   ]
  },
  {
   "cell_type": "code",
   "execution_count": null,
   "metadata": {},
   "outputs": [],
   "source": [
    "! pip list | grep 'h5py\\|nexus\\|jupyter' && jupyter serverextension list && jupyter labextension list && python -V"
   ]
  },
  {
   "cell_type": "markdown",
   "metadata": {},
   "source": [
    "Download mpes example data from Zenodo"
   ]
  },
  {
   "cell_type": "code",
   "execution_count": null,
   "metadata": {},
   "outputs": [],
   "source": [
    "! curl -o MoTe_xarray_final.h5  https://zenodo.org/record/5913599/files/MoTe_xarray_final.h5?download=1"
   ]
  },
  {
   "cell_type": "markdown",
   "metadata": {
    "tags": []
   },
   "source": [
    "### **Step 2:** Run your mpes-specific parser on the example data"
   ]
  },
  {
   "cell_type": "markdown",
   "metadata": {},
   "source": [
    "Set the nexusparser directory."
   ]
  },
  {
   "cell_type": "code",
   "execution_count": null,
   "metadata": {},
   "outputs": [],
   "source": [
    "import os\n",
    "print('Current working directory')\n",
    "print(os.getcwd())\n",
    "nexus_dir = os.getcwd().replace('/examples/mpes', '')\n",
    "# import nexusutils\n",
    "# nexus_dir = os.path.dirname(nexusutils.__file__)\n",
    "print('Base/home/root directory of the nexusutils')\n",
    "print(nexus_dir)\n",
    "data_dir = nexus_dir + '/tests/data/dataconverter/readers/mpes/'"
   ]
  },
  {
   "cell_type": "markdown",
   "metadata": {},
   "source": [
    "Now we run our parser. The --reader flag takes the mpes reader (mpes), the --nxdl flag takes the application definition for this technique.<br> "
   ]
  },
  {
   "cell_type": "code",
   "execution_count": null,
   "metadata": {
    "tags": []
   },
   "outputs": [],
   "source": [
    "! dataconverter \\\n",
    "--reader mpes \\\n",
    "--nxdl NXmpes \\\n",
    "--input-file MoTe_xarray_final.h5 \\\n",
    "--input-file {data_dir}config_file.json \\\n",
    "--input-file {data_dir}ELN_metadata_example.yaml \\\n",
    "--output mpes.test.nxs"
   ]
  },
  {
   "cell_type": "markdown",
   "metadata": {},
   "source": [
    "### Run the same parser alternatively using a function "
   ]
  },
  {
   "cell_type": "code",
   "execution_count": null,
   "metadata": {},
   "outputs": [],
   "source": [
    "from nexusutils.dataconverter.convert import convert"
   ]
  },
  {
   "cell_type": "code",
   "execution_count": null,
   "metadata": {},
   "outputs": [],
   "source": [
    "convert(input_file=[\"MoTe_xarray_final.h5\", data_dir + \"config_file.json\", data_dir + \"ELN_metadata_example.yaml\"],\n",
    "        reader='mpes',\n",
    "        nxdl='NXmpes',\n",
    "        output='mpes.test.nxs')"
   ]
  },
  {
   "cell_type": "markdown",
   "metadata": {},
   "source": [
    "The key take home message is that the command above-specified triggers the automatic creation of the HDF5 file.<br>\n",
    "This *.nxs file, is an HDF5 file."
   ]
  },
  {
   "cell_type": "markdown",
   "metadata": {
    "tags": []
   },
   "source": [
    "### **Step 3:** Inspect the HDF5/NeXus file using H5Web"
   ]
  },
  {
   "cell_type": "code",
   "execution_count": null,
   "metadata": {},
   "outputs": [],
   "source": [
    "from jupyterlab_h5web import H5Web"
   ]
  },
  {
   "cell_type": "code",
   "execution_count": null,
   "metadata": {},
   "outputs": [],
   "source": [
    "h5_file_name = 'mpes.test.nxs'"
   ]
  },
  {
   "cell_type": "code",
   "execution_count": null,
   "metadata": {},
   "outputs": [],
   "source": [
    "H5Web(h5_file_name)"
   ]
  },
  {
   "cell_type": "code",
   "execution_count": null,
   "metadata": {},
   "outputs": [],
   "source": []
  }
 ],
 "metadata": {
  "kernelspec": {
   "display_name": "Python 3 (ipykernel)",
   "language": "python",
   "name": "python3"
  },
  "language_info": {
   "codemirror_mode": {
    "name": "ipython",
    "version": 3
   },
   "file_extension": ".py",
   "mimetype": "text/x-python",
   "name": "python",
   "nbconvert_exporter": "python",
   "pygments_lexer": "ipython3",
   "version": "3.7.11"
  },
  "vscode": {
   "interpreter": {
    "hash": "fb9c1bd38c7663f011bf442e740f4844d912585f80182885cfafffa0a1ff37a6"
   }
  }
 },
 "nbformat": 4,
 "nbformat_minor": 4
}
