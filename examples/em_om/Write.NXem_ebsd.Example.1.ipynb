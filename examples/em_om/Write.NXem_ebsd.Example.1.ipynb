{
 "cells": [
  {
   "cell_type": "markdown",
   "metadata": {},
   "source": [
    "## Using dataconverter/em_om for mapping EBSD/Orientation Microscopy to NeXus/HDF5/NXem_ebsd"
   ]
  },
  {
   "cell_type": "markdown",
   "metadata": {
    "tags": []
   },
   "source": [
    "### **Step 1:** Check that packages are installed and working in your local Python environment."
   ]
  },
  {
   "cell_type": "markdown",
   "metadata": {},
   "source": [
    "Check the result of the query below specifically that `jupyterlab_h5web` and `pynxtools` are installed in your environment.<br>\n",
    "Note that next to the name pynxtools you should see the directory in which it is installed. Otherwise, make sure that you follow<br>\n",
    "the instructions in the `README` files:  \n",
    "- How to set up a development environment as in the main README  \n",
    "- Lauch the jupyter lab from this environement as in the README of folder `examples`"
   ]
  },
  {
   "cell_type": "code",
   "execution_count": null,
   "metadata": {
    "tags": []
   },
   "outputs": [],
   "source": [
    "! pip list | grep \"h5py\\|nexus\\|jupyter\" && jupyter serverextension list && jupyter labextension list && python -V"
   ]
  },
  {
   "cell_type": "markdown",
   "metadata": {},
   "source": [
    "Set the pynxtools directory and start H5Web for interactive exploring of HDF5 files."
   ]
  },
  {
   "cell_type": "code",
   "execution_count": null,
   "metadata": {},
   "outputs": [],
   "source": [
    "import os\n",
    "from jupyterlab_h5web import H5Web\n",
    "print(f\"Current working directory: {os.getcwd()}\")\n",
    "print(f\"So-called base, home, or root directory of the pynxtools: {os.getcwd().replace('/examples/em_om', '')}\")"
   ]
  },
  {
   "cell_type": "markdown",
   "metadata": {},
   "source": [
    "### **Step 2:** Download EM-OM-specific example data or use your own datasets."
   ]
  },
  {
   "cell_type": "markdown",
   "metadata": {
    "tags": []
   },
   "source": [
    "Example data can be found on Zenodo https://dx.doi.org/10.5281/zenodo.7885531."
   ]
  },
  {
   "cell_type": "code",
   "execution_count": null,
   "metadata": {},
   "outputs": [],
   "source": [
    "import zipfile as zp"
   ]
  },
  {
   "cell_type": "code",
   "execution_count": null,
   "metadata": {
    "tags": []
   },
   "outputs": [],
   "source": [
    "! curl --output em_om_sprint14_01.zip https://zenodo.org/record/7885531/files/em_om_sprint14_01.zip\n",
    "! curl --output em_om_sprint14_02.zip https://zenodo.org/record/7885531/files/em_om_sprint14_02.zip"
   ]
  },
  {
   "cell_type": "code",
   "execution_count": null,
   "metadata": {},
   "outputs": [],
   "source": [
    "zp.ZipFile(\"em_om_sprint14_01.zip\").extractall(path=\"\", members=None, pwd=None)\n",
    "zp.ZipFile(\"em_om_sprint14_02.zip\").extractall(path=\"\", members=None, pwd=None)"
   ]
  },
  {
   "cell_type": "markdown",
   "metadata": {},
   "source": [
    "These files should serve exclusively as examples. <font color=\"orange\">The dataconverter for EM-OM always requires at least one file</font>:\n",
    "\n",
    "**When you only would like to store conventions**:<br>\n",
    "* **YAML file with metadata** (either edited manually or via an ELN).<br>\n",
    "  The eln_data_em_om.yaml file in the example can be edited with a text editor.\n",
    "\n",
    "**When you would like to store conventions surplus stack of simulated Kikuchi images**:<br>\n",
    "* **YAML file with metadata**<br>\n",
    "* **ZIP archive with images all using the same format, rectangular dimensions, and file type**<br>\n",
    "\n",
    "**When you would like to store conventions surplus H5OINA EBSD mapping**:<br>\n",
    "* **YAML file with metadata**<br>\n",
    "* **H5OINA file as obtained from Oxford Instrument AZTec (>=5.0)**<br>\n",
    "\n",
    "**When you would like to store conventions surplus have transcoded EBSD results from MTex**:<br>\n",
    "* **YAML file with metadata**<br>\n",
    "* **\\*.mtex file as obtained by running the specific MTex to NeXus transcoder** (see second info box below for details)<br>"
   ]
  },
  {
   "cell_type": "markdown",
   "metadata": {},
   "source": [
    "<div class=\"alert alert-block alert-info\">\n",
    "For GUI-based editing, a NOMAD OASIS instance is needed.<br>\n",
    "</div>"
   ]
  },
  {
   "cell_type": "markdown",
   "metadata": {},
   "source": [
    "<div class=\"alert alert-block alert-danger\">\n",
    "Please note that the metadata inside the provided eln_data_em_om.yaml file are example values.<br>\n",
    "These reflect not necessarily the conditions when the raw data for the example were collected!<br>\n",
    "The file is meant to be edited by you if you work with datasets others than the here provided!<br>\n",
    "</div>"
   ]
  },
  {
   "cell_type": "markdown",
   "metadata": {},
   "source": [
    "<div class=\"alert alert-block alert-info\">\n",
    "Feel free to contact the maintainer of this example to learn more about the parsing capabilities of SEM/EBSD data in NOMAD.<br>\n",
    "We have also a draft version which supports importing results from MatLab/MTex and DREAM.3D. We would like to get in contact<br>\n",
    "to document and develop these further, ideally using as diverse examples as possible, maybe also including one of your examples?<br>\n",
    "</div>"
   ]
  },
  {
   "cell_type": "markdown",
   "metadata": {
    "tags": []
   },
   "source": [
    "### **Step 3:** Run the EBSD-specific dataconverter on the example data."
   ]
  },
  {
   "cell_type": "markdown",
   "metadata": {},
   "source": [
    "Now we run our parser. The --reader flag takes the em_om reader, the --nxdl flag takes the application definition for this technique NXem_ebsd."
   ]
  },
  {
   "cell_type": "markdown",
   "metadata": {},
   "source": [
    "### **Step 3a:** Optionally see the command line help of the dataconverter."
   ]
  },
  {
   "cell_type": "code",
   "execution_count": null,
   "metadata": {},
   "outputs": [],
   "source": [
    "! dataconverter --help"
   ]
  },
  {
   "cell_type": "markdown",
   "metadata": {},
   "source": [
    "### **Step 3b:** Optionally explore all paths which NXem provides."
   ]
  },
  {
   "cell_type": "code",
   "execution_count": null,
   "metadata": {
    "tags": []
   },
   "outputs": [],
   "source": [
    "! dataconverter --nxdl NXem_ebsd --reader em_om --generate-template"
   ]
  },
  {
   "cell_type": "markdown",
   "metadata": {},
   "source": [
    "### **Step 3c**: Convert the files in the example into an NXem_ebsd-compliant NeXus/HDF5 file."
   ]
  },
  {
   "cell_type": "markdown",
   "metadata": {},
   "source": [
    "<div class=\"alert alert-block alert-info\">\n",
    "In what follows we will show several of the examples that have been implemented for SEM/EBSD.<br>\n",
    "</div>"
   ]
  },
  {
   "cell_type": "markdown",
   "metadata": {},
   "source": [
    "#### Only conventions:"
   ]
  },
  {
   "cell_type": "code",
   "execution_count": null,
   "metadata": {
    "tags": []
   },
   "outputs": [],
   "source": [
    "# parser-nexus/tests/data/tools/dataconverter/readers/em/\n",
    "output_file_name = [\"em_om.case0.nxs\"]\n",
    "! dataconverter \\\n",
    "--reader em_om \\\n",
    "--nxdl NXem_ebsd \\\n",
    "--input-file eln_data_em_om.yaml \\\n",
    "--output \"em_om.case0.nxs\""
   ]
  },
  {
   "cell_type": "markdown",
   "metadata": {},
   "source": [
    "#### Conventions and different data sources:"
   ]
  },
  {
   "cell_type": "code",
   "execution_count": null,
   "metadata": {
    "tags": []
   },
   "outputs": [],
   "source": [
    "#parser-nexus/tests/data/tools/dataconverter/readers/em_om/\n",
    "eln_data_file_name = [\"eln_data_em_om.yaml\"]\n",
    "input_data_file_name = [\"PrcShanghaiShi.EBSPs70deg.zip\",\n",
    "                        \"H5OINA_examples_Specimen_1_Map_EDS_+_EBSD_Map_Data_2.h5oina\",\n",
    "                        \"Forsterite.ctf.mtex\",\n",
    "                        \"SmallIN100_Final.dream3d\"]\n",
    "output_file_name = [\"em_om.case1.nxs\",\n",
    "                    \"em_om.case2.nxs\",\n",
    "                    \"em_om.case3e.nxs\",\n",
    "                    \"em_om.case4.nxs\"]\n",
    "for case_id in [4]:  # [0, 1, 2, 3]:\n",
    "    ELN = eln_data_file_name[0]\n",
    "    INPUT = input_data_file_name[case_id]\n",
    "    OUTPUT = output_file_name[case_id]\n",
    "\n",
    "    ! dataconverter --reader em_om --nxdl NXem_ebsd --input-file $ELN --input-file $INPUT --output $OUTPUT"
   ]
  },
  {
   "cell_type": "markdown",
   "metadata": {},
   "source": [
    "The key take home message is that the command above-specified triggers the automatic creation of the HDF5 file. This *.nxs file, is an HDF5 file."
   ]
  },
  {
   "cell_type": "markdown",
   "metadata": {
    "tags": []
   },
   "source": [
    "### **Step 4:** Inspect the HDF5/NeXus file using H5Web"
   ]
  },
  {
   "cell_type": "code",
   "execution_count": null,
   "metadata": {},
   "outputs": [],
   "source": [
    "# H5Web(OUTPUT)\n",
    "H5Web(\"em_om.case0.nxs\")\n",
    "H5Web(\"em_om.case1.nxs\")\n",
    "H5Web(\"em_om.case2.nxs\")\n",
    "H5Web(\"em_om.case3e.nxs\")\n",
    "H5Web(\"em_om.case4.nxs\")"
   ]
  },
  {
   "cell_type": "markdown",
   "metadata": {},
   "source": [
    "Here is where the general template ends. Continue with filling in the notebook with your own post-processing of this *.nxs file."
   ]
  },
  {
   "cell_type": "markdown",
   "metadata": {},
   "source": [
    "***"
   ]
  },
  {
   "cell_type": "markdown",
   "metadata": {},
   "source": [
    "### Contact person for this example in FAIRmat:\n",
    "Markus Kühbach"
   ]
  },
  {
   "cell_type": "markdown",
   "metadata": {},
   "source": [
    "### Contact person for the apm reader and related examples in FAIRmat:\n",
    "Markus Kühbach, 2023/05<br>\n",
    "\n",
    "### Funding\n",
    "<a href=\"https://www.fairmat-nfdi.eu/fairmat\">FAIRmat</a> is a consortium on research data management which is part of the German NFDI.<br>\n",
    "The project is funded by the Deutsche Forschungsgemeinschaft (DFG, German Research Foundation) – project 460197019."
   ]
  }
 ],
 "metadata": {
  "kernelspec": {
   "display_name": "Python 3 (ipykernel)",
   "language": "python",
   "name": "python3"
  },
  "language_info": {
   "codemirror_mode": {
    "name": "ipython",
    "version": 3
   },
   "file_extension": ".py",
   "mimetype": "text/x-python",
   "name": "python",
   "nbconvert_exporter": "python",
   "pygments_lexer": "ipython3",
   "version": "3.8.16"
  },
  "vscode": {
   "interpreter": {
    "hash": "fb9c1bd38c7663f011bf442e740f4844d912585f80182885cfafffa0a1ff37a6"
   }
  }
 },
 "nbformat": 4,
 "nbformat_minor": 4
}
