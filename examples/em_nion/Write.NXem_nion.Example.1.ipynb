{
 "cells": [
  {
   "cell_type": "markdown",
   "metadata": {},
   "source": [
    "## Using dataconverter/em_nion for mapping content of a nionswift project to NeXus/HDF5/NXem"
   ]
  },
  {
   "cell_type": "markdown",
   "metadata": {
    "tags": []
   },
   "source": [
    "### **Step 1:** Check that packages are installed and working in your local Python environment."
   ]
  },
  {
   "cell_type": "markdown",
   "metadata": {},
   "source": [
    "Check the result of the query below specifically that `jupyterlab_h5web` and `pynxtools` are installed in your environment.<br>\n",
    "Note that next to the name pynxtools you should see the directory in which it is installed. Otherwise, make sure that you follow<br>\n",
    "the instructions in the `README` files:  \n",
    "- How to set up a development environment as in the main README  \n",
    "- Lauch the jupyter lab from this environement as in the README of folder `examples`"
   ]
  },
  {
   "cell_type": "code",
   "execution_count": null,
   "metadata": {},
   "outputs": [],
   "source": [
    "! pip list | grep \"h5py\\|nexus\\|jupyter\" && jupyter serverextension list && jupyter labextension list && python -V"
   ]
  },
  {
   "cell_type": "markdown",
   "metadata": {},
   "source": [
    "Set the pynxtools directory and start H5Web for interactive exploring of HDF5 files."
   ]
  },
  {
   "cell_type": "code",
   "execution_count": null,
   "metadata": {},
   "outputs": [],
   "source": [
    "import os\n",
    "from jupyterlab_h5web import H5Web\n",
    "print(f\"Current working directory: {os.getcwd()}\")\n",
    "print(f\"So-called base, home, or root directory of the pynxtools: {os.getcwd().replace('/examples/em_nion', '')}\")"
   ]
  },
  {
   "cell_type": "markdown",
   "metadata": {},
   "source": [
    "### **Step 2:** Download Nionswift-specific example data or try out with one of your own datasets."
   ]
  },
  {
   "cell_type": "markdown",
   "metadata": {
    "tags": []
   },
   "source": [
    "Example data can be found on Zenodo http://dx.doi.org/10.5281/zenodo.7986279."
   ]
  },
  {
   "cell_type": "code",
   "execution_count": null,
   "metadata": {
    "tags": []
   },
   "outputs": [],
   "source": [
    "import zipfile as zp"
   ]
  },
  {
   "cell_type": "code",
   "execution_count": null,
   "metadata": {},
   "outputs": [],
   "source": [
    "! wget https://www.zenodo.org/record/7986279/files/ger_berlin_haas_nionswift_multimodal.zip\n",
    "zp.ZipFile(\"ger_berlin_haas_nionswift_multimodal.zip\").extractall(path=\"\", members=None, pwd=None)"
   ]
  },
  {
   "cell_type": "markdown",
   "metadata": {},
   "source": [
    "These files should serve exclusively as examples. <font color=\"orange\">The dataconverter em_nion for nionswift project always requires a pair of files</font>:\n",
    "* A **YAML file with metadata** (either edited manually/or generated via an ELN).<br>\n",
    "  The eln_data_apm.yaml file in the example can be edited with a text editor.<br>\n",
    "* A **compressed zip.nionswift file** with the mime type/file name ending \\*.nionswift suffix.<br>\n",
    "  This includes the *.nsproj file and a directory or directory nest with *.ndata and *.h5 files<br>\n",
    "  which were generated from nionswift.<br>"
   ]
  },
  {
   "cell_type": "markdown",
   "metadata": {},
   "source": [
    "<div class=\"alert alert-block alert-info\">\n",
    "For GUI-based editing, a NOMAD OASIS instance is needed.<br>\n",
    "</div>"
   ]
  },
  {
   "cell_type": "markdown",
   "metadata": {},
   "source": [
    "<div class=\"alert alert-block alert-danger\">\n",
    "Please note that the metadata inside the provided eln_data_em_nion.yaml file contains example values.<br>\n",
    "These reflect not necessarily the conditions when the raw data for the example were collected!<br>\n",
    "The file is meant to be edited by you if you work with datasets others than the here provided!<br>\n",
    "</div>"
   ]
  },
  {
   "cell_type": "markdown",
   "metadata": {
    "tags": []
   },
   "source": [
    "### **Step 3:** Run the nionswift-specific dataconverter on the example data."
   ]
  },
  {
   "cell_type": "markdown",
   "metadata": {},
   "source": [
    "Now we run our parser. The --reader flag takes the em_nion reader (em_nion), the --nxdl flag takes the application definition for this technique which is currently NXem.<br> "
   ]
  },
  {
   "cell_type": "markdown",
   "metadata": {},
   "source": [
    "### **Step 3a:** Optionally see the command line help of the dataconverter."
   ]
  },
  {
   "cell_type": "code",
   "execution_count": null,
   "metadata": {},
   "outputs": [],
   "source": [
    "! dataconverter --help"
   ]
  },
  {
   "cell_type": "markdown",
   "metadata": {},
   "source": [
    "### **Step 3b:** Optionally explore all paths which NXapm provides."
   ]
  },
  {
   "cell_type": "code",
   "execution_count": null,
   "metadata": {
    "tags": []
   },
   "outputs": [],
   "source": [
    "# to inspect what can/should all be in the NeXus file\n",
    "! dataconverter --nxdl NXem --generate-template"
   ]
  },
  {
   "cell_type": "markdown",
   "metadata": {},
   "source": [
    "### **Step 3c**: Convert the files in the example into an NXapm-compliant NeXus/HDF5 file."
   ]
  },
  {
   "cell_type": "code",
   "execution_count": null,
   "metadata": {
    "tags": []
   },
   "outputs": [],
   "source": [
    "#parser-nexus/tests/data/tools/dataconverter/readers/em_om/\n",
    "eln_data_file_name = [\"eln_data_em_nion.yaml\"]\n",
    "swift_proj_file_name = [\"2022-02-18_Metadata_Kuehbach.zip.nionswift\"]\n",
    "output_file_name = [\"nion.case1.nxs\"]\n",
    "for case_id in [0]:\n",
    "    ELN = eln_data_file_name[0]\n",
    "    SWIFT = swift_proj_file_name[case_id]\n",
    "    OUTPUT = output_file_name[case_id]\n",
    "\n",
    "    ! dataconverter --reader em_nion --nxdl NXem --input-file $ELN --input-file $SWIFT --output $OUTPUT"
   ]
  },
  {
   "cell_type": "markdown",
   "metadata": {},
   "source": [
    "The key take home message is that the command above-specified triggers the automatic creation of the HDF5 file. This *.nxs file, is an HDF5 file."
   ]
  },
  {
   "cell_type": "markdown",
   "metadata": {
    "tags": []
   },
   "source": [
    "### **Step 4:** Inspect the NeXus/HDF5 file using H5Web."
   ]
  },
  {
   "cell_type": "code",
   "execution_count": null,
   "metadata": {},
   "outputs": [],
   "source": [
    "# H5Web(OUTPUT)\n",
    "H5Web(\"nion.case1.nxs\")"
   ]
  },
  {
   "cell_type": "markdown",
   "metadata": {},
   "source": [
    "You can also visualize the .nxs file by double clicking on it in the file explorer panel to the left side of your jupyter lab screen in the browser."
   ]
  },
  {
   "cell_type": "markdown",
   "metadata": {},
   "source": [
    "### Contact person for the em_nion reader and related examples in FAIRmat:\n",
    "Markus Kühbach, 2023/05<br>\n",
    "\n",
    "### Funding\n",
    "<a href=\"https://www.fairmat-nfdi.eu/fairmat\">FAIRmat</a> is a consortium on research data management which is part of the German NFDI.<br>\n",
    "The project is funded by the Deutsche Forschungsgemeinschaft (DFG, German Research Foundation) – project 460197019."
   ]
  },
  {
   "cell_type": "code",
   "execution_count": null,
   "metadata": {},
   "outputs": [],
   "source": []
  }
 ],
 "metadata": {
  "kernelspec": {
   "display_name": "Python 3 (ipykernel)",
   "language": "python",
   "name": "python3"
  },
  "language_info": {
   "codemirror_mode": {
    "name": "ipython",
    "version": 3
   },
   "file_extension": ".py",
   "mimetype": "text/x-python",
   "name": "python",
   "nbconvert_exporter": "python",
   "pygments_lexer": "ipython3",
   "version": "3.10.6"
  }
 },
 "nbformat": 4,
 "nbformat_minor": 4
}
