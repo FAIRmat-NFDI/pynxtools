{
 "cells": [
  {
   "cell_type": "markdown",
   "id": "9d57d5cb-5d34-4e94-b19f-a77e0ac9afdb",
   "metadata": {},
   "source": [
    "## To check how STM/STS data has been organised\n",
    "    - It might help to edit config file\n",
    "    - It might be utilised the reader modification"
   ]
  },
  {
   "cell_type": "code",
   "execution_count": null,
   "id": "d6824e64-4d73-411d-9530-e39f949f3845",
   "metadata": {},
   "outputs": [],
   "source": [
    "from pynxtools.dataconverter.readers.stm.stm_file_parser import get_stm_raw_file_info\n",
    "from pynxtools.dataconverter.readers.stm.bias_spec_file_parser import get_sts_raw_file_info\n",
    "\n",
    "# for stm file\n",
    "get_stm_raw_file_info('TiSe2_2303a_annealing_300C_5min_evaporate_Pyrene_1_0070.sxm')\n",
    "\n",
    "# for sts file\n",
    "get_sts_raw_file_info('221122_Au_5K00014_from_Palma_team.dat')\n"
   ]
  },
  {
   "cell_type": "code",
   "execution_count": null,
   "id": "45d84b47-8f66-4a3e-821c-306e47f5039f",
   "metadata": {
    "tags": []
   },
   "outputs": [],
   "source": [
    "# Run STM reader\n",
    "\n",
    "!dataconverter \\\n",
    "--reader stm \\\n",
    "--nxdl NXiv_sweep2 \\\n",
    "--input-file TiSe2_2303a_annealing_300C_5min_evaporate_Pyrene_1_0070.sxm \\\n",
    "--input-file ../config_file_for_sxm.json \\\n",
    "--input-file ./Nanonis_Eln.yaml \\\n",
    "--output final_stm_dev_.nxs\n"
   ]
  },
  {
   "cell_type": "code",
   "execution_count": null,
   "id": "09ed042e-0bbf-4299-aa71-c6269e0acc5a",
   "metadata": {},
   "outputs": [],
   "source": [
    "# Run STS reader\n",
    "\n",
    "!dataconverter \\\n",
    "--reader stm \\\n",
    "--nxdl NXiv_sweep2 \\\n",
    "--input-file ./Bias-Spectroscopy00026_Au_mica_2023_Y_A_diPAMY_154-211C_370C_1min_385C_30min_400C_1min_400C_30min_415_30min_430_30min_11min_20230418.dat \\\n",
    "--input-file ../config_file_for_dat.json \\\n",
    "--input-file Nanonis_Eln.yaml \\\n",
    "--output ./final_sts_dev.nxs"
   ]
  },
  {
   "cell_type": "code",
   "execution_count": null,
   "id": "5f3da3ce-a173-4dd2-ab0a-240d41cdce56",
   "metadata": {},
   "outputs": [],
   "source": []
  }
 ],
 "metadata": {
  "kernelspec": {
   "display_name": "Python 3 (ipykernel)",
   "language": "python",
   "name": "python3"
  },
  "language_info": {
   "codemirror_mode": {
    "name": "ipython",
    "version": 3
   },
   "file_extension": ".py",
   "mimetype": "text/x-python",
   "name": "python",
   "nbconvert_exporter": "python",
   "pygments_lexer": "ipython3",
   "version": "3.10.6"
  }
 },
 "nbformat": 4,
 "nbformat_minor": 5
}
