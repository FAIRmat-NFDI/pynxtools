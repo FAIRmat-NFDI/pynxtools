{
 "cells": [
  {
   "cell_type": "markdown",
   "metadata": {},
   "source": [
    "## DATACONVERTER Demo for Ellipsometry"
   ]
  },
  {
   "cell_type": "markdown",
   "metadata": {
    "tags": []
   },
   "source": [
    "### **Step 1:** Check that everything is ready to go and download example data."
   ]
  },
  {
   "cell_type": "markdown",
   "metadata": {},
   "source": [
    "check the result of the query below if the modules `jupyterlab_h5web` and `nexusutils` are installed in your environement. Note that next to the name nexusutils you should see the directory in which it is installed. Otherwise make sure that you followed the instructions in the `README` files:  \n",
    "- how to set up a development environment as in the main README  \n",
    "- lauch the jupyter lab from this environement as in the README of folder `examples`"
   ]
  },
  {
   "cell_type": "code",
   "execution_count": 1,
   "metadata": {},
   "outputs": [
    {
     "name": "stdout",
     "output_type": "stream",
     "text": [
      "h5py                 3.7.0\n",
      "jupyter_client       7.3.5\n",
      "jupyter-core         4.11.1\n",
      "jupyter-server       1.19.1\n",
      "jupyterlab           3.4.8\n",
      "jupyterlab-h5web     6.0.1\n",
      "jupyterlab-pygments  0.2.2\n",
      "jupyterlab_server    2.15.2\n",
      "nexusutils           0.0.1       /home/carola/NOMAD/test/nexusutils\n",
      "config dir: /home/carola/.jupyter\n",
      "    jupyterlab_h5web \u001b[32m enabled \u001b[0m\n",
      "    - Validating...\n",
      "      jupyterlab_h5web 6.0.1 \u001b[32mOK\u001b[0m\n",
      "config dir: /home/carola/NOMAD/npn-test/.pyenv/etc/jupyter\n",
      "    ipyparallel \u001b[32m enabled \u001b[0m\n",
      "    - Validating...\n",
      "      ipyparallel 8.4.1 \u001b[32mOK\u001b[0m\n",
      "    jupyterlab \u001b[32m enabled \u001b[0m\n",
      "    - Validating...\n",
      "      jupyterlab 3.4.8 \u001b[32mOK\u001b[0m\n",
      "    jupyterlab_h5web \u001b[32m enabled \u001b[0m\n",
      "    - Validating...\n",
      "      jupyterlab_h5web 6.0.1 \u001b[32mOK\u001b[0m\n",
      "JupyterLab v3.4.8\n",
      "/home/carola/.local/share/jupyter/labextensions\n",
      "        jupyterlab-plotly v5.6.0 \u001b[32menabled\u001b[0m \u001b[32mOK\u001b[0m\n",
      "\n",
      "/home/carola/NOMAD/npn-test/.pyenv/share/jupyter/labextensions\n",
      "        jupyterlab_pygments v0.2.2 \u001b[32menabled\u001b[0m \u001b[32mOK\u001b[0m (python, jupyterlab_pygments)\n",
      "        ipyparallel-labextension v8.4.1 \u001b[32menabled\u001b[0m \u001b[32mOK\u001b[0m\n",
      "        jupyterlab-h5web v6.0.1 \u001b[32menabled\u001b[0m \u001b[32mOK\u001b[0m (python, jupyterlab_h5web)\n",
      "\n",
      "Python 3.7.14\n"
     ]
    }
   ],
   "source": [
    "! pip list | grep 'h5py\\|nexus\\|jupyter' && jupyter serverextension list && jupyter labextension list && python -V"
   ]
  },
  {
   "cell_type": "markdown",
   "metadata": {},
   "source": [
    "Set the nexusutils directory."
   ]
  },
  {
   "cell_type": "code",
   "execution_count": 2,
   "metadata": {},
   "outputs": [
    {
     "name": "stdout",
     "output_type": "stream",
     "text": [
      "Current working directory\n",
      "/home/carola/NOMAD/test/nexusutils/examples/ellipsometry\n",
      "Base/home/root directory of the nexusutils\n",
      "/home/carola/NOMAD/test/nexusutils\n"
     ]
    }
   ],
   "source": [
    "import os\n",
    "print('Current working directory')\n",
    "print(os.getcwd())\n",
    "nexus_dir = os.getcwd().replace('/examples/ellipsometry', '')\n",
    "# import nexusutils\n",
    "# nexus_dir = os.path.dirname(nexusutils.__file__)\n",
    "print('Base/home/root directory of the nexusutils')\n",
    "print(nexus_dir)"
   ]
  },
  {
   "cell_type": "markdown",
   "metadata": {
    "tags": []
   },
   "source": [
    "### **Step 2:** Run your example-specific dataconverter/readers/ on the example data."
   ]
  },
  {
   "cell_type": "markdown",
   "metadata": {},
   "source": [
    "Now we run our parser. The --reader flag takes the atom probe microscopy reader (ellips), the --nxdl flag takes the application definition for this technique.<br> "
   ]
  },
  {
   "cell_type": "markdown",
   "metadata": {},
   "source": [
    "Inspect what can/should be in the NeXus file."
   ]
  },
  {
   "cell_type": "code",
   "execution_count": 3,
   "metadata": {},
   "outputs": [
    {
     "name": "stdout",
     "output_type": "stream",
     "text": [
      "/home/carola/NOMAD/test/nexusutils\n"
     ]
    }
   ],
   "source": [
    "! echo {nexus_dir}"
   ]
  },
  {
   "cell_type": "markdown",
   "metadata": {},
   "source": [
    "### **Step 2a:** Optionally see the command line help of the dataconverter."
   ]
  },
  {
   "cell_type": "code",
   "execution_count": 4,
   "metadata": {},
   "outputs": [
    {
     "name": "stdout",
     "output_type": "stream",
     "text": [
      "Usage: dataconverter [OPTIONS]\n",
      "\n",
      "  The CLI entrypoint for the convert function\n",
      "\n",
      "Options:\n",
      "  --input-file TEXT               The path to the input data file to read.\n",
      "                                  (Repeat for more than one file.)\n",
      "  --reader [apm|ellips|em_nion|em_spctrscpy|example|hall|json_map|json_yml|mpes|transmission]\n",
      "                                  The reader to use. default=\"example\"\n",
      "  --nxdl TEXT                     The name of the NXDL file to use without\n",
      "                                  extension.\n",
      "  --output TEXT                   The path to the output NeXus file to be\n",
      "                                  generated.\n",
      "  --generate-template             Just print out the template generated from\n",
      "                                  given NXDL file.\n",
      "  --fair                          Let the converter know to be stricter in\n",
      "                                  checking the documentation.\n",
      "  --params-file FILENAME          Allows to pass a .yaml file with all the\n",
      "                                  parameters the converter supports.\n",
      "  --help                          Show this message and exit.\n"
     ]
    }
   ],
   "source": [
    "! dataconverter --help"
   ]
  },
  {
   "cell_type": "markdown",
   "metadata": {},
   "source": [
    "### **Step 2b:** Optionally explore all paths which the application definition provides."
   ]
  },
  {
   "cell_type": "code",
   "execution_count": 5,
   "metadata": {
    "tags": []
   },
   "outputs": [
    {
     "name": "stdout",
     "output_type": "stream",
     "text": [
      "{\n",
      "    \"/ENTRY[entry]/INSTRUMENT[instrument]/DETECTOR[detector]/detector_type\": \"None\",\n",
      "    \"/ENTRY[entry]/INSTRUMENT[instrument]/DETECTOR[detector]/fixed_revolution\": \"None\",\n",
      "    \"/ENTRY[entry]/INSTRUMENT[instrument]/DETECTOR[detector]/fixed_revolution/@units\": \"None\",\n",
      "    \"/ENTRY[entry]/INSTRUMENT[instrument]/DETECTOR[detector]/intensity_threshold\": \"None\",\n",
      "    \"/ENTRY[entry]/INSTRUMENT[instrument]/DETECTOR[detector]/min_intensity\": \"None\",\n",
      "    \"/ENTRY[entry]/INSTRUMENT[instrument]/DETECTOR[detector]/other_detector\": \"None\",\n",
      "    \"/ENTRY[entry]/INSTRUMENT[instrument]/DETECTOR[detector]/revolution\": \"None\",\n",
      "    \"/ENTRY[entry]/INSTRUMENT[instrument]/DETECTOR[detector]/revolution/@units\": \"None\",\n",
      "    \"/ENTRY[entry]/INSTRUMENT[instrument]/DETECTOR[detector]/rotating_element\": \"None\",\n",
      "    \"/ENTRY[entry]/INSTRUMENT[instrument]/DETECTOR[detector]/variable_revolution\": \"None\",\n",
      "    \"/ENTRY[entry]/INSTRUMENT[instrument]/angle_of_incidence\": \"None\",\n",
      "    \"/ENTRY[entry]/INSTRUMENT[instrument]/angle_of_incidence/@units\": \"None\",\n",
      "    \"/ENTRY[entry]/INSTRUMENT[instrument]/angular_spread\": \"None\",\n",
      "    \"/ENTRY[entry]/INSTRUMENT[instrument]/angular_spread/@units\": \"None\",\n",
      "    \"/ENTRY[entry]/INSTRUMENT[instrument]/calibration/calibration_data/calibration_angle_of_incidence\": \"None\",\n",
      "    \"/ENTRY[entry]/INSTRUMENT[instrument]/calibration/calibration_data/calibration_angle_of_incidence/@units\": \"None\",\n",
      "    \"/ENTRY[entry]/INSTRUMENT[instrument]/calibration/calibration_data/calibration_data\": \"None\",\n",
      "    \"/ENTRY[entry]/INSTRUMENT[instrument]/calibration/calibration_data/calibration_data_type\": \"None\",\n",
      "    \"/ENTRY[entry]/INSTRUMENT[instrument]/calibration/calibration_data/calibration_wavelength\": \"None\",\n",
      "    \"/ENTRY[entry]/INSTRUMENT[instrument]/calibration/calibration_sample\": \"None\",\n",
      "    \"/ENTRY[entry]/INSTRUMENT[instrument]/calibration/calibration_time\": \"None\",\n",
      "    \"/ENTRY[entry]/INSTRUMENT[instrument]/calibration_status\": \"None\",\n",
      "    \"/ENTRY[entry]/INSTRUMENT[instrument]/company\": \"None\",\n",
      "    \"/ENTRY[entry]/INSTRUMENT[instrument]/construction_year\": \"None\",\n",
      "    \"/ENTRY[entry]/INSTRUMENT[instrument]/data_correction\": \"None\",\n",
      "    \"/ENTRY[entry]/INSTRUMENT[instrument]/ellipsometry_type\": \"None\",\n",
      "    \"/ENTRY[entry]/INSTRUMENT[instrument]/firmware\": \"None\",\n",
      "    \"/ENTRY[entry]/INSTRUMENT[instrument]/firmware/@url\": \"None\",\n",
      "    \"/ENTRY[entry]/INSTRUMENT[instrument]/firmware/@version\": \"None\",\n",
      "    \"/ENTRY[entry]/INSTRUMENT[instrument]/focussing_probes\": \"None\",\n",
      "    \"/ENTRY[entry]/INSTRUMENT[instrument]/light_source\": \"None\",\n",
      "    \"/ENTRY[entry]/INSTRUMENT[instrument]/model\": \"None\",\n",
      "    \"/ENTRY[entry]/INSTRUMENT[instrument]/model/@version\": \"None\",\n",
      "    \"/ENTRY[entry]/INSTRUMENT[instrument]/spectrometer/GRATING[grating]/angular_dispersion\": \"None\",\n",
      "    \"/ENTRY[entry]/INSTRUMENT[instrument]/spectrometer/GRATING[grating]/grating_wavelength_max\": \"None\",\n",
      "    \"/ENTRY[entry]/INSTRUMENT[instrument]/spectrometer/GRATING[grating]/grating_wavelength_max/@units\": \"None\",\n",
      "    \"/ENTRY[entry]/INSTRUMENT[instrument]/spectrometer/GRATING[grating]/grating_wavelength_min\": \"None\",\n",
      "    \"/ENTRY[entry]/INSTRUMENT[instrument]/spectrometer/GRATING[grating]/grating_wavelength_min/@units\": \"None\",\n",
      "    \"/ENTRY[entry]/INSTRUMENT[instrument]/spectrometer/SLIT[slit]/fixed_slit\": \"None\",\n",
      "    \"/ENTRY[entry]/INSTRUMENT[instrument]/spectrometer/SLIT[slit]/max_gap\": \"None\",\n",
      "    \"/ENTRY[entry]/INSTRUMENT[instrument]/spectrometer/SLIT[slit]/max_gap/@units\": \"None\",\n",
      "    \"/ENTRY[entry]/INSTRUMENT[instrument]/spectrometer/spectral_resolution\": \"None\",\n",
      "    \"/ENTRY[entry]/INSTRUMENT[instrument]/spectrometer/spectral_resolution/@units\": \"None\",\n",
      "    \"/ENTRY[entry]/INSTRUMENT[instrument]/spectrometer/wavelength\": \"None\",\n",
      "    \"/ENTRY[entry]/INSTRUMENT[instrument]/spectrometer/wavelength/@units\": \"None\",\n",
      "    \"/ENTRY[entry]/INSTRUMENT[instrument]/stage/TRANSFORMATIONS[transformations]/alternative\": \"None\",\n",
      "    \"/ENTRY[entry]/INSTRUMENT[instrument]/stage/description\": \"None\",\n",
      "    \"/ENTRY[entry]/INSTRUMENT[instrument]/stage/stage_type\": \"None\",\n",
      "    \"/ENTRY[entry]/INSTRUMENT[instrument]/window/material\": \"None\",\n",
      "    \"/ENTRY[entry]/INSTRUMENT[instrument]/window/orientation_angle\": \"None\",\n",
      "    \"/ENTRY[entry]/INSTRUMENT[instrument]/window/orientation_angle/@units\": \"None\",\n",
      "    \"/ENTRY[entry]/INSTRUMENT[instrument]/window/other_material\": \"None\",\n",
      "    \"/ENTRY[entry]/INSTRUMENT[instrument]/window/reference_data/data\": \"None\",\n",
      "    \"/ENTRY[entry]/INSTRUMENT[instrument]/window/reference_data/reference_sample\": \"None\",\n",
      "    \"/ENTRY[entry]/INSTRUMENT[instrument]/window/reference_data/reference_wavelength\": \"None\",\n",
      "    \"/ENTRY[entry]/INSTRUMENT[instrument]/window/reference_data/reference_wavelength/@units\": \"None\",\n",
      "    \"/ENTRY[entry]/INSTRUMENT[instrument]/window/thickness\": \"None\",\n",
      "    \"/ENTRY[entry]/INSTRUMENT[instrument]/window/thickness/@units\": \"None\",\n",
      "    \"/ENTRY[entry]/SAMPLE[sample]/atom_types\": \"None\",\n",
      "    \"/ENTRY[entry]/SAMPLE[sample]/column_names\": \"None\",\n",
      "    \"/ENTRY[entry]/SAMPLE[sample]/data_error\": \"None\",\n",
      "    \"/ENTRY[entry]/SAMPLE[sample]/data_identifier\": \"None\",\n",
      "    \"/ENTRY[entry]/SAMPLE[sample]/data_type\": \"None\",\n",
      "    \"/ENTRY[entry]/SAMPLE[sample]/environment_conditions/SENSOR[sensor]\": \"None\",\n",
      "    \"/ENTRY[entry]/SAMPLE[sample]/environment_conditions/medium\": \"None\",\n",
      "    \"/ENTRY[entry]/SAMPLE[sample]/environment_conditions/medium_refractive_indices\": \"None\",\n",
      "    \"/ENTRY[entry]/SAMPLE[sample]/environment_conditions/number_of_runs\": \"None\",\n",
      "    \"/ENTRY[entry]/SAMPLE[sample]/environment_conditions/number_of_runs/@units\": \"None\",\n",
      "    \"/ENTRY[entry]/SAMPLE[sample]/environment_conditions/optical_excitation/broadening\": \"None\",\n",
      "    \"/ENTRY[entry]/SAMPLE[sample]/environment_conditions/optical_excitation/broadening/@units\": \"None\",\n",
      "    \"/ENTRY[entry]/SAMPLE[sample]/environment_conditions/optical_excitation/duration\": \"None\",\n",
      "    \"/ENTRY[entry]/SAMPLE[sample]/environment_conditions/optical_excitation/duration/@units\": \"None\",\n",
      "    \"/ENTRY[entry]/SAMPLE[sample]/environment_conditions/optical_excitation/pulse_energy\": \"None\",\n",
      "    \"/ENTRY[entry]/SAMPLE[sample]/environment_conditions/optical_excitation/pulse_energy/@units\": \"None\",\n",
      "    \"/ENTRY[entry]/SAMPLE[sample]/environment_conditions/optical_excitation/wavelength\": \"None\",\n",
      "    \"/ENTRY[entry]/SAMPLE[sample]/environment_conditions/optical_excitation/wavelength/@units\": \"None\",\n",
      "    \"/ENTRY[entry]/SAMPLE[sample]/environment_conditions/varied_parameters\": \"None\",\n",
      "    \"/ENTRY[entry]/SAMPLE[sample]/layer_structure\": \"None\",\n",
      "    \"/ENTRY[entry]/SAMPLE[sample]/measured_data\": \"None\",\n",
      "    \"/ENTRY[entry]/SAMPLE[sample]/preparation_date\": \"None\",\n",
      "    \"/ENTRY[entry]/SAMPLE[sample]/sample_history\": \"None\",\n",
      "    \"/ENTRY[entry]/SAMPLE[sample]/sample_name\": \"None\",\n",
      "    \"/ENTRY[entry]/SAMPLE[sample]/time_points\": \"None\",\n",
      "    \"/ENTRY[entry]/SAMPLE[sample]/time_points/@units\": \"None\",\n",
      "    \"/ENTRY[entry]/USER[user]/address\": \"None\",\n",
      "    \"/ENTRY[entry]/USER[user]/affiliation\": \"None\",\n",
      "    \"/ENTRY[entry]/USER[user]/email\": \"None\",\n",
      "    \"/ENTRY[entry]/USER[user]/name\": \"None\",\n",
      "    \"/ENTRY[entry]/USER[user]/orcid\": \"None\",\n",
      "    \"/ENTRY[entry]/USER[user]/telephone_number\": \"None\",\n",
      "    \"/ENTRY[entry]/acquisition_program/@url\": \"None\",\n",
      "    \"/ENTRY[entry]/acquisition_program/program\": \"None\",\n",
      "    \"/ENTRY[entry]/acquisition_program/version\": \"None\",\n",
      "    \"/ENTRY[entry]/definition\": \"None\",\n",
      "    \"/ENTRY[entry]/definition/@url\": \"None\",\n",
      "    \"/ENTRY[entry]/definition/@version\": \"None\",\n",
      "    \"/ENTRY[entry]/derived_parameters/depolarization\": \"None\",\n",
      "    \"/ENTRY[entry]/experiment_description\": \"None\",\n",
      "    \"/ENTRY[entry]/experiment_identifier\": \"None\",\n",
      "    \"/ENTRY[entry]/plot/@axes\": \"None\",\n",
      "    \"/ENTRY[entry]/start_time\": \"None\"\n",
      "}\n"
     ]
    }
   ],
   "source": [
    "# to inspect what can/should all be in the NeXus file\n",
    "! dataconverter --nxdl NXellipsometry --generate-template"
   ]
  },
  {
   "cell_type": "markdown",
   "metadata": {},
   "source": [
    "### **Step 2c**: Convert the files in the example into a NeXus HDF5 file."
   ]
  },
  {
   "cell_type": "code",
   "execution_count": 6,
   "metadata": {
    "tags": []
   },
   "outputs": [
    {
     "name": "stdout",
     "output_type": "stream",
     "text": [
      "Using ellips reader to convert the given files:  \n",
      "• eln_data.yaml \n",
      "The path, /ENTRY[entry]/plot/wavelength, is being written but has no documentation.\n",
      "The path, /ENTRY[entry]/plot/wavelength/@units, is being written but has no documentation.\n",
      "The path, /ENTRY[entry]/plot/psi_50deg, is being written but has no documentation.\n",
      "The path, /ENTRY[entry]/plot/psi_50deg/@units, is being written but has no documentation.\n",
      "The path, /ENTRY[entry]/plot/psi_60deg, is being written but has no documentation.\n",
      "The path, /ENTRY[entry]/plot/psi_60deg/@units, is being written but has no documentation.\n",
      "The path, /ENTRY[entry]/plot/psi_70deg, is being written but has no documentation.\n",
      "The path, /ENTRY[entry]/plot/psi_70deg/@units, is being written but has no documentation.\n",
      "The path, /ENTRY[entry]/plot/delta_50deg, is being written but has no documentation.\n",
      "The path, /ENTRY[entry]/plot/delta_50deg/@units, is being written but has no documentation.\n",
      "The path, /ENTRY[entry]/plot/delta_60deg, is being written but has no documentation.\n",
      "The path, /ENTRY[entry]/plot/delta_60deg/@units, is being written but has no documentation.\n",
      "The path, /ENTRY[entry]/plot/delta_70deg, is being written but has no documentation.\n",
      "The path, /ENTRY[entry]/plot/delta_70deg/@units, is being written but has no documentation.\n",
      "The output file generated: SiO2onSi.nxs\n"
     ]
    }
   ],
   "source": [
    "! dataconverter \\\n",
    "--reader ellips \\\n",
    "--nxdl NXellipsometry \\\n",
    "--input-file eln_data.yaml \\\n",
    "--output SiO2onSi.nxs"
   ]
  },
  {
   "cell_type": "markdown",
   "metadata": {},
   "source": [
    "The key take home message is that the command above-specified triggers the automatic creation of the HDF5 file. This *.nxs file, is an HDF5 file."
   ]
  },
  {
   "cell_type": "markdown",
   "metadata": {
    "tags": []
   },
   "source": [
    "### **Step 3:** Inspect the HDF5/NeXus file using H5Web."
   ]
  },
  {
   "cell_type": "code",
   "execution_count": 7,
   "metadata": {},
   "outputs": [],
   "source": [
    "from jupyterlab_h5web import H5Web"
   ]
  },
  {
   "cell_type": "code",
   "execution_count": 8,
   "metadata": {},
   "outputs": [],
   "source": [
    "h5_file_name = 'SiO2onSi.nxs'"
   ]
  },
  {
   "cell_type": "code",
   "execution_count": 9,
   "metadata": {},
   "outputs": [
    {
     "data": {
      "application/x-hdf5": "/home/carola/NOMAD/test/nexusutils/examples/ellipsometry/SiO2onSi.nxs",
      "text/plain": [
       "<jupyterlab_h5web.widget.H5Web object>"
      ]
     },
     "execution_count": 9,
     "metadata": {},
     "output_type": "execute_result"
    }
   ],
   "source": [
    "H5Web(h5_file_name)"
   ]
  },
  {
   "cell_type": "markdown",
   "metadata": {},
   "source": [
    "You can also visualize the .nxs file by double clicking on it in the file explorer panel to the left side of your jupyter lab screen in the browser."
   ]
  }
 ],
 "metadata": {
  "kernelspec": {
   "display_name": "Python 3 (ipykernel)",
   "language": "python",
   "name": "python3"
  },
  "language_info": {
   "codemirror_mode": {
    "name": "ipython",
    "version": 3
   },
   "file_extension": ".py",
   "mimetype": "text/x-python",
   "name": "python",
   "nbconvert_exporter": "python",
   "pygments_lexer": "ipython3",
   "version": "3.7.14"
  }
 },
 "nbformat": 4,
 "nbformat_minor": 4
}
