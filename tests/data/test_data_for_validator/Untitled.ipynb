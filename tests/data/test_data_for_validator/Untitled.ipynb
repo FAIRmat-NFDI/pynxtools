{
 "cells": [
  {
   "cell_type": "code",
   "execution_count": 4,
   "id": "9490ba8a-01e6-4146-ba01-3c27c319bfc7",
   "metadata": {},
   "outputs": [
    {
     "name": "stdout",
     "output_type": "stream",
     "text": [
      "{\n",
      "    \"/ENTRY[entry]/experiment_result/hdf5_validator_2_intensity\": \"None\",\n",
      "    \"/ENTRY[entry]/hdf5_validator_1_program_name\": \"None\",\n",
      "    \"/ENTRY[entry]/hdf5_validator_1_required/required_field\": \"None\",\n",
      "    \"/ENTRY[entry]/hdf5_validator_2_users_req/required_field\": \"None\"\n",
      "}\n"
     ]
    }
   ],
   "source": [
    "from pynxtools.dataconverter.template import Template  #\n",
    "\n",
    "from pynxtools.dataconverter import helpers\n",
    "\n",
    "nxdl_root = None\n",
    "# nxdl_name =  \"NXtest_extended\"\n",
    "nxdl_name = \"NXhdf5_validator_2\"\n",
    "# nxdl_name = \"NXspm\"\n",
    "if nxdl_root is None:\n",
    "    nxdl_root, nxdl_path = helpers.get_nxdl_root_and_path(nxdl=nxdl_name)\n",
    "\n",
    "template = Template()\n",
    "helpers.generate_template_from_nxdl(nxdl_root, template)\n",
    "\n",
    "print(template)\n",
    "\n",
    "import h5py\n",
    "from pynxtools.dataconverter.writer import Writer\n",
    "\n",
    "import numpy as np\n",
    "\n",
    "# nexus_file = tempfile.NamedTemporaryFile()\n",
    "\n",
    "# fo = h5py.File(nexus_file, 'w')\n",
    "\n",
    "# Populate nexus file\n",
    "template[\"/ENTRY[entry]/version\"] = \"no version\"\n",
    "template[\"/ENTRY[entry]/experiment_result/hdf5_validator_2_intensity\"] = np.array([[11,12,13],[21, 22, 23]])\n",
    "template[\"/ENTRY[entry]/hdf5_validator_1_program_name\"] = \"hdf5_file_validator\"\n",
    "template[\"/ENTRY[entry]/hdf5_validator_1_required/required_field\"] = \"Required_field_from nxdl-1\"\n",
    "template[\"/ENTRY[entry]/hdf5_validator_2_users_req/required_field\"] = \"Required_field_from_nxdl-2\"\n",
    "\n",
    "nxdl_name = \"NXhdf5_validator_2\"\n",
    "\n",
    "Writer(data=template, nxdl_f_path=nxdl_path, output_path=\"hdf5_validator_test.nxs\").write()"
   ]
  },
  {
   "cell_type": "code",
   "execution_count": null,
   "id": "8366f66c-6768-469a-8da5-d560edd36176",
   "metadata": {},
   "outputs": [],
   "source": []
  }
 ],
 "metadata": {
  "kernelspec": {
   "display_name": "Python 3 (ipykernel)",
   "language": "python",
   "name": "python3"
  },
  "language_info": {
   "codemirror_mode": {
    "name": "ipython",
    "version": 3
   },
   "file_extension": ".py",
   "mimetype": "text/x-python",
   "name": "python",
   "nbconvert_exporter": "python",
   "pygments_lexer": "ipython3",
   "version": "3.10.12"
  }
 },
 "nbformat": 4,
 "nbformat_minor": 5
}
