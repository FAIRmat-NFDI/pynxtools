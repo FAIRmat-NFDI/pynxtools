{
 "cells": [
  {
   "cell_type": "markdown",
   "metadata": {},
   "source": [
    "## nomad-parser-nexus demo"
   ]
  },
  {
   "cell_type": "markdown",
   "metadata": {},
   "source": [
    "Add punchline."
   ]
  },
  {
   "cell_type": "markdown",
   "metadata": {},
   "source": [
    "### Step -1: Set up dependencies for jupyterlab_h5web"
   ]
  },
  {
   "cell_type": "code",
   "execution_count": null,
   "metadata": {},
   "outputs": [],
   "source": [
    "# start with a fresh virtualenv\n",
    "# ! pip install virtualenv\n",
    "# ! virtualenv --python=python3.7 .py37env\n",
    "# ! source .py37env/bin/activate\n",
    "\n",
    "# install jupyter, jupyter-lab and web extensions\n",
    "\n",
    "#inside SPRINT5-JUPYTER-TEST-02, conda, python 3.7, jupyter, jupyterlab"
   ]
  },
  {
   "cell_type": "code",
   "execution_count": null,
   "metadata": {},
   "outputs": [],
   "source": [
    "# ! pip install --upgrade nodejs && pip install ipywidgets h5py==3.5.0 h5glance==0.7 h5grove==0.0.8 jupyterlab[full]==2.3.0 jupyterlab_h5web[full]==0.0.11 punx==0.2.5 nexpy==0.14.1 silx[full] && jupyter lab build"
   ]
  },
  {
   "cell_type": "code",
   "execution_count": null,
   "metadata": {},
   "outputs": [],
   "source": [
    "# ! jupyter nbextension enable --py widgetsnbextension"
   ]
  },
  {
   "cell_type": "code",
   "execution_count": null,
   "metadata": {},
   "outputs": [],
   "source": [
    "# ! jupyter serverextension enable jupyterlab_h5web"
   ]
  },
  {
   "cell_type": "markdown",
   "metadata": {},
   "source": [
    "Restart the Jupyter kernel"
   ]
  },
  {
   "cell_type": "markdown",
   "metadata": {},
   "source": [
    "### Step 0: Installating and testing nomad-parser-nexus module"
   ]
  },
  {
   "cell_type": "code",
   "execution_count": 1,
   "metadata": {
    "tags": []
   },
   "outputs": [
    {
     "name": "stdout",
     "output_type": "stream",
     "text": [
      "Collecting pip\n",
      "  Downloading pip-22.0.3-py3-none-any.whl (2.1 MB)\n",
      "\u001b[K     |████████████████████████████████| 2.1 MB 2.2 MB/s eta 0:00:01\n",
      "\u001b[?25hInstalling collected packages: pip\n",
      "\u001b[33m  WARNING: The scripts pip, pip3 and pip3.8 are installed in '/config/.local/bin' which is not on PATH.\n",
      "  Consider adding this directory to PATH or, if you prefer to suppress this warning, use --no-warn-script-location.\u001b[0m\n",
      "Successfully installed pip-22.0.3\n",
      "Looking in indexes: https://pypi.org/simple, https://gitlab.mpcdf.mpg.de/api/v4/projects/2187/packages/pypi/simple\n",
      "Collecting nomad-lab==1.0.0\n",
      "  Downloading https://gitlab.mpcdf.mpg.de/api/v4/projects/2187/packages/pypi/files/e223bb90cfa560d903a59d4fd4f4dba7bff9fa23283f8daf2f2c122e3f8fcabf/nomad-lab-1.0.0.tar.gz (1.6 MB)\n",
      "\u001b[K     |████████████████████████████████| 1.6 MB 2.3 MB/s eta 0:00:01     |████████████████▉               | 819 kB 2.3 MB/s eta 0:00:01     |███████████████████████████▎    | 1.3 MB 2.3 MB/s eta 0:00:01\n",
      "\u001b[?25h  Installing build dependencies ... \u001b[?25ldone\n",
      "\u001b[?25h  Getting requirements to build wheel ... \u001b[?25ldone\n",
      "\u001b[?25h    Preparing wheel metadata ... \u001b[?25ldone\n",
      "\u001b[?25hCollecting Pint==0.17\n",
      "  Downloading Pint-0.17-py2.py3-none-any.whl (204 kB)\n",
      "\u001b[K     |████████████████████████████████| 204 kB 3.9 MB/s eta 0:00:01\n",
      "\u001b[?25hCollecting nptyping==1.4.4\n",
      "  Downloading nptyping-1.4.4-py3-none-any.whl (31 kB)\n",
      "Collecting jmespath==0.10.0\n",
      "  Downloading jmespath-0.10.0-py2.py3-none-any.whl (24 kB)\n",
      "Collecting ase==3.19.0\n",
      "  Downloading ase-3.19.0-py3-none-any.whl (2.1 MB)\n",
      "\u001b[K     |████████████████████████████████| 2.1 MB 11.4 MB/s eta 0:00:01\n",
      "\u001b[?25hCollecting python-keycloak==0.26.1\n",
      "  Downloading python-keycloak-0.26.1.tar.gz (28 kB)\n",
      "Collecting pydantic==1.8.2\n",
      "  Downloading pydantic-1.8.2-cp38-cp38-manylinux2014_x86_64.whl (13.7 MB)\n",
      "\u001b[K     |████████████████████████████████| 13.7 MB 1.6 MB/s eta 0:00:01��████████████████████████████▏ | 12.9 MB 1.6 MB/s eta 0:00:01\n",
      "\u001b[?25hRequirement already satisfied: pip in /usr/lib/python3/dist-packages (from nomad-lab==1.0.0) (20.0.2)\n",
      "Collecting elasticsearch-dsl==6.4.0\n",
      "  Downloading elasticsearch_dsl-6.4.0-py2.py3-none-any.whl (49 kB)\n",
      "\u001b[K     |████████████████████████████████| 49 kB 3.8 MB/s eta 0:00:01\n",
      "\u001b[?25hRequirement already satisfied: future==0.18.2 in /usr/local/lib/python3.8/dist-packages (from nomad-lab==1.0.0) (0.18.2)\n",
      "Collecting fastentrypoints==0.12\n",
      "  Using cached fastentrypoints-0.12-py3-none-any.whl (4.6 kB)\n",
      "Collecting orjson==3.6.0\n",
      "  Downloading orjson-3.6.0-cp38-cp38-manylinux_2_17_x86_64.manylinux2014_x86_64.whl (236 kB)\n",
      "\u001b[K     |████████████████████████████████| 236 kB 7.3 MB/s eta 0:00:01\n",
      "\u001b[?25hCollecting pyyaml==6.0\n",
      "  Using cached PyYAML-6.0-cp38-cp38-manylinux_2_5_x86_64.manylinux1_x86_64.manylinux_2_12_x86_64.manylinux2010_x86_64.whl (701 kB)\n",
      "Collecting click==7.1.2\n",
      "  Downloading click-7.1.2-py2.py3-none-any.whl (82 kB)\n",
      "\u001b[K     |████████████████████████████████| 82 kB 1.5 MB/s  eta 0:00:01\n",
      "\u001b[?25hCollecting requests==2.26.0\n",
      "  Downloading requests-2.26.0-py2.py3-none-any.whl (62 kB)\n",
      "\u001b[K     |████████████████████████████████| 62 kB 899 kB/s  eta 0:00:01\n",
      "\u001b[?25hRequirement already satisfied: wheel in /usr/lib/python3/dist-packages (from nomad-lab==1.0.0) (0.34.2)\n",
      "Collecting numpy==1.21.2\n",
      "  Downloading numpy-1.21.2-cp38-cp38-manylinux_2_12_x86_64.manylinux2010_x86_64.whl (15.8 MB)\n",
      "\u001b[K     |████████████████████████████████| 15.8 MB 3.6 MB/s eta 0:00:01    |██████████                      | 4.9 MB 8.3 MB/s eta 0:00:02\n",
      "\u001b[?25hCollecting aniso8601==7.0.0\n",
      "  Downloading aniso8601-7.0.0-py2.py3-none-any.whl (42 kB)\n",
      "\u001b[K     |████████████████████████████████| 42 kB 854 kB/s  eta 0:00:01\n",
      "\u001b[?25hCollecting cachetools==4.2.4\n",
      "  Downloading cachetools-4.2.4-py3-none-any.whl (10 kB)\n",
      "Collecting pytz==2021.1\n",
      "  Downloading pytz-2021.1-py2.py3-none-any.whl (510 kB)\n",
      "\u001b[K     |████████████████████████████████| 510 kB 7.0 MB/s eta 0:00:01\n",
      "\u001b[?25hCollecting docstring-parser==0.12\n",
      "  Downloading docstring_parser-0.12.tar.gz (23 kB)\n",
      "  Installing build dependencies ... \u001b[?25ldone\n",
      "\u001b[?25h  Getting requirements to build wheel ... \u001b[?25ldone\n",
      "\u001b[?25h    Preparing wheel metadata ... \u001b[?25ldone\n",
      "\u001b[?25hCollecting cython>=0.19\n",
      "  Downloading Cython-0.29.27-cp38-cp38-manylinux_2_17_x86_64.manylinux2014_x86_64.manylinux_2_24_x86_64.whl (1.9 MB)\n",
      "\u001b[K     |████████████████████████████████| 1.9 MB 3.0 MB/s eta 0:00:01\n",
      "\u001b[?25hRequirement already satisfied: packaging in /usr/local/lib/python3.8/dist-packages (from Pint==0.17->nomad-lab==1.0.0) (21.3)\n",
      "Collecting typish>=1.7.0\n",
      "  Downloading typish-1.9.3-py3-none-any.whl (45 kB)\n",
      "\u001b[K     |████████████████████████████████| 45 kB 3.4 MB/s  eta 0:00:01\n",
      "\u001b[?25hRequirement already satisfied: matplotlib in /usr/lib/python3/dist-packages (from ase==3.19.0->nomad-lab==1.0.0) (3.1.2)\n",
      "Requirement already satisfied: scipy in /usr/local/lib/python3.8/dist-packages (from ase==3.19.0->nomad-lab==1.0.0) (1.7.2)\n",
      "Collecting python-jose>=1.4.0\n",
      "  Downloading python_jose-3.3.0-py2.py3-none-any.whl (33 kB)\n",
      "Collecting typing-extensions>=3.7.4.3\n",
      "  Downloading typing_extensions-4.0.1-py3-none-any.whl (22 kB)\n",
      "Requirement already satisfied: python-dateutil in /usr/lib/python3/dist-packages (from elasticsearch-dsl==6.4.0->nomad-lab==1.0.0) (2.7.3)\n",
      "Collecting elasticsearch<7.0.0,>=6.0.0\n",
      "  Downloading elasticsearch-6.8.2-py2.py3-none-any.whl (90 kB)\n",
      "\u001b[K     |████████████████████████████████| 90 kB 5.0 MB/s eta 0:00:011\n",
      "\u001b[?25hRequirement already satisfied: six in /usr/lib/python3/dist-packages (from elasticsearch-dsl==6.4.0->nomad-lab==1.0.0) (1.14.0)\n",
      "Requirement already satisfied: urllib3<1.27,>=1.21.1 in /usr/lib/python3/dist-packages (from requests==2.26.0->nomad-lab==1.0.0) (1.25.8)\n",
      "Requirement already satisfied: certifi>=2017.4.17 in /usr/lib/python3/dist-packages (from requests==2.26.0->nomad-lab==1.0.0) (2019.11.28)\n",
      "Collecting charset-normalizer~=2.0.0; python_version >= \"3\"\n",
      "  Downloading charset_normalizer-2.0.11-py3-none-any.whl (39 kB)\n",
      "Requirement already satisfied: idna<4,>=2.5; python_version >= \"3\" in /usr/lib/python3/dist-packages (from requests==2.26.0->nomad-lab==1.0.0) (2.8)\n",
      "Requirement already satisfied: pyparsing!=3.0.5,>=2.0.2 in /usr/lib/python3/dist-packages (from packaging->Pint==0.17->nomad-lab==1.0.0) (2.4.6)\n",
      "Collecting pyasn1\n",
      "  Downloading pyasn1-0.4.8-py2.py3-none-any.whl (77 kB)\n",
      "\u001b[K     |████████████████████████████████| 77 kB 4.6 MB/s eta 0:00:011\n",
      "\u001b[?25hCollecting rsa\n",
      "  Downloading rsa-4.8-py3-none-any.whl (39 kB)\n",
      "Collecting ecdsa!=0.15\n",
      "  Downloading ecdsa-0.17.0-py2.py3-none-any.whl (119 kB)\n",
      "\u001b[K     |████████████████████████████████| 119 kB 10.1 MB/s eta 0:00:01\n",
      "\u001b[?25hBuilding wheels for collected packages: nomad-lab, python-keycloak, docstring-parser\n",
      "  Building wheel for nomad-lab (PEP 517) ... \u001b[?25ldone\n",
      "\u001b[?25h  Created wheel for nomad-lab: filename=nomad_lab-1.0.0-py3-none-any.whl size=1863511 sha256=f36be8de425e285daca09f026a432dd52176f31a9521f401ec6feab92c90bcc9\n",
      "  Stored in directory: /config/.cache/pip/wheels/7c/d7/61/6eb3ba1b217009e422a277414823b324481bb47b848d932c44\n",
      "  Building wheel for python-keycloak (setup.py) ... \u001b[?25ldone\n",
      "\u001b[?25h  Created wheel for python-keycloak: filename=python_keycloak-0.26.1-py3-none-any.whl size=33821 sha256=98cbb4103970b358858afa44c219b5e63b38a3cc844bddd3af5dbfbc897222a9\n",
      "  Stored in directory: /config/.cache/pip/wheels/4f/be/64/099dc026a9d537ea30d919685e21f71115a9c4209433bb8cc6\n",
      "  Building wheel for docstring-parser (PEP 517) ... \u001b[?25ldone\n",
      "\u001b[?25h  Created wheel for docstring-parser: filename=docstring_parser-0.12-py3-none-any.whl size=31768 sha256=919caaae2076c25f004aab54674c6e8dba1669bef845d650d7872398000f379b\n",
      "  Stored in directory: /config/.cache/pip/wheels/c0/36/1b/c7736134e84a5bd495681a5d19c7ab3daa5790983d4acc886b\n",
      "Successfully built nomad-lab python-keycloak docstring-parser\n",
      "Installing collected packages: Pint, typish, numpy, nptyping, jmespath, ase, pyasn1, rsa, ecdsa, python-jose, charset-normalizer, requests, python-keycloak, typing-extensions, pydantic, elasticsearch, elasticsearch-dsl, fastentrypoints, orjson, pyyaml, click, aniso8601, cachetools, pytz, docstring-parser, cython, nomad-lab\n",
      "\u001b[33m  WARNING: The scripts f2py, f2py3 and f2py3.8 are installed in '/config/.local/bin' which is not on PATH.\n",
      "  Consider adding this directory to PATH or, if you prefer to suppress this warning, use --no-warn-script-location.\u001b[0m\n",
      "\u001b[33m  WARNING: The scripts ase, ase-build, ase-db, ase-gui, ase-info and ase-run are installed in '/config/.local/bin' which is not on PATH.\n",
      "  Consider adding this directory to PATH or, if you prefer to suppress this warning, use --no-warn-script-location.\u001b[0m\n",
      "\u001b[33m  WARNING: The scripts pyrsa-decrypt, pyrsa-encrypt, pyrsa-keygen, pyrsa-priv2pub, pyrsa-sign and pyrsa-verify are installed in '/config/.local/bin' which is not on PATH.\n",
      "  Consider adding this directory to PATH or, if you prefer to suppress this warning, use --no-warn-script-location.\u001b[0m\n",
      "\u001b[33m  WARNING: The script normalizer is installed in '/config/.local/bin' which is not on PATH.\n",
      "  Consider adding this directory to PATH or, if you prefer to suppress this warning, use --no-warn-script-location.\u001b[0m\n",
      "\u001b[33m  WARNING: The script fastep is installed in '/config/.local/bin' which is not on PATH.\n",
      "  Consider adding this directory to PATH or, if you prefer to suppress this warning, use --no-warn-script-location.\u001b[0m\n",
      "\u001b[33m  WARNING: The scripts cygdb, cython and cythonize are installed in '/config/.local/bin' which is not on PATH.\n",
      "  Consider adding this directory to PATH or, if you prefer to suppress this warning, use --no-warn-script-location.\u001b[0m\n",
      "\u001b[33m  WARNING: The script nomad is installed in '/config/.local/bin' which is not on PATH.\n",
      "  Consider adding this directory to PATH or, if you prefer to suppress this warning, use --no-warn-script-location.\u001b[0m\n",
      "Successfully installed Pint-0.17 aniso8601-7.0.0 ase-3.19.0 cachetools-4.2.4 charset-normalizer-2.0.11 click-7.1.2 cython-0.29.27 docstring-parser-0.12 ecdsa-0.17.0 elasticsearch-6.8.2 elasticsearch-dsl-6.4.0 fastentrypoints-0.12 jmespath-0.10.0 nomad-lab-1.0.0 nptyping-1.4.4 numpy-1.21.2 orjson-3.6.0 pyasn1-0.4.8 pydantic-1.8.2 python-jose-3.3.0 python-keycloak-0.26.1 pytz-2021.1 pyyaml-6.0 requests-2.26.0 rsa-4.8 typing-extensions-4.0.1 typish-1.9.3\n",
      "Package             Version             \n",
      "------------------- --------------------\n",
      "aniso8601           7.0.0               \n",
      "ansi2html           1.6.0               \n",
      "anyio               3.4.0               \n",
      "appdirs             1.4.4               \n",
      "argon2-cffi         21.1.0              \n",
      "ase                 3.19.0              \n",
      "asteval             0.9.25              \n",
      "attrs               21.2.0              \n",
      "backcall            0.2.0               \n",
      "bleach              4.1.0               \n",
      "blinker             1.4                 \n",
      "cachetools          4.2.4               \n",
      "certifi             2019.11.28          \n",
      "cffi                1.15.0              \n",
      "chardet             3.0.4               \n",
      "charset-normalizer  2.0.11              \n",
      "click               7.1.2               \n",
      "cryptography        2.8                 \n",
      "cupshelpers         1.0                 \n",
      "cycler              0.10.0              \n",
      "Cython              0.29.27             \n",
      "dbus-python         1.2.16              \n",
      "debugpy             1.5.1               \n",
      "decorator           5.1.0               \n",
      "defer               1.0.6               \n",
      "defusedxml          0.7.1               \n",
      "Deprecated          1.2.13              \n",
      "distro              1.4.0               \n",
      "docstring-parser    0.12                \n",
      "ecdsa               0.17.0              \n",
      "elasticsearch       6.8.2               \n",
      "elasticsearch-dsl   6.4.0               \n",
      "entrypoints         0.3                 \n",
      "fabio               0.12.0              \n",
      "fastentrypoints     0.12                \n",
      "Flask               1.1.2               \n",
      "future              0.18.2              \n",
      "h5glance            0.7                 \n",
      "h5grove             0.0.8               \n",
      "h5py                3.5.0               \n",
      "hdf-compass         0.7b8               \n",
      "hdf5plugin          3.2.0               \n",
      "htmlgen             2.0.0               \n",
      "httplib2            0.14.0              \n",
      "idna                2.8                 \n",
      "importlib-resources 5.4.0               \n",
      "ipykernel           6.5.1               \n",
      "ipython             7.29.0              \n",
      "ipython-genutils    0.2.0               \n",
      "itsdangerous        2.0.1               \n",
      "jedi                0.18.1              \n",
      "Jinja2              3.0.3               \n",
      "jmespath            0.10.0              \n",
      "json5               0.9.6               \n",
      "jsonschema          4.2.1               \n",
      "jupyter-client      7.1.0               \n",
      "jupyter-core        4.9.1               \n",
      "jupyter-server      1.12.0              \n",
      "jupyterlab          2.3.0               \n",
      "jupyterlab-h5web    0.0.11              \n",
      "jupyterlab-pygments 0.1.2               \n",
      "jupyterlab-server   1.2.0               \n",
      "keyring             18.0.1              \n",
      "kiwisolver          1.0.1               \n",
      "language-selector   0.1                 \n",
      "launchpadlib        1.10.13             \n",
      "lazr.restfulclient  0.14.2              \n",
      "lazr.uri            1.0.3               \n",
      "lmfit               1.0.3               \n",
      "lxml                4.6.4               \n",
      "macaroonbakery      1.3.1               \n",
      "Mako                1.1.6               \n",
      "MarkupSafe          2.0.1               \n",
      "matplotlib          3.1.2               \n",
      "matplotlib-inline   0.1.3               \n",
      "mistune             0.8.4               \n",
      "mpi4py              3.0.3               \n",
      "nbclient            0.5.9               \n",
      "nbconvert           6.3.0               \n",
      "nbformat            5.1.3               \n",
      "nest-asyncio        1.5.1               \n",
      "NeXpy               0.14.1              \n",
      "nexusformat         0.7.1               \n",
      "nomad-lab           1.0.0               \n",
      "notebook            6.4.6               \n",
      "nptyping            1.4.4               \n",
      "numpy               1.21.2              \n",
      "oauthlib            3.1.0               \n",
      "olefile             0.46                \n",
      "orjson              3.6.0               \n",
      "packaging           21.3                \n",
      "pandocfilters       1.5.0               \n",
      "parso               0.8.2               \n",
      "pexpect             4.8.0               \n",
      "pickleshare         0.7.5               \n",
      "Pillow              7.0.0               \n",
      "Pint                0.17                \n",
      "pip                 20.0.2              \n",
      "prometheus-client   0.12.0              \n",
      "prompt-toolkit      3.0.22              \n",
      "protobuf            3.6.1               \n",
      "ptyprocess          0.7.0               \n",
      "punx                0.2.5               \n",
      "pyasn1              0.4.8               \n",
      "pycairo             1.16.2              \n",
      "pycparser           2.21                \n",
      "pycups              1.9.73              \n",
      "pydantic            1.8.2               \n",
      "PyGithub            1.55                \n",
      "Pygments            2.10.0              \n",
      "PyGObject           3.36.0              \n",
      "PyJWT               2.3.0               \n",
      "pylatexenc          2.10                \n",
      "pymacaroons         0.13.0              \n",
      "PyNaCl              1.4.0               \n",
      "pyopencl            2021.2.9            \n",
      "PyOpenGL            3.1.5               \n",
      "pyparsing           2.4.6               \n",
      "PyQt5               5.15.6              \n",
      "PyQt5-Qt5           5.15.2              \n",
      "PyQt5-sip           12.9.0              \n",
      "pyRestTable         2020.0.3            \n",
      "pyRFC3339           1.1                 \n",
      "pyrsistent          0.18.0              \n",
      "python-apt          2.0.0+ubuntu0.20.4.6\n",
      "python-dateutil     2.7.3               \n",
      "python-jose         3.3.0               \n",
      "python-keycloak     0.26.1              \n",
      "pytools             2021.2.9            \n",
      "pytz                2021.1              \n",
      "PyYAML              6.0                 \n",
      "pyzmq               22.3.0              \n",
      "qtconsole           5.2.1               \n",
      "QtPy                1.11.2              \n",
      "requests            2.26.0              \n",
      "requests-unixsocket 0.2.0               \n",
      "rsa                 4.8                 \n",
      "scipy               1.7.2               \n",
      "SecretStorage       2.3.1               \n",
      "Send2Trash          1.8.0               \n",
      "setuptools          45.2.0              \n",
      "silx                0.15.2              \n",
      "simplejson          3.16.0              \n",
      "sip                 4.19.21             \n",
      "six                 1.14.0              \n",
      "sniffio             1.2.0               \n",
      "systemd-python      234                 \n",
      "terminado           0.12.1              \n",
      "testpath            0.5.0               \n",
      "tornado             6.1                 \n",
      "traitlets           5.1.1               \n",
      "typing-extensions   4.0.1               \n",
      "typish              1.9.3               \n",
      "uncertainties       3.1.6               \n",
      "urllib3             1.25.8              \n",
      "versioneer          0.21                \n",
      "wadllib             1.3.3               \n",
      "wcwidth             0.2.5               \n",
      "webencodings        0.5.1               \n",
      "websocket-client    1.2.1               \n",
      "Werkzeug            2.0.2               \n",
      "wheel               0.34.2              \n",
      "wrapt               1.13.3              \n",
      "wxPython            4.0.7               \n",
      "zipp                3.6.0               \n"
     ]
    }
   ],
   "source": [
    "! pip install --upgrade pip && pip install nomad-lab==1.0.0 --extra-index-url https://gitlab.mpcdf.mpg.de/api/v4/projects/2187/packages/pypi/simple\n",
    "! pip list"
   ]
  },
  {
   "cell_type": "code",
   "execution_count": 2,
   "metadata": {
    "tags": []
   },
   "outputs": [
    {
     "name": "stdout",
     "output_type": "stream",
     "text": [
      "Cloning into 'parser-nexus'...\n",
      "remote: Enumerating objects: 1516, done.\u001b[K\n",
      "remote: Counting objects: 100% (1516/1516), done.\u001b[K\n",
      "remote: Compressing objects: 100% (780/780), done.\u001b[K\n",
      "remote: Total 1516 (delta 911), reused 1253 (delta 652), pack-reused 0\u001b[K\n",
      "Receiving objects: 100% (1516/1516), 3.24 MiB | 9.27 MiB/s, done.\n",
      "Resolving deltas: 100% (911/911), done.\n",
      "Submodule 'nexusparser/definitions' (https://github.com/FAIRmat-Experimental/nexus_definitions.git) registered for path 'nexusparser/definitions'\n",
      "Cloning into '/home/cemm/NOMAD/parser-nexus/nexusparser/definitions'...\n",
      "remote: Enumerating objects: 28146, done.        \n",
      "remote: Counting objects: 100% (1750/1750), done.        \n",
      "remote: Compressing objects: 100% (712/712), done.        \n",
      "remote: Total 28146 (delta 1371), reused 1327 (delta 1021), pack-reused 26396        \n",
      "Receiving objects: 100% (28146/28146), 162.77 MiB | 9.10 MiB/s, done.\n",
      "Resolving deltas: 100% (20535/20535), done.\n",
      "Submodule path 'nexusparser/definitions': checked out '2798f71ea3099c3c20a2f7dc11b05074cc8fa8e3'\n",
      "On branch yaml2nxdl\n",
      "Your branch is up to date with 'origin/yaml2nxdl'.\n",
      "\n",
      "nothing to commit, working tree clean\n",
      "Requirement already satisfied: click==7.1.2 in /home/cemm/NOMAD/test/.py37env/lib/python3.7/site-packages (from -r requirements.txt (line 1)) (7.1.2)\n",
      "Requirement already satisfied: lxml==4.7.1 in /home/cemm/NOMAD/test/.py37env/lib/python3.7/site-packages (from -r requirements.txt (line 2)) (4.7.1)\n",
      "Collecting mypy==0.730\n",
      "  Using cached mypy-0.730-cp37-cp37m-manylinux1_x86_64.whl (22.8 MB)\n",
      "Collecting pylint==2.3.1\n",
      "  Using cached pylint-2.3.1-py3-none-any.whl (765 kB)\n",
      "Collecting pylint_plugin_utils==0.5\n",
      "  Using cached pylint_plugin_utils-0.5-py3-none-any.whl\n",
      "Collecting pycodestyle==2.8.0\n",
      "  Using cached pycodestyle-2.8.0-py2.py3-none-any.whl (42 kB)\n",
      "Collecting pytest==3.10.0\n",
      "  Using cached pytest-3.10.0-py2.py3-none-any.whl (216 kB)\n",
      "Collecting pytest-timeout==1.4.2\n",
      "  Using cached pytest_timeout-1.4.2-py2.py3-none-any.whl (10 kB)\n",
      "Collecting pytest-cov==2.7.1\n",
      "  Using cached pytest_cov-2.7.1-py2.py3-none-any.whl (17 kB)\n",
      "Collecting h5py==3.6.0\n",
      "  Using cached h5py-3.6.0-cp37-cp37m-manylinux_2_12_x86_64.manylinux2010_x86_64.whl (4.1 MB)\n",
      "Collecting python-json-logger==2.0.2\n",
      "  Using cached python_json_logger-2.0.2-py3-none-any.whl (7.4 kB)\n",
      "Collecting xarray==0.20.2\n",
      "  Using cached xarray-0.20.2-py3-none-any.whl (845 kB)\n",
      "Collecting pyaml==21.10.1\n",
      "  Using cached pyaml-21.10.1-py2.py3-none-any.whl (24 kB)\n",
      "Requirement already satisfied: numpy==1.21.2 in /home/cemm/NOMAD/test/.py37env/lib/python3.7/site-packages (from -r requirements.txt (line 14)) (1.21.2)\n",
      "Collecting pandas==1.3.5\n",
      "  Using cached pandas-1.3.5-cp37-cp37m-manylinux_2_17_x86_64.manylinux2014_x86_64.whl (11.3 MB)\n",
      "Collecting odfpy==1.4.1\n",
      "  Downloading odfpy-1.4.1.tar.gz (717 kB)\n",
      "     |████████████████████████████████| 717 kB 2.3 MB/s            \n",
      "\u001b[?25h  Preparing metadata (setup.py) ... \u001b[?25ldone\n",
      "\u001b[?25hRequirement already satisfied: ase==3.19.0 in /home/cemm/NOMAD/test/.py37env/lib/python3.7/site-packages (from -r requirements.txt (line 17)) (3.19.0)\n",
      "Collecting typed-ast<1.5.0,>=1.4.0\n",
      "  Using cached typed_ast-1.4.3-cp37-cp37m-manylinux1_x86_64.whl (743 kB)\n",
      "Requirement already satisfied: typing-extensions>=3.7.4 in /home/cemm/NOMAD/test/.py37env/lib/python3.7/site-packages (from mypy==0.730->-r requirements.txt (line 3)) (4.0.1)\n",
      "Collecting mypy-extensions<0.5.0,>=0.4.0\n",
      "  Using cached mypy_extensions-0.4.3-py2.py3-none-any.whl (4.5 kB)\n",
      "Collecting mccabe<0.7,>=0.6\n",
      "  Using cached mccabe-0.6.1-py2.py3-none-any.whl (8.6 kB)\n",
      "Collecting isort<5,>=4.2.5\n",
      "  Using cached isort-4.3.21-py2.py3-none-any.whl (42 kB)\n",
      "Collecting astroid<3,>=2.2.0\n",
      "  Using cached astroid-2.9.3-py3-none-any.whl (254 kB)\n",
      "Collecting py>=1.5.0\n",
      "  Using cached py-1.11.0-py2.py3-none-any.whl (98 kB)\n",
      "Collecting pluggy>=0.7\n",
      "  Using cached pluggy-1.0.0-py2.py3-none-any.whl (13 kB)\n",
      "Requirement already satisfied: setuptools in /home/cemm/NOMAD/test/.py37env/lib/python3.7/site-packages (from pytest==3.10.0->-r requirements.txt (line 7)) (44.0.0)\n",
      "Requirement already satisfied: attrs>=17.4.0 in /home/cemm/NOMAD/test/.py37env/lib/python3.7/site-packages (from pytest==3.10.0->-r requirements.txt (line 7)) (21.4.0)\n",
      "Collecting more-itertools>=4.0.0\n",
      "  Using cached more_itertools-8.12.0-py3-none-any.whl (54 kB)\n",
      "Collecting atomicwrites>=1.0\n",
      "  Using cached atomicwrites-1.4.0-py2.py3-none-any.whl (6.8 kB)\n",
      "Requirement already satisfied: six>=1.10.0 in /home/cemm/NOMAD/test/.py37env/lib/python3.7/site-packages (from pytest==3.10.0->-r requirements.txt (line 7)) (1.16.0)\n",
      "Collecting coverage>=4.4\n",
      "  Downloading coverage-6.3-cp37-cp37m-manylinux_2_5_x86_64.manylinux1_x86_64.manylinux_2_17_x86_64.manylinux2014_x86_64.whl (207 kB)\n",
      "     |████████████████████████████████| 207 kB 9.6 MB/s            \n",
      "\u001b[?25hRequirement already satisfied: cached-property in /home/cemm/NOMAD/test/.py37env/lib/python3.7/site-packages (from h5py==3.6.0->-r requirements.txt (line 10)) (1.5.2)\n",
      "Requirement already satisfied: importlib-metadata in /home/cemm/NOMAD/test/.py37env/lib/python3.7/site-packages (from xarray==0.20.2->-r requirements.txt (line 12)) (4.10.1)\n",
      "Requirement already satisfied: PyYAML in /home/cemm/NOMAD/test/.py37env/lib/python3.7/site-packages (from pyaml==21.10.1->-r requirements.txt (line 13)) (6.0)\n",
      "Requirement already satisfied: pytz>=2017.3 in /home/cemm/NOMAD/test/.py37env/lib/python3.7/site-packages (from pandas==1.3.5->-r requirements.txt (line 15)) (2021.1)\n",
      "Requirement already satisfied: python-dateutil>=2.7.3 in /home/cemm/NOMAD/test/.py37env/lib/python3.7/site-packages (from pandas==1.3.5->-r requirements.txt (line 15)) (2.8.2)\n",
      "Requirement already satisfied: defusedxml in /home/cemm/NOMAD/test/.py37env/lib/python3.7/site-packages (from odfpy==1.4.1->-r requirements.txt (line 16)) (0.7.1)\n",
      "Requirement already satisfied: matplotlib in /home/cemm/NOMAD/test/.py37env/lib/python3.7/site-packages (from ase==3.19.0->-r requirements.txt (line 17)) (3.5.1)\n",
      "Requirement already satisfied: scipy in /home/cemm/NOMAD/test/.py37env/lib/python3.7/site-packages (from ase==3.19.0->-r requirements.txt (line 17)) (1.7.3)\n",
      "Collecting lazy-object-proxy>=1.4.0\n",
      "  Using cached lazy_object_proxy-1.7.1-cp37-cp37m-manylinux_2_5_x86_64.manylinux1_x86_64.manylinux_2_17_x86_64.manylinux2014_x86_64.whl (57 kB)\n",
      "Requirement already satisfied: wrapt<1.14,>=1.11 in /home/cemm/NOMAD/test/.py37env/lib/python3.7/site-packages (from astroid<3,>=2.2.0->pylint==2.3.1->-r requirements.txt (line 4)) (1.13.3)\n",
      "Requirement already satisfied: zipp>=0.5 in /home/cemm/NOMAD/test/.py37env/lib/python3.7/site-packages (from importlib-metadata->xarray==0.20.2->-r requirements.txt (line 12)) (3.7.0)\n",
      "Requirement already satisfied: cycler>=0.10 in /home/cemm/NOMAD/test/.py37env/lib/python3.7/site-packages (from matplotlib->ase==3.19.0->-r requirements.txt (line 17)) (0.11.0)\n",
      "Requirement already satisfied: fonttools>=4.22.0 in /home/cemm/NOMAD/test/.py37env/lib/python3.7/site-packages (from matplotlib->ase==3.19.0->-r requirements.txt (line 17)) (4.29.0)\n",
      "Requirement already satisfied: pillow>=6.2.0 in /home/cemm/NOMAD/test/.py37env/lib/python3.7/site-packages (from matplotlib->ase==3.19.0->-r requirements.txt (line 17)) (9.0.0)\n",
      "Requirement already satisfied: packaging>=20.0 in /home/cemm/NOMAD/test/.py37env/lib/python3.7/site-packages (from matplotlib->ase==3.19.0->-r requirements.txt (line 17)) (21.3)\n",
      "Requirement already satisfied: pyparsing>=2.2.1 in /home/cemm/NOMAD/test/.py37env/lib/python3.7/site-packages (from matplotlib->ase==3.19.0->-r requirements.txt (line 17)) (3.0.7)\n",
      "Requirement already satisfied: kiwisolver>=1.0.1 in /home/cemm/NOMAD/test/.py37env/lib/python3.7/site-packages (from matplotlib->ase==3.19.0->-r requirements.txt (line 17)) (1.3.2)\n",
      "Building wheels for collected packages: odfpy\n",
      "  Building wheel for odfpy (setup.py) ... \u001b[?25ldone\n",
      "\u001b[?25h  Created wheel for odfpy: filename=odfpy-1.4.1-py2.py3-none-any.whl size=160692 sha256=41dfa89fa978a3ae5f0513c823e3cb8117c7d0a479d3273dc3a82f14008c90ea\n",
      "  Stored in directory: /home/cemm/.cache/pip/wheels/e2/f4/5d/a68c656235d33455a1d0f78e877acddfa006907a6d52d7e6ee\n",
      "Successfully built odfpy\n",
      "Installing collected packages: typed-ast, lazy-object-proxy, py, pluggy, more-itertools, mccabe, isort, atomicwrites, astroid, pytest, pylint, pandas, mypy-extensions, coverage, xarray, python-json-logger, pytest-timeout, pytest-cov, pylint-plugin-utils, pycodestyle, pyaml, odfpy, mypy, h5py\n",
      "  Attempting uninstall: h5py\n",
      "    Found existing installation: h5py 3.5.0\n",
      "    Uninstalling h5py-3.5.0:\n",
      "      Successfully uninstalled h5py-3.5.0\n",
      "Successfully installed astroid-2.9.3 atomicwrites-1.4.0 coverage-6.3 h5py-3.6.0 isort-4.3.21 lazy-object-proxy-1.7.1 mccabe-0.6.1 more-itertools-8.12.0 mypy-0.730 mypy-extensions-0.4.3 odfpy-1.4.1 pandas-1.3.5 pluggy-1.0.0 py-1.11.0 pyaml-21.10.1 pycodestyle-2.8.0 pylint-2.3.1 pylint-plugin-utils-0.5 pytest-3.10.0 pytest-cov-2.7.1 pytest-timeout-1.4.2 python-json-logger-2.0.2 typed-ast-1.4.3 xarray-0.20.2\n"
     ]
    }
   ],
   "source": [
    "#! git clone https://github.com/nomad-coe/nomad-parser-nexus.git --branch yaml2nxdl --recursive parser-nexus && cd parser-nexus && git status && pip install -r requirements.txt\n",
    "# once yaml2nxdl was merged with master\n",
    "! git clone https://github.com/nomad-coe/nomad-parser-nexus.git --recursive parser-nexus && cd parser-nexus && git status && pip install -r requirements.txt"
   ]
  },
  {
   "cell_type": "code",
   "execution_count": 17,
   "metadata": {},
   "outputs": [
    {
     "name": "stdout",
     "output_type": "stream",
     "text": [
      "Cloning into 'nomad-parser-nexus'...\n",
      "remote: Enumerating objects: 557, done.\u001b[K\n",
      "remote: Counting objects: 100% (557/557), done.\u001b[K\n",
      "remote: Compressing objects: 100% (323/323), done.\u001b[K\n",
      "remote: Total 557 (delta 288), reused 431 (delta 190), pack-reused 0\u001b[K\n",
      "Receiving objects: 100% (557/557), 2.68 MiB | 2.79 MiB/s, done.\n",
      "Resolving deltas: 100% (288/288), done.\n",
      "Submodule 'nexusparser/definitions' (https://github.com/FAIRmat-Experimental/nexus_definitions.git) registered for path 'nexusparser/definitions'\n",
      "Cloning into '/config/uploads/Cx8OO3caSGWXRSwGjhZUFQ/nomad-parser-nexus/nexusparser/definitions'...\n",
      "remote: Enumerating objects: 28154, done.        \n",
      "remote: Counting objects: 100% (1758/1758), done.        \n",
      "remote: Compressing objects: 100% (720/720), done.        \n",
      "remote: Total 28154 (delta 1377), reused 1330 (delta 1021), pack-reused 26396        \n",
      "Receiving objects: 100% (28154/28154), 162.78 MiB | 4.28 MiB/s, done.\n",
      "Resolving deltas: 100% (20540/20540), done.\n",
      "Submodule path 'nexusparser/definitions': checked out '2798f71ea3099c3c20a2f7dc11b05074cc8fa8e3'\n",
      "On branch master\n",
      "Your branch is up to date with 'origin/master'.\n",
      "\n",
      "nothing to commit, working tree clean\n",
      "Requirement already satisfied: click==7.1.2 in /config/.local/lib/python3.8/site-packages (from -r requirements.txt (line 1)) (7.1.2)\n",
      "Requirement already satisfied: lxml==4.7.1 in /config/.local/lib/python3.8/site-packages (from -r requirements.txt (line 2)) (4.7.1)\n",
      "Requirement already satisfied: mypy==0.730 in /config/.local/lib/python3.8/site-packages (from -r requirements.txt (line 3)) (0.730)\n",
      "Requirement already satisfied: pylint==2.3.1 in /config/.local/lib/python3.8/site-packages (from -r requirements.txt (line 4)) (2.3.1)\n",
      "Requirement already satisfied: pylint_plugin_utils==0.5 in /config/.local/lib/python3.8/site-packages (from -r requirements.txt (line 5)) (0.5)\n",
      "Requirement already satisfied: pycodestyle==2.8.0 in /config/.local/lib/python3.8/site-packages (from -r requirements.txt (line 6)) (2.8.0)\n",
      "Requirement already satisfied: pytest==3.10.0 in /config/.local/lib/python3.8/site-packages (from -r requirements.txt (line 7)) (3.10.0)\n",
      "Requirement already satisfied: pytest-timeout==1.4.2 in /config/.local/lib/python3.8/site-packages (from -r requirements.txt (line 8)) (1.4.2)\n",
      "Requirement already satisfied: pytest-cov==2.7.1 in /config/.local/lib/python3.8/site-packages (from -r requirements.txt (line 9)) (2.7.1)\n",
      "Requirement already satisfied: h5py==3.6.0 in /config/.local/lib/python3.8/site-packages (from -r requirements.txt (line 10)) (3.6.0)\n",
      "Requirement already satisfied: python-json-logger==2.0.2 in /config/.local/lib/python3.8/site-packages (from -r requirements.txt (line 11)) (2.0.2)\n",
      "Requirement already satisfied: xarray==0.20.2 in /config/.local/lib/python3.8/site-packages (from -r requirements.txt (line 12)) (0.20.2)\n",
      "Requirement already satisfied: pyaml==21.10.1 in /config/.local/lib/python3.8/site-packages (from -r requirements.txt (line 13)) (21.10.1)\n",
      "Requirement already satisfied: numpy==1.21.2 in /config/.local/lib/python3.8/site-packages (from -r requirements.txt (line 14)) (1.21.2)\n",
      "Requirement already satisfied: pandas==1.3.5 in /config/.local/lib/python3.8/site-packages (from -r requirements.txt (line 15)) (1.3.5)\n",
      "Requirement already satisfied: odfpy==1.4.1 in /config/.local/lib/python3.8/site-packages (from -r requirements.txt (line 16)) (1.4.1)\n",
      "Requirement already satisfied: ase==3.19.0 in /config/.local/lib/python3.8/site-packages (from -r requirements.txt (line 17)) (3.19.0)\n",
      "Requirement already satisfied: mypy-extensions<0.5.0,>=0.4.0 in /config/.local/lib/python3.8/site-packages (from mypy==0.730->-r requirements.txt (line 3)) (0.4.3)\n",
      "Requirement already satisfied: typing-extensions>=3.7.4 in /config/.local/lib/python3.8/site-packages (from mypy==0.730->-r requirements.txt (line 3)) (4.0.1)\n",
      "Requirement already satisfied: typed-ast<1.5.0,>=1.4.0 in /config/.local/lib/python3.8/site-packages (from mypy==0.730->-r requirements.txt (line 3)) (1.4.3)\n",
      "Requirement already satisfied: isort<5,>=4.2.5 in /config/.local/lib/python3.8/site-packages (from pylint==2.3.1->-r requirements.txt (line 4)) (4.3.21)\n",
      "Requirement already satisfied: mccabe<0.7,>=0.6 in /config/.local/lib/python3.8/site-packages (from pylint==2.3.1->-r requirements.txt (line 4)) (0.6.1)\n",
      "Requirement already satisfied: astroid<3,>=2.2.0 in /config/.local/lib/python3.8/site-packages (from pylint==2.3.1->-r requirements.txt (line 4)) (2.9.3)\n",
      "Requirement already satisfied: more-itertools>=4.0.0 in /config/.local/lib/python3.8/site-packages (from pytest==3.10.0->-r requirements.txt (line 7)) (8.12.0)\n",
      "Requirement already satisfied: py>=1.5.0 in /config/.local/lib/python3.8/site-packages (from pytest==3.10.0->-r requirements.txt (line 7)) (1.11.0)\n",
      "Requirement already satisfied: pluggy>=0.7 in /config/.local/lib/python3.8/site-packages (from pytest==3.10.0->-r requirements.txt (line 7)) (1.0.0)\n",
      "Requirement already satisfied: attrs>=17.4.0 in /usr/local/lib/python3.8/dist-packages (from pytest==3.10.0->-r requirements.txt (line 7)) (21.2.0)\n",
      "Requirement already satisfied: setuptools in /usr/lib/python3/dist-packages (from pytest==3.10.0->-r requirements.txt (line 7)) (45.2.0)\n",
      "Requirement already satisfied: atomicwrites>=1.0 in /config/.local/lib/python3.8/site-packages (from pytest==3.10.0->-r requirements.txt (line 7)) (1.4.0)\n",
      "Requirement already satisfied: six>=1.10.0 in /usr/lib/python3/dist-packages (from pytest==3.10.0->-r requirements.txt (line 7)) (1.14.0)\n",
      "Requirement already satisfied: coverage>=4.4 in /config/.local/lib/python3.8/site-packages (from pytest-cov==2.7.1->-r requirements.txt (line 9)) (6.3.1)\n",
      "Requirement already satisfied: PyYAML in /config/.local/lib/python3.8/site-packages (from pyaml==21.10.1->-r requirements.txt (line 13)) (6.0)\n",
      "Requirement already satisfied: python-dateutil>=2.7.3 in /usr/lib/python3/dist-packages (from pandas==1.3.5->-r requirements.txt (line 15)) (2.7.3)\n",
      "Requirement already satisfied: pytz>=2017.3 in /config/.local/lib/python3.8/site-packages (from pandas==1.3.5->-r requirements.txt (line 15)) (2021.1)\n",
      "Requirement already satisfied: defusedxml in /usr/local/lib/python3.8/dist-packages (from odfpy==1.4.1->-r requirements.txt (line 16)) (0.7.1)\n",
      "Requirement already satisfied: scipy in /usr/local/lib/python3.8/dist-packages (from ase==3.19.0->-r requirements.txt (line 17)) (1.7.2)\n",
      "Requirement already satisfied: matplotlib in /usr/lib/python3/dist-packages (from ase==3.19.0->-r requirements.txt (line 17)) (3.1.2)\n",
      "Requirement already satisfied: lazy-object-proxy>=1.4.0 in /config/.local/lib/python3.8/site-packages (from astroid<3,>=2.2.0->pylint==2.3.1->-r requirements.txt (line 4)) (1.7.1)\n",
      "Requirement already satisfied: wrapt<1.14,>=1.11 in /usr/local/lib/python3.8/dist-packages (from astroid<3,>=2.2.0->pylint==2.3.1->-r requirements.txt (line 4)) (1.13.3)\n"
     ]
    }
   ],
   "source": [
    "# ! cd parser-nexus && git status && git pull && pip install -r requirements.txt\n",
    "! git clone https://github.com/nomad-coe/nomad-parser-nexus.git --recursive && cd nomad-parser-nexus && git status && pip install -r requirements.txt"
   ]
  },
  {
   "cell_type": "code",
   "execution_count": 3,
   "metadata": {
    "tags": []
   },
   "outputs": [
    {
     "name": "stdout",
     "output_type": "stream",
     "text": [
      "Obtaining file:///config/uploads/Cx8OO3caSGWXRSwGjhZUFQ/parser-nexus\n",
      "\u001b[33m  WARNING: nexusparser 1.0 does not provide the extra 'all'\u001b[0m\n",
      "Requirement already satisfied: click in /config/.local/lib/python3.8/site-packages (from nexusparser==1.0) (7.1.2)\n",
      "Requirement already satisfied: h5py in /config/.local/lib/python3.8/site-packages (from nexusparser==1.0) (3.6.0)\n",
      "Requirement already satisfied: lxml in /config/.local/lib/python3.8/site-packages (from nexusparser==1.0) (4.7.1)\n",
      "Requirement already satisfied: nomad-lab in /config/.local/lib/python3.8/site-packages (from nexusparser==1.0) (1.0.0)\n",
      "Requirement already satisfied: numpy>=1.14.5 in /config/.local/lib/python3.8/site-packages (from h5py->nexusparser==1.0) (1.21.2)\n",
      "Requirement already satisfied: python-keycloak==0.26.1 in /config/.local/lib/python3.8/site-packages (from nomad-lab->nexusparser==1.0) (0.26.1)\n",
      "Requirement already satisfied: docstring-parser==0.12 in /config/.local/lib/python3.8/site-packages (from nomad-lab->nexusparser==1.0) (0.12)\n",
      "Requirement already satisfied: jmespath==0.10.0 in /config/.local/lib/python3.8/site-packages (from nomad-lab->nexusparser==1.0) (0.10.0)\n",
      "Requirement already satisfied: cachetools==4.2.4 in /config/.local/lib/python3.8/site-packages (from nomad-lab->nexusparser==1.0) (4.2.4)\n",
      "Requirement already satisfied: Pint==0.17 in /config/.local/lib/python3.8/site-packages (from nomad-lab->nexusparser==1.0) (0.17)\n",
      "Requirement already satisfied: pip in /usr/lib/python3/dist-packages (from nomad-lab->nexusparser==1.0) (20.0.2)\n",
      "Requirement already satisfied: future==0.18.2 in /usr/local/lib/python3.8/dist-packages (from nomad-lab->nexusparser==1.0) (0.18.2)\n",
      "Requirement already satisfied: orjson==3.6.0 in /config/.local/lib/python3.8/site-packages (from nomad-lab->nexusparser==1.0) (3.6.0)\n",
      "Requirement already satisfied: pydantic==1.8.2 in /config/.local/lib/python3.8/site-packages (from nomad-lab->nexusparser==1.0) (1.8.2)\n",
      "Requirement already satisfied: fastentrypoints==0.12 in /config/.local/lib/python3.8/site-packages (from nomad-lab->nexusparser==1.0) (0.12)\n",
      "Requirement already satisfied: pytz==2021.1 in /config/.local/lib/python3.8/site-packages (from nomad-lab->nexusparser==1.0) (2021.1)\n",
      "Requirement already satisfied: pyyaml==6.0 in /config/.local/lib/python3.8/site-packages (from nomad-lab->nexusparser==1.0) (6.0)\n",
      "Requirement already satisfied: nptyping==1.4.4 in /config/.local/lib/python3.8/site-packages (from nomad-lab->nexusparser==1.0) (1.4.4)\n",
      "Requirement already satisfied: cython>=0.19 in /config/.local/lib/python3.8/site-packages (from nomad-lab->nexusparser==1.0) (0.29.27)\n",
      "Requirement already satisfied: ase==3.19.0 in /config/.local/lib/python3.8/site-packages (from nomad-lab->nexusparser==1.0) (3.19.0)\n",
      "Requirement already satisfied: wheel in /usr/lib/python3/dist-packages (from nomad-lab->nexusparser==1.0) (0.34.2)\n",
      "Requirement already satisfied: requests==2.26.0 in /config/.local/lib/python3.8/site-packages (from nomad-lab->nexusparser==1.0) (2.26.0)\n",
      "Requirement already satisfied: elasticsearch-dsl==6.4.0 in /config/.local/lib/python3.8/site-packages (from nomad-lab->nexusparser==1.0) (6.4.0)\n",
      "Requirement already satisfied: aniso8601==7.0.0 in /config/.local/lib/python3.8/site-packages (from nomad-lab->nexusparser==1.0) (7.0.0)\n",
      "Requirement already satisfied: python-jose>=1.4.0 in /config/.local/lib/python3.8/site-packages (from python-keycloak==0.26.1->nomad-lab->nexusparser==1.0) (3.3.0)\n",
      "Requirement already satisfied: packaging in /usr/local/lib/python3.8/dist-packages (from Pint==0.17->nomad-lab->nexusparser==1.0) (21.3)\n",
      "Requirement already satisfied: typing-extensions>=3.7.4.3 in /config/.local/lib/python3.8/site-packages (from pydantic==1.8.2->nomad-lab->nexusparser==1.0) (4.0.1)\n",
      "Requirement already satisfied: typish>=1.7.0 in /config/.local/lib/python3.8/site-packages (from nptyping==1.4.4->nomad-lab->nexusparser==1.0) (1.9.3)\n",
      "Requirement already satisfied: scipy in /usr/local/lib/python3.8/dist-packages (from ase==3.19.0->nomad-lab->nexusparser==1.0) (1.7.2)\n",
      "Requirement already satisfied: matplotlib in /usr/lib/python3/dist-packages (from ase==3.19.0->nomad-lab->nexusparser==1.0) (3.1.2)\n",
      "Requirement already satisfied: urllib3<1.27,>=1.21.1 in /usr/lib/python3/dist-packages (from requests==2.26.0->nomad-lab->nexusparser==1.0) (1.25.8)\n",
      "Requirement already satisfied: idna<4,>=2.5; python_version >= \"3\" in /usr/lib/python3/dist-packages (from requests==2.26.0->nomad-lab->nexusparser==1.0) (2.8)\n",
      "Requirement already satisfied: charset-normalizer~=2.0.0; python_version >= \"3\" in /config/.local/lib/python3.8/site-packages (from requests==2.26.0->nomad-lab->nexusparser==1.0) (2.0.11)\n",
      "Requirement already satisfied: certifi>=2017.4.17 in /usr/lib/python3/dist-packages (from requests==2.26.0->nomad-lab->nexusparser==1.0) (2019.11.28)\n",
      "Requirement already satisfied: six in /usr/lib/python3/dist-packages (from elasticsearch-dsl==6.4.0->nomad-lab->nexusparser==1.0) (1.14.0)\n",
      "Requirement already satisfied: python-dateutil in /usr/lib/python3/dist-packages (from elasticsearch-dsl==6.4.0->nomad-lab->nexusparser==1.0) (2.7.3)\n",
      "Requirement already satisfied: elasticsearch<7.0.0,>=6.0.0 in /config/.local/lib/python3.8/site-packages (from elasticsearch-dsl==6.4.0->nomad-lab->nexusparser==1.0) (6.8.2)\n",
      "Requirement already satisfied: pyasn1 in /config/.local/lib/python3.8/site-packages (from python-jose>=1.4.0->python-keycloak==0.26.1->nomad-lab->nexusparser==1.0) (0.4.8)\n",
      "Requirement already satisfied: ecdsa!=0.15 in /config/.local/lib/python3.8/site-packages (from python-jose>=1.4.0->python-keycloak==0.26.1->nomad-lab->nexusparser==1.0) (0.17.0)\n",
      "Requirement already satisfied: rsa in /config/.local/lib/python3.8/site-packages (from python-jose>=1.4.0->python-keycloak==0.26.1->nomad-lab->nexusparser==1.0) (4.8)\n",
      "Requirement already satisfied: pyparsing!=3.0.5,>=2.0.2 in /usr/lib/python3/dist-packages (from packaging->Pint==0.17->nomad-lab->nexusparser==1.0) (2.4.6)\n",
      "Installing collected packages: nexusparser\n",
      "  Running setup.py develop for nexusparser\n",
      "Successfully installed nexusparser\n",
      "nomad-lab           1.0.0                \n",
      "nexusformat         0.7.1                \n",
      "nexusparser         1.0                  /config/uploads/Cx8OO3caSGWXRSwGjhZUFQ/parser-nexus\n"
     ]
    }
   ],
   "source": [
    "! cd parser-nexus && pip install -e .[all]\n",
    "! pip list | grep nomad*\n",
    "! pip list | grep nexus*"
   ]
  },
  {
   "cell_type": "code",
   "execution_count": 3,
   "metadata": {},
   "outputs": [],
   "source": [
    "# in the above cells clear redundant commands based on todays history\n",
    "#! cd parser-nexus && python3 -m pytest -sv tests"
   ]
  },
  {
   "cell_type": "code",
   "execution_count": null,
   "metadata": {},
   "outputs": [],
   "source": [
    "# this cell restarts the kernel automaticlly to find nexusparser\n",
    "import os\n",
    "os._exit(00)"
   ]
  },
  {
   "cell_type": "code",
   "execution_count": 8,
   "metadata": {},
   "outputs": [
    {
     "name": "stdout",
     "output_type": "stream",
     "text": [
      "[Errno 2] No such file or directory: 'nomad-parser-nexus'\n",
      "/config/uploads/Cx8OO3caSGWXRSwGjhZUFQ/nomad-parser-nexus\n"
     ]
    }
   ],
   "source": [
    "%cd nomad-parser-nexus"
   ]
  },
  {
   "cell_type": "code",
   "execution_count": 9,
   "metadata": {},
   "outputs": [
    {
     "name": "stdout",
     "output_type": "stream",
     "text": [
      "/config/uploads/Cx8OO3caSGWXRSwGjhZUFQ/nomad-parser-nexus/nexusparser\n",
      "/config/uploads/Cx8OO3caSGWXRSwGjhZUFQ/nomad-parser-nexus/nexusparser/../../nomad-parser-nexus/tests\n"
     ]
    }
   ],
   "source": [
    "import os\n",
    "import nexusparser\n",
    "nexus_dir = os.path.dirname(nexusparser.__file__)  # where the nexusparser module is located!!!!\n",
    "nexus_tests_dir = nexus_dir+\"/../../nomad-parser-nexus/tests\"  # where the tests are located located!!!!\n",
    "print(nexus_dir)\n",
    "print(nexus_tests_dir)\n",
    "# data_dir = nexus_dir + '/../tests/data/tools/dataconverter/readers/apm' + '/'\n",
    "# print(data_dir)"
   ]
  },
  {
   "cell_type": "markdown",
   "metadata": {
    "tags": []
   },
   "source": [
    "### Step 1: Download example data for Ellipsometry"
   ]
  },
  {
   "cell_type": "code",
   "execution_count": 10,
   "metadata": {},
   "outputs": [
    {
     "data": {
      "text/plain": [
       "'/config/uploads/Cx8OO3caSGWXRSwGjhZUFQ/nomad-parser-nexus'"
      ]
     },
     "execution_count": 10,
     "metadata": {},
     "output_type": "execute_result"
    }
   ],
   "source": [
    "# inspect the directory where this example gets stored\n",
    "os.getcwd()"
   ]
  },
  {
   "cell_type": "markdown",
   "metadata": {
    "tags": []
   },
   "source": [
    "### Step 2: Run your ellipsometry-specific dataconverter/readers/ on example data"
   ]
  },
  {
   "cell_type": "code",
   "execution_count": 12,
   "metadata": {
    "tags": []
   },
   "outputs": [
    {
     "name": "stdout",
     "output_type": "stream",
     "text": [
      "Using ellips reader to convert the given files:  \n",
      "• /config/uploads/Cx8OO3caSGWXRSwGjhZUFQ/nomad-parser-nexus/nexusparser/../../nomad-parser-nexus/tests/data/tools/dataconverter/readers/ellips/test.yaml \n",
      "The output file generated: ../ellips.test.nxs\n"
     ]
    }
   ],
   "source": [
    "! python3 {nexus_dir}/tools/dataconverter/convert.py \\\n",
    "--reader ellips \\\n",
    "--nxdl {nexus_dir}/definitions/applications/NXellipsometry.nxdl.xml \\\n",
    "--input-file {nexus_tests_dir}/data/tools/dataconverter/readers/ellips/test.yaml \\\n",
    "--output ../ellips.test.nxs"
   ]
  },
  {
   "cell_type": "markdown",
   "metadata": {},
   "source": [
    "**The key take home message is that the above-specified command triggers the automatic creation of the HDF5 file. This *.nxs file, is an HDF5 file."
   ]
  },
  {
   "cell_type": "markdown",
   "metadata": {},
   "source": [
    "### Step 3: Inspect the HDF5/NeXus file apm.test.nxs using H5Web"
   ]
  },
  {
   "cell_type": "code",
   "execution_count": 5,
   "metadata": {},
   "outputs": [
    {
     "name": "stdout",
     "output_type": "stream",
     "text": [
      "config dir: /home/sandor/miniconda3/envs/test2/etc/jupyter\n",
      "    jupyterlab_h5web \u001b[32m enabled \u001b[0m\n",
      "    - Validating...\n",
      "      jupyterlab_h5web  \u001b[32mOK\u001b[0m\n",
      "    jupyterlab \u001b[32m enabled \u001b[0m\n",
      "    - Validating...\n",
      "      jupyterlab 2.3.0 \u001b[32mOK\u001b[0m\n",
      "JupyterLab v2.3.0\n",
      "Known labextensions:\n",
      "   app dir: /home/sandor/miniconda3/envs/test2/share/jupyter/lab\n",
      "        jupyterlab-h5web v0.0.11 \u001b[32m enabled \u001b[0m \u001b[32mOK\u001b[0m\n"
     ]
    }
   ],
   "source": [
    "! jupyter serverextension list\n",
    "! jupyter labextension list"
   ]
  },
  {
   "cell_type": "code",
   "execution_count": 6,
   "metadata": {},
   "outputs": [],
   "source": [
    "from jupyterlab_h5web import H5Web"
   ]
  },
  {
   "cell_type": "code",
   "execution_count": 11,
   "metadata": {},
   "outputs": [],
   "source": [
    "h5_file_name = '../' + 'ellips.test.nxs'"
   ]
  },
  {
   "cell_type": "code",
   "execution_count": 12,
   "metadata": {},
   "outputs": [
    {
     "data": {
      "application/x-hdf5": "/home/sandor/test2/parser-nexus/tests/data/tools/dataconverter/readers/ellips/ellips.test.nxs",
      "text/plain": [
       "<jupyterlab_h5web.widget.H5Web object>"
      ]
     },
     "execution_count": 12,
     "metadata": {},
     "output_type": "execute_result"
    }
   ],
   "source": [
    "H5Web(h5_file_name)"
   ]
  },
  {
   "cell_type": "markdown",
   "metadata": {},
   "source": [
    "Here is where the general template ends. Continue to fill the notebook based on<br>\n",
    "**your own** post-processing of the *.nxs file, taking e.g. inspiration from<br>\n",
    "sprints 2 and 3 in the nomad-remote-tools-hub mpcdf git repo."
   ]
  },
  {
   "cell_type": "markdown",
   "metadata": {},
   "source": [
    "Congratulations. **Given that all NORTH tools have mounted your current directory, you can now inspect this HDF5 file.**<br>\n",
    "**The clue is you can now use the data processing tools from NORTH for analysing apm.test.nxs further.**<br>\n",
    "Again, these analysis tools come shipped with nomad so there is no need to install them locally.<br>"
   ]
  },
  {
   "cell_type": "markdown",
   "metadata": {},
   "source": [
    "### Step 4: Extract for instance data inside ellips.test.nxs (to be done for this particular case)"
   ]
  },
  {
   "cell_type": "markdown",
   "metadata": {},
   "source": [
    "To compute a mass-to-charge histogram and explore eventual ranging definitions that have also been carried over in the conversion step (step 6)."
   ]
  },
  {
   "cell_type": "code",
   "execution_count": null,
   "metadata": {},
   "outputs": [],
   "source": [
    "import numpy as np\n",
    "import matplotlib.pyplot as plt\n",
    "#plt.rcParams['figure.figsize'] = [12, 8]\n",
    "#plt.rcParams['figure.dpi'] = 300\n",
    "import h5py as h5\n",
    "#needs shutils for decompressing zip archives, which is a default module/package in Python since >=v3.6"
   ]
  },
  {
   "cell_type": "code",
   "execution_count": null,
   "metadata": {},
   "outputs": [],
   "source": [
    "### Example 2, get a periodic table of the elements"
   ]
  },
  {
   "cell_type": "code",
   "execution_count": null,
   "metadata": {},
   "outputs": [],
   "source": [
    "### Example 3, interactive plotting (bokeh, ipywidgets?)"
   ]
  },
  {
   "cell_type": "code",
   "execution_count": null,
   "metadata": {},
   "outputs": [],
   "source": [
    "### Example 4, use nomad API to create an archive\n",
    "#https://towardsdatascience.com/how-to-produce-interactive-matplotlib-plots-in-jupyter-environment-1e4329d71651"
   ]
  },
  {
   "cell_type": "code",
   "execution_count": null,
   "metadata": {},
   "outputs": [],
   "source": [
    "#small utility tool to download Zenodo repositories with many files #here is a sconsider maybe to use https://zenodo.org/record/1261813#.YW51TXuxXjA"
   ]
  },
  {
   "cell_type": "code",
   "execution_count": null,
   "metadata": {},
   "outputs": [],
   "source": []
  }
 ],
 "metadata": {
  "kernelspec": {
   "display_name": "Python 3 (ipykernel)",
   "language": "python",
   "name": "python3"
  },
  "language_info": {
   "codemirror_mode": {
    "name": "ipython",
    "version": 3
   },
   "file_extension": ".py",
   "mimetype": "text/x-python",
   "name": "python",
   "nbconvert_exporter": "python",
   "pygments_lexer": "ipython3",
   "version": "3.8.10"
  }
 },
 "nbformat": 4,
 "nbformat_minor": 4
}
