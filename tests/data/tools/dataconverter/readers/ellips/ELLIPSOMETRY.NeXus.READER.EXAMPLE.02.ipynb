{
 "cells": [
  {
   "cell_type": "markdown",
   "metadata": {},
   "source": [
    "## nomad-parser-nexus demo"
   ]
  },
  {
   "cell_type": "markdown",
   "metadata": {},
   "source": [
    "Add punchline."
   ]
  },
  {
   "cell_type": "markdown",
   "metadata": {},
   "source": [
    "### Step -1: Set up dependencies for jupyterlab_h5web"
   ]
  },
  {
   "cell_type": "code",
   "execution_count": null,
   "metadata": {},
   "outputs": [],
   "source": [
    "# start with a fresh virtualenv\n",
    "# ! pip install virtualenv\n",
    "# ! virtualenv --python=python3.7 .py37env\n",
    "# ! source .py37env/bin/activate\n",
    "\n",
    "# install jupyter, jupyter-lab and web extensions\n",
    "\n",
    "#inside SPRINT5-JUPYTER-TEST-02, conda, python 3.7, jupyter, jupyterlab"
   ]
  },
  {
   "cell_type": "code",
   "execution_count": null,
   "metadata": {},
   "outputs": [],
   "source": [
    "# ! pip install --upgrade nodejs && pip install ipywidgets h5py==3.5.0 h5glance==0.7 h5grove==0.0.8 jupyterlab[full]==2.3.0 jupyterlab_h5web[full]==0.0.11 punx==0.2.5 nexpy==0.14.1 silx[full] && jupyter lab build"
   ]
  },
  {
   "cell_type": "code",
   "execution_count": null,
   "metadata": {},
   "outputs": [],
   "source": [
    "# ! jupyter nbextension enable --py widgetsnbextension"
   ]
  },
  {
   "cell_type": "code",
   "execution_count": null,
   "metadata": {},
   "outputs": [],
   "source": [
    "# ! jupyter serverextension enable jupyterlab_h5web"
   ]
  },
  {
   "cell_type": "markdown",
   "metadata": {},
   "source": [
    "Restart the Jupyter kernel"
   ]
  },
  {
   "cell_type": "markdown",
   "metadata": {},
   "source": [
    "### Step 0: Installating and testing nomad-parser-nexus module"
   ]
  },
  {
   "cell_type": "code",
   "execution_count": null,
   "metadata": {
    "tags": []
   },
   "outputs": [],
   "source": [
    "! pip install --upgrade pip && pip install nomad-lab==1.0.0 --extra-index-url https://gitlab.mpcdf.mpg.de/api/v4/projects/2187/packages/pypi/simple\n",
    "! pip list"
   ]
  },
  {
   "cell_type": "code",
   "execution_count": null,
   "metadata": {},
   "outputs": [],
   "source": [
    "# ! cd parser-nexus && git status && git pull && pip install -r requirements.txt\n",
    "! git clone https://github.com/nomad-coe/nomad-parser-nexus.git --recursive && cd nomad-parser-nexus && git status && pip install -r requirements.txt"
   ]
  },
  {
   "cell_type": "code",
   "execution_count": null,
   "metadata": {
    "tags": []
   },
   "outputs": [],
   "source": [
    "! cd nomad-parser-nexus && pip install -e .[all]\n",
    "! pip list | grep nomad*\n",
    "! pip list | grep nexus*"
   ]
  },
  {
   "cell_type": "code",
   "execution_count": null,
   "metadata": {},
   "outputs": [],
   "source": [
    "# in the above cells clear redundant commands based on todays history\n",
    "#! cd parser-nexus && python3 -m pytest -sv tests"
   ]
  },
  {
   "cell_type": "code",
   "execution_count": null,
   "metadata": {},
   "outputs": [],
   "source": [
    "# this cell restarts the kernel automaticlly to find nexusparser\n",
    "import os\n",
    "os._exit(00)"
   ]
  },
  {
   "cell_type": "code",
   "execution_count": 1,
   "metadata": {},
   "outputs": [
    {
     "name": "stdout",
     "output_type": "stream",
     "text": [
      "/home/andrea/NOMAD/nomad/dependencies/parsers/nexus/tests/data/tools/dataconverter/readers/ellips/nomad-parser-nexus\n"
     ]
    }
   ],
   "source": [
    "%cd nomad-parser-nexus"
   ]
  },
  {
   "cell_type": "code",
   "execution_count": null,
   "metadata": {},
   "outputs": [],
   "source": [
    "import os\n",
    "import nexusparser\n",
    "nexus_dir = os.path.dirname(nexusparser.__file__)  # where the nexusparser module is located!!!!\n",
    "nexus_tests_dir = nexus_dir+\"/../../nomad-parser-nexus/tests\"  # where the tests are located located!!!!\n",
    "print(nexus_dir)\n",
    "print(nexus_tests_dir)\n",
    "# data_dir = nexus_dir + '/../tests/data/tools/dataconverter/readers/apm' + '/'\n",
    "# print(data_dir)"
   ]
  },
  {
   "cell_type": "markdown",
   "metadata": {
    "tags": []
   },
   "source": [
    "### Step 1: Download example data for Ellipsometry"
   ]
  },
  {
   "cell_type": "code",
   "execution_count": 3,
   "metadata": {},
   "outputs": [
    {
     "data": {
      "text/plain": [
       "'/home/andrea/NOMAD/nomad/dependencies/parsers/nexus/tests/data/tools/dataconverter/readers/ellips/nomad-parser-nexus'"
      ]
     },
     "execution_count": 3,
     "metadata": {},
     "output_type": "execute_result"
    }
   ],
   "source": [
    "# inspect the directory where this example gets stored\n",
    "os.getcwd()"
   ]
  },
  {
   "cell_type": "markdown",
   "metadata": {
    "tags": []
   },
   "source": [
    "### Step 2: Run your ellipsometry-specific dataconverter/readers/ on example data"
   ]
  },
  {
   "cell_type": "code",
   "execution_count": null,
   "metadata": {
    "tags": []
   },
   "outputs": [],
   "source": [
    "! python3 {nexus_dir}/tools/dataconverter/convert.py \\\n",
    "--reader ellips \\\n",
    "--nxdl {nexus_dir}/definitions/applications/NXellipsometry.nxdl.xml \\\n",
    "--input-file {nexus_tests_dir}/data/tools/dataconverter/readers/ellips/test.yaml \\\n",
    "--output ../ellips.test.nxs"
   ]
  },
  {
   "cell_type": "markdown",
   "metadata": {},
   "source": [
    "**The key take home message is that the above-specified command triggers the automatic creation of the HDF5 file. This *.nxs file, is an HDF5 file."
   ]
  },
  {
   "cell_type": "markdown",
   "metadata": {},
   "source": [
    "### Step 3: Inspect the HDF5/NeXus file apm.test.nxs using H5Web"
   ]
  },
  {
   "cell_type": "code",
   "execution_count": null,
   "metadata": {},
   "outputs": [],
   "source": [
    "! jupyter serverextension list\n",
    "! jupyter labextension list"
   ]
  },
  {
   "cell_type": "code",
   "execution_count": null,
   "metadata": {},
   "outputs": [],
   "source": [
    "from jupyterlab_h5web import H5Web"
   ]
  },
  {
   "cell_type": "code",
   "execution_count": 7,
   "metadata": {},
   "outputs": [],
   "source": [
    "h5_file_name = '../' + 'ellips.test.nxs'"
   ]
  },
  {
   "cell_type": "code",
   "execution_count": null,
   "metadata": {},
   "outputs": [],
   "source": [
    "H5Web(h5_file_name)"
   ]
  },
  {
   "cell_type": "markdown",
   "metadata": {},
   "source": [
    "Here is where the general template ends. Continue to fill the notebook based on<br>\n",
    "**your own** post-processing of the *.nxs file, taking e.g. inspiration from<br>\n",
    "sprints 2 and 3 in the nomad-remote-tools-hub mpcdf git repo."
   ]
  },
  {
   "cell_type": "markdown",
   "metadata": {},
   "source": [
    "Congratulations. **Given that all NORTH tools have mounted your current directory, you can now inspect this HDF5 file.**<br>\n",
    "**The clue is you can now use the data processing tools from NORTH for analysing apm.test.nxs further.**<br>\n",
    "Again, these analysis tools come shipped with nomad so there is no need to install them locally.<br>"
   ]
  },
  {
   "cell_type": "markdown",
   "metadata": {},
   "source": [
    "### Step 4: Extract for instance data inside ellips.test.nxs (to be done for this particular case)"
   ]
  },
  {
   "cell_type": "markdown",
   "metadata": {},
   "source": [
    "To compute a mass-to-charge histogram and explore eventual ranging definitions that have also been carried over in the conversion step (step 6)."
   ]
  },
  {
   "cell_type": "code",
   "execution_count": null,
   "metadata": {},
   "outputs": [],
   "source": [
    "import numpy as np\n",
    "import matplotlib.pyplot as plt\n",
    "#plt.rcParams['figure.figsize'] = [12, 8]\n",
    "#plt.rcParams['figure.dpi'] = 300\n",
    "import h5py as h5\n",
    "#needs shutils for decompressing zip archives, which is a default module/package in Python since >=v3.6"
   ]
  },
  {
   "cell_type": "code",
   "execution_count": null,
   "metadata": {},
   "outputs": [],
   "source": [
    "### Example 2, get a periodic table of the elements"
   ]
  },
  {
   "cell_type": "code",
   "execution_count": null,
   "metadata": {},
   "outputs": [],
   "source": [
    "### Example 3, interactive plotting (bokeh, ipywidgets?)"
   ]
  },
  {
   "cell_type": "code",
   "execution_count": null,
   "metadata": {},
   "outputs": [],
   "source": [
    "### Example 4, use nomad API to create an archive\n",
    "#https://towardsdatascience.com/how-to-produce-interactive-matplotlib-plots-in-jupyter-environment-1e4329d71651"
   ]
  },
  {
   "cell_type": "code",
   "execution_count": null,
   "metadata": {},
   "outputs": [],
   "source": [
    "#small utility tool to download Zenodo repositories with many files #here is a sconsider maybe to use https://zenodo.org/record/1261813#.YW51TXuxXjA"
   ]
  },
  {
   "cell_type": "code",
   "execution_count": null,
   "metadata": {},
   "outputs": [],
   "source": []
  }
 ],
 "metadata": {
  "kernelspec": {
   "display_name": "Python 3 (ipykernel)",
   "language": "python",
   "name": "python3"
  },
  "language_info": {
   "codemirror_mode": {
    "name": "ipython",
    "version": 3
   },
   "file_extension": ".py",
   "mimetype": "text/x-python",
   "name": "python",
   "nbconvert_exporter": "python",
   "pygments_lexer": "ipython3",
   "version": "3.7.12"
  }
 },
 "nbformat": 4,
 "nbformat_minor": 4
}
