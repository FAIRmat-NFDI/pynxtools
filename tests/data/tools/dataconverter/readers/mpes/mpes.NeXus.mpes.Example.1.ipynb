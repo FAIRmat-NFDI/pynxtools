{
 "cells": [
  {
   "cell_type": "markdown",
   "metadata": {},
   "source": [
    "## nomad-parser-nexus demo"
   ]
  },
  {
   "cell_type": "markdown",
   "metadata": {},
   "source": [
    "Jupyter notebook displaying parsing from FHI preprocessing software output (x-array based .h5) to NXmpes formatted nexus"
   ]
  },
  {
   "cell_type": "markdown",
   "metadata": {},
   "source": [
    "### Step -1: Set up dependencies for jupyterlab_h5web"
   ]
  },
  {
   "cell_type": "markdown",
   "metadata": {},
   "source": [
    "<p style=\"color:red\">The following instructions detail how you can set up all dependencies in a new virtualenv with a jupyter-lab installation.</p>"
   ]
  },
  {
   "cell_type": "code",
   "execution_count": null,
   "metadata": {},
   "outputs": [],
   "source": [
    "# start with a fresh virtualenv\n",
    "# ! pip install virtualenv\n",
    "# ! virtualenv --python=python3.7 .py37env\n",
    "# ! source .py37env/bin/activate"
   ]
  },
  {
   "cell_type": "code",
   "execution_count": null,
   "metadata": {},
   "outputs": [],
   "source": [
    "# install jupyter, jupyter-lab and web extensions\n",
    "# ! pip install --upgrade nodejs && pip install ipywidgets h5py==3.5.0 h5glance==0.7 h5grove==0.0.8 jupyterlab[full]==2.3.0 \\\n",
    "#jupyterlab_h5web[full]==0.0.11 punx==0.2.5 nexpy==0.14.1 silx[full] && jupyter lab build"
   ]
  },
  {
   "cell_type": "code",
   "execution_count": null,
   "metadata": {},
   "outputs": [],
   "source": [
    "# activate extensions which are required for running notebooks\n",
    "# ! jupyter nbextension enable --py widgetsnbextension\n",
    "# ! jupyter serverextension enable jupyterlab_h5web"
   ]
  },
  {
   "cell_type": "markdown",
   "metadata": {},
   "source": [
    "<p style=\"color:red\">Restart the Jupyter kernel, or easier, start up this jupyter notebook after you have made these above-mentioned installations. You need to do these only once, unless the code changes, in the production version, this these installation will be provided already by the nexus container.</p>"
   ]
  },
  {
   "cell_type": "code",
   "execution_count": null,
   "metadata": {},
   "outputs": [],
   "source": [
    "import os\n",
    "import nexusparser\n",
    "nexus_dir = os.pathname."
   ]
  },
  {
   "cell_type": "markdown",
   "metadata": {},
   "source": [
    "### Step 0: Installing and testing nomad-parser-nexus module"
   ]
  },
  {
   "cell_type": "code",
   "execution_count": null,
   "metadata": {
    "tags": []
   },
   "outputs": [],
   "source": [
    "#! pip list && pip install --upgrade pip && pip install nomad-lab==1.0.0 --extra-index-url https://gitlab.mpcdf.mpg.de/api/v4/projects/2187/packages/pypi/simple"
   ]
  },
  {
   "cell_type": "code",
   "execution_count": null,
   "metadata": {
    "tags": []
   },
   "outputs": [],
   "source": [
    "# ! git clone https://github.com/nomad-coe/nomad-parser-nexus.git --recursive parser-nexus && cd parser-nexus && git status && pip install -r requirements.txt"
   ]
  },
  {
   "cell_type": "code",
   "execution_count": null,
   "metadata": {
    "tags": []
   },
   "outputs": [],
   "source": [
    "# ! cd parser-nexus && pip install -e .[all]\n",
    "# ! pip list | grep nomad*\n",
    "# ! pip list | grep nexus*"
   ]
  },
  {
   "cell_type": "code",
   "execution_count": null,
   "metadata": {},
   "outputs": [],
   "source": [
    "# in the above cells clear redundant commands based on todays history\n",
    "#! cd parser-nexus && pytest -sv tests"
   ]
  },
  {
   "cell_type": "code",
   "execution_count": 2,
   "metadata": {},
   "outputs": [
    {
     "name": "stdout",
     "output_type": "stream",
     "text": [
      "/home/tommaso/parser-nexus/nexusparser\n"
     ]
    }
   ],
   "source": [
    "import os\n",
    "import nexusparser\n",
    "nexus_dir = os.path.dirname(nexusparser.__file__)  # where the nexusparser module is located!!!!\n",
    "print(nexus_dir)"
   ]
  },
  {
   "cell_type": "markdown",
   "metadata": {
    "tags": []
   },
   "source": [
    "### Step 1: Download example data (for mpes)"
   ]
  },
  {
   "cell_type": "code",
   "execution_count": 3,
   "metadata": {},
   "outputs": [
    {
     "data": {
      "text/plain": [
       "'/home/tommaso/Work/parser-nexus/tests/data/tools/dataconverter/readers/mpes'"
      ]
     },
     "execution_count": 3,
     "metadata": {},
     "output_type": "execute_result"
    }
   ],
   "source": [
    "# inspect the directory where this example gets stored\n",
    "os.getcwd()"
   ]
  },
  {
   "cell_type": "code",
   "execution_count": 4,
   "metadata": {},
   "outputs": [
    {
     "name": "stdout",
     "output_type": "stream",
     "text": [
      "  % Total    % Received % Xferd  Average Speed   Time    Time     Time  Current\n",
      "                                 Dload  Upload   Total   Spent    Left  Speed\n",
      "100  461M  100  461M    0     0  11.1M      0  0:00:41  0:00:41 --:--:-- 12.9M 12.2M\n"
     ]
    }
   ],
   "source": [
    "! curl -o MoTe_xarray_final.h5  https://zenodo.org/record/5913599/files/MoTe_xarray_final.h5?download=1"
   ]
  },
  {
   "cell_type": "markdown",
   "metadata": {
    "tags": []
   },
   "source": [
    "### Step 2: Run your mpes-specific dataconverter/reader on example data"
   ]
  },
  {
   "cell_type": "code",
   "execution_count": 5,
   "metadata": {
    "tags": []
   },
   "outputs": [
    {
     "name": "stdout",
     "output_type": "stream",
     "text": [
      "Using mpes reader to convert the given files:  \n",
      "• MoTe_xarray_final.h5\n",
      "• config_file.json \n",
      "The output file generated: mpes.test.nxs\n"
     ]
    }
   ],
   "source": [
    "! python {nexus_dir}/tools/dataconverter/convert.py \\\n",
    "--reader mpes \\\n",
    "--nxdl {nexus_dir}/definitions/applications/NXmpes.nxdl.xml \\\n",
    "--input-file MoTe_xarray_final.h5 \\\n",
    "--input-file config_file.json \\\n",
    "--output mpes.test.nxs"
   ]
  },
  {
   "cell_type": "markdown",
   "metadata": {},
   "source": [
    "### Step 3: Inspect the HDF5/NeXus file apm.test.nxs using H5Web"
   ]
  },
  {
   "cell_type": "code",
   "execution_count": 4,
   "metadata": {},
   "outputs": [
    {
     "name": "stdout",
     "output_type": "stream",
     "text": [
      "config dir: /home/tommaso/.jupyter\n",
      "    jupyterlab_h5web \u001b[32m enabled \u001b[0m\n",
      "    - Validating...\n",
      "      jupyterlab_h5web  \u001b[32mOK\u001b[0m\n",
      "config dir: /home/tommaso/anaconda3/envs/y2n/etc/jupyter\n",
      "    jupyterlab_h5web \u001b[32m enabled \u001b[0m\n",
      "    - Validating...\n",
      "      jupyterlab_h5web  \u001b[32mOK\u001b[0m\n",
      "    jupyterlab \u001b[32m enabled \u001b[0m\n",
      "    - Validating...\n",
      "      jupyterlab 2.3.0 \u001b[32mOK\u001b[0m\n",
      "JupyterLab v2.3.0\n",
      "Known labextensions:\n",
      "   app dir: /home/tommaso/anaconda3/envs/y2n/share/jupyter/lab\n",
      "        jupyterlab-h5web v0.0.11 \u001b[32m enabled \u001b[0m \u001b[32mOK\u001b[0m\n"
     ]
    }
   ],
   "source": [
    "! jupyter serverextension list\n",
    "! jupyter labextension list"
   ]
  },
  {
   "cell_type": "code",
   "execution_count": 6,
   "metadata": {},
   "outputs": [],
   "source": [
    "from jupyterlab_h5web import H5Web"
   ]
  },
  {
   "cell_type": "code",
   "execution_count": 7,
   "metadata": {},
   "outputs": [],
   "source": [
    "h5_file_name = 'mpes.test.nxs'"
   ]
  },
  {
   "cell_type": "code",
   "execution_count": 8,
   "metadata": {},
   "outputs": [
    {
     "data": {
      "application/x-hdf5": "/home/tommaso/Work/parser-nexus/tests/data/tools/dataconverter/readers/mpes/mpes.test.nxs",
      "text/plain": [
       "<jupyterlab_h5web.widget.H5Web object>"
      ]
     },
     "execution_count": 8,
     "metadata": {},
     "output_type": "execute_result"
    }
   ],
   "source": [
    "H5Web(h5_file_name)"
   ]
  }
 ],
 "metadata": {
  "kernelspec": {
   "display_name": "Python 3 (ipykernel)",
   "language": "python",
   "name": "python3"
  },
  "language_info": {
   "codemirror_mode": {
    "name": "ipython",
    "version": 3
   },
   "file_extension": ".py",
   "mimetype": "text/x-python",
   "name": "python",
   "nbconvert_exporter": "python",
   "pygments_lexer": "ipython3",
   "version": "3.7.11"
  }
 },
 "nbformat": 4,
 "nbformat_minor": 4
}
