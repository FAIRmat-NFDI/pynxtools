{
 "cells": [
  {
   "cell_type": "markdown",
   "metadata": {},
   "source": [
    "## nomad-parser-nexus demo for Atom Probe Microscopy (APM) data"
   ]
  },
  {
   "cell_type": "markdown",
   "metadata": {
    "jp-MarkdownHeadingCollapsed": true,
    "tags": []
   },
   "source": [
    "### **Step -1:** Create a new virtual environment and set up dependencies for jupyterlab_h5web.<br> This section **should only be run if you do not have Jupyter Lab, its extensions and the extra needed packages.** <br>  For use within the Nomad UI this section should be skipped.<br> These cells can be run in a Jupyter notebook or copied to a terminal without the \"!\"."
   ]
  },
  {
   "cell_type": "markdown",
   "metadata": {},
   "source": [
    "Run the following to start with a fresh virtualenv in **your terminal** in which you are installing and then running **Jupyter lab** if you wish to: <br>\n",
    "```pip install virtualenv && virtualenv --python=python3.7 .nexusenv && source .nexusenv/bin/activate```"
   ]
  },
  {
   "cell_type": "markdown",
   "metadata": {},
   "source": [
    "Install jupyter, jupyter-lab and h5web extensions."
   ]
  },
  {
   "cell_type": "code",
   "execution_count": null,
   "metadata": {},
   "outputs": [],
   "source": [
    "! pip install --upgrade nodejs && pip install ipywidgets h5py==3.5.0 h5glance==0.7 h5grove==0.0.14 jupyterlab[full]==3.2.9 jupyterlab_h5web[full]==1.3.0 punx==0.2.5 nexpy==0.14.1 silx[full]==1.0.0 && jupyter lab build"
   ]
  },
  {
   "cell_type": "markdown",
   "metadata": {},
   "source": [
    "Enable the extensions"
   ]
  },
  {
   "cell_type": "code",
   "execution_count": null,
   "metadata": {},
   "outputs": [],
   "source": [
    "! jupyter nbextension enable --py widgetsnbextension"
   ]
  },
  {
   "cell_type": "code",
   "execution_count": null,
   "metadata": {
    "tags": []
   },
   "outputs": [],
   "source": [
    "! jupyter serverextension enable jupyterlab_h5web"
   ]
  },
  {
   "cell_type": "markdown",
   "metadata": {
    "jp-MarkdownHeadingCollapsed": true,
    "tags": []
   },
   "source": [
    "### **Step 0:** Installing and testing nomad-parser-nexus module. <br> This section **should only be run if you are not running this within NOMAD.** "
   ]
  },
  {
   "cell_type": "markdown",
   "metadata": {},
   "source": [
    "Install nomad and its dependencies. Do not run the following cell if you have a nomad installation running. "
   ]
  },
  {
   "cell_type": "code",
   "execution_count": null,
   "metadata": {
    "tags": []
   },
   "outputs": [],
   "source": [
    "! pip install --upgrade pip && pip install nomad-lab==1.0.0 --extra-index-url https://gitlab.mpcdf.mpg.de/api/v4/projects/2187/packages/pypi/simple\n",
    "! pip list"
   ]
  },
  {
   "cell_type": "markdown",
   "metadata": {},
   "source": [
    "Install the nexusparser and its requirements"
   ]
  },
  {
   "cell_type": "code",
   "execution_count": null,
   "metadata": {},
   "outputs": [],
   "source": [
    "! git clone https://github.com/nomad-coe/nomad-parser-nexus.git --recursive && cd nomad-parser-nexus && git status && pip install -r requirements.txt && pip install -e .[all]"
   ]
  },
  {
   "cell_type": "markdown",
   "metadata": {},
   "source": [
    "The following cell restarts the kernel after the nexusparser installation"
   ]
  },
  {
   "cell_type": "code",
   "execution_count": null,
   "metadata": {
    "tags": []
   },
   "outputs": [],
   "source": [
    "import os\n",
    "os._exit(00)"
   ]
  },
  {
   "cell_type": "markdown",
   "metadata": {
    "tags": []
   },
   "source": [
    "### **Step 1:** Check that everything is ready to go and download example data for APM. "
   ]
  },
  {
   "cell_type": "markdown",
   "metadata": {
    "tags": []
   },
   "source": [
    "Check dependencies of nomad and of the nexusparser and prints them. If the nexusparser and nomad-lab are installed, you are ready to go.<br> Check if jupyterlab_h5web server and lab extensions are enabled and OK. "
   ]
  },
  {
   "cell_type": "code",
   "execution_count": 1,
   "metadata": {},
   "outputs": [
    {
     "name": "stdout",
     "output_type": "stream",
     "text": [
      "nexusformat                   0.7.4\n",
      "nexusparser                   1.0       /home/mkuehbach/SPRINT-7-ISSUES-110-AND-112/nomad-parser-nexus/parser-nexus\n",
      "nomad-lab                     1.0.0\n",
      "config dir: /home/mkuehbach/.jupyter\n",
      "    jupyterlab_h5web \u001b[32m enabled \u001b[0m\n",
      "    - Validating...\n",
      "      jupyterlab_h5web 3.0.0 \u001b[32mOK\u001b[0m\n",
      "    jupyter_nbextensions_configurator \u001b[32m enabled \u001b[0m\n",
      "    - Validating...\n",
      "Error loading server extension jupyter_nbextensions_configurator\n",
      "     \u001b[31m X\u001b[0m is jupyter_nbextensions_configurator importable?\n",
      "config dir: /home/mkuehbach/SPRINT-7-ISSUES-110-AND-112/nomad-parser-nexus/.pyenv/etc/jupyter\n",
      "    jupyterlab \u001b[32m enabled \u001b[0m\n",
      "    - Validating...\n",
      "      jupyterlab 3.3.2 \u001b[32mOK\u001b[0m\n",
      "    jupyterlab_h5web \u001b[32m enabled \u001b[0m\n",
      "    - Validating...\n",
      "      jupyterlab_h5web 3.0.0 \u001b[32mOK\u001b[0m\n",
      "JupyterLab v3.3.2\n",
      "/home/mkuehbach/SPRINT-7-ISSUES-110-AND-112/nomad-parser-nexus/.pyenv/share/jupyter/labextensions\n",
      "        jupyterlab-h5web v3.0.0 \u001b[32menabled\u001b[0m \u001b[32mOK\u001b[0m (python, jupyterlab_h5web)\n",
      "        @jupyter-widgets/jupyterlab-manager v3.1.0 \u001b[32menabled\u001b[0m \u001b[32mOK\u001b[0m (python, jupyterlab_widgets)\n",
      "\n"
     ]
    }
   ],
   "source": [
    "! pip list | grep 'nomad\\|nexus'\n",
    "! jupyter serverextension list\n",
    "! jupyter labextension list"
   ]
  },
  {
   "cell_type": "markdown",
   "metadata": {
    "tags": []
   },
   "source": [
    "For this case, the data can be found in zenodo."
   ]
  },
  {
   "cell_type": "code",
   "execution_count": 2,
   "metadata": {
    "tags": []
   },
   "outputs": [
    {
     "name": "stdout",
     "output_type": "stream",
     "text": [
      "  % Total    % Received % Xferd  Average Speed   Time    Time     Time  Current\n",
      "                                 Dload  Upload   Total   Spent    Left  Speed\n",
      "100  127M  100  127M    0     0  1251k      0  0:01:44  0:01:44 --:--:-- 1861k\n",
      "  % Total    % Received % Xferd  Average Speed   Time    Time     Time  Current\n",
      "                                 Dload  Upload   Total   Spent    Left  Speed\n",
      "100  205M  100  205M    0     0  1333k      0  0:02:37  0:02:37 --:--:-- 1675k\n",
      "  % Total    % Received % Xferd  Average Speed   Time    Time     Time  Current\n",
      "                                 Dload  Upload   Total   Spent    Left  Speed\n",
      "100  1920  100  1920    0     0   2586      0 --:--:-- --:--:-- --:--:--  2584\n"
     ]
    }
   ],
   "source": [
    "import shutil  # unpacks in current path unless an additional path argument is provided\n",
    "# http://dx.doi.org/10.5281/zenodo.5911240\n",
    "! curl --output APM.LEAP.Datasets.1.zip https://zenodo.org/record/5911240/files/APM.LEAP.Datasets.1.zip\n",
    "shutil.unpack_archive('APM.LEAP.Datasets.1.zip')\n",
    "! curl --output APM.LEAP.Datasets.2.zip https://zenodo.org/record/5911240/files/APM.LEAP.Datasets.2.zip\n",
    "shutil.unpack_archive('APM.LEAP.Datasets.2.zip')\n",
    "! curl --output APM.LEAP.Datasets.3.zip https://zenodo.org/record/5911240/files/APM.LEAP.Datasets.3.zip\n",
    "shutil.unpack_archive('APM.LEAP.Datasets.3.zip')\n",
    "# remove obsolete example files\n",
    "! rm -f R31_06365-v02.ELabFTW.12.json"
   ]
  },
  {
   "cell_type": "markdown",
   "metadata": {},
   "source": [
    "These files should serve exclusively as examples. Use always a triplet of files (for now), i.e. an (apt or pos or epos) plus an (rng or rrng), and the json file respectively."
   ]
  },
  {
   "cell_type": "markdown",
   "metadata": {
    "tags": []
   },
   "source": [
    "### **Step 2:** Run your APM-specific dataconverter/readers/ on the example data."
   ]
  },
  {
   "cell_type": "markdown",
   "metadata": {},
   "source": [
    "Set the nexusparser directory."
   ]
  },
  {
   "cell_type": "code",
   "execution_count": 2,
   "metadata": {},
   "outputs": [
    {
     "name": "stderr",
     "output_type": "stream",
     "text": [
      "Exception while mapping NXcxi_ptycho: type NXtransformations is not supported for transformationsField\n"
     ]
    },
    {
     "name": "stdout",
     "output_type": "stream",
     "text": [
      "/home/mkuehbach/SPRINT-7-ISSUES-110-AND-112/nomad-parser-nexus/parser-nexus/nexusparser\n"
     ]
    }
   ],
   "source": [
    "import os\n",
    "import nexusparser\n",
    "nexus_dir = os.path.dirname(nexusparser.__file__)  # where the nexusparser module is located!!!!\n",
    "print(nexus_dir)"
   ]
  },
  {
   "cell_type": "markdown",
   "metadata": {},
   "source": [
    "Now we run our parser. The --reader flag takes the atom probe microscopy reader (apm), the --nxdl flag takes the application definition for this technique.<br> "
   ]
  },
  {
   "cell_type": "markdown",
   "metadata": {},
   "source": [
    "Inspect what can/should be in the NeXus file."
   ]
  },
  {
   "cell_type": "code",
   "execution_count": 3,
   "metadata": {},
   "outputs": [
    {
     "name": "stdout",
     "output_type": "stream",
     "text": [
      "/home/mkuehbach/SPRINT-7-ISSUES-110-AND-112/nomad-parser-nexus/parser-nexus/nexusparser\n"
     ]
    }
   ],
   "source": [
    "! echo {nexus_dir}"
   ]
  },
  {
   "cell_type": "code",
   "execution_count": 22,
   "metadata": {},
   "outputs": [
    {
     "name": "stdout",
     "output_type": "stream",
     "text": [
      "Exception while mapping NXcxi_ptycho: type NXtransformations is not supported for transformationsField\n",
      "{\n",
      "    \"/ENTRY[entry]/atom_probe/REFLECTRON[reflectron]/description\": \"None\",\n",
      "    \"/ENTRY[entry]/atom_probe/REFLECTRON[reflectron]/manufacturer_name\": \"None\",\n",
      "    \"/ENTRY[entry]/atom_probe/REFLECTRON[reflectron]/model\": \"None\",\n",
      "    \"/ENTRY[entry]/atom_probe/REFLECTRON[reflectron]/name\": \"None\",\n",
      "    \"/ENTRY[entry]/atom_probe/REFLECTRON[reflectron]/serial_number\": \"None\",\n",
      "    \"/ENTRY[entry]/atom_probe/STAGE_LAB[stage_lab]/base_temperature\": \"None\",\n",
      "    \"/ENTRY[entry]/atom_probe/STAGE_LAB[stage_lab]/base_temperature/@units\": \"None\",\n",
      "    \"/ENTRY[entry]/atom_probe/STAGE_LAB[stage_lab]/description\": \"None\",\n",
      "    \"/ENTRY[entry]/atom_probe/STAGE_LAB[stage_lab]/design\": \"None\",\n",
      "    \"/ENTRY[entry]/atom_probe/STAGE_LAB[stage_lab]/manufacturer_name\": \"None\",\n",
      "    \"/ENTRY[entry]/atom_probe/STAGE_LAB[stage_lab]/model\": \"None\",\n",
      "    \"/ENTRY[entry]/atom_probe/STAGE_LAB[stage_lab]/name\": \"None\",\n",
      "    \"/ENTRY[entry]/atom_probe/STAGE_LAB[stage_lab]/serial_number\": \"None\",\n",
      "    \"/ENTRY[entry]/atom_probe/control_software/analysis_chamber/pressure\": \"None\",\n",
      "    \"/ENTRY[entry]/atom_probe/control_software/analysis_chamber/pressure/@units\": \"None\",\n",
      "    \"/ENTRY[entry]/atom_probe/counter_electrode/description\": \"None\",\n",
      "    \"/ENTRY[entry]/atom_probe/flight_path_length\": \"None\",\n",
      "    \"/ENTRY[entry]/atom_probe/flight_path_length/@units\": \"None\",\n",
      "    \"/ENTRY[entry]/atom_probe/has_reflectron\": \"None\",\n",
      "    \"/ENTRY[entry]/atom_probe/hit_multiplicity/hit_multiplicity\": \"None\",\n",
      "    \"/ENTRY[entry]/atom_probe/hit_multiplicity/program\": \"None\",\n",
      "    \"/ENTRY[entry]/atom_probe/hit_multiplicity/program/@version\": \"None\",\n",
      "    \"/ENTRY[entry]/atom_probe/hit_multiplicity/pulse_id\": \"None\",\n",
      "    \"/ENTRY[entry]/atom_probe/hit_multiplicity/pulses_since_last_ion\": \"None\",\n",
      "    \"/ENTRY[entry]/atom_probe/instrument_capability\": \"None\",\n",
      "    \"/ENTRY[entry]/atom_probe/instrument_identifier\": \"None\",\n",
      "    \"/ENTRY[entry]/atom_probe/instrument_manufacturer\": \"None\",\n",
      "    \"/ENTRY[entry]/atom_probe/instrument_model\": \"None\",\n",
      "    \"/ENTRY[entry]/atom_probe/ion_detector/manufacturer_name\": \"None\",\n",
      "    \"/ENTRY[entry]/atom_probe/ion_detector/model\": \"None\",\n",
      "    \"/ENTRY[entry]/atom_probe/ion_detector/name\": \"None\",\n",
      "    \"/ENTRY[entry]/atom_probe/ion_detector/serial_number\": \"None\",\n",
      "    \"/ENTRY[entry]/atom_probe/ion_detector/signal_amplitude\": \"None\",\n",
      "    \"/ENTRY[entry]/atom_probe/ion_detector/signal_amplitude/@units\": \"None\",\n",
      "    \"/ENTRY[entry]/atom_probe/ion_detector/type\": \"None\",\n",
      "    \"/ENTRY[entry]/atom_probe/ion_filtering/evaporation_id_included\": \"None\",\n",
      "    \"/ENTRY[entry]/atom_probe/ion_filtering/program\": \"None\",\n",
      "    \"/ENTRY[entry]/atom_probe/ion_filtering/program/@version\": \"None\",\n",
      "    \"/ENTRY[entry]/atom_probe/ion_impact_positions/arrival_time_pairs\": \"None\",\n",
      "    \"/ENTRY[entry]/atom_probe/ion_impact_positions/arrival_time_pairs/@units\": \"None\",\n",
      "    \"/ENTRY[entry]/atom_probe/ion_impact_positions/detection_rate\": \"None\",\n",
      "    \"/ENTRY[entry]/atom_probe/ion_impact_positions/detection_rate/@units\": \"None\",\n",
      "    \"/ENTRY[entry]/atom_probe/ion_impact_positions/hit_positions\": \"None\",\n",
      "    \"/ENTRY[entry]/atom_probe/ion_impact_positions/hit_positions/@units\": \"None\",\n",
      "    \"/ENTRY[entry]/atom_probe/ion_impact_positions/program\": \"None\",\n",
      "    \"/ENTRY[entry]/atom_probe/ion_impact_positions/program/@version\": \"None\",\n",
      "    \"/ENTRY[entry]/atom_probe/location\": \"None\",\n",
      "    \"/ENTRY[entry]/atom_probe/mass_to_charge_conversion/mass_to_charge\": \"None\",\n",
      "    \"/ENTRY[entry]/atom_probe/mass_to_charge_conversion/mass_to_charge/@units\": \"None\",\n",
      "    \"/ENTRY[entry]/atom_probe/mass_to_charge_conversion/program\": \"None\",\n",
      "    \"/ENTRY[entry]/atom_probe/mass_to_charge_conversion/program/@version\": \"None\",\n",
      "    \"/ENTRY[entry]/atom_probe/name\": \"None\",\n",
      "    \"/ENTRY[entry]/atom_probe/pulser/laser_pulser/manufacturer_name\": \"None\",\n",
      "    \"/ENTRY[entry]/atom_probe/pulser/laser_pulser/model\": \"None\",\n",
      "    \"/ENTRY[entry]/atom_probe/pulser/laser_pulser/name\": \"None\",\n",
      "    \"/ENTRY[entry]/atom_probe/pulser/laser_pulser/power\": \"None\",\n",
      "    \"/ENTRY[entry]/atom_probe/pulser/laser_pulser/power/@units\": \"None\",\n",
      "    \"/ENTRY[entry]/atom_probe/pulser/laser_pulser/pulse_energy\": \"None\",\n",
      "    \"/ENTRY[entry]/atom_probe/pulser/laser_pulser/pulse_energy/@units\": \"None\",\n",
      "    \"/ENTRY[entry]/atom_probe/pulser/laser_pulser/serial_number\": \"None\",\n",
      "    \"/ENTRY[entry]/atom_probe/pulser/laser_pulser/wavelength\": \"None\",\n",
      "    \"/ENTRY[entry]/atom_probe/pulser/laser_pulser/wavelength/@units\": \"None\",\n",
      "    \"/ENTRY[entry]/atom_probe/pulser/pulse_fraction\": \"None\",\n",
      "    \"/ENTRY[entry]/atom_probe/pulser/pulse_frequency\": \"None\",\n",
      "    \"/ENTRY[entry]/atom_probe/pulser/pulse_frequency/@units\": \"None\",\n",
      "    \"/ENTRY[entry]/atom_probe/pulser/pulse_mode\": \"None\",\n",
      "    \"/ENTRY[entry]/atom_probe/pulser/pulsed_voltage\": \"None\",\n",
      "    \"/ENTRY[entry]/atom_probe/pulser/pulsed_voltage/@units\": \"None\",\n",
      "    \"/ENTRY[entry]/atom_probe/pulser/standing_voltage\": \"None\",\n",
      "    \"/ENTRY[entry]/atom_probe/pulser/standing_voltage/@units\": \"None\",\n",
      "    \"/ENTRY[entry]/atom_probe/ranging/background_quantification/program\": \"None\",\n",
      "    \"/ENTRY[entry]/atom_probe/ranging/background_quantification/program/@version\": \"None\",\n",
      "    \"/ENTRY[entry]/atom_probe/ranging/mass_to_charge_distribution/mass_spectrum/@axes\": \"None\",\n",
      "    \"/ENTRY[entry]/atom_probe/ranging/mass_to_charge_distribution/mass_spectrum/@bin_ends_indices\": \"None\",\n",
      "    \"/ENTRY[entry]/atom_probe/ranging/mass_to_charge_distribution/mass_spectrum/@long_name\": \"None\",\n",
      "    \"/ENTRY[entry]/atom_probe/ranging/mass_to_charge_distribution/mass_spectrum/@signal\": \"None\",\n",
      "    \"/ENTRY[entry]/atom_probe/ranging/mass_to_charge_distribution/mass_spectrum/bin_ends\": \"None\",\n",
      "    \"/ENTRY[entry]/atom_probe/ranging/mass_to_charge_distribution/mass_spectrum/bin_ends/@units\": \"None\",\n",
      "    \"/ENTRY[entry]/atom_probe/ranging/mass_to_charge_distribution/mass_spectrum/counts\": \"None\",\n",
      "    \"/ENTRY[entry]/atom_probe/ranging/mass_to_charge_distribution/program\": \"None\",\n",
      "    \"/ENTRY[entry]/atom_probe/ranging/mass_to_charge_distribution/program/@version\": \"None\",\n",
      "    \"/ENTRY[entry]/atom_probe/ranging/mass_to_charge_distribution/range_increment\": \"None\",\n",
      "    \"/ENTRY[entry]/atom_probe/ranging/mass_to_charge_distribution/range_increment/@units\": \"None\",\n",
      "    \"/ENTRY[entry]/atom_probe/ranging/mass_to_charge_distribution/range_minmax\": \"None\",\n",
      "    \"/ENTRY[entry]/atom_probe/ranging/mass_to_charge_distribution/range_minmax/@units\": \"None\",\n",
      "    \"/ENTRY[entry]/atom_probe/ranging/maximum_number_of_atoms_per_molecular_ion\": \"None\",\n",
      "    \"/ENTRY[entry]/atom_probe/ranging/number_of_iontypes\": \"None\",\n",
      "    \"/ENTRY[entry]/atom_probe/ranging/peak_identification/ION[ion]/charge_state\": \"None\",\n",
      "    \"/ENTRY[entry]/atom_probe/ranging/peak_identification/ION[ion]/charge_state/@units\": \"None\",\n",
      "    \"/ENTRY[entry]/atom_probe/ranging/peak_identification/ION[ion]/ion_type\": \"None\",\n",
      "    \"/ENTRY[entry]/atom_probe/ranging/peak_identification/ION[ion]/isotope_vector\": \"None\",\n",
      "    \"/ENTRY[entry]/atom_probe/ranging/peak_identification/ION[ion]/mass_to_charge_range\": \"None\",\n",
      "    \"/ENTRY[entry]/atom_probe/ranging/peak_identification/ION[ion]/mass_to_charge_range/@units\": \"None\",\n",
      "    \"/ENTRY[entry]/atom_probe/ranging/peak_identification/ION[ion]/name\": \"None\",\n",
      "    \"/ENTRY[entry]/atom_probe/ranging/peak_identification/program\": \"None\",\n",
      "    \"/ENTRY[entry]/atom_probe/ranging/peak_identification/program/@version\": \"None\",\n",
      "    \"/ENTRY[entry]/atom_probe/ranging/peak_search_and_deconvolution/PEAK[peak]/intensity\": \"None\",\n",
      "    \"/ENTRY[entry]/atom_probe/ranging/peak_search_and_deconvolution/PEAK[peak]/intensity/@units\": \"None\",\n",
      "    \"/ENTRY[entry]/atom_probe/ranging/peak_search_and_deconvolution/PEAK[peak]/label\": \"None\",\n",
      "    \"/ENTRY[entry]/atom_probe/ranging/peak_search_and_deconvolution/PEAK[peak]/peak_model\": \"None\",\n",
      "    \"/ENTRY[entry]/atom_probe/ranging/peak_search_and_deconvolution/PEAK[peak]/position\": \"None\",\n",
      "    \"/ENTRY[entry]/atom_probe/ranging/peak_search_and_deconvolution/PEAK[peak]/position/@units\": \"None\",\n",
      "    \"/ENTRY[entry]/atom_probe/ranging/peak_search_and_deconvolution/program\": \"None\",\n",
      "    \"/ENTRY[entry]/atom_probe/ranging/peak_search_and_deconvolution/program/@version\": \"None\",\n",
      "    \"/ENTRY[entry]/atom_probe/ranging/program\": \"None\",\n",
      "    \"/ENTRY[entry]/atom_probe/ranging/program/@version\": \"None\",\n",
      "    \"/ENTRY[entry]/atom_probe/reconstruction/naive_point_cloud_density_map/DATA[data]/@axes\": \"None\",\n",
      "    \"/ENTRY[entry]/atom_probe/reconstruction/naive_point_cloud_density_map/DATA[data]/@long_name\": \"None\",\n",
      "    \"/ENTRY[entry]/atom_probe/reconstruction/naive_point_cloud_density_map/DATA[data]/@signal\": \"None\",\n",
      "    \"/ENTRY[entry]/atom_probe/reconstruction/naive_point_cloud_density_map/DATA[data]/@xpos_indices\": \"None\",\n",
      "    \"/ENTRY[entry]/atom_probe/reconstruction/naive_point_cloud_density_map/DATA[data]/@ypos_indices\": \"None\",\n",
      "    \"/ENTRY[entry]/atom_probe/reconstruction/naive_point_cloud_density_map/DATA[data]/@zpos_indices\": \"None\",\n",
      "    \"/ENTRY[entry]/atom_probe/reconstruction/naive_point_cloud_density_map/DATA[data]/counts\": \"None\",\n",
      "    \"/ENTRY[entry]/atom_probe/reconstruction/naive_point_cloud_density_map/DATA[data]/xpos\": \"None\",\n",
      "    \"/ENTRY[entry]/atom_probe/reconstruction/naive_point_cloud_density_map/DATA[data]/xpos/@units\": \"None\",\n",
      "    \"/ENTRY[entry]/atom_probe/reconstruction/naive_point_cloud_density_map/DATA[data]/ypos\": \"None\",\n",
      "    \"/ENTRY[entry]/atom_probe/reconstruction/naive_point_cloud_density_map/DATA[data]/ypos/@units\": \"None\",\n",
      "    \"/ENTRY[entry]/atom_probe/reconstruction/naive_point_cloud_density_map/DATA[data]/zpos\": \"None\",\n",
      "    \"/ENTRY[entry]/atom_probe/reconstruction/naive_point_cloud_density_map/DATA[data]/zpos/@units\": \"None\",\n",
      "    \"/ENTRY[entry]/atom_probe/reconstruction/naive_point_cloud_density_map/program\": \"None\",\n",
      "    \"/ENTRY[entry]/atom_probe/reconstruction/naive_point_cloud_density_map/program/@version\": \"None\",\n",
      "    \"/ENTRY[entry]/atom_probe/reconstruction/program\": \"None\",\n",
      "    \"/ENTRY[entry]/atom_probe/reconstruction/program/@version\": \"None\",\n",
      "    \"/ENTRY[entry]/atom_probe/reconstruction/protocol_name\": \"None\",\n",
      "    \"/ENTRY[entry]/atom_probe/reconstruction/reconstructed_positions\": \"None\",\n",
      "    \"/ENTRY[entry]/atom_probe/reconstruction/reconstructed_positions/@units\": \"None\",\n",
      "    \"/ENTRY[entry]/atom_probe/specimen_monitoring/initial_radius\": \"None\",\n",
      "    \"/ENTRY[entry]/atom_probe/specimen_monitoring/initial_radius/@units\": \"None\",\n",
      "    \"/ENTRY[entry]/atom_probe/specimen_monitoring/shank_angle\": \"None\",\n",
      "    \"/ENTRY[entry]/atom_probe/specimen_monitoring/shank_angle/@units\": \"None\",\n",
      "    \"/ENTRY[entry]/atom_probe/voltage_and_bowl_correction/calibrated_tof\": \"None\",\n",
      "    \"/ENTRY[entry]/atom_probe/voltage_and_bowl_correction/calibrated_tof/@units\": \"None\",\n",
      "    \"/ENTRY[entry]/atom_probe/voltage_and_bowl_correction/program\": \"None\",\n",
      "    \"/ENTRY[entry]/atom_probe/voltage_and_bowl_correction/program/@version\": \"None\",\n",
      "    \"/ENTRY[entry]/atom_probe/voltage_and_bowl_correction/raw_tof\": \"None\",\n",
      "    \"/ENTRY[entry]/atom_probe/voltage_and_bowl_correction/raw_tof/@units\": \"None\",\n",
      "    \"/ENTRY[entry]/definition\": \"None\",\n",
      "    \"/ENTRY[entry]/definition/@version\": \"None\",\n",
      "    \"/ENTRY[entry]/end_time\": \"None\",\n",
      "    \"/ENTRY[entry]/experiment_description\": \"None\",\n",
      "    \"/ENTRY[entry]/experiment_identifier\": \"None\",\n",
      "    \"/ENTRY[entry]/operation_mode\": \"None\",\n",
      "    \"/ENTRY[entry]/operator/address\": \"None\",\n",
      "    \"/ENTRY[entry]/operator/affiliation\": \"None\",\n",
      "    \"/ENTRY[entry]/operator/email\": \"None\",\n",
      "    \"/ENTRY[entry]/operator/name\": \"None\",\n",
      "    \"/ENTRY[entry]/operator/orcid\": \"None\",\n",
      "    \"/ENTRY[entry]/operator/role\": \"None\",\n",
      "    \"/ENTRY[entry]/operator/telephone_number\": \"None\",\n",
      "    \"/ENTRY[entry]/program\": \"None\",\n",
      "    \"/ENTRY[entry]/program/@version\": \"None\",\n",
      "    \"/ENTRY[entry]/run_number\": \"None\",\n",
      "    \"/ENTRY[entry]/specimen/atom_types\": \"None\",\n",
      "    \"/ENTRY[entry]/specimen/name\": \"None\",\n",
      "    \"/ENTRY[entry]/specimen/preparation_date\": \"None\",\n",
      "    \"/ENTRY[entry]/specimen/sample_history\": \"None\",\n",
      "    \"/ENTRY[entry]/specimen/short_title\": \"None\",\n",
      "    \"/ENTRY[entry]/start_time\": \"None\",\n",
      "    \"/ENTRY[entry]/thumbnail/@type\": \"None\"\n",
      "}\n"
     ]
    }
   ],
   "source": [
    "# to inspect what can/should all be in the NeXus file\n",
    "! python3 {nexus_dir}/tools/dataconverter/convert.py \\\n",
    "--reader apm \\\n",
    "--nxdl NXapm \\\n",
    "--generate-template"
   ]
  },
  {
   "cell_type": "markdown",
   "metadata": {},
   "source": [
    "Parse the files to convert them to an HDF5 file."
   ]
  },
  {
   "cell_type": "code",
   "execution_count": 26,
   "metadata": {
    "tags": []
   },
   "outputs": [
    {
     "name": "stdout",
     "output_type": "stream",
     "text": [
      "Exception while mapping NXcxi_ptycho: type NXtransformations is not supported for transformationsField\n",
      "Using apm reader to convert the given files:  \n",
      "• R31_06365-v02.pos\n",
      "• R31_06365-v02.rrng\n",
      "• ManuallyCollectedMetadata.json \n",
      "Add metadata which come from other sources...\n",
      "Add (optional) vendor file data...\n",
      "Extracting data from POS file: R31_06365-v02.pos\n",
      "Add (optional) ranging data...\n",
      "Extracting data from RRNG file: R31_06365-v02.rrng\n",
      "Create default plots on-the-fly...\n",
      "--> Enter histogram computation \n",
      "(4868202, 3)\n",
      "Default plot 3D discretized reconstruction at 1nm binning.\n",
      "--> Enter mass spectrum computation \n",
      "(4868202, 1)\n",
      "Plot mass spectrum at 0.01Da binning was created.\n",
      "The path, /ENTRY[entry]/atom_probe/ranging/peak_identification/ION[ion1]/ion_type, is being written but has no documentation.\n",
      "The path, /ENTRY[entry]/atom_probe/ranging/peak_identification/ION[ion1]/isotope_vector, is being written but has no documentation.\n",
      "The path, /ENTRY[entry]/atom_probe/ranging/peak_identification/ION[ion1]/charge_state, is being written but has no documentation.\n",
      "The path, /ENTRY[entry]/atom_probe/ranging/peak_identification/ION[ion1]/charge_state/@units, is being written but has no documentation.\n",
      "The path, /ENTRY[entry]/atom_probe/ranging/peak_identification/ION[ion1]/name, is being written but has no documentation.\n",
      "The path, /ENTRY[entry]/atom_probe/ranging/peak_identification/ION[ion1]/mass_to_charge_range, is being written but has no documentation.\n",
      "The path, /ENTRY[entry]/atom_probe/ranging/peak_identification/ION[ion1]/mass_to_charge_range/@units, is being written but has no documentation.\n",
      "The path, /ENTRY[entry]/atom_probe/ranging/peak_identification/ION[ion2]/ion_type, is being written but has no documentation.\n",
      "The path, /ENTRY[entry]/atom_probe/ranging/peak_identification/ION[ion2]/isotope_vector, is being written but has no documentation.\n",
      "The path, /ENTRY[entry]/atom_probe/ranging/peak_identification/ION[ion2]/charge_state, is being written but has no documentation.\n",
      "The path, /ENTRY[entry]/atom_probe/ranging/peak_identification/ION[ion2]/charge_state/@units, is being written but has no documentation.\n",
      "The path, /ENTRY[entry]/atom_probe/ranging/peak_identification/ION[ion2]/name, is being written but has no documentation.\n",
      "The path, /ENTRY[entry]/atom_probe/ranging/peak_identification/ION[ion2]/mass_to_charge_range, is being written but has no documentation.\n",
      "The path, /ENTRY[entry]/atom_probe/ranging/peak_identification/ION[ion2]/mass_to_charge_range/@units, is being written but has no documentation.\n",
      "The path, /ENTRY[entry]/atom_probe/ranging/peak_identification/ION[ion3]/ion_type, is being written but has no documentation.\n",
      "The path, /ENTRY[entry]/atom_probe/ranging/peak_identification/ION[ion3]/isotope_vector, is being written but has no documentation.\n",
      "The path, /ENTRY[entry]/atom_probe/ranging/peak_identification/ION[ion3]/charge_state, is being written but has no documentation.\n",
      "The path, /ENTRY[entry]/atom_probe/ranging/peak_identification/ION[ion3]/charge_state/@units, is being written but has no documentation.\n",
      "The path, /ENTRY[entry]/atom_probe/ranging/peak_identification/ION[ion3]/name, is being written but has no documentation.\n",
      "The path, /ENTRY[entry]/atom_probe/ranging/peak_identification/ION[ion3]/mass_to_charge_range, is being written but has no documentation.\n",
      "The path, /ENTRY[entry]/atom_probe/ranging/peak_identification/ION[ion3]/mass_to_charge_range/@units, is being written but has no documentation.\n",
      "The path, /ENTRY[entry]/atom_probe/ranging/peak_identification/ION[ion4]/ion_type, is being written but has no documentation.\n",
      "The path, /ENTRY[entry]/atom_probe/ranging/peak_identification/ION[ion4]/isotope_vector, is being written but has no documentation.\n",
      "The path, /ENTRY[entry]/atom_probe/ranging/peak_identification/ION[ion4]/charge_state, is being written but has no documentation.\n",
      "The path, /ENTRY[entry]/atom_probe/ranging/peak_identification/ION[ion4]/charge_state/@units, is being written but has no documentation.\n",
      "The path, /ENTRY[entry]/atom_probe/ranging/peak_identification/ION[ion4]/name, is being written but has no documentation.\n",
      "The path, /ENTRY[entry]/atom_probe/ranging/peak_identification/ION[ion4]/mass_to_charge_range, is being written but has no documentation.\n",
      "The path, /ENTRY[entry]/atom_probe/ranging/peak_identification/ION[ion4]/mass_to_charge_range/@units, is being written but has no documentation.\n",
      "The path, /ENTRY[entry]/atom_probe/ranging/peak_identification/ION[ion5]/ion_type, is being written but has no documentation.\n",
      "The path, /ENTRY[entry]/atom_probe/ranging/peak_identification/ION[ion5]/isotope_vector, is being written but has no documentation.\n",
      "The path, /ENTRY[entry]/atom_probe/ranging/peak_identification/ION[ion5]/charge_state, is being written but has no documentation.\n",
      "The path, /ENTRY[entry]/atom_probe/ranging/peak_identification/ION[ion5]/charge_state/@units, is being written but has no documentation.\n",
      "The path, /ENTRY[entry]/atom_probe/ranging/peak_identification/ION[ion5]/name, is being written but has no documentation.\n",
      "The path, /ENTRY[entry]/atom_probe/ranging/peak_identification/ION[ion5]/mass_to_charge_range, is being written but has no documentation.\n",
      "The path, /ENTRY[entry]/atom_probe/ranging/peak_identification/ION[ion5]/mass_to_charge_range/@units, is being written but has no documentation.\n",
      "The path, /ENTRY[entry]/atom_probe/ranging/peak_identification/ION[ion6]/ion_type, is being written but has no documentation.\n",
      "The path, /ENTRY[entry]/atom_probe/ranging/peak_identification/ION[ion6]/isotope_vector, is being written but has no documentation.\n",
      "The path, /ENTRY[entry]/atom_probe/ranging/peak_identification/ION[ion6]/charge_state, is being written but has no documentation.\n",
      "The path, /ENTRY[entry]/atom_probe/ranging/peak_identification/ION[ion6]/charge_state/@units, is being written but has no documentation.\n",
      "The path, /ENTRY[entry]/atom_probe/ranging/peak_identification/ION[ion6]/name, is being written but has no documentation.\n",
      "The path, /ENTRY[entry]/atom_probe/ranging/peak_identification/ION[ion6]/mass_to_charge_range, is being written but has no documentation.\n",
      "The path, /ENTRY[entry]/atom_probe/ranging/peak_identification/ION[ion6]/mass_to_charge_range/@units, is being written but has no documentation.\n",
      "The path, /ENTRY[entry]/atom_probe/ranging/peak_identification/ION[ion7]/ion_type, is being written but has no documentation.\n",
      "The path, /ENTRY[entry]/atom_probe/ranging/peak_identification/ION[ion7]/isotope_vector, is being written but has no documentation.\n",
      "The path, /ENTRY[entry]/atom_probe/ranging/peak_identification/ION[ion7]/charge_state, is being written but has no documentation.\n",
      "The path, /ENTRY[entry]/atom_probe/ranging/peak_identification/ION[ion7]/charge_state/@units, is being written but has no documentation.\n",
      "The path, /ENTRY[entry]/atom_probe/ranging/peak_identification/ION[ion7]/name, is being written but has no documentation.\n",
      "The path, /ENTRY[entry]/atom_probe/ranging/peak_identification/ION[ion7]/mass_to_charge_range, is being written but has no documentation.\n",
      "The path, /ENTRY[entry]/atom_probe/ranging/peak_identification/ION[ion7]/mass_to_charge_range/@units, is being written but has no documentation.\n",
      "The path, /ENTRY[entry]/atom_probe/ranging/peak_identification/ION[ion8]/ion_type, is being written but has no documentation.\n",
      "The path, /ENTRY[entry]/atom_probe/ranging/peak_identification/ION[ion8]/isotope_vector, is being written but has no documentation.\n",
      "The path, /ENTRY[entry]/atom_probe/ranging/peak_identification/ION[ion8]/charge_state, is being written but has no documentation.\n",
      "The path, /ENTRY[entry]/atom_probe/ranging/peak_identification/ION[ion8]/charge_state/@units, is being written but has no documentation.\n",
      "The path, /ENTRY[entry]/atom_probe/ranging/peak_identification/ION[ion8]/name, is being written but has no documentation.\n",
      "The path, /ENTRY[entry]/atom_probe/ranging/peak_identification/ION[ion8]/mass_to_charge_range, is being written but has no documentation.\n",
      "The path, /ENTRY[entry]/atom_probe/ranging/peak_identification/ION[ion8]/mass_to_charge_range/@units, is being written but has no documentation.\n",
      "The path, /ENTRY[entry]/atom_probe/ranging/peak_identification/ION[ion9]/ion_type, is being written but has no documentation.\n",
      "The path, /ENTRY[entry]/atom_probe/ranging/peak_identification/ION[ion9]/isotope_vector, is being written but has no documentation.\n",
      "The path, /ENTRY[entry]/atom_probe/ranging/peak_identification/ION[ion9]/charge_state, is being written but has no documentation.\n",
      "The path, /ENTRY[entry]/atom_probe/ranging/peak_identification/ION[ion9]/charge_state/@units, is being written but has no documentation.\n",
      "The path, /ENTRY[entry]/atom_probe/ranging/peak_identification/ION[ion9]/name, is being written but has no documentation.\n",
      "The path, /ENTRY[entry]/atom_probe/ranging/peak_identification/ION[ion9]/mass_to_charge_range, is being written but has no documentation.\n",
      "The path, /ENTRY[entry]/atom_probe/ranging/peak_identification/ION[ion9]/mass_to_charge_range/@units, is being written but has no documentation.\n",
      "The path, /ENTRY[entry]/atom_probe/ranging/peak_identification/ION[ion10]/ion_type, is being written but has no documentation.\n",
      "The path, /ENTRY[entry]/atom_probe/ranging/peak_identification/ION[ion10]/isotope_vector, is being written but has no documentation.\n",
      "The path, /ENTRY[entry]/atom_probe/ranging/peak_identification/ION[ion10]/charge_state, is being written but has no documentation.\n",
      "The path, /ENTRY[entry]/atom_probe/ranging/peak_identification/ION[ion10]/charge_state/@units, is being written but has no documentation.\n",
      "The path, /ENTRY[entry]/atom_probe/ranging/peak_identification/ION[ion10]/name, is being written but has no documentation.\n",
      "The path, /ENTRY[entry]/atom_probe/ranging/peak_identification/ION[ion10]/mass_to_charge_range, is being written but has no documentation.\n",
      "The path, /ENTRY[entry]/atom_probe/ranging/peak_identification/ION[ion10]/mass_to_charge_range/@units, is being written but has no documentation.\n",
      "The path, /ENTRY[entry]/atom_probe/ranging/peak_identification/ION[ion11]/ion_type, is being written but has no documentation.\n",
      "The path, /ENTRY[entry]/atom_probe/ranging/peak_identification/ION[ion11]/isotope_vector, is being written but has no documentation.\n",
      "The path, /ENTRY[entry]/atom_probe/ranging/peak_identification/ION[ion11]/charge_state, is being written but has no documentation.\n",
      "The path, /ENTRY[entry]/atom_probe/ranging/peak_identification/ION[ion11]/charge_state/@units, is being written but has no documentation.\n",
      "The path, /ENTRY[entry]/atom_probe/ranging/peak_identification/ION[ion11]/name, is being written but has no documentation.\n",
      "The path, /ENTRY[entry]/atom_probe/ranging/peak_identification/ION[ion11]/mass_to_charge_range, is being written but has no documentation.\n",
      "The path, /ENTRY[entry]/atom_probe/ranging/peak_identification/ION[ion11]/mass_to_charge_range/@units, is being written but has no documentation.\n",
      "The path, /ENTRY[entry]/atom_probe/ranging/peak_identification/ION[ion12]/ion_type, is being written but has no documentation.\n",
      "The path, /ENTRY[entry]/atom_probe/ranging/peak_identification/ION[ion12]/isotope_vector, is being written but has no documentation.\n",
      "The path, /ENTRY[entry]/atom_probe/ranging/peak_identification/ION[ion12]/charge_state, is being written but has no documentation.\n",
      "The path, /ENTRY[entry]/atom_probe/ranging/peak_identification/ION[ion12]/charge_state/@units, is being written but has no documentation.\n",
      "The path, /ENTRY[entry]/atom_probe/ranging/peak_identification/ION[ion12]/name, is being written but has no documentation.\n",
      "The path, /ENTRY[entry]/atom_probe/ranging/peak_identification/ION[ion12]/mass_to_charge_range, is being written but has no documentation.\n",
      "The path, /ENTRY[entry]/atom_probe/ranging/peak_identification/ION[ion12]/mass_to_charge_range/@units, is being written but has no documentation.\n",
      "The path, /ENTRY[entry]/atom_probe/ranging/peak_identification/ION[ion13]/ion_type, is being written but has no documentation.\n",
      "The path, /ENTRY[entry]/atom_probe/ranging/peak_identification/ION[ion13]/isotope_vector, is being written but has no documentation.\n",
      "The path, /ENTRY[entry]/atom_probe/ranging/peak_identification/ION[ion13]/charge_state, is being written but has no documentation.\n",
      "The path, /ENTRY[entry]/atom_probe/ranging/peak_identification/ION[ion13]/charge_state/@units, is being written but has no documentation.\n",
      "The path, /ENTRY[entry]/atom_probe/ranging/peak_identification/ION[ion13]/name, is being written but has no documentation.\n",
      "The path, /ENTRY[entry]/atom_probe/ranging/peak_identification/ION[ion13]/mass_to_charge_range, is being written but has no documentation.\n",
      "The path, /ENTRY[entry]/atom_probe/ranging/peak_identification/ION[ion13]/mass_to_charge_range/@units, is being written but has no documentation.\n",
      "The path, /ENTRY[entry]/atom_probe/ranging/peak_identification/ION[ion14]/ion_type, is being written but has no documentation.\n",
      "The path, /ENTRY[entry]/atom_probe/ranging/peak_identification/ION[ion14]/isotope_vector, is being written but has no documentation.\n",
      "The path, /ENTRY[entry]/atom_probe/ranging/peak_identification/ION[ion14]/charge_state, is being written but has no documentation.\n",
      "The path, /ENTRY[entry]/atom_probe/ranging/peak_identification/ION[ion14]/charge_state/@units, is being written but has no documentation.\n",
      "The path, /ENTRY[entry]/atom_probe/ranging/peak_identification/ION[ion14]/name, is being written but has no documentation.\n",
      "The path, /ENTRY[entry]/atom_probe/ranging/peak_identification/ION[ion14]/mass_to_charge_range, is being written but has no documentation.\n",
      "The path, /ENTRY[entry]/atom_probe/ranging/peak_identification/ION[ion14]/mass_to_charge_range/@units, is being written but has no documentation.\n",
      "The path, /ENTRY[entry]/atom_probe/ranging/peak_identification/ION[ion15]/ion_type, is being written but has no documentation.\n",
      "The path, /ENTRY[entry]/atom_probe/ranging/peak_identification/ION[ion15]/isotope_vector, is being written but has no documentation.\n",
      "The path, /ENTRY[entry]/atom_probe/ranging/peak_identification/ION[ion15]/charge_state, is being written but has no documentation.\n",
      "The path, /ENTRY[entry]/atom_probe/ranging/peak_identification/ION[ion15]/charge_state/@units, is being written but has no documentation.\n",
      "The path, /ENTRY[entry]/atom_probe/ranging/peak_identification/ION[ion15]/name, is being written but has no documentation.\n",
      "The path, /ENTRY[entry]/atom_probe/ranging/peak_identification/ION[ion15]/mass_to_charge_range, is being written but has no documentation.\n",
      "The path, /ENTRY[entry]/atom_probe/ranging/peak_identification/ION[ion15]/mass_to_charge_range/@units, is being written but has no documentation.\n",
      "The path, /ENTRY[entry]/atom_probe/ranging/peak_identification/ION[ion16]/ion_type, is being written but has no documentation.\n",
      "The path, /ENTRY[entry]/atom_probe/ranging/peak_identification/ION[ion16]/isotope_vector, is being written but has no documentation.\n",
      "The path, /ENTRY[entry]/atom_probe/ranging/peak_identification/ION[ion16]/charge_state, is being written but has no documentation.\n",
      "The path, /ENTRY[entry]/atom_probe/ranging/peak_identification/ION[ion16]/charge_state/@units, is being written but has no documentation.\n",
      "The path, /ENTRY[entry]/atom_probe/ranging/peak_identification/ION[ion16]/name, is being written but has no documentation.\n",
      "The path, /ENTRY[entry]/atom_probe/ranging/peak_identification/ION[ion16]/mass_to_charge_range, is being written but has no documentation.\n",
      "The path, /ENTRY[entry]/atom_probe/ranging/peak_identification/ION[ion16]/mass_to_charge_range/@units, is being written but has no documentation.\n",
      "The path, /ENTRY[entry]/atom_probe/ranging/peak_identification/ION[ion17]/ion_type, is being written but has no documentation.\n",
      "The path, /ENTRY[entry]/atom_probe/ranging/peak_identification/ION[ion17]/isotope_vector, is being written but has no documentation.\n",
      "The path, /ENTRY[entry]/atom_probe/ranging/peak_identification/ION[ion17]/charge_state, is being written but has no documentation.\n",
      "The path, /ENTRY[entry]/atom_probe/ranging/peak_identification/ION[ion17]/charge_state/@units, is being written but has no documentation.\n",
      "The path, /ENTRY[entry]/atom_probe/ranging/peak_identification/ION[ion17]/name, is being written but has no documentation.\n",
      "The path, /ENTRY[entry]/atom_probe/ranging/peak_identification/ION[ion17]/mass_to_charge_range, is being written but has no documentation.\n",
      "The path, /ENTRY[entry]/atom_probe/ranging/peak_identification/ION[ion17]/mass_to_charge_range/@units, is being written but has no documentation.\n",
      "The path, /ENTRY[entry]/atom_probe/ranging/peak_identification/ION[ion18]/ion_type, is being written but has no documentation.\n",
      "The path, /ENTRY[entry]/atom_probe/ranging/peak_identification/ION[ion18]/isotope_vector, is being written but has no documentation.\n",
      "The path, /ENTRY[entry]/atom_probe/ranging/peak_identification/ION[ion18]/charge_state, is being written but has no documentation.\n",
      "The path, /ENTRY[entry]/atom_probe/ranging/peak_identification/ION[ion18]/charge_state/@units, is being written but has no documentation.\n",
      "The path, /ENTRY[entry]/atom_probe/ranging/peak_identification/ION[ion18]/name, is being written but has no documentation.\n",
      "The path, /ENTRY[entry]/atom_probe/ranging/peak_identification/ION[ion18]/mass_to_charge_range, is being written but has no documentation.\n",
      "The path, /ENTRY[entry]/atom_probe/ranging/peak_identification/ION[ion18]/mass_to_charge_range/@units, is being written but has no documentation.\n",
      "The path, /ENTRY[entry]/atom_probe/ranging/peak_identification/ION[ion19]/ion_type, is being written but has no documentation.\n",
      "The path, /ENTRY[entry]/atom_probe/ranging/peak_identification/ION[ion19]/isotope_vector, is being written but has no documentation.\n",
      "The path, /ENTRY[entry]/atom_probe/ranging/peak_identification/ION[ion19]/charge_state, is being written but has no documentation.\n",
      "The path, /ENTRY[entry]/atom_probe/ranging/peak_identification/ION[ion19]/charge_state/@units, is being written but has no documentation.\n",
      "The path, /ENTRY[entry]/atom_probe/ranging/peak_identification/ION[ion19]/name, is being written but has no documentation.\n",
      "The path, /ENTRY[entry]/atom_probe/ranging/peak_identification/ION[ion19]/mass_to_charge_range, is being written but has no documentation.\n",
      "The path, /ENTRY[entry]/atom_probe/ranging/peak_identification/ION[ion19]/mass_to_charge_range/@units, is being written but has no documentation.\n",
      "The path, /ENTRY[entry]/atom_probe/ranging/peak_identification/ION[ion20]/ion_type, is being written but has no documentation.\n",
      "The path, /ENTRY[entry]/atom_probe/ranging/peak_identification/ION[ion20]/isotope_vector, is being written but has no documentation.\n",
      "The path, /ENTRY[entry]/atom_probe/ranging/peak_identification/ION[ion20]/charge_state, is being written but has no documentation.\n",
      "The path, /ENTRY[entry]/atom_probe/ranging/peak_identification/ION[ion20]/charge_state/@units, is being written but has no documentation.\n",
      "The path, /ENTRY[entry]/atom_probe/ranging/peak_identification/ION[ion20]/name, is being written but has no documentation.\n",
      "The path, /ENTRY[entry]/atom_probe/ranging/peak_identification/ION[ion20]/mass_to_charge_range, is being written but has no documentation.\n",
      "The path, /ENTRY[entry]/atom_probe/ranging/peak_identification/ION[ion20]/mass_to_charge_range/@units, is being written but has no documentation.\n",
      "The path, /ENTRY[entry]/atom_probe/ranging/peak_identification/ION[ion21]/ion_type, is being written but has no documentation.\n",
      "The path, /ENTRY[entry]/atom_probe/ranging/peak_identification/ION[ion21]/isotope_vector, is being written but has no documentation.\n",
      "The path, /ENTRY[entry]/atom_probe/ranging/peak_identification/ION[ion21]/charge_state, is being written but has no documentation.\n",
      "The path, /ENTRY[entry]/atom_probe/ranging/peak_identification/ION[ion21]/charge_state/@units, is being written but has no documentation.\n",
      "The path, /ENTRY[entry]/atom_probe/ranging/peak_identification/ION[ion21]/name, is being written but has no documentation.\n",
      "The path, /ENTRY[entry]/atom_probe/ranging/peak_identification/ION[ion21]/mass_to_charge_range, is being written but has no documentation.\n",
      "The path, /ENTRY[entry]/atom_probe/ranging/peak_identification/ION[ion21]/mass_to_charge_range/@units, is being written but has no documentation.\n",
      "The path, /ENTRY[entry]/atom_probe/ranging/peak_identification/ION[ion22]/ion_type, is being written but has no documentation.\n",
      "The path, /ENTRY[entry]/atom_probe/ranging/peak_identification/ION[ion22]/isotope_vector, is being written but has no documentation.\n",
      "The path, /ENTRY[entry]/atom_probe/ranging/peak_identification/ION[ion22]/charge_state, is being written but has no documentation.\n",
      "The path, /ENTRY[entry]/atom_probe/ranging/peak_identification/ION[ion22]/charge_state/@units, is being written but has no documentation.\n",
      "The path, /ENTRY[entry]/atom_probe/ranging/peak_identification/ION[ion22]/name, is being written but has no documentation.\n",
      "The path, /ENTRY[entry]/atom_probe/ranging/peak_identification/ION[ion22]/mass_to_charge_range, is being written but has no documentation.\n",
      "The path, /ENTRY[entry]/atom_probe/ranging/peak_identification/ION[ion22]/mass_to_charge_range/@units, is being written but has no documentation.\n",
      "The path, /ENTRY[entry]/atom_probe/ranging/peak_identification/ION[ion23]/ion_type, is being written but has no documentation.\n",
      "The path, /ENTRY[entry]/atom_probe/ranging/peak_identification/ION[ion23]/isotope_vector, is being written but has no documentation.\n",
      "The path, /ENTRY[entry]/atom_probe/ranging/peak_identification/ION[ion23]/charge_state, is being written but has no documentation.\n",
      "The path, /ENTRY[entry]/atom_probe/ranging/peak_identification/ION[ion23]/charge_state/@units, is being written but has no documentation.\n",
      "The path, /ENTRY[entry]/atom_probe/ranging/peak_identification/ION[ion23]/name, is being written but has no documentation.\n",
      "The path, /ENTRY[entry]/atom_probe/ranging/peak_identification/ION[ion23]/mass_to_charge_range, is being written but has no documentation.\n",
      "The path, /ENTRY[entry]/atom_probe/ranging/peak_identification/ION[ion23]/mass_to_charge_range/@units, is being written but has no documentation.\n",
      "The path, /ENTRY[entry]/atom_probe/ranging/peak_identification/ION[ion24]/ion_type, is being written but has no documentation.\n",
      "The path, /ENTRY[entry]/atom_probe/ranging/peak_identification/ION[ion24]/isotope_vector, is being written but has no documentation.\n",
      "The path, /ENTRY[entry]/atom_probe/ranging/peak_identification/ION[ion24]/charge_state, is being written but has no documentation.\n",
      "The path, /ENTRY[entry]/atom_probe/ranging/peak_identification/ION[ion24]/charge_state/@units, is being written but has no documentation.\n",
      "The path, /ENTRY[entry]/atom_probe/ranging/peak_identification/ION[ion24]/name, is being written but has no documentation.\n",
      "The path, /ENTRY[entry]/atom_probe/ranging/peak_identification/ION[ion24]/mass_to_charge_range, is being written but has no documentation.\n",
      "The path, /ENTRY[entry]/atom_probe/ranging/peak_identification/ION[ion24]/mass_to_charge_range/@units, is being written but has no documentation.\n",
      "The path, /ENTRY[entry]/atom_probe/ranging/peak_identification/ION[ion25]/ion_type, is being written but has no documentation.\n",
      "The path, /ENTRY[entry]/atom_probe/ranging/peak_identification/ION[ion25]/isotope_vector, is being written but has no documentation.\n",
      "The path, /ENTRY[entry]/atom_probe/ranging/peak_identification/ION[ion25]/charge_state, is being written but has no documentation.\n",
      "The path, /ENTRY[entry]/atom_probe/ranging/peak_identification/ION[ion25]/charge_state/@units, is being written but has no documentation.\n",
      "The path, /ENTRY[entry]/atom_probe/ranging/peak_identification/ION[ion25]/name, is being written but has no documentation.\n",
      "The path, /ENTRY[entry]/atom_probe/ranging/peak_identification/ION[ion25]/mass_to_charge_range, is being written but has no documentation.\n",
      "The path, /ENTRY[entry]/atom_probe/ranging/peak_identification/ION[ion25]/mass_to_charge_range/@units, is being written but has no documentation.\n",
      "The path, /ENTRY[entry]/atom_probe/ranging/peak_identification/ION[ion26]/ion_type, is being written but has no documentation.\n",
      "The path, /ENTRY[entry]/atom_probe/ranging/peak_identification/ION[ion26]/isotope_vector, is being written but has no documentation.\n",
      "The path, /ENTRY[entry]/atom_probe/ranging/peak_identification/ION[ion26]/charge_state, is being written but has no documentation.\n",
      "The path, /ENTRY[entry]/atom_probe/ranging/peak_identification/ION[ion26]/charge_state/@units, is being written but has no documentation.\n",
      "The path, /ENTRY[entry]/atom_probe/ranging/peak_identification/ION[ion26]/name, is being written but has no documentation.\n",
      "The path, /ENTRY[entry]/atom_probe/ranging/peak_identification/ION[ion26]/mass_to_charge_range, is being written but has no documentation.\n",
      "The path, /ENTRY[entry]/atom_probe/ranging/peak_identification/ION[ion26]/mass_to_charge_range/@units, is being written but has no documentation.\n",
      "The path, /ENTRY[entry]/atom_probe/ranging/peak_identification/ION[ion27]/ion_type, is being written but has no documentation.\n",
      "The path, /ENTRY[entry]/atom_probe/ranging/peak_identification/ION[ion27]/isotope_vector, is being written but has no documentation.\n",
      "The path, /ENTRY[entry]/atom_probe/ranging/peak_identification/ION[ion27]/charge_state, is being written but has no documentation.\n",
      "The path, /ENTRY[entry]/atom_probe/ranging/peak_identification/ION[ion27]/charge_state/@units, is being written but has no documentation.\n",
      "The path, /ENTRY[entry]/atom_probe/ranging/peak_identification/ION[ion27]/name, is being written but has no documentation.\n",
      "The path, /ENTRY[entry]/atom_probe/ranging/peak_identification/ION[ion27]/mass_to_charge_range, is being written but has no documentation.\n",
      "The path, /ENTRY[entry]/atom_probe/ranging/peak_identification/ION[ion27]/mass_to_charge_range/@units, is being written but has no documentation.\n",
      "The path, /@default, is being written but has no documentation.\n",
      "The path, /ENTRY[entry]/@default, is being written but has no documentation.\n",
      "The path, /ENTRY[entry]/atom_probe/@default, is being written but has no documentation.\n",
      "The path, /ENTRY[entry]/atom_probe/reconstruction/@default, is being written but has no documentation.\n",
      "The path, /ENTRY[entry]/atom_probe/reconstruction/naive_point_cloud_density_map/@default, is being written but has no documentation.\n",
      "The output file generated: apm0002.test.nxs\n"
     ]
    }
   ],
   "source": [
    "! python3 {nexus_dir}/tools/dataconverter/convert.py \\\n",
    "--reader apm \\\n",
    "--nxdl NXapm \\\n",
    "--input-file R31_06365-v02.pos \\\n",
    "--input-file R31_06365-v02.rrng \\\n",
    "--input-file ManuallyCollectedMetadata.json \\\n",
    "--output apm0002.test.nxs"
   ]
  },
  {
   "cell_type": "markdown",
   "metadata": {},
   "source": [
    "The key take home message is that the command above-specified triggers the automatic creation of the HDF5 file.<br>\n",
    "This *.nxs file, is an HDF5 file."
   ]
  },
  {
   "cell_type": "markdown",
   "metadata": {
    "tags": []
   },
   "source": [
    "### **Step 3:** Inspect the HDF5/NeXus file apm*.test.nxs using H5Web."
   ]
  },
  {
   "cell_type": "code",
   "execution_count": 19,
   "metadata": {},
   "outputs": [],
   "source": [
    "from jupyterlab_h5web import H5Web"
   ]
  },
  {
   "cell_type": "code",
   "execution_count": 20,
   "metadata": {},
   "outputs": [],
   "source": [
    "h5_file_name = 'apm0002.test.nxs'"
   ]
  },
  {
   "cell_type": "code",
   "execution_count": 21,
   "metadata": {},
   "outputs": [
    {
     "data": {
      "application/x-hdf5": "/home/mkuehbach/SPRINT-7-ISSUES-110-AND-112/nomad-parser-nexus/parser-nexus/tests/data/tools/dataconverter/readers/apm/apm0002.test.nxs",
      "text/plain": [
       "<jupyterlab_h5web.widget.H5Web object>"
      ]
     },
     "execution_count": 21,
     "metadata": {},
     "output_type": "execute_result"
    }
   ],
   "source": [
    "H5Web(h5_file_name)"
   ]
  },
  {
   "cell_type": "markdown",
   "metadata": {},
   "source": [
    "You can also visualize the .nxs file by double clikcing it within Jupyter lab. "
   ]
  },
  {
   "cell_type": "markdown",
   "metadata": {
    "jp-MarkdownHeadingCollapsed": true,
    "tags": []
   },
   "source": [
    "### **Step 4:** Do some post-processing with the generated apm0002.test.nxs file."
   ]
  },
  {
   "cell_type": "markdown",
   "metadata": {},
   "source": [
    "To compute a mass-to-charge histogram and explore eventual ranging definitions that have also been carried over in the conversion step (step 6)."
   ]
  },
  {
   "cell_type": "code",
   "execution_count": null,
   "metadata": {},
   "outputs": [],
   "source": [
    "import numpy as np\n",
    "import matplotlib.pyplot as plt\n",
    "from matplotlib.collections import PatchCollection\n",
    "from matplotlib.patches import Rectangle\n",
    "plt.rcParams['figure.figsize'] = [20, 10]\n",
    "plt.rcParams['figure.dpi'] = 300\n",
    "import h5py as h5\n",
    "#needs shutils for decompressing zip archives, which is a default module/package in Python since >=v3.6"
   ]
  },
  {
   "cell_type": "markdown",
   "metadata": {},
   "source": [
    "Read mass-to-charge-state ratio values, create a histogram (\"mass spectrum\"), and mark ranges."
   ]
  },
  {
   "cell_type": "code",
   "execution_count": null,
   "metadata": {},
   "outputs": [],
   "source": [
    "# load data and ranges\n",
    "hf = h5.File(h5_file_name, 'r')\n",
    "mq = hf['entry/atom_probe/mass_to_charge_conversion/mass_to_charge'][:]\n",
    "nions = np.uint32(hf['entry/atom_probe/ranging/number_of_iontypes'])\n",
    "print('Array with mass-to-charge-state ratios loaded')\n",
    "print(str(nions) + ' iontypes were distinguished')"
   ]
  },
  {
   "cell_type": "code",
   "execution_count": null,
   "metadata": {},
   "outputs": [],
   "source": [
    "# define binning\n",
    "[mqmin, mqmax] = [0., 100.0]  # Da np.max(mq)]\n",
    "print('Dataset ranging from [' + str(mqmin) + ', ' + str(mqmax) +'] Da.')\n",
    "mqincr = 0.01 #Da\n",
    "print('Using a mass-to-charge-state ratio resolution of '+str(mqincr)+' Da.')"
   ]
  },
  {
   "cell_type": "code",
   "execution_count": null,
   "metadata": {},
   "outputs": [],
   "source": [
    "# transform collection of mass-to-charge-state ratios into a histogram\n",
    "hst1d = np.unique(np.uint64(np.floor((mq[np.logical_and(mq >= mqmin, mq <= mqmax)] - mqmin) / mqincr)), return_counts=True)\n",
    "nbins = np.uint64((mqmax - mqmin) / mqincr + 1)\n",
    "print('Histogram has ' + str(nbins) + ' bins.')"
   ]
  },
  {
   "cell_type": "code",
   "execution_count": null,
   "metadata": {},
   "outputs": [],
   "source": [
    "# use matplotlib and numpy to plot histogram data \n",
    "xy = np.zeros([nbins, 2], np.float64)\n",
    "xy[:,0] = np.linspace(mqmin + mqincr, mqmax + mqincr, nbins, endpoint=True)\n",
    "xy[:,1] = 0.5  # * np.ones([nbins], np.float64)  # 0.5 to be able to plot logarithm you can not measure half an atom\n",
    "for i in np.arange(0, len(hst1d[0])):\n",
    "    binidx = hst1d[0][i]\n",
    "    xy[binidx, 1] = hst1d[1][i]\n",
    "print('Mass-to-charge-state histogram created.')"
   ]
  },
  {
   "cell_type": "code",
   "execution_count": null,
   "metadata": {},
   "outputs": [],
   "source": [
    "[xmi, xmx, ymi, ymx] = [mqmin, 10**np.ceil(np.log10(mqmax)), 0.5, 10**np.ceil(np.log10(np.max(xy[:,1])))]\n",
    "[xmi, xmx, ymi, ymx] = [mqmin, mqmax, 0.5, 10**np.ceil(np.log10(np.max(xy[:,1])))]\n",
    "fig, cnts_over_mq = plt.subplots(1, 1)\n",
    "plt.plot(xy[:, 0], xy[:, 1], color='blue', alpha=0.5, linewidth=1.0)\n",
    "for i in np.arange(1,nions + 1):\n",
    "    # load ranges and plot them\n",
    "    ranges = hf['entry/atom_probe/ranging/peak_identification/ion' + str(i) + '/mass_to_charge_range'][:]\n",
    "    for min_max in ranges:\n",
    "        cnts_over_mq.vlines(min_max[0], 0, 1, transform=cnts_over_mq.get_xaxis_transform(), alpha=0.1, color='grey', linestyles='dotted')\n",
    "        cnts_over_mq.vlines(min_max[1], 0, 1, transform=cnts_over_mq.get_xaxis_transform(), alpha=0.1, color='grey', linestyles='dotted')\n",
    "        #rng = Rectangle((min_max[0], ymi), min_max[1] - min_max[0], ymx - ymi, edgecolor='r', facecolor=\"none\")\n",
    "# plt.xticks([1, 2, 3, 4, 5, 6, 7, 8, 9], ['Min', '0.0025', '0.025', '0.25', '0.50', '0.75', '0.975', '0.9975', 'Max'])\n",
    "plt.yscale('log')\n",
    "plt.legend( [r'Mass-to-charge-state ratio $\\Delta\\frac{m}{q} = $'+str(mqincr)+' Da'], loc='upper right')\n",
    "plt.xlabel(r'Mass-to-charge-state-ratio (Da)')\n",
    "plt.ylabel(r'Counts')\n",
    "print('Mass-to-charge-state histogram visualized.')\n",
    "# scale bar with add margin to the bottom and top of the yaxis to avoid that lines fall on x axis\n",
    "margin=0.01  # polishing the margins\n",
    "plt.xlim([-margin * (xmx - xmi) + xmi, +margin * (xmx - xmi) + xmx])\n",
    "plt.ylim([ymi, +margin * (ymx - ymi) + ymx])"
   ]
  },
  {
   "cell_type": "code",
   "execution_count": null,
   "metadata": {},
   "outputs": [],
   "source": [
    "#save the figure\n",
    "figfn = h5_file_name + '.MassToChargeStateRatios.png'\n",
    "fig.savefig(figfn, dpi=300, facecolor='w', edgecolor='w', orientation='landscape', format='png', \n",
    "            transparent=False, bbox_inches='tight', pad_inches=0.1, metadata=None)\n",
    "#plt.close('all')\n",
    "print(figfn + ' stored to disk.')"
   ]
  },
  {
   "cell_type": "markdown",
   "metadata": {},
   "source": [
    "### Further comments:"
   ]
  },
  {
   "cell_type": "markdown",
   "metadata": {},
   "source": [
    "* Feel free to explore our paraprobe container in the north branch for more advanced processing\n",
    "* Add legends and names for iontypes"
   ]
  }
 ],
 "metadata": {
  "kernelspec": {
   "display_name": "Python 3 (ipykernel)",
   "language": "python",
   "name": "python3"
  },
  "language_info": {
   "codemirror_mode": {
    "name": "ipython",
    "version": 3
   },
   "file_extension": ".py",
   "mimetype": "text/x-python",
   "name": "python",
   "nbconvert_exporter": "python",
   "pygments_lexer": "ipython3",
   "version": "3.9.7"
  }
 },
 "nbformat": 4,
 "nbformat_minor": 4
}
