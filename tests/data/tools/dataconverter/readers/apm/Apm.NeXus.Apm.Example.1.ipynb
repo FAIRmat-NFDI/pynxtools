{
 "cells": [
  {
   "cell_type": "markdown",
   "metadata": {},
   "source": [
    "## NOMAD-PARSER-NEXUS/DATACONVERTER demo for Atom Probe Microscopy (APM) data"
   ]
  },
  {
   "cell_type": "markdown",
   "metadata": {
    "tags": []
   },
   "source": [
    "### **Step 1:** Check that everything is ready to go and download example data for APM. "
   ]
  },
  {
   "cell_type": "code",
   "execution_count": null,
   "metadata": {},
   "outputs": [],
   "source": [
    "! pip list | grep 'nomad\\|nexus' && jupyter serverextension list && jupyter labextension list && python -V"
   ]
  },
  {
   "cell_type": "markdown",
   "metadata": {},
   "source": [
    "Set the nexusparser directory."
   ]
  },
  {
   "cell_type": "code",
   "execution_count": null,
   "metadata": {},
   "outputs": [],
   "source": [
    "import os\n",
    "import nexusparser\n",
    "nexus_dir = os.path.dirname(nexusparser.__file__)\n",
    "print(nexus_dir)"
   ]
  },
  {
   "cell_type": "markdown",
   "metadata": {},
   "source": [
    "### **Step 2:** Download APM-specific example data."
   ]
  },
  {
   "cell_type": "markdown",
   "metadata": {
    "tags": []
   },
   "source": [
    "For this case, the data can be found in zenodo."
   ]
  },
  {
   "cell_type": "code",
   "execution_count": null,
   "metadata": {
    "tags": []
   },
   "outputs": [],
   "source": [
    "import shutil  # unpacks in current path unless an additional path argument is provided"
   ]
  },
  {
   "cell_type": "code",
   "execution_count": null,
   "metadata": {},
   "outputs": [],
   "source": [
    "# http://dx.doi.org/10.5281/zenodo.6794809\n",
    "! curl --output apm-sprint9-example.zip https://zenodo.org/record/6794809/files/apm-sprint9-example.zip\n",
    "shutil.unpack_archive('ger_berlin_kuehbach_fairmat__usa_portland_wang.zip')"
   ]
  },
  {
   "cell_type": "markdown",
   "metadata": {},
   "source": [
    "These files should serve exclusively as examples. <font color=\"orange\">The dataconverter for APM always requires a triplet of files</font>:\n",
    "* A **community or vendor file** with the ion positions and mass-to-charge state ratio values for the tomographic reconstruction. POS, ePOS, or APT are allowed.\n",
    "* A file with **ranging definitions**, i.e. how mass-to-charge-state ratio values map on ion species. RNG or RRNG are allowed.\n",
    "* A **file with additional metadata (edited manually or via an ELN) in YAML format**. The eln_data_apm.yaml file in the example can be edited with a text editor.\n",
    "For GUI-based editing, a NOMAD OASIS instance is needed.<br>\n",
    "<font color=\"red\">Please note that the metadata inside the provided eln_data_apm.yaml file has example data in it.</font>\n",
    "<font color=\"red\">These reflect not necessarily the conditions when the raw data for the example were given. The file is meant to be edited!</font>"
   ]
  },
  {
   "cell_type": "markdown",
   "metadata": {
    "tags": []
   },
   "source": [
    "### **Step 3:** Run your APM-specific dataconverter/readers/ on the example data."
   ]
  },
  {
   "cell_type": "markdown",
   "metadata": {},
   "source": [
    "Now we run our parser. The --reader flag takes the atom probe microscopy reader (apm), the --nxdl flag takes the application definition for this technique.<br> "
   ]
  },
  {
   "cell_type": "markdown",
   "metadata": {},
   "source": [
    "Inspect what can/should be in the NeXus file."
   ]
  },
  {
   "cell_type": "code",
   "execution_count": null,
   "metadata": {},
   "outputs": [],
   "source": [
    "! echo {nexus_dir}"
   ]
  },
  {
   "cell_type": "markdown",
   "metadata": {},
   "source": [
    "### **Step 3a:** Optionally see the command line help of the dataconverter."
   ]
  },
  {
   "cell_type": "code",
   "execution_count": null,
   "metadata": {},
   "outputs": [],
   "source": [
    "! python3 {nexus_dir}/tools/dataconverter/convert.py --help"
   ]
  },
  {
   "cell_type": "markdown",
   "metadata": {},
   "source": [
    "### **Step 3b:** Optionally explore all paths which NXapm provides."
   ]
  },
  {
   "cell_type": "code",
   "execution_count": null,
   "metadata": {
    "tags": []
   },
   "outputs": [],
   "source": [
    "# to inspect what can/should all be in the NeXus file\n",
    "! python3 {nexus_dir}/tools/dataconverter/convert.py --nxdl NXapm --generate-template"
   ]
  },
  {
   "cell_type": "markdown",
   "metadata": {},
   "source": [
    "### **Step 3c**: Convert the files in the example into an NXapm-compliant NeXus HDF5 file."
   ]
  },
  {
   "cell_type": "code",
   "execution_count": null,
   "metadata": {
    "tags": []
   },
   "outputs": [],
   "source": [
    "! python3 {nexus_dir}/tools/dataconverter/convert.py \\\n",
    "--reader apm \\\n",
    "--nxdl NXapm \\\n",
    "--input-file R31_06365-v02.pos \\\n",
    "--input-file R31_06365-v02.rrng \\\n",
    "--input-file eln_data_apm.yaml \\\n",
    "--output usa_pos.nxs"
   ]
  },
  {
   "cell_type": "markdown",
   "metadata": {},
   "source": [
    "The key take home message is that the command above-specified triggers the automatic creation of the HDF5 file. This *.nxs file, is an HDF5 file."
   ]
  },
  {
   "cell_type": "markdown",
   "metadata": {
    "tags": []
   },
   "source": [
    "### **Step 4:** Inspect the HDF5/NeXus file apm*.test.nxs using H5Web."
   ]
  },
  {
   "cell_type": "code",
   "execution_count": null,
   "metadata": {},
   "outputs": [],
   "source": [
    "from jupyterlab_h5web import H5Web"
   ]
  },
  {
   "cell_type": "code",
   "execution_count": null,
   "metadata": {},
   "outputs": [],
   "source": [
    "h5_file_name = 'usa_pos.nxs'"
   ]
  },
  {
   "cell_type": "code",
   "execution_count": null,
   "metadata": {},
   "outputs": [],
   "source": [
    "H5Web(h5_file_name)"
   ]
  },
  {
   "cell_type": "markdown",
   "metadata": {},
   "source": [
    "You can also visualize the .nxs file by double clicking on it in the file explorer panel to the left side of your jupyter lab screen in the browser."
   ]
  },
  {
   "cell_type": "markdown",
   "metadata": {
    "tags": []
   },
   "source": [
    "### **Step 5:** Optionally, do some post-processing with the generated usa_pos.nxs file."
   ]
  },
  {
   "cell_type": "markdown",
   "metadata": {},
   "source": [
    "To compute a mass-to-charge histogram and explore eventual ranging definitions that have also been carried over in the conversion step (step 6)."
   ]
  },
  {
   "cell_type": "code",
   "execution_count": null,
   "metadata": {},
   "outputs": [],
   "source": [
    "import numpy as np\n",
    "import matplotlib.pyplot as plt\n",
    "from matplotlib.collections import PatchCollection\n",
    "from matplotlib.patches import Rectangle\n",
    "plt.rcParams['figure.figsize'] = [20, 10]\n",
    "plt.rcParams['figure.dpi'] = 300\n",
    "import h5py as h5\n",
    "#needs shutils for decompressing zip archives, which is a default module/package in Python since >=v3.6"
   ]
  },
  {
   "cell_type": "markdown",
   "metadata": {},
   "source": [
    "Read mass-to-charge-state ratio values, create a histogram (\"mass spectrum\"), and mark ranges."
   ]
  },
  {
   "cell_type": "code",
   "execution_count": null,
   "metadata": {},
   "outputs": [],
   "source": [
    "# load data and ranges\n",
    "hf = h5.File(h5_file_name, 'r')\n",
    "mq = hf['entry/atom_probe/mass_to_charge_conversion/mass_to_charge'][:]\n",
    "nions = np.uint32(hf['entry/atom_probe/ranging/number_of_ion_types'])\n",
    "print('Array with mass-to-charge-state ratios loaded')\n",
    "print(str(nions) + ' iontypes were distinguished')"
   ]
  },
  {
   "cell_type": "code",
   "execution_count": null,
   "metadata": {},
   "outputs": [],
   "source": [
    "# define binning\n",
    "[mqmin, mqmax] = [0., 100.0]  # Da np.max(mq)]\n",
    "print('Dataset ranging from [' + str(mqmin) + ', ' + str(mqmax) +'] Da.')\n",
    "mqincr = 0.01 #Da\n",
    "print('Using a mass-to-charge-state ratio resolution of '+str(mqincr)+' Da.')"
   ]
  },
  {
   "cell_type": "code",
   "execution_count": null,
   "metadata": {},
   "outputs": [],
   "source": [
    "# transform collection of mass-to-charge-state ratios into a histogram\n",
    "hst1d = np.unique(np.uint64(np.floor((mq[np.logical_and(mq >= mqmin, mq <= mqmax)] - mqmin) / mqincr)), return_counts=True)\n",
    "nbins = np.uint64((mqmax - mqmin) / mqincr + 1)\n",
    "print('Histogram has ' + str(nbins) + ' bins.')"
   ]
  },
  {
   "cell_type": "code",
   "execution_count": null,
   "metadata": {},
   "outputs": [],
   "source": [
    "# use matplotlib and numpy to plot histogram data \n",
    "xy = np.zeros([nbins, 2], np.float64)\n",
    "xy[:,0] = np.linspace(mqmin + mqincr, mqmax + mqincr, nbins, endpoint=True)\n",
    "xy[:,1] = 0.5  # * np.ones([nbins], np.float64)  # 0.5 to be able to plot logarithm you can not measure half an atom\n",
    "for i in np.arange(0, len(hst1d[0])):\n",
    "    binidx = hst1d[0][i]\n",
    "    xy[binidx, 1] = hst1d[1][i]\n",
    "print('Mass-to-charge-state histogram created.')"
   ]
  },
  {
   "cell_type": "code",
   "execution_count": null,
   "metadata": {},
   "outputs": [],
   "source": [
    "[xmi, xmx, ymi, ymx] = [mqmin, 10**np.ceil(np.log10(mqmax)), 0.5, 10**np.ceil(np.log10(np.max(xy[:,1])))]\n",
    "[xmi, xmx, ymi, ymx] = [mqmin, mqmax, 0.5, 10**np.ceil(np.log10(np.max(xy[:,1])))]\n",
    "fig, cnts_over_mq = plt.subplots(1, 1)\n",
    "plt.plot(xy[:, 0], xy[:, 1], color='blue', alpha=0.5, linewidth=1.0)\n",
    "for i in np.arange(1,nions + 1):\n",
    "    # load ranges and plot them\n",
    "    ranges = hf['entry/atom_probe/ranging/peak_identification/ion' + str(i) + '/mass_to_charge_range'][:]\n",
    "    for min_max in ranges:\n",
    "        cnts_over_mq.vlines(min_max[0], 0, 1, transform=cnts_over_mq.get_xaxis_transform(), alpha=0.1, color='grey', linestyles='dotted')\n",
    "        cnts_over_mq.vlines(min_max[1], 0, 1, transform=cnts_over_mq.get_xaxis_transform(), alpha=0.1, color='grey', linestyles='dotted')\n",
    "        #rng = Rectangle((min_max[0], ymi), min_max[1] - min_max[0], ymx - ymi, edgecolor='r', facecolor=\"none\")\n",
    "# plt.xticks([1, 2, 3, 4, 5, 6, 7, 8, 9], ['Min', '0.0025', '0.025', '0.25', '0.50', '0.75', '0.975', '0.9975', 'Max'])\n",
    "plt.yscale('log')\n",
    "plt.legend( [r'Mass-to-charge-state ratio $\\Delta\\frac{m}{q} = $'+str(mqincr)+' Da'], loc='upper right')\n",
    "plt.xlabel(r'Mass-to-charge-state-ratio (Da)')\n",
    "plt.ylabel(r'Counts')\n",
    "print('Mass-to-charge-state histogram visualized.')\n",
    "# scale bar with add margin to the bottom and top of the yaxis to avoid that lines fall on x axis\n",
    "margin=0.01  # polishing the margins\n",
    "plt.xlim([-margin * (xmx - xmi) + xmi, +margin * (xmx - xmi) + xmx])\n",
    "plt.ylim([ymi, +margin * (ymx - ymi) + ymx])"
   ]
  },
  {
   "cell_type": "code",
   "execution_count": null,
   "metadata": {},
   "outputs": [],
   "source": [
    "#save the figure\n",
    "figfn = h5_file_name + '.MassToChargeStateRatios.png'\n",
    "fig.savefig(figfn, dpi=300, facecolor='w', edgecolor='w', orientation='landscape', format='png', \n",
    "            transparent=False, bbox_inches='tight', pad_inches=0.1, metadata=None)\n",
    "#plt.close('all')\n",
    "print(figfn + ' stored to disk.')"
   ]
  },
  {
   "cell_type": "markdown",
   "metadata": {},
   "source": [
    "### Further comments:"
   ]
  },
  {
   "cell_type": "markdown",
   "metadata": {},
   "source": [
    "* Feel free to explore our atom probe microscopy containers in the north branch for more advanced processing"
   ]
  },
  {
   "cell_type": "code",
   "execution_count": null,
   "metadata": {},
   "outputs": [],
   "source": []
  }
 ],
 "metadata": {
  "kernelspec": {
   "display_name": "Python 3 (ipykernel)",
   "language": "python",
   "name": "python3"
  },
  "language_info": {
   "codemirror_mode": {
    "name": "ipython",
    "version": 3
   },
   "file_extension": ".py",
   "mimetype": "text/x-python",
   "name": "python",
   "nbconvert_exporter": "python",
   "pygments_lexer": "ipython3",
   "version": "3.8.10"
  }
 },
 "nbformat": 4,
 "nbformat_minor": 4
}
