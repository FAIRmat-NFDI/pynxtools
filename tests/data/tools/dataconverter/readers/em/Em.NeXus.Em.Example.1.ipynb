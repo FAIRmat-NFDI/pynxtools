{
 "cells": [
  {
   "cell_type": "markdown",
   "metadata": {},
   "source": [
    "## nomad-parser-nexus demo"
   ]
  },
  {
   "cell_type": "markdown",
   "metadata": {},
   "source": [
    "Sprint5, EM"
   ]
  },
  {
   "cell_type": "markdown",
   "metadata": {},
   "source": [
    "### Step -1: Set up dependencies for jupyterlab_h5web"
   ]
  },
  {
   "cell_type": "markdown",
   "metadata": {},
   "source": [
    "<p style=\"color:red\">Instructions how to set up all dependencies to start a new virtualenv with a jupyterlab installation.</p>"
   ]
  },
  {
   "cell_type": "code",
   "execution_count": null,
   "metadata": {},
   "outputs": [],
   "source": [
    "# start with a fresh virtualenv\n",
    "# ! pip install virtualenv\n",
    "# ! virtualenv --python=python3.7 .py37env\n",
    "# ! source .py37env/bin/activate\n",
    "\n",
    "# install jupyter, jupyter-lab and web extensions\n",
    "\n",
    "#inside SPRINT5-JUPYTER-TEST-02, conda, python 3.7, jupyter, jupyterlab"
   ]
  },
  {
   "cell_type": "code",
   "execution_count": null,
   "metadata": {},
   "outputs": [],
   "source": [
    "# ! pip install --upgrade nodejs && pip install ipywidgets h5py==3.5.0 h5glance==0.7 h5grove==0.0.8 jupyterlab[full]==2.3.0 jupyterlab_h5web[full]==0.0.11 punx==0.2.5 nexpy==0.14.1 silx[full] && jupyter lab build"
   ]
  },
  {
   "cell_type": "code",
   "execution_count": null,
   "metadata": {},
   "outputs": [],
   "source": [
    "# ! jupyter nbextension enable --py widgetsnbextension"
   ]
  },
  {
   "cell_type": "code",
   "execution_count": null,
   "metadata": {},
   "outputs": [],
   "source": [
    "# ! jupyter serverextension enable jupyterlab_h5web"
   ]
  },
  {
   "cell_type": "markdown",
   "metadata": {},
   "source": [
    "<p style=\"color:red\">Restart the Jupyter kernel, or easier start the following code after you have setup these environment steps.</p>"
   ]
  },
  {
   "cell_type": "markdown",
   "metadata": {},
   "source": [
    "### Step 0: Installating and testing nomad-parser-nexus module"
   ]
  },
  {
   "cell_type": "code",
   "execution_count": null,
   "metadata": {
    "tags": []
   },
   "outputs": [],
   "source": [
    "! pip list && pip install --upgrade pip && pip install nomad-lab==1.0.0 --extra-index-url https://gitlab.mpcdf.mpg.de/api/v4/projects/2187/packages/pypi/simple"
   ]
  },
  {
   "cell_type": "code",
   "execution_count": null,
   "metadata": {
    "tags": []
   },
   "outputs": [],
   "source": [
    "! git clone https://github.com/nomad-coe/nomad-parser-nexus.git --branch yaml2nxdl --recursive parser-nexus && cd parser-nexus && git status && pip install -r requirements.txt\n",
    "# once yaml2nxdl was merged with master\n",
    "# ! git clone https://github.com/nomad-coe/nomad-parser-nexus.git --recursive parser-nexus && cd parser-nexus && git status && pip install -r requirements.txt"
   ]
  },
  {
   "cell_type": "code",
   "execution_count": null,
   "metadata": {},
   "outputs": [],
   "source": [
    "# ! cd parser-nexus && git status && git pull && pip install -r requirements.txt"
   ]
  },
  {
   "cell_type": "code",
   "execution_count": null,
   "metadata": {
    "tags": []
   },
   "outputs": [],
   "source": [
    "! cd parser-nexus && pip install -e .[all]\n",
    "! pip list | grep nomad*\n",
    "! pip list | grep nexus*"
   ]
  },
  {
   "cell_type": "code",
   "execution_count": null,
   "metadata": {},
   "outputs": [],
   "source": [
    "# in the above cells clear redundant commands based on todays history\n",
    "! cd parser-nexus && pytest -sv tests"
   ]
  },
  {
   "cell_type": "markdown",
   "metadata": {
    "tags": []
   },
   "source": [
    "### Step 1: Download example data (for EM)"
   ]
  },
  {
   "cell_type": "code",
   "execution_count": 2,
   "metadata": {
    "tags": []
   },
   "outputs": [
    {
     "name": "stdout",
     "output_type": "stream",
     "text": [
      "  % Total    % Received % Xferd  Average Speed   Time    Time     Time  Current\n",
      "                                 Dload  Upload   Total   Spent    Left  Speed\n",
      "100  498k  100  498k    0     0   361k      0  0:00:01  0:00:01 --:--:--  361k\n"
     ]
    }
   ],
   "source": [
    "# showing here the example for APM, http://dx.doi.org/10.5281/zenodo.5911409\n",
    "import shutil\n",
    "! curl --output EM.STEM.Nion.Datasets.3.zip https://zenodo.org/record/5911409/files/EM.STEM.Nion.Datasets.3.zip\n",
    "shutil.unpack_archive('EM.STEM.Nion.Datasets.3.zip')"
   ]
  },
  {
   "cell_type": "markdown",
   "metadata": {
    "tags": []
   },
   "source": [
    "### Step 2: Run your \\<\\<YOUR_METHOD\\>\\>-specific dataconverter/readers/\\<\\<YOUR_READER\\>\\> on your \\<\\<EXAMPLE_DATA\\>\\>"
   ]
  },
  {
   "cell_type": "code",
   "execution_count": 10,
   "metadata": {
    "tags": []
   },
   "outputs": [
    {
     "name": "stdout",
     "output_type": "stream",
     "text": [
      "Using em_nion reader to convert the given files:  \n",
      "• HAADF_01.npy\n",
      "• HAADF_01.ELabFTW.dat\n",
      "• HAADF_01.json \n",
      "Add metadata which come from other sources...\n",
      "Extracting data from NionSwift JSON file: HAADF_01.json\n",
      "Loading: NionSwiftJsonToNexusTranslationTable.ods from...\n",
      "/home/mkuehbach/SPRINT5-JUPYTER-TEST-03/readers/em_nion/utils/\n",
      "Add metadata/data from numpy array(s) representing scans...\n",
      "Extracting data from NionSwift NPY file: HAADF_01.npy\n",
      "Add metadata from e.g.ELN/LIMS dump JSON files...\n",
      "Extracting data from ELN/LIMS/others JSON file: HAADF_01.ELabFTW.dat\n",
      "The output file generated: em3.test.nxs\n"
     ]
    }
   ],
   "source": [
    "#parser-nexus/tests/data/tools/dataconverter/readers/em/\n",
    "! python parser-nexus/nexusparser/tools/dataconverter/convert.py --reader em_nion --nxdl parser-nexus/nexusparser/definitions/applications/NXem_nion.nxdl.xml \\\n",
    "--input-file HAADF_01.npy \\\n",
    "--input-file HAADF_01.ELabFTW.dat \\\n",
    "--input-file HAADF_01.json --output em3.test.nxs"
   ]
  },
  {
   "cell_type": "markdown",
   "metadata": {},
   "source": [
    "**The key take home message is that the above-specified command triggers the automatic creation of the HDF5 file.** This *.nxs file, is an HDF5 file."
   ]
  },
  {
   "cell_type": "markdown",
   "metadata": {},
   "source": [
    "### Step 3: Inspect the HDF5/NeXus file em3.test.nxs using H5Web"
   ]
  },
  {
   "cell_type": "code",
   "execution_count": 5,
   "metadata": {},
   "outputs": [
    {
     "name": "stdout",
     "output_type": "stream",
     "text": [
      "config dir: /home/mkuehbach/.jupyter\n",
      "    jupyterlab_h5web \u001b[32m enabled \u001b[0m\n",
      "    - Validating...\n",
      "      jupyterlab_h5web  \u001b[32mOK\u001b[0m\n",
      "config dir: /home/mkuehbach/SPRINT5-JUPYTER-TEST-03/.pyenv/etc/jupyter\n",
      "    jupyterlab_h5web \u001b[32m enabled \u001b[0m\n",
      "    - Validating...\n",
      "      jupyterlab_h5web  \u001b[32mOK\u001b[0m\n",
      "    jupyterlab \u001b[32m enabled \u001b[0m\n",
      "    - Validating...\n",
      "      jupyterlab 2.3.0 \u001b[32mOK\u001b[0m\n",
      "JupyterLab v2.3.0\n",
      "Known labextensions:\n",
      "   app dir: /home/mkuehbach/SPRINT5-JUPYTER-TEST-03/.pyenv/share/jupyter/lab\n",
      "        jupyterlab-h5web v0.0.11 \u001b[32m enabled \u001b[0m \u001b[32mOK\u001b[0m\n"
     ]
    }
   ],
   "source": [
    "! jupyter serverextension list\n",
    "! jupyter labextension list"
   ]
  },
  {
   "cell_type": "code",
   "execution_count": 6,
   "metadata": {},
   "outputs": [],
   "source": [
    "from jupyterlab_h5web import H5Web"
   ]
  },
  {
   "cell_type": "code",
   "execution_count": 7,
   "metadata": {},
   "outputs": [],
   "source": [
    "# h5_file_name = 'parser-nexus/tests/data/nexus_test_data/201805_WSe2_arpes.nxs'\n",
    "h5_file_name = 'em3.test.nxs'"
   ]
  },
  {
   "cell_type": "code",
   "execution_count": 8,
   "metadata": {},
   "outputs": [
    {
     "data": {
      "application/x-hdf5": "/home/mkuehbach/SPRINT5-JUPYTER-TEST-03/em3.test.nxs",
      "text/plain": [
       "<jupyterlab_h5web.widget.H5Web object>"
      ]
     },
     "execution_count": 8,
     "metadata": {},
     "output_type": "execute_result"
    }
   ],
   "source": [
    "H5Web(h5_file_name)"
   ]
  },
  {
   "cell_type": "markdown",
   "metadata": {},
   "source": [
    "Here is where the general template ends. Continue to fill the notebook based on<br>\n",
    "**your own** post-processing of the *.nxs file, taking e.g. inspiration from<br>\n",
    "sprints 2 and 3 in the nomad-remote-tools-hub mpcdf git repo."
   ]
  },
  {
   "cell_type": "markdown",
   "metadata": {},
   "source": [
    "Congratulations. **Given that all NORTH tools have mounted your current directory, you can now inspect this HDF5 file.**<br>\n",
    "**The clue is you can now use the data processing tools from NORTH for analysing apm.test.nxs further.**<br>\n",
    "Again, these analysis tools come shipped with nomad so there is no need to install them locally.<br>"
   ]
  },
  {
   "cell_type": "code",
   "execution_count": null,
   "metadata": {},
   "outputs": [],
   "source": []
  }
 ],
 "metadata": {
  "kernelspec": {
   "display_name": "Python 3 (ipykernel)",
   "language": "python",
   "name": "python3"
  },
  "language_info": {
   "codemirror_mode": {
    "name": "ipython",
    "version": 3
   },
   "file_extension": ".py",
   "mimetype": "text/x-python",
   "name": "python",
   "nbconvert_exporter": "python",
   "pygments_lexer": "ipython3",
   "version": "3.7.12"
  }
 },
 "nbformat": 4,
 "nbformat_minor": 4
}
