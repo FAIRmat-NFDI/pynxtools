{
 "cells": [
  {
   "cell_type": "markdown",
   "metadata": {},
   "source": [
    "## nomad-parser-nexus demo"
   ]
  },
  {
   "cell_type": "markdown",
   "metadata": {},
   "source": [
    "Sprint5, EM"
   ]
  },
  {
   "cell_type": "markdown",
   "metadata": {},
   "source": [
    "### Step -1: Set up dependencies for jupyterlab_h5web"
   ]
  },
  {
   "cell_type": "markdown",
   "metadata": {},
   "source": [
    "<p style=\"color:red\">The following instructions detail how you can set up all dependencies in a new virtualenv with a jupyter-lab installation.</p>"
   ]
  },
  {
   "cell_type": "code",
   "execution_count": null,
   "metadata": {},
   "outputs": [],
   "source": [
    "# start with a fresh virtualenv\n",
    "# ! pip install virtualenv\n",
    "# ! virtualenv --python=python3.7 .py37env\n",
    "# ! source .py37env/bin/activate"
   ]
  },
  {
   "cell_type": "code",
   "execution_count": null,
   "metadata": {},
   "outputs": [],
   "source": [
    "# install jupyter, jupyter-lab and web extensions\n",
    "# ! pip install --upgrade nodejs && pip install ipywidgets h5py==3.5.0 h5glance==0.7 h5grove==0.0.8 jupyterlab[full]==2.3.0 jupyterlab_h5web[full]==0.0.11 punx==0.2.5 nexpy==0.14.1 silx[full] && jupyter lab build"
   ]
  },
  {
   "cell_type": "code",
   "execution_count": null,
   "metadata": {},
   "outputs": [],
   "source": [
    "# activate extensions which are required for running notebooks\n",
    "# ! jupyter nbextension enable --py widgetsnbextension\n",
    "# ! jupyter serverextension enable jupyterlab_h5web"
   ]
  },
  {
   "cell_type": "markdown",
   "metadata": {},
   "source": [
    "<p style=\"color:red\">Restart the Jupyter kernel, or easier, start up this jupyter notebook after you have made these above-mentioned installations. You need to do these only once, unless the code changes, in the production version, this these installation will be provided already by the nexus container.</p>"
   ]
  },
  {
   "cell_type": "markdown",
   "metadata": {},
   "source": [
    "### Step 0: Installating and testing nomad-parser-nexus module"
   ]
  },
  {
   "cell_type": "code",
   "execution_count": null,
   "metadata": {
    "tags": []
   },
   "outputs": [],
   "source": [
    "! pip list && pip install --upgrade pip && pip install nomad-lab==1.0.0 --extra-index-url https://gitlab.mpcdf.mpg.de/api/v4/projects/2187/packages/pypi/simple"
   ]
  },
  {
   "cell_type": "code",
   "execution_count": null,
   "metadata": {
    "tags": []
   },
   "outputs": [],
   "source": [
    "# to clone from a specific branch\n",
    "# ! git clone https://github.com/nomad-coe/nomad-parser-nexus.git --branch yaml2nxdl --recursive parser-nexus && cd parser-nexus && git status && pip install -r requirements.txt\n",
    "# to clone the master branch\n",
    "# ! git clone https://github.com/nomad-coe/nomad-parser-nexus.git --recursive parser-nexus && cd parser-nexus && git status && pip install -r requirements.txt"
   ]
  },
  {
   "cell_type": "code",
   "execution_count": null,
   "metadata": {
    "tags": []
   },
   "outputs": [],
   "source": [
    "# ! cd parser-nexus && pip install -e .[all]\n",
    "# ! pip list | grep nomad*\n",
    "# ! pip list | grep nexus*"
   ]
  },
  {
   "cell_type": "code",
   "execution_count": null,
   "metadata": {},
   "outputs": [],
   "source": [
    "# in the above cells clear redundant commands based on todays history\n",
    "# ! cd parser-nexus && pytest -sv tests"
   ]
  },
  {
   "cell_type": "code",
   "execution_count": 1,
   "metadata": {},
   "outputs": [
    {
     "name": "stdout",
     "output_type": "stream",
     "text": [
      "/home/mkuehbach/SPRINT5-JUPYTER-TEST-03/parser-nexus/nexusparser\n",
      "/home/mkuehbach/SPRINT5-JUPYTER-TEST-03/parser-nexus/nexusparser/../tests/data/tools/dataconverter/readers/em/\n"
     ]
    }
   ],
   "source": [
    "import os\n",
    "import nexusparser\n",
    "nexus_dir = os.path.dirname(nexusparser.__file__)  # where the nexusparser module is located!!!!\n",
    "print(nexus_dir)"
   ]
  },
  {
   "cell_type": "markdown",
   "metadata": {
    "tags": []
   },
   "source": [
    "### Step 1: Download example data (for EM)"
   ]
  },
  {
   "cell_type": "code",
   "execution_count": 2,
   "metadata": {},
   "outputs": [
    {
     "data": {
      "text/plain": [
       "'/home/mkuehbach/SPRINT5-JUPYTER-TEST-03/parser-nexus/tests/data/tools/dataconverter/readers/em'"
      ]
     },
     "execution_count": 2,
     "metadata": {},
     "output_type": "execute_result"
    }
   ],
   "source": [
    "# inspect the directory where this example gets stored\n",
    "os.getcwd()"
   ]
  },
  {
   "cell_type": "code",
   "execution_count": 14,
   "metadata": {
    "tags": []
   },
   "outputs": [
    {
     "name": "stdout",
     "output_type": "stream",
     "text": [
      "  % Total    % Received % Xferd  Average Speed   Time    Time     Time  Current\n",
      "                                 Dload  Upload   Total   Spent    Left  Speed\n",
      "100  498k  100  498k    0     0  55500      0  0:00:09  0:00:09 --:--:--  127k\n"
     ]
    }
   ],
   "source": [
    "# showing here the example for EM, http://dx.doi.org/10.5281/zenodo.5911409\n",
    "import shutil\n",
    "! cd $PWD && curl --output EM.STEM.Nion.Datasets.3.zip https://zenodo.org/record/5911409/files/EM.STEM.Nion.Datasets.3.zip\n",
    "shutil.unpack_archive(data_dir + 'EM.STEM.Nion.Datasets.3.zip')\n",
    "# inspect that the files are there"
   ]
  },
  {
   "cell_type": "markdown",
   "metadata": {
    "tags": []
   },
   "source": [
    "### Step 2: Run your electron-microscopy-specific dataconverter/readers/em_nion on your example data."
   ]
  },
  {
   "cell_type": "code",
   "execution_count": 3,
   "metadata": {},
   "outputs": [
    {
     "name": "stdout",
     "output_type": "stream",
     "text": [
      "/home/mkuehbach/SPRINT5-JUPYTER-TEST-03/parser-nexus/nexusparser\n",
      "/home/mkuehbach/SPRINT5-JUPYTER-TEST-03/parser-nexus/nexusparser/../tests/data/tools/dataconverter/readers/em/\n"
     ]
    }
   ],
   "source": [
    "# inspect the directory where we call the parser from\n",
    "# os.getcwd()\n",
    "# print(nexus_dir)"
   ]
  },
  {
   "cell_type": "code",
   "execution_count": 15,
   "metadata": {},
   "outputs": [
    {
     "name": "stdout",
     "output_type": "stream",
     "text": [
      "Using em_nion reader to convert the given files:  \n",
      "• HAADF_01.npy\n",
      "• HAADF_01.ELabFTW.dat\n",
      "• HAADF_01.json \n",
      "Add metadata which come from other sources...\n",
      "Extracting data from NionSwift JSON file: HAADF_01.json\n",
      "Loading: NionSwiftJsonToNexusTranslationTable.ods from...\n",
      "/home/mkuehbach/SPRINT5-JUPYTER-TEST-03/parser-nexus/tests/data/tools/dataconverter/readers/em/readers/em_nion/utils/\n",
      "Add metadata/data from numpy array(s) representing scans...\n",
      "Extracting data from NionSwift NPY file: HAADF_01.npy\n",
      "Add metadata from e.g.ELN/LIMS dump JSON files...\n",
      "Extracting data from ELN/LIMS/others JSON file: HAADF_01.ELabFTW.dat\n",
      "The output file generated: em0001.test.nxs\n"
     ]
    }
   ],
   "source": [
    "#parser-nexus/tests/data/tools/dataconverter/readers/em/\n",
    "! python {nexus_dir}/tools/dataconverter/convert.py \\\n",
    "--reader em_nion \\\n",
    "--nxdl {nexus_dir}/definitions/applications/NXem_nion.nxdl.xml \\\n",
    "--input-file HAADF_01.npy \\\n",
    "--input-file HAADF_01.ELabFTW.dat \\\n",
    "--input-file HAADF_01.json \\\n",
    "--output em0001.test.nxs"
   ]
  },
  {
   "cell_type": "markdown",
   "metadata": {},
   "source": [
    "**The key take home message is that the above-specified command triggers the automatic creation of the HDF5 file.** This *.nxs file, is an HDF5 file."
   ]
  },
  {
   "cell_type": "markdown",
   "metadata": {},
   "source": [
    "### Step 3: Inspect the HDF5/NeXus file em*.test.nxs using H5Web"
   ]
  },
  {
   "cell_type": "code",
   "execution_count": 16,
   "metadata": {},
   "outputs": [
    {
     "name": "stdout",
     "output_type": "stream",
     "text": [
      "config dir: /home/mkuehbach/.jupyter\n",
      "    jupyterlab_h5web \u001b[32m enabled \u001b[0m\n",
      "    - Validating...\n",
      "      jupyterlab_h5web  \u001b[32mOK\u001b[0m\n",
      "config dir: /home/mkuehbach/SPRINT5-JUPYTER-TEST-03/.pyenv/etc/jupyter\n",
      "    jupyterlab_h5web \u001b[32m enabled \u001b[0m\n",
      "    - Validating...\n",
      "      jupyterlab_h5web  \u001b[32mOK\u001b[0m\n",
      "    jupyterlab \u001b[32m enabled \u001b[0m\n",
      "    - Validating...\n",
      "      jupyterlab 2.3.0 \u001b[32mOK\u001b[0m\n",
      "JupyterLab v2.3.0\n",
      "Known labextensions:\n",
      "   app dir: /home/mkuehbach/SPRINT5-JUPYTER-TEST-03/.pyenv/share/jupyter/lab\n",
      "        jupyterlab-h5web v0.0.11 \u001b[32m enabled \u001b[0m \u001b[32mOK\u001b[0m\n"
     ]
    }
   ],
   "source": [
    "! jupyter serverextension list\n",
    "! jupyter labextension list"
   ]
  },
  {
   "cell_type": "code",
   "execution_count": 17,
   "metadata": {},
   "outputs": [],
   "source": [
    "from jupyterlab_h5web import H5Web"
   ]
  },
  {
   "cell_type": "code",
   "execution_count": 18,
   "metadata": {},
   "outputs": [],
   "source": [
    "# h5_file_name = 'parser-nexus/tests/data/nexus_test_data/201805_WSe2_arpes.nxs'\n",
    "h5_file_name = 'em0001.test.nxs'"
   ]
  },
  {
   "cell_type": "code",
   "execution_count": 19,
   "metadata": {},
   "outputs": [
    {
     "data": {
      "application/x-hdf5": "/home/mkuehbach/SPRINT5-JUPYTER-TEST-03/parser-nexus/tests/data/tools/dataconverter/readers/em/em0001.test.nxs",
      "text/plain": [
       "<jupyterlab_h5web.widget.H5Web object>"
      ]
     },
     "execution_count": 19,
     "metadata": {},
     "output_type": "execute_result"
    }
   ],
   "source": [
    "H5Web(h5_file_name)"
   ]
  },
  {
   "cell_type": "markdown",
   "metadata": {},
   "source": [
    "Here is where the general template ends. Continue with filling in the notebook with your own post-processing of this *.nxs file."
   ]
  },
  {
   "cell_type": "code",
   "execution_count": null,
   "metadata": {},
   "outputs": [],
   "source": [
    "Markus Kühbach, 2022/01/28"
   ]
  }
 ],
 "metadata": {
  "kernelspec": {
   "display_name": "Python 3 (ipykernel)",
   "language": "python",
   "name": "python3"
  },
  "language_info": {
   "codemirror_mode": {
    "name": "ipython",
    "version": 3
   },
   "file_extension": ".py",
   "mimetype": "text/x-python",
   "name": "python",
   "nbconvert_exporter": "python",
   "pygments_lexer": "ipython3",
   "version": "3.7.12"
  }
 },
 "nbformat": 4,
 "nbformat_minor": 4
}
