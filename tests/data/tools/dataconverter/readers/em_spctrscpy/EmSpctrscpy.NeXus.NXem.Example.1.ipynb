{
 "cells": [
  {
   "cell_type": "markdown",
   "metadata": {},
   "source": [
    "## NOMAD-PARSER-NEXUS/DATACONVERTER for X-ray and Electron Energy Loss Spectroscopy with Electron Microscopy data (EM-SPCTRSCPY)"
   ]
  },
  {
   "cell_type": "markdown",
   "metadata": {
    "tags": []
   },
   "source": [
    "### **Step 1:** Check that everything is ready to go and download example data for EDS/STEM, EELS/TEM."
   ]
  },
  {
   "cell_type": "code",
   "execution_count": 1,
   "metadata": {},
   "outputs": [
    {
     "name": "stdout",
     "output_type": "stream",
     "text": [
      "nexusparser          0.0.1       /home/mkuehbach/SPRINT-9/consolidate_nomad_parser_nexus/nomad-parser-nexus\n",
      "config dir: /home/mkuehbach/.jupyter\n",
      "    jupyterlab_h5web \u001b[32m enabled \u001b[0m\n",
      "    - Validating...\n",
      "      jupyterlab_h5web 5.0.0 \u001b[32mOK\u001b[0m\n",
      "    jupyter_nbextensions_configurator \u001b[32m enabled \u001b[0m\n",
      "    - Validating...\n",
      "      jupyter_nbextensions_configurator 0.4.1 \u001b[32mOK\u001b[0m\n",
      "config dir: /home/mkuehbach/.local/etc/jupyter\n",
      "    jupyterlab \u001b[32m enabled \u001b[0m\n",
      "    - Validating...\n",
      "      jupyterlab 3.4.3 \u001b[32mOK\u001b[0m\n",
      "    jupyterlab_h5web \u001b[32m enabled \u001b[0m\n",
      "    - Validating...\n",
      "      jupyterlab_h5web 5.0.0 \u001b[32mOK\u001b[0m\n",
      "JupyterLab v3.4.3\n",
      "/home/mkuehbach/.local/share/jupyter/labextensions\n",
      "        jupyterlab_pygments v0.2.2 \u001b[32menabled\u001b[0m \u001b[32mOK\u001b[0m (python, jupyterlab_pygments)\n",
      "        jupyterlab-h5web v5.0.0 \u001b[32menabled\u001b[0m \u001b[32mOK\u001b[0m (python, jupyterlab_h5web)\n",
      "        @jupyter-widgets/jupyterlab-manager v3.1.0 \u001b[32menabled\u001b[0m \u001b[32mOK\u001b[0m (python, jupyterlab_widgets)\n",
      "\n"
     ]
    }
   ],
   "source": [
    "! pip list | grep 'nomad\\|nexus'\n",
    "! jupyter serverextension list\n",
    "! jupyter labextension list"
   ]
  },
  {
   "cell_type": "markdown",
   "metadata": {},
   "source": [
    "### **Step 2:** Download EM-SPCTRSCPY-specific example data or use your own numerical dataset."
   ]
  },
  {
   "cell_type": "markdown",
   "metadata": {
    "tags": []
   },
   "source": [
    "Example data can be found on Zenodo http://dx.doi.org/10.5281/zenodo.7030811."
   ]
  },
  {
   "cell_type": "code",
   "execution_count": 3,
   "metadata": {
    "tags": []
   },
   "outputs": [
    {
     "name": "stdout",
     "output_type": "stream",
     "text": [
      "  % Total    % Received % Xferd  Average Speed   Time    Time     Time  Current\n",
      "                                 Dload  Upload   Total   Spent    Left  Speed\n",
      "100  118M  100  118M    0     0  1688k      0  0:01:11  0:01:11 --:--:-- 1522k\n"
     ]
    }
   ],
   "source": [
    "import shutil\n",
    "! cd $PWD && curl --output em-spctrscpy-sprint9-example.zip https://zenodo.org/record/7050774/files/em-spctrscpy-sprint9-example.zip\n",
    "shutil.unpack_archive('em-spctrscpy-sprint9-example.zip')"
   ]
  },
  {
   "cell_type": "markdown",
   "metadata": {},
   "source": [
    "These files should serve exclusively as examples. <font color=\"orange\">The dataconverter for EM-SPCTRSCPY always requires a pair of files</font>:\n",
    "* The **numerical datasets** from the microscope or image processing software. Currently *.bcf, *.emd, or *.dm3 are supported.\n",
    "* A **file with additional metadata (edited manually or via an ELLN) in YAML format.** The eln_data_em.yaml in the example can be edited with a text editor. For GUI-based editing, a NOMAD OASIS instance is needed.<br>\n",
    "<font color=\"red\">Please note that the metadata inside the provided eln_data_em.yaml file has example data in it.</font><br>\n",
    "<font color=\"red\">These reflect not necessarily the conditions when the raw data for the example given. The file is meant to be edited!</font>."
   ]
  },
  {
   "cell_type": "markdown",
   "metadata": {
    "tags": []
   },
   "source": [
    "### **Step 3:** Run your EM-spectroscopy-specific dataconverter/readers/ on the example data."
   ]
  },
  {
   "cell_type": "markdown",
   "metadata": {},
   "source": [
    "Set the nexusparser directory."
   ]
  },
  {
   "cell_type": "code",
   "execution_count": 2,
   "metadata": {},
   "outputs": [
    {
     "name": "stdout",
     "output_type": "stream",
     "text": [
      "/home/mkuehbach/SPRINT-9/consolidate_nomad_parser_nexus/nomad-parser-nexus/nexusparser\n"
     ]
    }
   ],
   "source": [
    "import os\n",
    "import nexusparser\n",
    "nexus_dir = os.path.dirname(nexusparser.__file__)  # where the nexusparser module is located!!!!\n",
    "print(nexus_dir)"
   ]
  },
  {
   "cell_type": "markdown",
   "metadata": {},
   "source": [
    "Now we run our parser. The --reader flag takes the em-spctrscpy reader, the --nxdl flag takes the application definition for this technique NXem."
   ]
  },
  {
   "cell_type": "code",
   "execution_count": 3,
   "metadata": {},
   "outputs": [
    {
     "name": "stdout",
     "output_type": "stream",
     "text": [
      "Usage: convert.py [OPTIONS]\n",
      "\n",
      "  The CLI entrypoint for the convert function\n",
      "\n",
      "Options:\n",
      "  --input-file TEXT               The path to the input data file to read.\n",
      "                                  (Repeat for more than one file.)\n",
      "  --reader [example|apm|transmission|json_map|em_nion|ellips|em_spctrscpy|mpes]\n",
      "                                  The reader to use. default=\"example\"\n",
      "  --nxdl TEXT                     The name of the NXDL file to use without\n",
      "                                  extension.\n",
      "  --output TEXT                   The path to the output Nexus file to be\n",
      "                                  generated.\n",
      "  --generate-template             Just print out the template generated from\n",
      "                                  given NXDL file.\n",
      "  --fair                          Let the converter know to be stricter in\n",
      "                                  checking the documentation.\n",
      "  --params-file FILENAME          Allows to pass a .yaml file with all the\n",
      "                                  parameters the converter supports.\n",
      "  --help                          Show this message and exit.\n"
     ]
    }
   ],
   "source": [
    "! python3 {nexus_dir}/tools/dataconverter/convert.py --help"
   ]
  },
  {
   "cell_type": "markdown",
   "metadata": {},
   "source": [
    "If you want to see which groups, fields, and attributes are defined in NXem."
   ]
  },
  {
   "cell_type": "code",
   "execution_count": 4,
   "metadata": {},
   "outputs": [
    {
     "name": "stdout",
     "output_type": "stream",
     "text": [
      "{\n",
      "    \"/ENTRY[entry]/@version\": \"None\",\n",
      "    \"/ENTRY[entry]/USER[user]/address\": \"None\",\n",
      "    \"/ENTRY[entry]/USER[user]/affiliation\": \"None\",\n",
      "    \"/ENTRY[entry]/USER[user]/email\": \"None\",\n",
      "    \"/ENTRY[entry]/USER[user]/name\": \"None\",\n",
      "    \"/ENTRY[entry]/USER[user]/orcid\": \"None\",\n",
      "    \"/ENTRY[entry]/USER[user]/orcid_platform\": \"None\",\n",
      "    \"/ENTRY[entry]/USER[user]/role\": \"None\",\n",
      "    \"/ENTRY[entry]/USER[user]/social_media_name\": \"None\",\n",
      "    \"/ENTRY[entry]/USER[user]/social_media_platform\": \"None\",\n",
      "    \"/ENTRY[entry]/USER[user]/telephone_number\": \"None\",\n",
      "    \"/ENTRY[entry]/definition\": \"None\",\n",
      "    \"/ENTRY[entry]/em_lab/DETECTOR[detector]/MANUFACTURER[manufacturer]/identifier\": \"None\",\n",
      "    \"/ENTRY[entry]/em_lab/DETECTOR[detector]/MANUFACTURER[manufacturer]/model\": \"None\",\n",
      "    \"/ENTRY[entry]/em_lab/DETECTOR[detector]/MANUFACTURER[manufacturer]/name\": \"None\",\n",
      "    \"/ENTRY[entry]/em_lab/DETECTOR[detector]/type\": \"None\",\n",
      "    \"/ENTRY[entry]/em_lab/EBEAM_COLUMN[ebeam_column]/APERTURE_EM[aperture_em]/MANUFACTURER[manufacturer]/identifier\": \"None\",\n",
      "    \"/ENTRY[entry]/em_lab/EBEAM_COLUMN[ebeam_column]/APERTURE_EM[aperture_em]/MANUFACTURER[manufacturer]/model\": \"None\",\n",
      "    \"/ENTRY[entry]/em_lab/EBEAM_COLUMN[ebeam_column]/APERTURE_EM[aperture_em]/MANUFACTURER[manufacturer]/name\": \"None\",\n",
      "    \"/ENTRY[entry]/em_lab/EBEAM_COLUMN[ebeam_column]/APERTURE_EM[aperture_em]/description\": \"None\",\n",
      "    \"/ENTRY[entry]/em_lab/EBEAM_COLUMN[ebeam_column]/APERTURE_EM[aperture_em]/name\": \"None\",\n",
      "    \"/ENTRY[entry]/em_lab/EBEAM_COLUMN[ebeam_column]/APERTURE_EM[aperture_em]/value\": \"None\",\n",
      "    \"/ENTRY[entry]/em_lab/EBEAM_COLUMN[ebeam_column]/LENS_EM[lens_em]/MANUFACTURER[manufacturer]/identifier\": \"None\",\n",
      "    \"/ENTRY[entry]/em_lab/EBEAM_COLUMN[ebeam_column]/LENS_EM[lens_em]/MANUFACTURER[manufacturer]/model\": \"None\",\n",
      "    \"/ENTRY[entry]/em_lab/EBEAM_COLUMN[ebeam_column]/LENS_EM[lens_em]/MANUFACTURER[manufacturer]/name\": \"None\",\n",
      "    \"/ENTRY[entry]/em_lab/EBEAM_COLUMN[ebeam_column]/LENS_EM[lens_em]/current\": \"None\",\n",
      "    \"/ENTRY[entry]/em_lab/EBEAM_COLUMN[ebeam_column]/LENS_EM[lens_em]/value\": \"None\",\n",
      "    \"/ENTRY[entry]/em_lab/EBEAM_COLUMN[ebeam_column]/LENS_EM[lens_em]/voltage\": \"None\",\n",
      "    \"/ENTRY[entry]/em_lab/EBEAM_COLUMN[ebeam_column]/MANUFACTURER[manufacturer]/identifier\": \"None\",\n",
      "    \"/ENTRY[entry]/em_lab/EBEAM_COLUMN[ebeam_column]/MANUFACTURER[manufacturer]/model\": \"None\",\n",
      "    \"/ENTRY[entry]/em_lab/EBEAM_COLUMN[ebeam_column]/MANUFACTURER[manufacturer]/name\": \"None\",\n",
      "    \"/ENTRY[entry]/em_lab/EBEAM_COLUMN[ebeam_column]/aberration_correction/ABERRATION[aberration]/c_1_0\": \"None\",\n",
      "    \"/ENTRY[entry]/em_lab/EBEAM_COLUMN[ebeam_column]/aberration_correction/ABERRATION[aberration]/c_1_2_a\": \"None\",\n",
      "    \"/ENTRY[entry]/em_lab/EBEAM_COLUMN[ebeam_column]/aberration_correction/ABERRATION[aberration]/c_1_2_b\": \"None\",\n",
      "    \"/ENTRY[entry]/em_lab/EBEAM_COLUMN[ebeam_column]/aberration_correction/ABERRATION[aberration]/c_2_1_a\": \"None\",\n",
      "    \"/ENTRY[entry]/em_lab/EBEAM_COLUMN[ebeam_column]/aberration_correction/ABERRATION[aberration]/c_2_1_b\": \"None\",\n",
      "    \"/ENTRY[entry]/em_lab/EBEAM_COLUMN[ebeam_column]/aberration_correction/ABERRATION[aberration]/c_2_3_a\": \"None\",\n",
      "    \"/ENTRY[entry]/em_lab/EBEAM_COLUMN[ebeam_column]/aberration_correction/ABERRATION[aberration]/c_2_3_b\": \"None\",\n",
      "    \"/ENTRY[entry]/em_lab/EBEAM_COLUMN[ebeam_column]/aberration_correction/ABERRATION[aberration]/c_3_0\": \"None\",\n",
      "    \"/ENTRY[entry]/em_lab/EBEAM_COLUMN[ebeam_column]/aberration_correction/ABERRATION[aberration]/c_3_2_a\": \"None\",\n",
      "    \"/ENTRY[entry]/em_lab/EBEAM_COLUMN[ebeam_column]/aberration_correction/ABERRATION[aberration]/c_3_2_b\": \"None\",\n",
      "    \"/ENTRY[entry]/em_lab/EBEAM_COLUMN[ebeam_column]/aberration_correction/ABERRATION[aberration]/c_3_4_a\": \"None\",\n",
      "    \"/ENTRY[entry]/em_lab/EBEAM_COLUMN[ebeam_column]/aberration_correction/ABERRATION[aberration]/c_3_4_b\": \"None\",\n",
      "    \"/ENTRY[entry]/em_lab/EBEAM_COLUMN[ebeam_column]/aberration_correction/ABERRATION[aberration]/c_5_0\": \"None\",\n",
      "    \"/ENTRY[entry]/em_lab/EBEAM_COLUMN[ebeam_column]/aberration_correction/MANUFACTURER[manufacturer]/identifier\": \"None\",\n",
      "    \"/ENTRY[entry]/em_lab/EBEAM_COLUMN[ebeam_column]/aberration_correction/MANUFACTURER[manufacturer]/model\": \"None\",\n",
      "    \"/ENTRY[entry]/em_lab/EBEAM_COLUMN[ebeam_column]/aberration_correction/MANUFACTURER[manufacturer]/name\": \"None\",\n",
      "    \"/ENTRY[entry]/em_lab/EBEAM_COLUMN[ebeam_column]/aberration_correction/applied\": \"None\",\n",
      "    \"/ENTRY[entry]/em_lab/EBEAM_COLUMN[ebeam_column]/aberration_correction/name\": \"None\",\n",
      "    \"/ENTRY[entry]/em_lab/EBEAM_COLUMN[ebeam_column]/electron_gun/MANUFACTURER[manufacturer]/identifier\": \"None\",\n",
      "    \"/ENTRY[entry]/em_lab/EBEAM_COLUMN[ebeam_column]/electron_gun/MANUFACTURER[manufacturer]/model\": \"None\",\n",
      "    \"/ENTRY[entry]/em_lab/EBEAM_COLUMN[ebeam_column]/electron_gun/MANUFACTURER[manufacturer]/name\": \"None\",\n",
      "    \"/ENTRY[entry]/em_lab/EBEAM_COLUMN[ebeam_column]/electron_gun/emitter_type\": \"None\",\n",
      "    \"/ENTRY[entry]/em_lab/EBEAM_COLUMN[ebeam_column]/electron_gun/name\": \"None\",\n",
      "    \"/ENTRY[entry]/em_lab/EBEAM_COLUMN[ebeam_column]/electron_gun/voltage\": \"None\",\n",
      "    \"/ENTRY[entry]/em_lab/IBEAM_COLUMN[ibeam_column]/APERTURE_EM[aperture_em]/MANUFACTURER[manufacturer]/identifier\": \"None\",\n",
      "    \"/ENTRY[entry]/em_lab/IBEAM_COLUMN[ibeam_column]/APERTURE_EM[aperture_em]/MANUFACTURER[manufacturer]/model\": \"None\",\n",
      "    \"/ENTRY[entry]/em_lab/IBEAM_COLUMN[ibeam_column]/APERTURE_EM[aperture_em]/MANUFACTURER[manufacturer]/name\": \"None\",\n",
      "    \"/ENTRY[entry]/em_lab/IBEAM_COLUMN[ibeam_column]/APERTURE_EM[aperture_em]/value\": \"None\",\n",
      "    \"/ENTRY[entry]/em_lab/IBEAM_COLUMN[ibeam_column]/LENS_EM[lens_em]/MANUFACTURER[manufacturer]/identifier\": \"None\",\n",
      "    \"/ENTRY[entry]/em_lab/IBEAM_COLUMN[ibeam_column]/LENS_EM[lens_em]/MANUFACTURER[manufacturer]/model\": \"None\",\n",
      "    \"/ENTRY[entry]/em_lab/IBEAM_COLUMN[ibeam_column]/LENS_EM[lens_em]/MANUFACTURER[manufacturer]/name\": \"None\",\n",
      "    \"/ENTRY[entry]/em_lab/IBEAM_COLUMN[ibeam_column]/LENS_EM[lens_em]/current\": \"None\",\n",
      "    \"/ENTRY[entry]/em_lab/IBEAM_COLUMN[ibeam_column]/LENS_EM[lens_em]/value\": \"None\",\n",
      "    \"/ENTRY[entry]/em_lab/IBEAM_COLUMN[ibeam_column]/LENS_EM[lens_em]/voltage\": \"None\",\n",
      "    \"/ENTRY[entry]/em_lab/IBEAM_COLUMN[ibeam_column]/MANUFACTURER[manufacturer]/identifier\": \"None\",\n",
      "    \"/ENTRY[entry]/em_lab/IBEAM_COLUMN[ibeam_column]/MANUFACTURER[manufacturer]/model\": \"None\",\n",
      "    \"/ENTRY[entry]/em_lab/IBEAM_COLUMN[ibeam_column]/MANUFACTURER[manufacturer]/name\": \"None\",\n",
      "    \"/ENTRY[entry]/em_lab/IBEAM_COLUMN[ibeam_column]/ion_gun/MANUFACTURER[manufacturer]/identifier\": \"None\",\n",
      "    \"/ENTRY[entry]/em_lab/IBEAM_COLUMN[ibeam_column]/ion_gun/MANUFACTURER[manufacturer]/model\": \"None\",\n",
      "    \"/ENTRY[entry]/em_lab/IBEAM_COLUMN[ibeam_column]/ion_gun/MANUFACTURER[manufacturer]/name\": \"None\",\n",
      "    \"/ENTRY[entry]/em_lab/IBEAM_COLUMN[ibeam_column]/ion_gun/current\": \"None\",\n",
      "    \"/ENTRY[entry]/em_lab/IBEAM_COLUMN[ibeam_column]/ion_gun/emitter_type\": \"None\",\n",
      "    \"/ENTRY[entry]/em_lab/IBEAM_COLUMN[ibeam_column]/ion_gun/name\": \"None\",\n",
      "    \"/ENTRY[entry]/em_lab/IBEAM_COLUMN[ibeam_column]/ion_gun/probe/charge_state\": \"None\",\n",
      "    \"/ENTRY[entry]/em_lab/IBEAM_COLUMN[ibeam_column]/ion_gun/probe/isotope_names\": \"None\",\n",
      "    \"/ENTRY[entry]/em_lab/IBEAM_COLUMN[ibeam_column]/ion_gun/voltage\": \"None\",\n",
      "    \"/ENTRY[entry]/em_lab/MANUFACTURER[manufacturer]/capabilities\": \"None\",\n",
      "    \"/ENTRY[entry]/em_lab/MANUFACTURER[manufacturer]/identifier\": \"None\",\n",
      "    \"/ENTRY[entry]/em_lab/MANUFACTURER[manufacturer]/model\": \"None\",\n",
      "    \"/ENTRY[entry]/em_lab/MANUFACTURER[manufacturer]/name\": \"None\",\n",
      "    \"/ENTRY[entry]/em_lab/OPTICAL_SYSTEM_EM[optical_system_em]/beam_current\": \"None\",\n",
      "    \"/ENTRY[entry]/em_lab/OPTICAL_SYSTEM_EM[optical_system_em]/beam_current_description\": \"None\",\n",
      "    \"/ENTRY[entry]/em_lab/OPTICAL_SYSTEM_EM[optical_system_em]/camera_length\": \"None\",\n",
      "    \"/ENTRY[entry]/em_lab/OPTICAL_SYSTEM_EM[optical_system_em]/defocus\": \"None\",\n",
      "    \"/ENTRY[entry]/em_lab/OPTICAL_SYSTEM_EM[optical_system_em]/magnification\": \"None\",\n",
      "    \"/ENTRY[entry]/em_lab/OPTICAL_SYSTEM_EM[optical_system_em]/semi_convergence_angle\": \"None\",\n",
      "    \"/ENTRY[entry]/em_lab/OPTICAL_SYSTEM_EM[optical_system_em]/working_distance\": \"None\",\n",
      "    \"/ENTRY[entry]/em_lab/ebeam_deflector/MANUFACTURER[manufacturer]/identifier\": \"None\",\n",
      "    \"/ENTRY[entry]/em_lab/ebeam_deflector/MANUFACTURER[manufacturer]/model\": \"None\",\n",
      "    \"/ENTRY[entry]/em_lab/ebeam_deflector/MANUFACTURER[manufacturer]/name\": \"None\",\n",
      "    \"/ENTRY[entry]/em_lab/ebeam_deflector/pixel_time\": \"None\",\n",
      "    \"/ENTRY[entry]/em_lab/ibeam_deflector/MANUFACTURER[manufacturer]/identifier\": \"None\",\n",
      "    \"/ENTRY[entry]/em_lab/ibeam_deflector/MANUFACTURER[manufacturer]/model\": \"None\",\n",
      "    \"/ENTRY[entry]/em_lab/ibeam_deflector/MANUFACTURER[manufacturer]/name\": \"None\",\n",
      "    \"/ENTRY[entry]/em_lab/instrument_name\": \"None\",\n",
      "    \"/ENTRY[entry]/em_lab/location\": \"None\",\n",
      "    \"/ENTRY[entry]/em_lab/stage_lab/MANUFACTURER[manufacturer]/capabilities\": \"None\",\n",
      "    \"/ENTRY[entry]/em_lab/stage_lab/MANUFACTURER[manufacturer]/identifier\": \"None\",\n",
      "    \"/ENTRY[entry]/em_lab/stage_lab/MANUFACTURER[manufacturer]/model\": \"None\",\n",
      "    \"/ENTRY[entry]/em_lab/stage_lab/MANUFACTURER[manufacturer]/name\": \"None\",\n",
      "    \"/ENTRY[entry]/em_lab/stage_lab/description\": \"None\",\n",
      "    \"/ENTRY[entry]/em_lab/stage_lab/design\": \"None\",\n",
      "    \"/ENTRY[entry]/em_lab/stage_lab/name\": \"None\",\n",
      "    \"/ENTRY[entry]/em_lab/stage_lab/position\": \"None\",\n",
      "    \"/ENTRY[entry]/em_lab/stage_lab/rotation\": \"None\",\n",
      "    \"/ENTRY[entry]/em_lab/stage_lab/tilt_1\": \"None\",\n",
      "    \"/ENTRY[entry]/em_lab/stage_lab/tilt_2\": \"None\",\n",
      "    \"/ENTRY[entry]/end_time\": \"None\",\n",
      "    \"/ENTRY[entry]/experiment_description\": \"None\",\n",
      "    \"/ENTRY[entry]/experiment_identifier\": \"None\",\n",
      "    \"/ENTRY[entry]/measurement/EVENT_DATA_EM[event_data_em]/USER[user]/name\": \"None\",\n",
      "    \"/ENTRY[entry]/measurement/EVENT_DATA_EM[event_data_em]/detector_identifier\": \"None\",\n",
      "    \"/ENTRY[entry]/measurement/EVENT_DATA_EM[event_data_em]/em_lab/EBEAM_COLUMN[ebeam_column]/APERTURE_EM[aperture_em]/value\": \"None\",\n",
      "    \"/ENTRY[entry]/measurement/EVENT_DATA_EM[event_data_em]/em_lab/EBEAM_COLUMN[ebeam_column]/CORRECTOR_CS[corrector_cs]/ABERRATION[aberration]/c_1_0\": \"None\",\n",
      "    \"/ENTRY[entry]/measurement/EVENT_DATA_EM[event_data_em]/em_lab/EBEAM_COLUMN[ebeam_column]/CORRECTOR_CS[corrector_cs]/ABERRATION[aberration]/c_1_2_a\": \"None\",\n",
      "    \"/ENTRY[entry]/measurement/EVENT_DATA_EM[event_data_em]/em_lab/EBEAM_COLUMN[ebeam_column]/CORRECTOR_CS[corrector_cs]/ABERRATION[aberration]/c_1_2_b\": \"None\",\n",
      "    \"/ENTRY[entry]/measurement/EVENT_DATA_EM[event_data_em]/em_lab/EBEAM_COLUMN[ebeam_column]/CORRECTOR_CS[corrector_cs]/ABERRATION[aberration]/c_2_1_a\": \"None\",\n",
      "    \"/ENTRY[entry]/measurement/EVENT_DATA_EM[event_data_em]/em_lab/EBEAM_COLUMN[ebeam_column]/CORRECTOR_CS[corrector_cs]/ABERRATION[aberration]/c_2_1_b\": \"None\",\n",
      "    \"/ENTRY[entry]/measurement/EVENT_DATA_EM[event_data_em]/em_lab/EBEAM_COLUMN[ebeam_column]/CORRECTOR_CS[corrector_cs]/ABERRATION[aberration]/c_2_3_a\": \"None\",\n",
      "    \"/ENTRY[entry]/measurement/EVENT_DATA_EM[event_data_em]/em_lab/EBEAM_COLUMN[ebeam_column]/CORRECTOR_CS[corrector_cs]/ABERRATION[aberration]/c_2_3_b\": \"None\",\n",
      "    \"/ENTRY[entry]/measurement/EVENT_DATA_EM[event_data_em]/em_lab/EBEAM_COLUMN[ebeam_column]/CORRECTOR_CS[corrector_cs]/ABERRATION[aberration]/c_3_0\": \"None\",\n",
      "    \"/ENTRY[entry]/measurement/EVENT_DATA_EM[event_data_em]/em_lab/EBEAM_COLUMN[ebeam_column]/CORRECTOR_CS[corrector_cs]/ABERRATION[aberration]/c_3_2_a\": \"None\",\n",
      "    \"/ENTRY[entry]/measurement/EVENT_DATA_EM[event_data_em]/em_lab/EBEAM_COLUMN[ebeam_column]/CORRECTOR_CS[corrector_cs]/ABERRATION[aberration]/c_3_2_b\": \"None\",\n",
      "    \"/ENTRY[entry]/measurement/EVENT_DATA_EM[event_data_em]/em_lab/EBEAM_COLUMN[ebeam_column]/CORRECTOR_CS[corrector_cs]/ABERRATION[aberration]/c_3_4_a\": \"None\",\n",
      "    \"/ENTRY[entry]/measurement/EVENT_DATA_EM[event_data_em]/em_lab/EBEAM_COLUMN[ebeam_column]/CORRECTOR_CS[corrector_cs]/ABERRATION[aberration]/c_3_4_b\": \"None\",\n",
      "    \"/ENTRY[entry]/measurement/EVENT_DATA_EM[event_data_em]/em_lab/EBEAM_COLUMN[ebeam_column]/CORRECTOR_CS[corrector_cs]/ABERRATION[aberration]/c_5_0\": \"None\",\n",
      "    \"/ENTRY[entry]/measurement/EVENT_DATA_EM[event_data_em]/em_lab/EBEAM_COLUMN[ebeam_column]/CORRECTOR_CS[corrector_cs]/applied\": \"None\",\n",
      "    \"/ENTRY[entry]/measurement/EVENT_DATA_EM[event_data_em]/em_lab/EBEAM_COLUMN[ebeam_column]/LENS_EM[lens_em]/current\": \"None\",\n",
      "    \"/ENTRY[entry]/measurement/EVENT_DATA_EM[event_data_em]/em_lab/EBEAM_COLUMN[ebeam_column]/LENS_EM[lens_em]/value\": \"None\",\n",
      "    \"/ENTRY[entry]/measurement/EVENT_DATA_EM[event_data_em]/em_lab/EBEAM_COLUMN[ebeam_column]/LENS_EM[lens_em]/voltage\": \"None\",\n",
      "    \"/ENTRY[entry]/measurement/EVENT_DATA_EM[event_data_em]/em_lab/EBEAM_COLUMN[ebeam_column]/electron_gun/voltage\": \"None\",\n",
      "    \"/ENTRY[entry]/measurement/EVENT_DATA_EM[event_data_em]/em_lab/IBEAM_COLUMN[ibeam_column]/APERTURE_EM[aperture_em]/value\": \"None\",\n",
      "    \"/ENTRY[entry]/measurement/EVENT_DATA_EM[event_data_em]/em_lab/IBEAM_COLUMN[ibeam_column]/LENS_EM[lens_em]/current\": \"None\",\n",
      "    \"/ENTRY[entry]/measurement/EVENT_DATA_EM[event_data_em]/em_lab/IBEAM_COLUMN[ibeam_column]/LENS_EM[lens_em]/value\": \"None\",\n",
      "    \"/ENTRY[entry]/measurement/EVENT_DATA_EM[event_data_em]/em_lab/IBEAM_COLUMN[ibeam_column]/LENS_EM[lens_em]/voltage\": \"None\",\n",
      "    \"/ENTRY[entry]/measurement/EVENT_DATA_EM[event_data_em]/em_lab/IBEAM_COLUMN[ibeam_column]/ion_gun/current\": \"None\",\n",
      "    \"/ENTRY[entry]/measurement/EVENT_DATA_EM[event_data_em]/em_lab/IBEAM_COLUMN[ibeam_column]/ion_gun/emitter_type\": \"None\",\n",
      "    \"/ENTRY[entry]/measurement/EVENT_DATA_EM[event_data_em]/em_lab/IBEAM_COLUMN[ibeam_column]/ion_gun/probe/charge_state\": \"None\",\n",
      "    \"/ENTRY[entry]/measurement/EVENT_DATA_EM[event_data_em]/em_lab/IBEAM_COLUMN[ibeam_column]/ion_gun/probe/isotope_names\": \"None\",\n",
      "    \"/ENTRY[entry]/measurement/EVENT_DATA_EM[event_data_em]/em_lab/IBEAM_COLUMN[ibeam_column]/ion_gun/voltage\": \"None\",\n",
      "    \"/ENTRY[entry]/measurement/EVENT_DATA_EM[event_data_em]/em_lab/OPTICAL_SYSTEM_EM[optical_system_em]/beam_current\": \"None\",\n",
      "    \"/ENTRY[entry]/measurement/EVENT_DATA_EM[event_data_em]/em_lab/OPTICAL_SYSTEM_EM[optical_system_em]/beam_current_description\": \"None\",\n",
      "    \"/ENTRY[entry]/measurement/EVENT_DATA_EM[event_data_em]/em_lab/OPTICAL_SYSTEM_EM[optical_system_em]/camera_length\": \"None\",\n",
      "    \"/ENTRY[entry]/measurement/EVENT_DATA_EM[event_data_em]/em_lab/OPTICAL_SYSTEM_EM[optical_system_em]/defocus\": \"None\",\n",
      "    \"/ENTRY[entry]/measurement/EVENT_DATA_EM[event_data_em]/em_lab/OPTICAL_SYSTEM_EM[optical_system_em]/magnification\": \"None\",\n",
      "    \"/ENTRY[entry]/measurement/EVENT_DATA_EM[event_data_em]/em_lab/OPTICAL_SYSTEM_EM[optical_system_em]/semi_convergence_angle\": \"None\",\n",
      "    \"/ENTRY[entry]/measurement/EVENT_DATA_EM[event_data_em]/em_lab/OPTICAL_SYSTEM_EM[optical_system_em]/working_distance\": \"None\",\n",
      "    \"/ENTRY[entry]/measurement/EVENT_DATA_EM[event_data_em]/em_lab/STAGE_LAB[stage_lab]/position\": \"None\",\n",
      "    \"/ENTRY[entry]/measurement/EVENT_DATA_EM[event_data_em]/em_lab/STAGE_LAB[stage_lab]/rotation\": \"None\",\n",
      "    \"/ENTRY[entry]/measurement/EVENT_DATA_EM[event_data_em]/em_lab/STAGE_LAB[stage_lab]/tilt_1\": \"None\",\n",
      "    \"/ENTRY[entry]/measurement/EVENT_DATA_EM[event_data_em]/em_lab/STAGE_LAB[stage_lab]/tilt_2\": \"None\",\n",
      "    \"/ENTRY[entry]/measurement/EVENT_DATA_EM[event_data_em]/em_lab/ebeam_deflector/pixel_time\": \"None\",\n",
      "    \"/ENTRY[entry]/measurement/EVENT_DATA_EM[event_data_em]/end_time\": \"None\",\n",
      "    \"/ENTRY[entry]/measurement/EVENT_DATA_EM[event_data_em]/event_identifier\": \"None\",\n",
      "    \"/ENTRY[entry]/measurement/EVENT_DATA_EM[event_data_em]/event_type\": \"None\",\n",
      "    \"/ENTRY[entry]/measurement/EVENT_DATA_EM[event_data_em]/start_time\": \"None\",\n",
      "    \"/ENTRY[entry]/program\": \"None\",\n",
      "    \"/ENTRY[entry]/program/@version\": \"None\",\n",
      "    \"/ENTRY[entry]/sample/atom_types\": \"None\",\n",
      "    \"/ENTRY[entry]/sample/density\": \"None\",\n",
      "    \"/ENTRY[entry]/sample/density/@units\": \"None\",\n",
      "    \"/ENTRY[entry]/sample/description\": \"None\",\n",
      "    \"/ENTRY[entry]/sample/method\": \"None\",\n",
      "    \"/ENTRY[entry]/sample/name\": \"None\",\n",
      "    \"/ENTRY[entry]/sample/preparation_date\": \"None\",\n",
      "    \"/ENTRY[entry]/sample/sample_history\": \"None\",\n",
      "    \"/ENTRY[entry]/sample/short_title\": \"None\",\n",
      "    \"/ENTRY[entry]/sample/thickness\": \"None\",\n",
      "    \"/ENTRY[entry]/sample/thickness/@units\": \"None\",\n",
      "    \"/ENTRY[entry]/start_time\": \"None\",\n",
      "    \"/ENTRY[entry]/thumbnail/@type\": \"None\"\n",
      "}\n"
     ]
    }
   ],
   "source": [
    "! python3 {nexus_dir}/tools/dataconverter/convert.py --nxdl NXem --reader em_spctrscpy --generate-template"
   ]
  },
  {
   "cell_type": "markdown",
   "metadata": {},
   "source": [
    "Parse the files to convert them to a NeXus HDF5 file matching the NXem application definition."
   ]
  },
  {
   "cell_type": "code",
   "execution_count": 24,
   "metadata": {},
   "outputs": [
    {
     "name": "stdout",
     "output_type": "stream",
     "text": [
      "Using em_spctrscpy reader to convert the given files:  \n",
      "• EELS_map_2_ROI_1_location_4.dm3\n",
      "• eln_data_em.yaml \n",
      "Parsing numerical data and metadata with hyperspy...\n",
      "Converting (a single hspy obj) into a list, processing it...\n",
      "\tnexusparser.tools.dataconverter.readers.em_spctrscpy.utils.hspy.em_hspy_xray\n",
      "\tnexusparser.tools.dataconverter.readers.em_spctrscpy.utils.hspy.em_hspy_eels\n",
      "['Energy loss' 'x' 'y']\n",
      "['Energy loss' 'x' 'y']\n",
      "\tnexusparser.tools.dataconverter.readers.em_spctrscpy.utils.hspy.em_hspy_eels\n",
      "['Energy loss' 'x' 'y']\n",
      "['Energy loss' 'x' 'y']\n",
      "\tnexusparser.tools.dataconverter.readers.em_spctrscpy.utils.hspy.em_hspy_eels\n",
      "\tnexusparser.tools.dataconverter.readers.em_spctrscpy.utils.hspy.em_hspy_adf\n",
      "\tnexusparser.tools.dataconverter.readers.em_spctrscpy.utils.hspy.em_hspy_xray reporting nothing!\n",
      "\tnexusparser.tools.dataconverter.readers.em_spctrscpy.utils.hspy.em_hspy_eels reporting...\n",
      "\tnexusparser.tools.dataconverter.readers.em_spctrscpy.utils.hspy.em_hspy_adf reporting nothing!\n",
      "Parsing metadata as well as numerical data from NOMAD OASIS ELN...\n",
      "Parsing entry...\n",
      "Parsing user...\n",
      "Parsing sample...\n",
      "Parsing instrument header...\n",
      "Parsing ebeam_column...\n",
      "Parsing optics...\n",
      "Parsing detector...\n",
      "Parsing stage_lab...\n",
      "Creating default plottable data...\n",
      "Forwarding the instantiated template to the NXS writer...\n",
      "The path, /ENTRY[entry]/EVENT_DATA_EM_SET[measurement]/EVENT_DATA_EM[event_data_em_1]/detector_identifier, is being written but has no documentation.\n",
      "WARNING:__main__:The path, /ENTRY[entry]/EVENT_DATA_EM_SET[measurement]/EVENT_DATA_EM[event_data_em_1]/detector_identifier, is being written but has no documentation.\n",
      "The path, /ENTRY[entry]/EVENT_DATA_EM_SET[measurement]/EVENT_DATA_EM[event_data_em_1]/start_time, is being written but has no documentation.\n",
      "WARNING:__main__:The path, /ENTRY[entry]/EVENT_DATA_EM_SET[measurement]/EVENT_DATA_EM[event_data_em_1]/start_time, is being written but has no documentation.\n",
      "The path, /ENTRY[entry]/EVENT_DATA_EM_SET[measurement]/EVENT_DATA_EM[event_data_em_1]/end_time, is being written but has no documentation.\n",
      "WARNING:__main__:The path, /ENTRY[entry]/EVENT_DATA_EM_SET[measurement]/EVENT_DATA_EM[event_data_em_1]/end_time, is being written but has no documentation.\n",
      "The path, /ENTRY[entry]/EVENT_DATA_EM_SET[measurement]/EVENT_DATA_EM[event_data_em_1]/event_identifier, is being written but has no documentation.\n",
      "WARNING:__main__:The path, /ENTRY[entry]/EVENT_DATA_EM_SET[measurement]/EVENT_DATA_EM[event_data_em_1]/event_identifier, is being written but has no documentation.\n",
      "The path, /ENTRY[entry]/EVENT_DATA_EM_SET[measurement]/EVENT_DATA_EM[event_data_em_1]/event_type, is being written but has no documentation.\n",
      "WARNING:__main__:The path, /ENTRY[entry]/EVENT_DATA_EM_SET[measurement]/EVENT_DATA_EM[event_data_em_1]/event_type, is being written but has no documentation.\n",
      "The path, /ENTRY[entry]/EVENT_DATA_EM_SET[measurement]/EVENT_DATA_EM[event_data_em_1]/NX_SPECTRUM_SET_EM_EELS[spectrum_set_em_eels_1]/DATA[stack]/@NX_class, is being written but has no documentation.\n",
      "WARNING:__main__:The path, /ENTRY[entry]/EVENT_DATA_EM_SET[measurement]/EVENT_DATA_EM[event_data_em_1]/NX_SPECTRUM_SET_EM_EELS[spectrum_set_em_eels_1]/DATA[stack]/@NX_class, is being written but has no documentation.\n",
      "The path, /ENTRY[entry]/EVENT_DATA_EM_SET[measurement]/EVENT_DATA_EM[event_data_em_1]/NX_SPECTRUM_SET_EM_EELS[spectrum_set_em_eels_1]/DATA[stack]/@long_name, is being written but has no documentation.\n",
      "WARNING:__main__:The path, /ENTRY[entry]/EVENT_DATA_EM_SET[measurement]/EVENT_DATA_EM[event_data_em_1]/NX_SPECTRUM_SET_EM_EELS[spectrum_set_em_eels_1]/DATA[stack]/@long_name, is being written but has no documentation.\n",
      "The path, /ENTRY[entry]/EVENT_DATA_EM_SET[measurement]/EVENT_DATA_EM[event_data_em_1]/NX_SPECTRUM_SET_EM_EELS[spectrum_set_em_eels_1]/DATA[stack]/@signal, is being written but has no documentation.\n",
      "WARNING:__main__:The path, /ENTRY[entry]/EVENT_DATA_EM_SET[measurement]/EVENT_DATA_EM[event_data_em_1]/NX_SPECTRUM_SET_EM_EELS[spectrum_set_em_eels_1]/DATA[stack]/@signal, is being written but has no documentation.\n",
      "The path, /ENTRY[entry]/EVENT_DATA_EM_SET[measurement]/EVENT_DATA_EM[event_data_em_1]/NX_SPECTRUM_SET_EM_EELS[spectrum_set_em_eels_1]/DATA[stack]/@axes, is being written but has no documentation.\n",
      "WARNING:__main__:The path, /ENTRY[entry]/EVENT_DATA_EM_SET[measurement]/EVENT_DATA_EM[event_data_em_1]/NX_SPECTRUM_SET_EM_EELS[spectrum_set_em_eels_1]/DATA[stack]/@axes, is being written but has no documentation.\n",
      "The path, /ENTRY[entry]/EVENT_DATA_EM_SET[measurement]/EVENT_DATA_EM[event_data_em_1]/NX_SPECTRUM_SET_EM_EELS[spectrum_set_em_eels_1]/DATA[stack]/@energy_loss_indices, is being written but has no documentation.\n",
      "WARNING:__main__:The path, /ENTRY[entry]/EVENT_DATA_EM_SET[measurement]/EVENT_DATA_EM[event_data_em_1]/NX_SPECTRUM_SET_EM_EELS[spectrum_set_em_eels_1]/DATA[stack]/@energy_loss_indices, is being written but has no documentation.\n",
      "The path, /ENTRY[entry]/EVENT_DATA_EM_SET[measurement]/EVENT_DATA_EM[event_data_em_1]/NX_SPECTRUM_SET_EM_EELS[spectrum_set_em_eels_1]/DATA[stack]/@xpos_indices, is being written but has no documentation.\n",
      "WARNING:__main__:The path, /ENTRY[entry]/EVENT_DATA_EM_SET[measurement]/EVENT_DATA_EM[event_data_em_1]/NX_SPECTRUM_SET_EM_EELS[spectrum_set_em_eels_1]/DATA[stack]/@xpos_indices, is being written but has no documentation.\n",
      "The path, /ENTRY[entry]/EVENT_DATA_EM_SET[measurement]/EVENT_DATA_EM[event_data_em_1]/NX_SPECTRUM_SET_EM_EELS[spectrum_set_em_eels_1]/DATA[stack]/@ypos_indices, is being written but has no documentation.\n",
      "WARNING:__main__:The path, /ENTRY[entry]/EVENT_DATA_EM_SET[measurement]/EVENT_DATA_EM[event_data_em_1]/NX_SPECTRUM_SET_EM_EELS[spectrum_set_em_eels_1]/DATA[stack]/@ypos_indices, is being written but has no documentation.\n",
      "The path, /ENTRY[entry]/EVENT_DATA_EM_SET[measurement]/EVENT_DATA_EM[event_data_em_1]/NX_SPECTRUM_SET_EM_EELS[spectrum_set_em_eels_1]/DATA[stack]/counts, is being written but has no documentation.\n",
      "WARNING:__main__:The path, /ENTRY[entry]/EVENT_DATA_EM_SET[measurement]/EVENT_DATA_EM[event_data_em_1]/NX_SPECTRUM_SET_EM_EELS[spectrum_set_em_eels_1]/DATA[stack]/counts, is being written but has no documentation.\n",
      "The path, /ENTRY[entry]/EVENT_DATA_EM_SET[measurement]/EVENT_DATA_EM[event_data_em_1]/NX_SPECTRUM_SET_EM_EELS[spectrum_set_em_eels_1]/DATA[stack]/energy_loss, is being written but has no documentation.\n",
      "WARNING:__main__:The path, /ENTRY[entry]/EVENT_DATA_EM_SET[measurement]/EVENT_DATA_EM[event_data_em_1]/NX_SPECTRUM_SET_EM_EELS[spectrum_set_em_eels_1]/DATA[stack]/energy_loss, is being written but has no documentation.\n",
      "The path, /ENTRY[entry]/EVENT_DATA_EM_SET[measurement]/EVENT_DATA_EM[event_data_em_1]/NX_SPECTRUM_SET_EM_EELS[spectrum_set_em_eels_1]/DATA[stack]/energy_loss/@units, is being written but has no documentation.\n",
      "WARNING:__main__:The path, /ENTRY[entry]/EVENT_DATA_EM_SET[measurement]/EVENT_DATA_EM[event_data_em_1]/NX_SPECTRUM_SET_EM_EELS[spectrum_set_em_eels_1]/DATA[stack]/energy_loss/@units, is being written but has no documentation.\n",
      "The path, /ENTRY[entry]/EVENT_DATA_EM_SET[measurement]/EVENT_DATA_EM[event_data_em_1]/NX_SPECTRUM_SET_EM_EELS[spectrum_set_em_eels_1]/DATA[stack]/xpos, is being written but has no documentation.\n",
      "WARNING:__main__:The path, /ENTRY[entry]/EVENT_DATA_EM_SET[measurement]/EVENT_DATA_EM[event_data_em_1]/NX_SPECTRUM_SET_EM_EELS[spectrum_set_em_eels_1]/DATA[stack]/xpos, is being written but has no documentation.\n",
      "The path, /ENTRY[entry]/EVENT_DATA_EM_SET[measurement]/EVENT_DATA_EM[event_data_em_1]/NX_SPECTRUM_SET_EM_EELS[spectrum_set_em_eels_1]/DATA[stack]/xpos/@units, is being written but has no documentation.\n",
      "WARNING:__main__:The path, /ENTRY[entry]/EVENT_DATA_EM_SET[measurement]/EVENT_DATA_EM[event_data_em_1]/NX_SPECTRUM_SET_EM_EELS[spectrum_set_em_eels_1]/DATA[stack]/xpos/@units, is being written but has no documentation.\n",
      "The path, /ENTRY[entry]/EVENT_DATA_EM_SET[measurement]/EVENT_DATA_EM[event_data_em_1]/NX_SPECTRUM_SET_EM_EELS[spectrum_set_em_eels_1]/DATA[stack]/ypos, is being written but has no documentation.\n",
      "WARNING:__main__:The path, /ENTRY[entry]/EVENT_DATA_EM_SET[measurement]/EVENT_DATA_EM[event_data_em_1]/NX_SPECTRUM_SET_EM_EELS[spectrum_set_em_eels_1]/DATA[stack]/ypos, is being written but has no documentation.\n",
      "The path, /ENTRY[entry]/EVENT_DATA_EM_SET[measurement]/EVENT_DATA_EM[event_data_em_1]/NX_SPECTRUM_SET_EM_EELS[spectrum_set_em_eels_1]/DATA[stack]/ypos/@units, is being written but has no documentation.\n",
      "WARNING:__main__:The path, /ENTRY[entry]/EVENT_DATA_EM_SET[measurement]/EVENT_DATA_EM[event_data_em_1]/NX_SPECTRUM_SET_EM_EELS[spectrum_set_em_eels_1]/DATA[stack]/ypos/@units, is being written but has no documentation.\n",
      "The path, /ENTRY[entry]/EVENT_DATA_EM_SET[measurement]/EVENT_DATA_EM[event_data_em_1]/NX_SPECTRUM_SET_EM_EELS[spectrum_set_em_eels_1]/DATA[stack]/title, is being written but has no documentation.\n",
      "WARNING:__main__:The path, /ENTRY[entry]/EVENT_DATA_EM_SET[measurement]/EVENT_DATA_EM[event_data_em_1]/NX_SPECTRUM_SET_EM_EELS[spectrum_set_em_eels_1]/DATA[stack]/title, is being written but has no documentation.\n",
      "The path, /ENTRY[entry]/EVENT_DATA_EM_SET[measurement]/EVENT_DATA_EM[event_data_em_1]/NX_SPECTRUM_SET_EM_EELS[spectrum_set_em_eels_1]/DATA[summary]/@NX_class, is being written but has no documentation.\n",
      "WARNING:__main__:The path, /ENTRY[entry]/EVENT_DATA_EM_SET[measurement]/EVENT_DATA_EM[event_data_em_1]/NX_SPECTRUM_SET_EM_EELS[spectrum_set_em_eels_1]/DATA[summary]/@NX_class, is being written but has no documentation.\n",
      "The path, /ENTRY[entry]/EVENT_DATA_EM_SET[measurement]/EVENT_DATA_EM[event_data_em_1]/NX_SPECTRUM_SET_EM_EELS[spectrum_set_em_eels_1]/DATA[summary]/@long_name, is being written but has no documentation.\n",
      "WARNING:__main__:The path, /ENTRY[entry]/EVENT_DATA_EM_SET[measurement]/EVENT_DATA_EM[event_data_em_1]/NX_SPECTRUM_SET_EM_EELS[spectrum_set_em_eels_1]/DATA[summary]/@long_name, is being written but has no documentation.\n",
      "The path, /ENTRY[entry]/EVENT_DATA_EM_SET[measurement]/EVENT_DATA_EM[event_data_em_1]/NX_SPECTRUM_SET_EM_EELS[spectrum_set_em_eels_1]/DATA[summary]/@signal, is being written but has no documentation.\n",
      "WARNING:__main__:The path, /ENTRY[entry]/EVENT_DATA_EM_SET[measurement]/EVENT_DATA_EM[event_data_em_1]/NX_SPECTRUM_SET_EM_EELS[spectrum_set_em_eels_1]/DATA[summary]/@signal, is being written but has no documentation.\n",
      "The path, /ENTRY[entry]/EVENT_DATA_EM_SET[measurement]/EVENT_DATA_EM[event_data_em_1]/NX_SPECTRUM_SET_EM_EELS[spectrum_set_em_eels_1]/DATA[summary]/@axes, is being written but has no documentation.\n",
      "WARNING:__main__:The path, /ENTRY[entry]/EVENT_DATA_EM_SET[measurement]/EVENT_DATA_EM[event_data_em_1]/NX_SPECTRUM_SET_EM_EELS[spectrum_set_em_eels_1]/DATA[summary]/@axes, is being written but has no documentation.\n",
      "The path, /ENTRY[entry]/EVENT_DATA_EM_SET[measurement]/EVENT_DATA_EM[event_data_em_1]/NX_SPECTRUM_SET_EM_EELS[spectrum_set_em_eels_1]/DATA[summary]/@energy_loss_indices, is being written but has no documentation.\n",
      "WARNING:__main__:The path, /ENTRY[entry]/EVENT_DATA_EM_SET[measurement]/EVENT_DATA_EM[event_data_em_1]/NX_SPECTRUM_SET_EM_EELS[spectrum_set_em_eels_1]/DATA[summary]/@energy_loss_indices, is being written but has no documentation.\n",
      "The path, /ENTRY[entry]/EVENT_DATA_EM_SET[measurement]/EVENT_DATA_EM[event_data_em_1]/NX_SPECTRUM_SET_EM_EELS[spectrum_set_em_eels_1]/DATA[summary]/counts, is being written but has no documentation.\n",
      "WARNING:__main__:The path, /ENTRY[entry]/EVENT_DATA_EM_SET[measurement]/EVENT_DATA_EM[event_data_em_1]/NX_SPECTRUM_SET_EM_EELS[spectrum_set_em_eels_1]/DATA[summary]/counts, is being written but has no documentation.\n",
      "The path, /ENTRY[entry]/EVENT_DATA_EM_SET[measurement]/EVENT_DATA_EM[event_data_em_1]/NX_SPECTRUM_SET_EM_EELS[spectrum_set_em_eels_1]/DATA[summary]/energy_loss, is being written but has no documentation.\n",
      "WARNING:__main__:The path, /ENTRY[entry]/EVENT_DATA_EM_SET[measurement]/EVENT_DATA_EM[event_data_em_1]/NX_SPECTRUM_SET_EM_EELS[spectrum_set_em_eels_1]/DATA[summary]/energy_loss, is being written but has no documentation.\n",
      "The path, /ENTRY[entry]/EVENT_DATA_EM_SET[measurement]/EVENT_DATA_EM[event_data_em_1]/NX_SPECTRUM_SET_EM_EELS[spectrum_set_em_eels_1]/DATA[summary]/energy_loss/@units, is being written but has no documentation.\n",
      "WARNING:__main__:The path, /ENTRY[entry]/EVENT_DATA_EM_SET[measurement]/EVENT_DATA_EM[event_data_em_1]/NX_SPECTRUM_SET_EM_EELS[spectrum_set_em_eels_1]/DATA[summary]/energy_loss/@units, is being written but has no documentation.\n",
      "The path, /ENTRY[entry]/EVENT_DATA_EM_SET[measurement]/EVENT_DATA_EM[event_data_em_1]/NX_SPECTRUM_SET_EM_EELS[spectrum_set_em_eels_1]/DATA[summary]/title, is being written but has no documentation.\n",
      "WARNING:__main__:The path, /ENTRY[entry]/EVENT_DATA_EM_SET[measurement]/EVENT_DATA_EM[event_data_em_1]/NX_SPECTRUM_SET_EM_EELS[spectrum_set_em_eels_1]/DATA[summary]/title, is being written but has no documentation.\n",
      "The path, /ENTRY[entry]/EVENT_DATA_EM_SET[measurement]/@default, is being written but has no documentation.\n",
      "WARNING:__main__:The path, /ENTRY[entry]/EVENT_DATA_EM_SET[measurement]/@default, is being written but has no documentation.\n",
      "The path, /ENTRY[entry]/EVENT_DATA_EM_SET[measurement]/EVENT_DATA_EM[event_data_em_1]/@default, is being written but has no documentation.\n",
      "WARNING:__main__:The path, /ENTRY[entry]/EVENT_DATA_EM_SET[measurement]/EVENT_DATA_EM[event_data_em_1]/@default, is being written but has no documentation.\n",
      "The path, /ENTRY[entry]/EVENT_DATA_EM_SET[measurement]/EVENT_DATA_EM[event_data_em_1]/NX_SPECTRUM_SET_EM_EELS[spectrum_set_em_eels_1]/@default, is being written but has no documentation.\n",
      "WARNING:__main__:The path, /ENTRY[entry]/EVENT_DATA_EM_SET[measurement]/EVENT_DATA_EM[event_data_em_1]/NX_SPECTRUM_SET_EM_EELS[spectrum_set_em_eels_1]/@default, is being written but has no documentation.\n",
      "The output file generated: hu_dm3.nxs\n",
      "INFO:__main__:The output file generated: hu_dm3.nxs\n"
     ]
    }
   ],
   "source": [
    "#parser-nexus/tests/data/tools/dataconverter/readers/em/\n",
    "numerical_data = [\"46_ES-LP_L1_brg.bcf\", \"1613_Si_HAADF_610_kx.emd\", \"EELS_map_2_ROI_1_location_4.dm3\"]\n",
    "output_file_name = [\"epfl_bcf.nxs\", \"epfl_emd.nxs\", \"hu_dm3.nxs\"]\n",
    "! python3 {nexus_dir}/tools/dataconverter/convert.py \\\n",
    "--reader em_spctrscpy \\\n",
    "--nxdl NXem \\\n",
    "--input-file EELS_map_2_ROI_1_location_4.dm3 \\\n",
    "--input-file eln_data_em.yaml \\\n",
    "--output hu_dm3.nxs"
   ]
  },
  {
   "cell_type": "markdown",
   "metadata": {},
   "source": [
    "The key take home message is that the command above-specified triggers the automatic creation of the HDF5 file. This *.nxs file, is an HDF5 file."
   ]
  },
  {
   "cell_type": "markdown",
   "metadata": {
    "tags": []
   },
   "source": [
    "### **Step 4:** Inspect the HDF5/NeXus file using H5Web"
   ]
  },
  {
   "cell_type": "code",
   "execution_count": 25,
   "metadata": {},
   "outputs": [],
   "source": [
    "from jupyterlab_h5web import H5Web"
   ]
  },
  {
   "cell_type": "code",
   "execution_count": 26,
   "metadata": {},
   "outputs": [],
   "source": [
    "h5_file_name = output_file_name[-1]"
   ]
  },
  {
   "cell_type": "code",
   "execution_count": 27,
   "metadata": {},
   "outputs": [
    {
     "data": {
      "application/x-hdf5": "/home/mkuehbach/SPRINT-9/consolidate_nomad_parser_nexus/nomad-parser-nexus/tests/data/tools/dataconverter/readers/em_spctrscpy/hu_dm3.nxs",
      "text/plain": [
       "<jupyterlab_h5web.widget.H5Web object>"
      ]
     },
     "execution_count": 27,
     "metadata": {},
     "output_type": "execute_result"
    }
   ],
   "source": [
    "H5Web(h5_file_name)"
   ]
  },
  {
   "cell_type": "markdown",
   "metadata": {},
   "source": [
    "Here is where the general template ends. Continue with filling in the notebook with your own post-processing of this *.nxs file."
   ]
  },
  {
   "cell_type": "markdown",
   "metadata": {},
   "source": [
    "***"
   ]
  },
  {
   "cell_type": "code",
   "execution_count": null,
   "metadata": {},
   "outputs": [],
   "source": []
  }
 ],
 "metadata": {
  "kernelspec": {
   "display_name": "Python 3 (ipykernel)",
   "language": "python",
   "name": "python3"
  },
  "language_info": {
   "codemirror_mode": {
    "name": "ipython",
    "version": 3
   },
   "file_extension": ".py",
   "mimetype": "text/x-python",
   "name": "python",
   "nbconvert_exporter": "python",
   "pygments_lexer": "ipython3",
   "version": "3.8.10"
  }
 },
 "nbformat": 4,
 "nbformat_minor": 4
}
