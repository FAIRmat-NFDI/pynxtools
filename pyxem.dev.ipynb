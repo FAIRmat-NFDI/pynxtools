{
 "cells": [
  {
   "cell_type": "code",
   "execution_count": null,
   "id": "685b6ead-42e8-43f1-81c5-d354fee63935",
   "metadata": {},
   "outputs": [],
   "source": [
    "from jupyterlab_h5web import H5Web\n",
    "datasource=\"../../../../paper_paper_paper/scidat_nomad_ebsd/bb_analysis/data/production_ebsd_pyxem\""
   ]
  },
  {
   "cell_type": "code",
   "execution_count": null,
   "id": "29a18629-3ab7-4353-955d-4a2c943f6dee",
   "metadata": {},
   "outputs": [],
   "source": [
    "H5Web(f\"{datasource}/244_0014.dream3d\")  # dream3d, synthetic\n",
    "H5Web(f\"{datasource}/SmallIN100_Final.dream3d\")  # dream3d, exp\n",
    "H5Web(f\"{datasource}/173_0057.h5oina\")  # oxford\n",
    "H5Web(f\"{datasource}/130_0003.h5\")  # bruker\n",
    "H5Web(f\"{datasource}/088_0009.h5\")  # britton\n",
    "H5Web(f\"{datasource}/116_0014.h5\")  # edax new, where X Position and Y Position are calibrated by step size\n",
    "# H5Web(f\"{datasource}/229_2097.oh5\")  # edax old, where X Position and Y Position is not yet calibrated by step size\n",
    "# H5Web(f\"{datasource}/207_2081.edaxh5\")  # apex"
   ]
  },
  {
   "cell_type": "code",
   "execution_count": null,
   "id": "807b8d48-ee35-4742-be3e-d43063eeefc6",
   "metadata": {},
   "outputs": [],
   "source": [
    "import numpy as np"
   ]
  },
  {
   "cell_type": "code",
   "execution_count": null,
   "id": "6ad9cef4-a9c1-4c62-b56c-4391e18309a5",
   "metadata": {},
   "outputs": [],
   "source": [
    "nxy = [2, 3]\n",
    "sxy = [0.3, 0.25]\n",
    "\n",
    "print(np.tile(np.linspace(0, nxy[0] - 1, num=nxy[0], endpoint=True) * sxy[0], nxy[1]))\n",
    "print(np.repeat(np.linspace(0, nxy[1] - 1, num=nxy[1], endpoint=True) * sxy[1], nxy[0]))"
   ]
  },
  {
   "cell_type": "code",
   "execution_count": null,
   "id": "62a0e099-10c8-425d-bc85-a46b55b12cfa",
   "metadata": {},
   "outputs": [],
   "source": []
  }
 ],
 "metadata": {
  "kernelspec": {
   "display_name": "Python 3 (ipykernel)",
   "language": "python",
   "name": "python3"
  },
  "language_info": {
   "codemirror_mode": {
    "name": "ipython",
    "version": 3
   },
   "file_extension": ".py",
   "mimetype": "text/x-python",
   "name": "python",
   "nbconvert_exporter": "python",
   "pygments_lexer": "ipython3",
   "version": "3.10.13"
  }
 },
 "nbformat": 4,
 "nbformat_minor": 5
}
