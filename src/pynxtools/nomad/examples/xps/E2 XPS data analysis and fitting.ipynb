{
 "cells": [
  {
   "attachments": {},
   "cell_type": "markdown",
   "id": "38f1916e-2d0f-4f81-9b00-fedc615a96aa",
   "metadata": {},
   "source": [
    "# XPS data analysis example\n",
    "\n",
    "In this notebook a XPS measurement file from a SPECS detector (using the native SPECS .sle format) that has already been converted into the [NXmpes](https://manual.nexusformat.org/classes/contributed_definitions/NXmpes.html#nxmpes) NeXus standard is read and some basic data analysis (a fit of one Au 4f spectrum) is done."
   ]
  },
  {
   "attachments": {},
   "cell_type": "markdown",
   "id": "fa5fe119-0a72-4744-a84d-4d1258f55031",
   "metadata": {},
   "source": [
    "## View the data with H5Web\n",
    "\n",
    "H5Web is a tool for visualizing any data in the h5 data format. Since the NeXus format builds opon h5 it can be used to view this data as well. We just import the package and call H5Web with the output filename from the convert command above.\n",
    "\n",
    "You can also view this data with the H5Viewer or other tools from your local filesystem."
   ]
  },
  {
   "cell_type": "code",
   "execution_count": null,
   "id": "d4ff822a-4552-49b8-ba17-9b86fd8c2ac1",
   "metadata": {},
   "outputs": [],
   "source": [
    "from jupyterlab_h5web import H5Web"
   ]
  },
  {
   "cell_type": "code",
   "execution_count": null,
   "id": "f62097ae-eb0f-4572-b8d9-bebc7266b43a",
   "metadata": {},
   "outputs": [],
   "source": [
    "H5Web(\"Au_25_mbar_O2_no_align.nxs\")"
   ]
  },
  {
   "attachments": {},
   "cell_type": "markdown",
   "id": "359770eb-964f-48fd-97da-84038af10193",
   "metadata": {},
   "source": [
    "## Analyze data\n",
    "\n",
    "First, we need to import the necessarry packages. We use h5py for reading the NeXus file, lmfit for fitting and the class XPSRegion from the provided `xps_region.py` file."
   ]
  },
  {
   "cell_type": "code",
   "execution_count": null,
   "id": "ed892838-0f76-47a8-89b6-ba8bba4f9048",
   "metadata": {},
   "outputs": [],
   "source": [
    "import h5py\n",
    "from xps_region import XPSRegion\n",
    "\n",
    "from lmfit.models import GaussianModel"
   ]
  },
  {
   "attachments": {},
   "cell_type": "markdown",
   "id": "a30f1ecb-d9f9-44eb-b9d3-f61709109d6a",
   "metadata": {},
   "source": [
    "### Load data and plot\n",
    "\n",
    "We want to load the Au 4f spectrum from the Au foil from our measurement file. Feel free to adapt to different regions in the file by changing the `MEASUREMENT` variable."
   ]
  },
  {
   "cell_type": "code",
   "execution_count": null,
   "id": "400205d5",
   "metadata": {},
   "outputs": [],
   "source": [
    "MEASUREMENT = \"Au_in_vacuum__Au4f\"\n",
    "\n",
    "with h5py.File(\"Au_25_mbar_O2_no_align.nxs\", \"r\") as xps_file:\n",
    "    binding_energy = xps_file[f\"/{MEASUREMENT}/data/energy\"][:]\n",
    "    cps = xps_file[f\"/{MEASUREMENT}/data/data\"][:]\n",
    "    cps_err = xps_file[f\"/{MEASUREMENT}/data/data_errors\"][:]"
   ]
  },
  {
   "cell_type": "markdown",
   "id": "5c88ac8c",
   "metadata": {},
   "source": [
    "There is also a convenience function in XPSRegion to directly load the data: "
   ]
  },
  {
   "cell_type": "code",
   "execution_count": null,
   "id": "1f654ad7",
   "metadata": {},
   "outputs": [],
   "source": [
    "au4f = XPSRegion.load(\"Au_25_mbar_O2_no_align.nxs\", MEASUREMENT) "
   ]
  },
  {
   "attachments": {},
   "cell_type": "markdown",
   "id": "0f6ffc43-6e23-4f54-8a8a-0192a21368ca",
   "metadata": {},
   "source": [
    "With the loaded data we create the `au4f` `XPSRegion` containing the measurement data."
   ]
  },
  {
   "cell_type": "code",
   "execution_count": null,
   "id": "129db648-3c47-4f81-9ee8-69788c96660e",
   "metadata": {},
   "outputs": [],
   "source": [
    "au4f = XPSRegion(binding_energy=binding_energy, counts=cps, counts_err=cps_err) "
   ]
  },
  {
   "attachments": {},
   "cell_type": "markdown",
   "id": "1c500a40-b915-44ba-a8c4-a9c37f3f7f4f",
   "metadata": {},
   "source": [
    "`XPSRegion` provides us a function to visualize the loaded data with"
   ]
  },
  {
   "cell_type": "code",
   "execution_count": null,
   "id": "211918d9-8974-4ae2-97d7-51c6920fe6cb",
   "metadata": {},
   "outputs": [],
   "source": [
    "au4f.plot()"
   ]
  },
  {
   "attachments": {},
   "cell_type": "markdown",
   "id": "cf8cb26e-df35-4ef3-bea3-e9ddcc452c2e",
   "metadata": {},
   "source": [
    "### Fit data\n",
    "\n",
    "From the preview plot we can detect two symmetric peaks which result from the spin-orbit splitting into the Au 4f5/2 and 4f3/2 regions. For illustration of the typical analysis routine, we construct two Gaussian peaks with the lmfit GaussianModel and initialize them with appropriate start values. Here we are just using initial good guesses for the start values. These, however, can eventually be deduced by data inside NOMAD as soon as enough data is available, e.g. similar to a peak detection in other XPS analysis programs. There are different peak shapes available in lmfit, such as Lorentz, Voigt, PseudoVoigt or skewed models. Please refer to the packages documentation for further details on these models and on how to use them."
   ]
  },
  {
   "cell_type": "code",
   "execution_count": null,
   "id": "6401d0af-7830-4093-ae2e-d1c4a719ff61",
   "metadata": {},
   "outputs": [],
   "source": [
    "peak_1 = GaussianModel(prefix=\"Au4f52_\")\n",
    "peak_1.set_param_hint(\"amplitude\", value=3300)\n",
    "peak_1.set_param_hint(\"sigma\", value=0.5)\n",
    "peak_1.set_param_hint(\"center\", value=84.2)\n",
    "\n",
    "peak_2 = GaussianModel(prefix=\"Au4f32_\")\n",
    "peak_2.set_param_hint(\"amplitude\", value=1600)\n",
    "peak_2.set_param_hint(\"sigma\", value=0.5)\n",
    "peak_2.set_param_hint(\"center\", value=87.2)"
   ]
  },
  {
   "attachments": {},
   "cell_type": "markdown",
   "id": "25c2b42c-3e74-435e-88c6-64e5f04a2244",
   "metadata": {},
   "source": [
    "We can simply add the two models together to create a composite model."
   ]
  },
  {
   "cell_type": "code",
   "execution_count": null,
   "id": "62d6293b-f562-425d-b39a-22c8b3874676",
   "metadata": {},
   "outputs": [],
   "source": [
    "comp = peak_1 + peak_2\n",
    "params = comp.make_params()"
   ]
  },
  {
   "cell_type": "markdown",
   "id": "1c0c03fa",
   "metadata": {},
   "source": [
    "We also set a constraint, namely that the area of `peak_2` is exactly half the area of `peak_1` (since it is a photoemission doublet).\n",
    "\n",
    "To constrain the areas correctly, we need to set the expression for the amplitude of `peak_2` considering both the amplitude and sigma. The constraint should be:\n",
    "\n",
    "$$\\text{area of peak 2} = 0.5 \\times \\text{area of peak 1}$$\n",
    "\n",
    "Since the area $A$ of a Gaussian peak is given by:\n",
    "\n",
    "$$ A = \\text{amplitude} \\times \\sigma \\times \\sqrt{2\\pi}$$\n",
    "\n",
    "For `peak_2` to have half the area of `peak_1`:\n",
    "\n",
    "$$ \\text{amplitude}_2 \\times \\sigma_2 = 0.5 \\times (\\text{amplitude}_1 \\times \\sigma_1) $$\n",
    "\n",
    "So, the correct expression for the amplitude of `peak_2` should be:\n",
    "\n",
    "$$ \\text{amplitude}_2 = 0.5 \\times \\text{amplitude}_1 \\times \\frac{\\sigma_1}{\\sigma_2} $$\n",
    "\n",
    "Therefore, we can write:\n"
   ]
  },
  {
   "cell_type": "code",
   "execution_count": null,
   "id": "b31762bd",
   "metadata": {},
   "outputs": [],
   "source": [
    "params['Au4f32_amplitude'].expr = '0.5 * Au4f52_amplitude * (Au4f52_sigma / Au4f32_sigma)'"
   ]
  },
  {
   "attachments": {},
   "cell_type": "markdown",
   "id": "2aaf4749-62d6-4cec-af67-8daced4d3ed9",
   "metadata": {},
   "source": [
    "In the next step, we perform the actual fit. First, since the data in `Au_in_vacuum__Au4f` contains a very wide scan range, we only select the region with the Au 4f doublet (with `fit_region(...)`). Then, we calculate a Shirley baseline with `calc_baseline()`, set the fit model (`.fit_model(comp)`) and perform a fit (`.fit()`). All of this functions can also be used independently. The fit function takes the measurement uncertainties as weights to the fit function into account.\n",
    "\n",
    "Finally, the model is plotted with the previously used `plot()` method. Since we performed a fit the plot is now extended by the baseline and fits."
   ]
  },
  {
   "cell_type": "code",
   "execution_count": null,
   "id": "c48fbeb7-1e46-4c0b-897c-3907654d033b",
   "metadata": {},
   "outputs": [],
   "source": [
    "au4f.fit_region(start=80,stop=94).calc_baseline().fit_model(comp).fit(params).plot()"
   ]
  },
  {
   "attachments": {},
   "cell_type": "markdown",
   "id": "97a42467-5bbb-4c9a-a97a-5d6ed573f5f0",
   "metadata": {},
   "source": [
    "The fit result gets stored inside the `fit_result` parameter and is displayed to extract, e.g., the peak central energies. Please note that the fitting does not take the measurement uncertainties into account and the errors are simple fitting errors."
   ]
  },
  {
   "cell_type": "code",
   "execution_count": null,
   "id": "9345ab8f-b65f-49f2-a260-bf1c7805e4a0",
   "metadata": {},
   "outputs": [],
   "source": [
    "au4f.fit_result.params "
   ]
  },
  {
   "attachments": {},
   "cell_type": "markdown",
   "id": "22d85cef-be55-402e-9083-c40a245fadb1",
   "metadata": {},
   "source": [
    "We can also extract a fitting parameter shared accross different peaks, e.g. the peak central energies. This refers to the text behind the model paramters prefix, so we select `center` here to get the central energies."
   ]
  },
  {
   "cell_type": "code",
   "execution_count": null,
   "id": "4b7b17c0-d781-4b62-8274-c82b00f3c267",
   "metadata": {},
   "outputs": [],
   "source": [
    "au4f.peak_property('center')"
   ]
  },
  {
   "attachments": {},
   "cell_type": "markdown",
   "id": "16cbedf6-0e82-43ca-909a-e826fd8df7e7",
   "metadata": {},
   "source": [
    "Typically, we are also interested in the peak areas which can be calculated with `peak_areas()`"
   ]
  },
  {
   "cell_type": "code",
   "execution_count": null,
   "id": "8aa0759b-a920-4491-97ca-54381a85d3a8",
   "metadata": {},
   "outputs": [],
   "source": [
    "(areas := au4f.peak_areas())"
   ]
  },
  {
   "attachments": {},
   "cell_type": "markdown",
   "id": "f2b57a15-e95b-4dba-a14e-63031ffa3408",
   "metadata": {},
   "source": [
    "and their ratios"
   ]
  },
  {
   "cell_type": "code",
   "execution_count": null,
   "id": "d55e8ea6-3fc9-4049-be1b-9fcec5f27ffd",
   "metadata": {},
   "outputs": [],
   "source": [
    "areas / areas.max()"
   ]
  },
  {
   "attachments": {},
   "cell_type": "markdown",
   "id": "b909f5bc-446b-4c11-b5b8-1eeec79c894d",
   "metadata": {},
   "source": [
    "To assess the quality of the fit, the fit residual can be viewed with `plot_residual()`."
   ]
  },
  {
   "cell_type": "code",
   "execution_count": null,
   "id": "cfa5fe97",
   "metadata": {},
   "outputs": [],
   "source": [
    "au4f.plot_residual()"
   ]
  }
 ],
 "metadata": {
  "kernelspec": {
   "display_name": "Python 3",
   "language": "python",
   "name": "python3"
  },
  "language_info": {
   "codemirror_mode": {
    "name": "ipython",
    "version": 3
   },
   "file_extension": ".py",
   "mimetype": "text/x-python",
   "name": "python",
   "nbconvert_exporter": "python",
   "pygments_lexer": "ipython3",
   "version": "3.10.10"
  },
  "vscode": {
   "interpreter": {
    "hash": "0cbdf5d5ef28617c8bf3753ff15cd1b7b5539de5aaa68a35c3d38ca27e1ab0fa"
   }
  },
  "widgets": {
   "application/vnd.jupyter.widget-state+json": {
    "state": {},
    "version_major": 2,
    "version_minor": 0
   }
  }
 },
 "nbformat": 4,
 "nbformat_minor": 5
}
