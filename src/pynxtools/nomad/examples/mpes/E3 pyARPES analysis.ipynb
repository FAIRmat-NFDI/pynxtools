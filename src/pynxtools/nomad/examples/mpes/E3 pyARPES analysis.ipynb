{
 "cells": [
  {
   "cell_type": "markdown",
   "id": "17a6a4f9-8c8a-49f3-b267-ee38d68d4a50",
   "metadata": {},
   "source": [
    "# Analysing Multidimensional Photoemission Spectroscopy (MPES) data with pyARPES\n",
    "This example shows how to analyse data in the NeXus format with the [pyARPES](https://github.com/chstan/arpes) python package. You'll find details on how to generate such NeXus files in the [convert](./E1%20Convert%20to%20NeXus.ipynb) or [binning](./E2%20Binning%20of%20WSe2.ipynb) example."
   ]
  },
  {
   "cell_type": "code",
   "execution_count": null,
   "id": "a8fb79b7-7379-4309-9298-dc16fba67c70",
   "metadata": {},
   "outputs": [],
   "source": [
    "from arpes.plotting.qt_tool import qt_tool\n",
    "from arpes.plotting.basic_tools import path_tool\n",
    "from arpes.io import example_data, load_data\n",
    "from arpes.endstations.plugin.nexus import NeXusEndstation\n",
    "import xarray as xr\n",
    "import numpy as np\n",
    "from pathlib import Path\n",
    "import h5py as h5"
   ]
  },
  {
   "cell_type": "markdown",
   "id": "a98808fd-8d13-4cd9-98a0-ab55c8c40f15",
   "metadata": {},
   "source": [
    "## Download the data\n",
    "First we set the file directory and create it if not already present."
   ]
  },
  {
   "cell_type": "code",
   "execution_count": null,
   "id": "e9658e8f-21e3-445e-b04f-c8657f707fb6",
   "metadata": {},
   "outputs": [],
   "source": [
    "FDIR = \"TiTe2\"\n",
    "! mkdir -p '{FDIR}'"
   ]
  },
  {
   "cell_type": "markdown",
   "id": "14597c45-b958-434c-b0ed-f31ad68378bc",
   "metadata": {},
   "source": [
    "Since the provided datafile is comparably large (~200MB) it is not directly provided with the example.\n",
    "You can download the data for [zero](https://zenodo.org/record/5541490/files/TiTe2_0deg.nxs?download=1) and [60 degree](https://zenodo.org/record/5541490/files/TiTe2_60deg.nxs?download=1) from zenodo. Place the files in the FDIR directory specified in the cell above. Under Linux, macOS and in a NORTH container you can directly use the cell below to download the files with curl."
   ]
  },
  {
   "cell_type": "code",
   "execution_count": null,
   "id": "58315f02-ae42-4318-abdc-e102e1753290",
   "metadata": {},
   "outputs": [],
   "source": [
    "! curl -o \"{FDIR}/TiTe2_0deg.nxs\" \"https://zenodo.org/records/5541490/files/TiTe2_0deg.nxs?download=1\"\n",
    "! curl -o \"{FDIR}/TiTe2_60deg.nxs\" \"https://zenodo.org/records/5541490/files/TiTe2_60deg.nxs?download=1\""
   ]
  },
  {
   "cell_type": "markdown",
   "id": "ea6ea584-fe25-4af1-ae72-6ae7d7f34830",
   "metadata": {},
   "source": [
    "## Load data into a xarray\n",
    "Extract the NeXus file into an xArray. In the future, mode advanced loading APIs will be developed, transferring all useful metadata."
   ]
  },
  {
   "cell_type": "code",
   "execution_count": null,
   "id": "3b259695-1f73-4bd1-a1bc-4b5abd0432a6",
   "metadata": {},
   "outputs": [],
   "source": [
    "h5_TiTe2_0deg = h5.File(f'{FDIR}/TiTe2_0deg.nxs', 'r' )\n",
    "meas_TiTe2_0deg = xr.DataArray(\n",
    "    h5_TiTe2_0deg['entry/data/Photoemission intensity'][:],\n",
    "    coords={'BE': h5_TiTe2_0deg['entry/data/calculated_Energy'][:],\n",
    "            'kx': h5_TiTe2_0deg['entry/data/calculated_kx'][:],\n",
    "            'ky': h5_TiTe2_0deg['entry/data/calculated_ky'][:]},\n",
    ")\n",
    "\n",
    "h5_TiTe2_60deg = h5.File(f'{FDIR}/TiTe2_60deg.nxs', 'r' )\n",
    "meas_TiTe2_60deg = xr.DataArray(\n",
    "    h5_TiTe2_60deg['entry/data/Photoemission intensity'][:],\n",
    "    coords={'BE': h5_TiTe2_60deg['entry/data/calculated_Energy'][:],\n",
    "            'kx': h5_TiTe2_60deg['entry/data/calculated_kx'][:],\n",
    "            'ky': h5_TiTe2_60deg['entry/data/calculated_ky'][:]},\n",
    ")"
   ]
  },
  {
   "cell_type": "markdown",
   "id": "1d7de2d8-025f-4ead-9342-3c40f530b7fe",
   "metadata": {},
   "source": [
    "## Visualize 0º data\n",
    "You can use the \"Axes\" tab to transpose the volume to obtain the optimal panel arrangement."
   ]
  },
  {
   "cell_type": "code",
   "execution_count": null,
   "id": "a9436bce-4f5d-4f68-9f8b-c0f5ee1ef3d3",
   "metadata": {},
   "outputs": [],
   "source": [
    "qt_tool(meas_TiTe2_0deg)"
   ]
  },
  {
   "cell_type": "markdown",
   "id": "88310069-fb9a-48c4-a490-072118176937",
   "metadata": {},
   "source": [
    "## Visualize 60º data"
   ]
  },
  {
   "cell_type": "code",
   "execution_count": null,
   "id": "a01b408e-1caf-400c-a72f-0b21d7085916",
   "metadata": {},
   "outputs": [],
   "source": [
    "qt_tool(meas_TiTe2_60deg)"
   ]
  },
  {
   "cell_type": "markdown",
   "id": "7769f64f-1efd-4bd6-a905-a7cfcd9aea20",
   "metadata": {},
   "source": [
    "## View the difference between the angles\n",
    "Noticed the asymmetry in the electron pockts at the Fermi surface? Let's make it shine!\n",
    "We calculate the difference between the two angles and visualize it.\n",
    "Unfortunately, there are only linear colorscales available in pyARPES.\n",
    "The resulting data resembles the main observation in this [paper](https://arxiv.org/pdf/2107.07158.pdf)."
   ]
  },
  {
   "cell_type": "code",
   "execution_count": null,
   "id": "9aa56079-be66-4575-91c9-7bc77213893f",
   "metadata": {},
   "outputs": [],
   "source": [
    "qt_tool(meas_TiTe2_0deg - meas_TiTe2_60deg)"
   ]
  },
  {
   "cell_type": "markdown",
   "id": "6310460a-c58f-49bc-8d64-cfcf87f2fc51",
   "metadata": {},
   "source": [
    "## 4D visualization"
   ]
  },
  {
   "cell_type": "markdown",
   "id": "c2e62727-32c9-432e-9d25-9d35b4347811",
   "metadata": {},
   "source": [
    "We can also test 4D data. The procedure is the same: [download](https://zenodo.org/record/4632481/files/201905_MoTe2.nxs?download=1) the data, convert it to xarray and show it with `qt_tool`."
   ]
  },
  {
   "cell_type": "code",
   "execution_count": null,
   "id": "4bf60894-22d3-4034-a808-311f285278bc",
   "metadata": {},
   "outputs": [],
   "source": [
    "! curl -o \"{FDIR}/MoTe2_dyn.nxs\" \"https://zenodo.org/records/4632481/files/201905_MoTe2.nxs?download=1\""
   ]
  },
  {
   "cell_type": "code",
   "execution_count": null,
   "id": "dda4bc9a-9729-4bd3-9456-a174427e7a3c",
   "metadata": {},
   "outputs": [],
   "source": [
    "h5_MoTe2_dyn = h5.File(f'{FDIR}/MoTe2_dyn.nxs', 'r')\n",
    "meas_MoTe2_dyn = xr.DataArray(\n",
    "    h5_MoTe2_dyn['entry/data/Photoemission intensity'][:],\n",
    "    coords={'tpp': np.squeeze(h5_MoTe2_dyn['entry/data/calculated_Tpp'][:]),\n",
    "            'BE': np.squeeze(h5_MoTe2_dyn['entry/data/calculated_Energy'][:]),\n",
    "            'kx': np.squeeze(h5_MoTe2_dyn['entry/data/calculated_kx'][:]),\n",
    "            'ky': np.squeeze(h5_MoTe2_dyn['entry/data/calculated_ky'][:])},\n",
    ")"
   ]
  },
  {
   "cell_type": "markdown",
   "id": "e44915a3-e13f-4bb9-a6d5-3af34c113d09",
   "metadata": {},
   "source": [
    "At the Fermi energy, you will see an electron pocket appearing close to time zero and disappearing immediately after wards. This is the signature of a dynamical Lifshitz transition, a change in the topology of the Fermi surface. To learn more, read https://www.science.org/doi/10.1126/sciadv.abd9275'"
   ]
  },
  {
   "cell_type": "code",
   "execution_count": null,
   "id": "cb0b2144-7ae8-401e-a351-6416098c408a",
   "metadata": {},
   "outputs": [],
   "source": [
    "qt_tool(meas_MoTe2_dyn)"
   ]
  }
 ],
 "metadata": {
  "kernelspec": {
   "display_name": "Python 3",
   "language": "python",
   "name": "python3"
  },
  "language_info": {
   "codemirror_mode": {
    "name": "ipython",
    "version": 3
   },
   "file_extension": ".py",
   "mimetype": "text/x-python",
   "name": "python",
   "nbconvert_exporter": "python",
   "pygments_lexer": "ipython3",
   "version": "3.10.4"
  },
  "vscode": {
   "interpreter": {
    "hash": "c2ecc4d45d4efcd07af778d75fd26bf86d0642a6646ea5c57f06d5857684e419"
   }
  }
 },
 "nbformat": 4,
 "nbformat_minor": 5
}
