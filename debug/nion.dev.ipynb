{
 "cells": [
  {
   "cell_type": "code",
   "execution_count": null,
   "id": "f6fd745e-93c4-4754-ade9-0f4aa4b36213",
   "metadata": {},
   "outputs": [],
   "source": [
    "from jupyterlab_h5web import H5Web\n",
    "src = \"/home/kaiobach/Research/paper_paper_paper/scidat_nomad_ebsd/bb_analysis/data/development_nion/2022-02-18_Metadata_Kuehbach.zip/2022-02-18_Metadata_Kuehbach Data/2022/02/18/20220218-140947/\"\n",
    "H5Web(f\"{src}data_7EPPSHNUFKH6F6A4JCR45J03G.h5\")"
   ]
  },
  {
   "cell_type": "code",
   "execution_count": null,
   "id": "8469fb59-4e2b-4f7e-9012-9059192f210a",
   "metadata": {},
   "outputs": [],
   "source": [
    "import numpy as np\n",
    "a = np.asarray([1, 1, 1], np.float64)\n",
    "print(isinstance(a, np.ndarray))"
   ]
  },
  {
   "cell_type": "code",
   "execution_count": null,
   "id": "207488e4-fa3c-4757-96bb-fa5f37bd14db",
   "metadata": {},
   "outputs": [],
   "source": []
  }
 ],
 "metadata": {
  "kernelspec": {
   "display_name": "Python 3 (ipykernel)",
   "language": "python",
   "name": "python3"
  },
  "language_info": {
   "codemirror_mode": {
    "name": "ipython",
    "version": 3
   },
   "file_extension": ".py",
   "mimetype": "text/x-python",
   "name": "python",
   "nbconvert_exporter": "python",
   "pygments_lexer": "ipython3",
   "version": "3.10.13"
  }
 },
 "nbformat": 4,
 "nbformat_minor": 5
}
