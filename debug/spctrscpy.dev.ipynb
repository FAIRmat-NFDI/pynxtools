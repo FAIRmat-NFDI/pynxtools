{
 "cells": [
  {
   "cell_type": "code",
   "execution_count": null,
   "id": "6da1aea0-545b-446b-a3d1-1574af72f6c6",
   "metadata": {},
   "outputs": [],
   "source": [
    "import numpy as np\n",
    "from rsciio import bruker, emd, digitalmicrograph\n",
    "from jupyterlab_h5web import H5Web\n",
    "import h5py\n",
    "from matplotlib import pyplot as plt\n",
    "import xraydb\n",
    "import flatdict as fd\n",
    "from ase.data import chemical_symbols\n",
    "print(chemical_symbols[1::])"
   ]
  },
  {
   "cell_type": "code",
   "execution_count": null,
   "id": "3889c47f-11c4-4bf3-97de-04fc52f0798d",
   "metadata": {},
   "outputs": [],
   "source": [
    "src = \"/home/kaiobach/Research/paper_paper_paper/scidat_nomad_ebsd/bb_analysis/data/development_spctrscpy\"\n",
    "fnms = [(\"pdi\", \"InGaN_nanowires_spectra.edaxh5\"),\n",
    "        (\"ikz\", \"AlGaO.nxs\"),\n",
    "        (\"ikz\", \"GeSi.nxs\"),\n",
    "        (\"ikz\", \"GeSn_13.nxs\"),\n",
    "        (\"ikz\", \"VInP_108_L2.h5\"),\n",
    "        (\"fhi\", \"CG71113 1513 HAADF-DF4-DF2-BF 1.2 Mx STEM.emd\"),\n",
    "        (\"fhi\", \"CG71113 1138 Ceta 660 mm Camera.emd\"),\n",
    "        (\"fhi\", \"CG71113 1125 Ceta 1.1 Mx Camera.emd\"),\n",
    "        (\"fhi\", \"CG71113 1412 EDS-HAADF-DF4-DF2-BF 4.8 Mx SI.emd\"),\n",
    "        (\"adrien\", \"1613_Si_HAADF_610_kx.emd\"),\n",
    "        (\"adrien\", \"46_ES-LP_L1_brg.bcf\"),\n",
    "        (\"benedikt\", \"EELS_map_2_ROI_1_location_4.dm3\"),\n",
    "        (\"phillippe\", \"H5OINA_examples_Specimen_1_Map_EDS_+_EBSD_Map_Data_2.h5oina\")]\n",
    "# pyUSID, HSMA\n",
    "case = 8  # 5 # len(fnms) - 1  # len(fnms) - 1\n",
    "fnm = f\"{src}/{fnms[case][0]}/{fnms[case][1]}\"\n",
    "print(fnm)"
   ]
  },
  {
   "cell_type": "code",
   "execution_count": null,
   "id": "a4d9ef96-3c70-4c12-80ba-ea4a7d716d47",
   "metadata": {},
   "outputs": [],
   "source": [
    "# H5Web(fnm)"
   ]
  },
  {
   "cell_type": "code",
   "execution_count": null,
   "id": "221abf67-0d88-4088-9cc7-e0d9b85c4699",
   "metadata": {
    "tags": []
   },
   "outputs": [],
   "source": [
    "# resulting NeXus artifact\n",
    "# tmp = \"debug.CG71113 1138 Ceta 660 mm Camera.emd.nxs\"\n",
    "# print(tmp)\n",
    "# H5Web(tmp)\n",
    "H5Web(f\"debug.{fnms[case][1]}.nxs\")"
   ]
  },
  {
   "cell_type": "code",
   "execution_count": null,
   "id": "75b32c8f-8efa-4b40-bfc8-6f95300902ea",
   "metadata": {
    "tags": []
   },
   "outputs": [],
   "source": [
    "objs = emd.file_reader(fnm)\n",
    "print(len(objs))\n",
    "for idx, obj in enumerate(objs):\n",
    "    if not isinstance(obj, dict):\n",
    "        raise ValueError(\"No dict!\")\n",
    "    print(obj.keys())\n",
    "    meta = fd.FlatDict(obj[\"metadata\"], \"/\")\n",
    "    if meta[\"General/title\"] == \"Te\":\n",
    "        for key, val in obj.items():\n",
    "            print(f\"{idx}, {key}, {np.shape(val)}\")\n",
    "        print(f\"\\n\\n{obj['axes']}\")\n",
    "        print(\"\\n\\n\")\n",
    "        for key, val in meta.items():\n",
    "            print(f\"{key}: {val}\")\n",
    "        orgmeta = fd.FlatDict(obj[\"original_metadata\"], \"/\")\n",
    "        print(\"\\n\\n\")\n",
    "        for key, val in orgmeta.items():\n",
    "            print(f\"{key}: {val}\")\n",
    "# print(f\"{type(objs[0])}\")\n",
    "# print(objs[0].keys())"
   ]
  }
 ],
 "metadata": {
  "kernelspec": {
   "display_name": "Python 3 (ipykernel)",
   "language": "python",
   "name": "python3"
  },
  "language_info": {
   "codemirror_mode": {
    "name": "ipython",
    "version": 3
   },
   "file_extension": ".py",
   "mimetype": "text/x-python",
   "name": "python",
   "nbconvert_exporter": "python",
   "pygments_lexer": "ipython3",
   "version": "3.10.13"
  }
 },
 "nbformat": 4,
 "nbformat_minor": 5
}
