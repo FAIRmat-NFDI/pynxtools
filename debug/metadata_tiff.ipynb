{
 "cells": [
  {
   "cell_type": "code",
   "execution_count": null,
   "id": "5eafd031",
   "metadata": {},
   "outputs": [],
   "source": [
    "import json\n",
    "import numpy as np"
   ]
  },
  {
   "cell_type": "code",
   "execution_count": null,
   "id": "6f655f67",
   "metadata": {},
   "outputs": [],
   "source": [
    "src = \"/home/kaiobach/Research/paper_paper_paper/scidat_nomad_ebsd/bb_analysis/data/development_imgs/ikz_robert\"\n",
    "filepath=f\"{src}/0c8nA_3deg_003_AplusB_test.tif\"\n",
    "lines=[]\n",
    "with open(filepath, 'r', encoding=\"utf8\",errors=\"ignore\") as fp:\n",
    "    contents=fp.read()"
   ]
  },
  {
   "cell_type": "code",
   "execution_count": null,
   "id": "268eba7c",
   "metadata": {},
   "outputs": [],
   "source": [
    "text=contents[contents.find(\"Date\"):] #metadata at the end of the file starts with the date"
   ]
  },
  {
   "cell_type": "code",
   "execution_count": null,
   "id": "a7f988b3",
   "metadata": {
    "scrolled": true
   },
   "outputs": [],
   "source": [
    "print(text)"
   ]
  },
  {
   "cell_type": "code",
   "execution_count": null,
   "id": "3b69b8ea",
   "metadata": {},
   "outputs": [],
   "source": [
    "def get_metadata_tif(filepath):\n",
    "    with open(filepath, 'r', encoding=\"utf8\",errors=\"ignore\") as fp:\n",
    "        contents=fp.read()    \n",
    "    text=contents[contents.find(\"Date\"):]\n",
    "    # qtu <-- quantitiy_type_unit\n",
    "    #Beam\n",
    "    qtu=[[\"\\nSystemType=\",\"str\",None],\n",
    "         [\"\\nPixelWidth=\",\"np.float64\",\"m\"],\n",
    "         [\"\\nPixelHeight=\",\"np.float64\",\"m\"],         \n",
    "         \n",
    "         [\"\\nHV=\",\"np.float64\",\"V\"],\n",
    "         [\"\\nBeamCurrent=\",\"np.float64\",\"A\"],\n",
    "         [\"\\nWorkingDistance=\",\"np.float64\",\"m\"],\n",
    "         [\"\\nDwelltime=\",\"np.float64\",\"s\"],\n",
    "         [\"\\nSpot=\",\"np.float64\",\"nm\"],\n",
    "         [\"\\nStigmatorX=\",\"np.float64\",None],\n",
    "         [\"\\nStigmatorY=\",\"np.float64\",None],\n",
    "         [\"\\nBeamShiftX=\",\"np.float64\",None],\n",
    "         [\"\\nBeamShiftY=\",\"np.float64\",None],\n",
    "         [\"\\nSourceTiltX=\",\"np.float64\",None],\n",
    "         [\"\\nSourceTiltY=\",\"np.float64\",None],\n",
    "         [\"\\nEmissionCurrent=\",\"np.float64\",\"A\"],\n",
    "         [\"\\nSpecimenCurrent=\",\"np.float64\",\"A\"],\n",
    "         [\"\\nApertureDiameter=\",\"np.float64\",\"m\"],\n",
    "         [\"\\nATubeVoltage=\",\"np.float64\",\"V\"],\n",
    "    #Scan     \n",
    "         [\"\\nScanRotation=\",\"np.float64\",\"deg\"],\n",
    "         [\"\\nTiltCorrectionIsOn=\",\"str\",None],#yes,no \n",
    "         [\"\\nUseCase=\",\"str\",None],\n",
    "\n",
    "    #CompoundLens\n",
    "         [\"\\nIsOn=\",\"str\",None], #On,Off\n",
    "         [\"\\nThresholdEnergy=\",\"np.float64\",\"eV\"],\n",
    "    #Stage          \n",
    "         [\"\\nStageX=\",\"np.float64\",\"m\"],\n",
    "         [\"\\nStageY=\",\"np.float64\",\"m\"],\n",
    "         [\"\\nStageZ=\",\"np.float64\",\"m\"],\n",
    "         [\"\\nStageR=\",\"np.float64\",\"deg\"],\n",
    "         [\"\\nStageTa=\",\"np.float64\",\"deg\"],\n",
    "         [\"\\nStageTb=\",\"np.float64\",\"deg\"],\n",
    "         [\"\\nStageBias=\",\"np.float64\",\"V\"],\n",
    "         [\"\\nChPressure=\",\"np.float64\",\"Pa\"],\n",
    "\n",
    "    #Detecor\n",
    "         [\"\\nName=\",\"str\",None],\n",
    "         [\"\\nMode=\",\"str\",None],\n",
    "         [\"\\nContrast=\",\"np.float64\",None],\n",
    "         [\"\\nBrightness=\",\"np.float64\",None],\n",
    "         [\"\\nSignal=\",\"str\",None],\n",
    "         [\"\\nContrastDB=\",\"np.float64\",\"dB\"],\n",
    "         [\"\\nBrightnessDB=\",\"np.float64\",\"dB\"],\n",
    "         [\"\\nAverage=\",\"int\",None],\n",
    "         [\"\\nIntegrate=\",\"int\",None],\n",
    "\n",
    "\n",
    "         [\"\\nResolutionX=\",\"int\",None],\n",
    "         [\"\\nResolutionY=\",\"int\",None],\n",
    "         [\"\\nHorFieldsize=\",\"np.float64\",\"m\"],\n",
    "         [\"\\nVerFieldsize=\",\"np.float64\",\"m\"],\n",
    "         [\"\\nFrameTime=\",\"np.float64\",\"s\"],\n",
    "    #Digital\n",
    "         [\"\\nDigitalContrast=\",\"np.float64\",None],\n",
    "         [\"\\nDigitalBrightness=\",\"np.float64\",None],\n",
    "         [\"\\nDigitalGamma=\",\"np.float64\",None]]\n",
    "    \n",
    "    res=[]\n",
    "    typechanges=[]\n",
    "    counter=0\n",
    "    for i in qtu:\n",
    "        kw=i[0]\n",
    "        start=text.find(kw)+len(kw)\n",
    "        end=text[start:].find(\"\\n\")\n",
    "        if i[1]==\"int\":    \n",
    "            res.append(int(text[start:start+end]))\n",
    "        elif i[1]==\"np.float64\":\n",
    "            res.append(np.double(text[start:start+end]))\n",
    "        elif i[1]==\"str\" or i[1]==\"string\":\n",
    "            if text[start:start+end] in [\"no\",\"No\",\"off\",\"Off\",\"false\",\"False\"]:\n",
    "                res.append(False)\n",
    "                typechanges.append(counter)\n",
    "            elif text[start:start+end] in [\"yes\",\"Yes\",\"on\",\"On\",\"true\",\"True\"]:\n",
    "                res.append(True)\n",
    "                typechanges.append(counter)\n",
    "            else:\n",
    "                res.append(text[start:start+end])\n",
    "        counter +=1\n",
    "\n",
    "    for j in typechanges:\n",
    "        qtu[j][1]=\"bool\"\n",
    "        \n",
    "    return res,qtu"
   ]
  },
  {
   "cell_type": "code",
   "execution_count": null,
   "id": "74365e99",
   "metadata": {},
   "outputs": [],
   "source": [
    "filepath=f\"{src}/0c8nA_3deg_003_AplusB_test.tif\"\n",
    "res,qtu=get_metadata_tif(filepath)\n",
    "res"
   ]
  },
  {
   "cell_type": "code",
   "execution_count": null,
   "id": "0000d17e",
   "metadata": {},
   "outputs": [],
   "source": [
    "qtu"
   ]
  },
  {
   "cell_type": "code",
   "execution_count": null,
   "id": "3435cdbc-9ffa-4035-8b8d-ee4a648cc597",
   "metadata": {},
   "outputs": [],
   "source": []
  },
  {
   "cell_type": "code",
   "execution_count": null,
   "id": "584e4103-2e86-43f7-ab58-fb5d3e7dc36b",
   "metadata": {},
   "outputs": [],
   "source": []
  }
 ],
 "metadata": {
  "kernelspec": {
   "display_name": "Python 3 (ipykernel)",
   "language": "python",
   "name": "python3"
  },
  "language_info": {
   "codemirror_mode": {
    "name": "ipython",
    "version": 3
   },
   "file_extension": ".py",
   "mimetype": "text/x-python",
   "name": "python",
   "nbconvert_exporter": "python",
   "pygments_lexer": "ipython3",
   "version": "3.10.13"
  }
 },
 "nbformat": 4,
 "nbformat_minor": 5
}
