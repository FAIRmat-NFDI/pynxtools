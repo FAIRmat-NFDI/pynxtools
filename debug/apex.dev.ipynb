{
 "cells": [
  {
   "cell_type": "code",
   "execution_count": null,
   "id": "f39f5e57-4926-4ccd-b187-9c1aba568a95",
   "metadata": {},
   "outputs": [],
   "source": [
    "from pynxtools.dataconverter.readers.em.subparsers.hfive_base import HdfFiveBaseParser\n",
    "from jupyterlab_h5web import H5Web\n",
    "! which python"
   ]
  },
  {
   "cell_type": "code",
   "execution_count": null,
   "id": "f1617083-f6ab-4bad-ad6d-aaa6beffec89",
   "metadata": {},
   "outputs": [],
   "source": [
    "fpath = f\"/home/kaiobach/Research/paper_paper_paper/scidat_nomad_ebsd/bb_analysis/\" \\\n",
    "        f\"data/development_spctrscpy/pdi/APEX-single-spectrum/InGaN_nanowires_spectra.edaxh5\"\n",
    "# H5Web(fpath)"
   ]
  },
  {
   "cell_type": "code",
   "execution_count": null,
   "id": "a7191dce-db83-4252-bfe3-ffc36efb5e71",
   "metadata": {},
   "outputs": [],
   "source": [
    "hdf = HdfFiveBaseParser(file_path=fpath)"
   ]
  },
  {
   "cell_type": "code",
   "execution_count": null,
   "id": "944c0809-4ec6-406a-be61-1dd56dcf6d00",
   "metadata": {},
   "outputs": [],
   "source": [
    "hdf.get_content()\n",
    "hdf.report_content()\n",
    "hdf.store_report(store_instances=True,\n",
    "                 store_instances_templatized=True,\n",
    "                 store_templates=True)"
   ]
  },
  {
   "cell_type": "code",
   "execution_count": null,
   "id": "ac77fbda-ae54-4c1d-9441-e4d771605052",
   "metadata": {},
   "outputs": [],
   "source": []
  }
 ],
 "metadata": {
  "kernelspec": {
   "display_name": "Python 3 (ipykernel)",
   "language": "python",
   "name": "python3"
  },
  "language_info": {
   "codemirror_mode": {
    "name": "ipython",
    "version": 3
   },
   "file_extension": ".py",
   "mimetype": "text/x-python",
   "name": "python",
   "nbconvert_exporter": "python",
   "pygments_lexer": "ipython3",
   "version": "3.10.13"
  }
 },
 "nbformat": 4,
 "nbformat_minor": 5
}
