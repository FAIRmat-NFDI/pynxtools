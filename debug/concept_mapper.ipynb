{
 "cells": [
  {
   "cell_type": "markdown",
   "id": "4f240b8f-71d4-4004-ab56-d7480b44d96e",
   "metadata": {},
   "source": [
    "# Generate Python list of tuple with concept mapping to be used for the configuration of tech-partner-specific subparsers."
   ]
  },
  {
   "cell_type": "code",
   "execution_count": null,
   "id": "869670b4-0780-4bf4-bc08-d802288fa5df",
   "metadata": {
    "scrolled": true
   },
   "outputs": [],
   "source": [
    "import numpy as np\n",
    "import pandas as pd\n",
    "\n",
    "fnm = \"image_tiff_tfs_to_nexus.ods\"\n",
    "fnm = \"image_png_protochips_to_nexus.ods\"\n",
    "\n",
    "ods = pd.read_excel(fnm, engine=\"odf\")\n",
    "ods = ods.fillna(\"\")\n",
    "# print(ods)\n",
    "cfg = []\n",
    "for row_idx in np.arange(1, ods.shape[0]):\n",
    "    nxpath = ods.iloc[row_idx, 0]\n",
    "    functor = ods.iloc[row_idx, 1]\n",
    "    if nxpath != \"\" and ods.iloc[row_idx, 4] != \"\":  # not in [\"IGNORE\", \"UNCLEAR\"]:\n",
    "        if functor != \"fun\":\n",
    "            cfg.append((f\"{nxpath}\", f\"{ods.iloc[row_idx, 4]}\"))\n",
    "        else:\n",
    "            cfg.append((f\"{nxpath}\", f\"{ods.iloc[row_idx, 2]}\", ods.iloc[row_idx, 4]))  # not fstring because can be a list!\n",
    "\n",
    "indent = \"                               \"\n",
    "for entry in cfg:\n",
    "    print(f\"{indent}{entry},\")"
   ]
  },
  {
   "cell_type": "code",
   "execution_count": null,
   "id": "f27812fa-d023-4ed6-a5ee-d417a8705828",
   "metadata": {},
   "outputs": [],
   "source": []
  }
 ],
 "metadata": {
  "kernelspec": {
   "display_name": "Python 3 (ipykernel)",
   "language": "python",
   "name": "python3"
  },
  "language_info": {
   "codemirror_mode": {
    "name": "ipython",
    "version": 3
   },
   "file_extension": ".py",
   "mimetype": "text/x-python",
   "name": "python",
   "nbconvert_exporter": "python",
   "pygments_lexer": "ipython3",
   "version": "3.10.13"
  }
 },
 "nbformat": 4,
 "nbformat_minor": 5
}
