{
 "cells": [
  {
   "cell_type": "code",
   "execution_count": null,
   "id": "a149b336-f818-4db9-a4f6-1d64658b3149",
   "metadata": {},
   "outputs": [],
   "source": [
    "import nion.swift.model.NDataHandler as nsnd"
   ]
  },
  {
   "cell_type": "code",
   "execution_count": null,
   "id": "ca40a5ca-35b3-4e30-9ff0-5a353b7cc1f8",
   "metadata": {},
   "outputs": [],
   "source": [
    "file_path = \"data_NXBKMAPRJNSN79W3WHDMTWS6H.ndata\""
   ]
  },
  {
   "cell_type": "code",
   "execution_count": null,
   "id": "51ccccda-a675-462e-9a2f-5ef261c8c0ea",
   "metadata": {},
   "outputs": [],
   "source": [
    "with open(file_path, \"r+b\") as fp:\n",
    "    local_files, dir_files, eocd = nsnd.parse_zip(fp)\n",
    "\n",
    "# see https://github.com/nion-software/nionswift/blob/e735d32370421aaee071f296d2ab27e1bc9df2e1/nion/swift/model/NDataHandler.py\n",
    "# parse_zip recovers the content inside a Nionswift *.ndata file\n",
    "# The local files are dictionary where the keys are the local file offset and the\n",
    "# values are each a tuple consisting of the name, data position, data length, and crc32.\n",
    "print(local_files)\n",
    "\n",
    "# The directory headers are a dictionary where the keys are the names of the files\n",
    "# and the values are a tuple consisting of the directory header position, and the\n",
    "# associated local file position.\n",
    "print(dir_files)\n",
    "\n",
    "# The end of central directory is a tuple consisting of the location of the end of\n",
    "# central directory header and the location of the first directory header.\n",
    "print(eocd)"
   ]
  },
  {
   "cell_type": "code",
   "execution_count": null,
   "id": "76e61841-3173-4dfa-b403-a92564c1d19d",
   "metadata": {},
   "outputs": [],
   "source": [
    "with open(file_path, \"r+b\") as fp:\n",
    "    fp.seek(0)\n",
    "    print(fp.tell())\n",
    "    data_arr = nsnd.read_data(fp, local_files, dir_files, b'data.npy')\n",
    "print(data_arr)\n",
    "print(type(data_arr))\n",
    "print(data_arr.dtype)"
   ]
  },
  {
   "cell_type": "code",
   "execution_count": null,
   "id": "4bc99286-04dc-481c-8c52-e4af764d0c95",
   "metadata": {},
   "outputs": [],
   "source": [
    "import flatdict as fd\n",
    "with open(file_path, \"r+b\") as fp:\n",
    "    fp.seek(406)\n",
    "    # print(fp.tell())\n",
    "    metadata_dict = nsnd.read_json(fp, local_files, dir_files, b'metadata.json')\n",
    "# print(metadata_dict)\n",
    "# print(type(metadata_dict))\n",
    "\n",
    "yml = fd.FlatDict(metadata_dict, delimiter='/')\n",
    "for serialized_path in yml.keys():\n",
    "    print(f\"/{serialized_path}\\t\\t\\t{yml[serialized_path]}\")"
   ]
  },
  {
   "cell_type": "code",
   "execution_count": null,
   "id": "d6a759cb-da40-472a-9793-39380391404c",
   "metadata": {},
   "outputs": [],
   "source": []
  }
 ],
 "metadata": {
  "kernelspec": {
   "display_name": "Python 3 (ipykernel)",
   "language": "python",
   "name": "python3"
  },
  "language_info": {
   "codemirror_mode": {
    "name": "ipython",
    "version": 3
   },
   "file_extension": ".py",
   "mimetype": "text/x-python",
   "name": "python",
   "nbconvert_exporter": "python",
   "pygments_lexer": "ipython3",
   "version": "3.8.16"
  }
 },
 "nbformat": 4,
 "nbformat_minor": 5
}
