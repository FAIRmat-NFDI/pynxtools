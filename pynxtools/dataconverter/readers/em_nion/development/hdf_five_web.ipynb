{
 "cells": [
  {
   "cell_type": "code",
   "execution_count": null,
   "id": "52045805-c585-420c-889c-fbe0048c896d",
   "metadata": {},
   "outputs": [],
   "source": [
    "from jupyterlab_h5web import H5Web\n",
    "import os\n",
    "fnm = \"nion.nxs\"\n",
    "print(f\"{os.stat(fnm).st_size / (1024 * 1024)} MiB\")\n",
    "H5Web(fnm)"
   ]
  },
  {
   "cell_type": "code",
   "execution_count": null,
   "id": "ebf3d543-8275-423e-ac4c-8d1eceddd3e3",
   "metadata": {},
   "outputs": [],
   "source": [
    "import numpy as np\n",
    "a = np.array([[1, 2, 3], [4, 5, 6]])\n",
    "print(np.shape(a))\n",
    "print(a)\n",
    "print(np.shape(np.atleast_3d(a)))\n",
    "print(np.atleast_3d(a))"
   ]
  },
  {
   "cell_type": "code",
   "execution_count": null,
   "id": "33c31636-23b1-4ac1-a330-ca364607875f",
   "metadata": {},
   "outputs": [],
   "source": [
    "b = np.reshape(a, (1, 2, 3), order='C')"
   ]
  },
  {
   "cell_type": "code",
   "execution_count": null,
   "id": "fbf4729f-7d1c-4da8-a345-e30cde5ff65a",
   "metadata": {},
   "outputs": [],
   "source": [
    "print(np.shape(b))\n",
    "print(b)"
   ]
  },
  {
   "cell_type": "code",
   "execution_count": null,
   "id": "b0e26e8b-c8b2-4a9a-af1b-6c28e081d044",
   "metadata": {},
   "outputs": [],
   "source": [
    "[1] + np.shape(a)"
   ]
  },
  {
   "cell_type": "code",
   "execution_count": null,
   "id": "2372b5ac-520b-4c96-8a6e-83e04c912388",
   "metadata": {},
   "outputs": [],
   "source": [
    "ny, nx = np.shape(a)"
   ]
  },
  {
   "cell_type": "code",
   "execution_count": null,
   "id": "4a40aadb-38f0-4b60-aef2-789635db87d9",
   "metadata": {},
   "outputs": [],
   "source": [
    "ny\n",
    "#nx"
   ]
  },
  {
   "cell_type": "code",
   "execution_count": null,
   "id": "8ef5b7d3-e868-4cbb-b5b6-d40c833042fd",
   "metadata": {},
   "outputs": [],
   "source": [
    "! pip list | nionswift"
   ]
  },
  {
   "cell_type": "code",
   "execution_count": null,
   "id": "8f12a49d-95f7-4e0c-b541-ea937a9bd2fb",
   "metadata": {},
   "outputs": [],
   "source": []
  }
 ],
 "metadata": {
  "kernelspec": {
   "display_name": "Python 3 (ipykernel)",
   "language": "python",
   "name": "python3"
  },
  "language_info": {
   "codemirror_mode": {
    "name": "ipython",
    "version": 3
   },
   "file_extension": ".py",
   "mimetype": "text/x-python",
   "name": "python",
   "nbconvert_exporter": "python",
   "pygments_lexer": "ipython3",
   "version": "3.8.16"
  }
 },
 "nbformat": 4,
 "nbformat_minor": 5
}
