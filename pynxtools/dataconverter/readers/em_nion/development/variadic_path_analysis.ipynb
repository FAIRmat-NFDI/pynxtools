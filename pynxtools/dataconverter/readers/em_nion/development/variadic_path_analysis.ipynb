{
 "cells": [
  {
   "cell_type": "code",
   "execution_count": 2,
   "id": "3e3803c2-5cef-4aa1-9420-899317d7d5e8",
   "metadata": {},
   "outputs": [
    {
     "name": "stdout",
     "output_type": "stream",
     "text": [
      "['/ENTRY[entry', ']/measurement/EVENT_DATA_EM[event_data_em', ']/adf/PROCESS[process', ']/source/@version']\n"
     ]
    }
   ],
   "source": [
    "nx_variadic_path = \"/ENTRY[entry*]/measurement/EVENT_DATA_EM[event_data_em*]/adf/PROCESS[process*]/source/@version\"\n",
    "tmp = nx_variadic_path.split('*')\n",
    "print(tmp)\n",
    "instance_identifier = [1, 2, 3]"
   ]
  },
  {
   "cell_type": "code",
   "execution_count": 8,
   "id": "f55242a9-b423-4e94-a836-138e41b38c18",
   "metadata": {},
   "outputs": [
    {
     "name": "stdout",
     "output_type": "stream",
     "text": [
      "/ENTRY[entry1]/measurement/EVENT_DATA_EM[event_data_em2]/adf/PROCESS[process3]/source/@version\n"
     ]
    }
   ],
   "source": [
    "if len(tmp) == len(instance_identifier) + 1:  \n",
    "    idx = 0\n",
    "    nx_specific_path = f\"{tmp[idx]}\"\n",
    "    idx += 1\n",
    "    for identifier in instance_identifier:\n",
    "        nx_specific_path += f\"{identifier}{tmp[idx]}\"\n",
    "        idx += 1        \n",
    "print(nx_specific_path)    "
   ]
  },
  {
   "cell_type": "code",
   "execution_count": null,
   "id": "f426943c-7c26-409f-a9f3-777e93092180",
   "metadata": {},
   "outputs": [],
   "source": []
  }
 ],
 "metadata": {
  "kernelspec": {
   "display_name": "Python 3 (ipykernel)",
   "language": "python",
   "name": "python3"
  },
  "language_info": {
   "codemirror_mode": {
    "name": "ipython",
    "version": 3
   },
   "file_extension": ".py",
   "mimetype": "text/x-python",
   "name": "python",
   "nbconvert_exporter": "python",
   "pygments_lexer": "ipython3",
   "version": "3.8.16"
  }
 },
 "nbformat": 4,
 "nbformat_minor": 5
}
