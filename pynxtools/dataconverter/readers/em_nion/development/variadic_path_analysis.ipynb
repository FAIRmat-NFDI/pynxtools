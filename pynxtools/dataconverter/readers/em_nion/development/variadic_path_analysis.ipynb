{
 "cells": [
  {
   "cell_type": "code",
   "execution_count": null,
   "id": "3e3803c2-5cef-4aa1-9420-899317d7d5e8",
   "metadata": {},
   "outputs": [],
   "source": [
    "nx_variadic_path = \"/ENTRY[entry*]/measurement/EVENT_DATA_EM[event_data_em*]/adf/PROCESS[process*]/source/@version\"\n",
    "nx_variadic_path = \"/ENTRY[entry1]/measurement/EVENT_DATA_EM[event_data_em1]/adf/PROCESS[process1]/source/@version\"\n",
    "tmp = nx_variadic_path.split('*')\n",
    "print(len(tmp))\n",
    "print(tmp)\n",
    "instance_identifier = [1, 2, 3]"
   ]
  },
  {
   "cell_type": "code",
   "execution_count": null,
   "id": "f55242a9-b423-4e94-a836-138e41b38c18",
   "metadata": {},
   "outputs": [],
   "source": [
    "if len(tmp) == len(instance_identifier) + 1:  \n",
    "    idx = 0\n",
    "    nx_specific_path = f\"{tmp[idx]}\"\n",
    "    idx += 1\n",
    "    for identifier in instance_identifier:\n",
    "        nx_specific_path += f\"{identifier}{tmp[idx]}\"\n",
    "        idx += 1        \n",
    "print(nx_specific_path)    "
   ]
  },
  {
   "cell_type": "code",
   "execution_count": null,
   "id": "f426943c-7c26-409f-a9f3-777e93092180",
   "metadata": {},
   "outputs": [],
   "source": [
    "def variadic_path_to_specific_path(nx_variadic_path: str, instance_identifier: list) -> str:\n",
    "    \"\"\"Transforms a variadic path to an actual path with instances.\"\"\"\n",
    "    if (nx_variadic_path is not None) and (nx_variadic_path != \"\"):\n",
    "        tmp = nx_variadic_path.split('*')\n",
    "        if len(tmp) == 1 and tmp[0] == nx_variadic_path:\n",
    "            return nx_variadic_path\n",
    "        elif (len(tmp) == len(instance_identifier) + 1) and (instance_identifier != []) \\\n",
    "                and (all(isinstance(entry, int) for entry in instance_identifier) is True):\n",
    "            idx = 0\n",
    "            nx_specific_path = f\"{tmp[idx]}\"\n",
    "            idx += 1\n",
    "            for identifier in instance_identifier:\n",
    "                nx_specific_path += f\"{identifier}{tmp[idx]}\"\n",
    "                idx += 1\n",
    "            return nx_specific_path\n",
    "        else:\n",
    "            return None\n",
    "    return None"
   ]
  },
  {
   "cell_type": "code",
   "execution_count": null,
   "id": "1d576ec0-5af1-4a12-9d9c-845f42387fe0",
   "metadata": {},
   "outputs": [],
   "source": [
    "a = None\n",
    "a = \"\"\n",
    "a = \"/ENTRY[entry1]/measurement/EVENT_DATA_EM[event_data_em1]/adf/PROCESS[process1]/source/@version\"  # not variadic but already specific\n",
    "a = \"/ENTRY[entry*]/measurement/EVENT_DATA_EM[event_data_em*]/adf/PROCESS[process*]/source/@version\"\n",
    "i = [\"a\"]\n",
    "# i = [1, 2]\n",
    "i = [1, 2, 3]\n",
    "print(variadic_path_to_specific_path(a, i))"
   ]
  },
  {
   "cell_type": "code",
   "execution_count": null,
   "id": "04cb121a-ab7a-40f7-8b14-333fc88e1c9c",
   "metadata": {},
   "outputs": [],
   "source": [
    "import numpy as np\n",
    "np.linspace(0.+0.5*1., 0.+((8-1)+0.5)*1., num=8, endpoint=True)"
   ]
  },
  {
   "cell_type": "code",
   "execution_count": null,
   "id": "308846a6-85fc-421b-a24f-2609272e8802",
   "metadata": {},
   "outputs": [],
   "source": []
  }
 ],
 "metadata": {
  "kernelspec": {
   "display_name": "Python 3 (ipykernel)",
   "language": "python",
   "name": "python3"
  },
  "language_info": {
   "codemirror_mode": {
    "name": "ipython",
    "version": 3
   },
   "file_extension": ".py",
   "mimetype": "text/x-python",
   "name": "python",
   "nbconvert_exporter": "python",
   "pygments_lexer": "ipython3",
   "version": "3.8.16"
  }
 },
 "nbformat": 4,
 "nbformat_minor": 5
}
