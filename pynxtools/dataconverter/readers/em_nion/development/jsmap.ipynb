{
 "cells": [
  {
   "cell_type": "code",
   "execution_count": 12,
   "id": "bbc36981-1bd8-4621-bb1c-e80bf4983fce",
   "metadata": {},
   "outputs": [],
   "source": [
    "from jupyterlab_h5web import H5Web"
   ]
  },
  {
   "cell_type": "code",
   "execution_count": 36,
   "id": "52d473dc-6984-4a1e-be28-083f88ef7f9f",
   "metadata": {},
   "outputs": [
    {
     "name": "stdout",
     "output_type": "stream",
     "text": [
      "b'PK\\x03\\x04'\n"
     ]
    }
   ],
   "source": [
    "import struct\n",
    "a = struct.pack('I', 0x04034b50)\n",
    "print(a)"
   ]
  },
  {
   "cell_type": "code",
   "execution_count": 55,
   "id": "64a4fc9d-a51d-4b96-aa9f-bf540034c8ea",
   "metadata": {},
   "outputs": [
    {
     "data": {
      "application/x-hdf5": "/home/mkuehbach/Sprint14/finishing_in_migrated_places/merge-with-flo-apm-em-sp14-p1/pynxtools/pynxtools/pynxtools/SuperScan (HADF).nxs",
      "text/plain": [
       "<jupyterlab_h5web.widget.H5Web object>"
      ]
     },
     "execution_count": 55,
     "metadata": {},
     "output_type": "execute_result"
    }
   ],
   "source": [
    "H5Web(\"jsmap.nxs\")\n",
    "H5Web(\"SuperScan (HADF).nxs\")"
   ]
  },
  {
   "cell_type": "code",
   "execution_count": 49,
   "id": "8f6335a8-28d0-4755-b84c-b1a1552bb18f",
   "metadata": {},
   "outputs": [],
   "source": [
    "from IPython.display import JSON"
   ]
  },
  {
   "cell_type": "code",
   "execution_count": 50,
   "id": "d4af10a1-65a7-4d64-9f97-69c2df7eb700",
   "metadata": {},
   "outputs": [
    {
     "data": {
      "application/json": {
       "computations": [],
       "data_groups": [
        {
         "data_groups": [],
         "display_item_references": [],
         "title": "My Data",
         "type": "data_group",
         "uuid": "14ba4658-3407-49b8-892b-f81b88ee347d"
        }
       ],
       "data_item_references": {
        "dectris_ela": "3beff822-2fa3-4e0c-9685-7fd845b6edc2",
        "dectris_ela_summed": "ed58bf35-df50-4386-852c-1c1bef5c7ebc",
        "orca1": "fc37bb8f-9de2-4cbd-9eaa-cf3fdc22a356",
        "superscan_a": "8506c02c-8ba8-48ef-b22f-5e2878abe2d9",
        "superscan_b": "7f6400b5-01d8-413a-830e-0ecc796109ca",
        "superscan_c": "fc9beab4-4e85-4440-ad49-2cea6f94661a"
       },
       "display_items": [
        {
         "calibration_style_id": "calibrated",
         "created": "2022-02-18T13:09:47.976613",
         "display_data_channels": [
          {
           "adjustments": [],
           "brightness": 0,
           "collection_index": [
            0,
            0,
            0
           ],
           "contrast": 1,
           "data_item_reference": "fc37bb8f-9de2-4cbd-9eaa-cf3fdc22a356",
           "modified": "2022-02-18T20:27:44.597242",
           "sequence_index": 0,
           "slice_center": 0,
           "slice_width": 1,
           "type": "display_data_channel",
           "uuid": "9c48aa2a-c910-4200-a625-0f01a09a3578"
          }
         ],
         "display_layers": [
          {
           "data_index": 0,
           "data_row": 0,
           "fill_color": "#1E90FF"
          }
         ],
         "display_properties": {},
         "graphics": [],
         "modified": "2022-08-31T21:51:34.436866",
         "type": "display_item",
         "uuid": "0256be77-7f65-401b-a1ba-d31064e37dfb"
        },
        {
         "calibration_style_id": "calibrated",
         "created": "2022-02-18T13:10:07.481671",
         "display_data_channels": [
          {
           "adjustments": [],
           "brightness": 0,
           "collection_index": [
            0,
            0,
            0
           ],
           "contrast": 1,
           "data_item_reference": "8506c02c-8ba8-48ef-b22f-5e2878abe2d9",
           "sequence_index": 0,
           "slice_center": 0,
           "slice_width": 1,
           "type": "display_data_channel",
           "uuid": "0274158f-a96b-4ad8-a8ce-ae2bc2bfb7f8"
          }
         ],
         "display_layers": [
          {
           "data_index": 0,
           "data_row": 0,
           "fill_color": "#1E90FF"
          }
         ],
         "display_properties": {
          "image_canvas_mode": "custom",
          "image_position": [
           0.4537037037037039,
           0.736111111111111
          ]
         },
         "graphics": [
          {
           "graphic_id": "probe",
           "is_bounds_constrained": true,
           "is_position_locked": false,
           "is_shape_locked": false,
           "label": "Probe",
           "modified": "2022-02-18T20:23:37.191413",
           "position": [
            0.23842592592592604,
            0.27956349206349207
           ],
           "stroke_color": "#F80",
           "type": "point-graphic",
           "uuid": "4fb6d52e-b6ba-4e63-aeda-1e1cf0c47a13"
          }
         ],
         "modified": "2022-02-18T20:23:37.191413",
         "type": "display_item",
         "uuid": "286f567d-3dac-4d7c-83ef-31108d68dc3f"
        },
        {
         "calibration_style_id": "calibrated",
         "created": "2022-02-18T13:11:01.003702",
         "display_data_channels": [
          {
           "adjustments": [],
           "brightness": 0,
           "collection_index": [
            0,
            0,
            0
           ],
           "contrast": 1,
           "data_item_reference": "615f4c2b-5ef8-46ed-b402-d5c04285cac6",
           "sequence_index": 0,
           "slice_center": 0,
           "slice_width": 1,
           "type": "display_data_channel",
           "uuid": "8e735841-d697-42d9-a9c0-93d2ff17a07c"
          }
         ],
         "display_layers": [
          {
           "data_index": 0,
           "data_row": 0,
           "fill_color": "#1E90FF"
          }
         ],
         "display_properties": {},
         "graphics": [],
         "modified": "2022-08-31T21:51:21.737727",
         "type": "display_item",
         "uuid": "13917a11-7539-4ec4-a14e-60d2196127ef"
        },
        {
         "calibration_style_id": "calibrated",
         "created": "2022-02-18T13:12:02.613283",
         "display_data_channels": [
          {
           "adjustments": [],
           "brightness": 0,
           "collection_index": [
            0,
            0,
            0
           ],
           "contrast": 1.202264434617413,
           "data_item_reference": "640b9663-1f4d-4063-9b7f-1e6df805630e",
           "modified": "2022-02-18T20:30:59.861506",
           "sequence_index": 0,
           "slice_center": 0,
           "slice_width": 1,
           "type": "display_data_channel",
           "uuid": "3052648c-b995-4ae5-b7bc-a00a51c5ffb9"
          }
         ],
         "display_layers": [
          {
           "data_index": 0,
           "data_row": 0,
           "fill_color": "#1E90FF"
          }
         ],
         "display_properties": {},
         "graphics": [],
         "modified": "2022-02-18T20:31:51.038437",
         "type": "display_item",
         "uuid": "b6f77336-617f-4a8e-a49e-ab530489fe7f"
        },
        {
         "calibration_style_id": "calibrated",
         "created": "2022-02-18T13:12:25.764385",
         "display_data_channels": [
          {
           "adjustments": [],
           "brightness": 0,
           "collection_index": [
            0,
            0,
            0
           ],
           "contrast": 1,
           "data_item_reference": "529f8169-05e2-477f-b915-abee9d35803a",
           "sequence_index": 0,
           "slice_center": 0,
           "slice_width": 1,
           "type": "display_data_channel",
           "uuid": "a27e54d6-293d-4279-833f-3464f30ddb4d"
          }
         ],
         "display_layers": [
          {
           "data_index": 0,
           "data_row": 0,
           "fill_color": "#1E90FF"
          }
         ],
         "display_properties": {},
         "graphics": [],
         "type": "display_item",
         "uuid": "ec4dabe0-dd81-4a46-80bd-bc1e40f3a71e"
        },
        {
         "calibration_style_id": "calibrated",
         "created": "2022-02-18T13:12:35.016268",
         "display_data_channels": [
          {
           "adjustments": [],
           "brightness": 0,
           "collection_index": [
            0,
            0,
            0
           ],
           "contrast": 1,
           "data_item_reference": "fc9beab4-4e85-4440-ad49-2cea6f94661a",
           "sequence_index": 0,
           "slice_center": 0,
           "slice_width": 1,
           "type": "display_data_channel",
           "uuid": "a8d3d047-fe82-4f9f-88c9-ac5da663b77f"
          }
         ],
         "display_layers": [
          {
           "data_index": 0,
           "data_row": 0,
           "fill_color": "#1E90FF"
          }
         ],
         "display_properties": {},
         "graphics": [
          {
           "graphic_id": "probe",
           "is_bounds_constrained": true,
           "is_position_locked": false,
           "is_shape_locked": false,
           "label": "Probe",
           "position": [
            0.31250000000000006,
            0.46428571428571425
           ],
           "stroke_color": "#F80",
           "type": "point-graphic",
           "uuid": "2bb6d4cd-5f95-490b-a69b-86c78f020948"
          }
         ],
         "modified": "2022-02-18T13:30:56.518388",
         "type": "display_item",
         "uuid": "3a8d54f2-af20-4c9f-a274-2072843dbf14"
        },
        {
         "calibration_style_id": "calibrated",
         "created": "2022-02-18T13:12:58.834407",
         "display_data_channels": [
          {
           "adjustments": [],
           "brightness": 0,
           "collection_index": [
            0,
            0,
            0
           ],
           "contrast": 1,
           "data_item_reference": "7f6400b5-01d8-413a-830e-0ecc796109ca",
           "sequence_index": 0,
           "slice_center": 0,
           "slice_width": 1,
           "type": "display_data_channel",
           "uuid": "c489ab3a-3343-448f-bb23-af2fce533456"
          }
         ],
         "display_layers": [
          {
           "data_index": 0,
           "data_row": 0,
           "fill_color": "#1E90FF"
          }
         ],
         "display_properties": {},
         "graphics": [
          {
           "graphic_id": "probe",
           "is_bounds_constrained": true,
           "is_position_locked": false,
           "is_shape_locked": false,
           "label": "Probe",
           "position": [
            0.31250000000000006,
            0.46428571428571425
           ],
           "stroke_color": "#F80",
           "type": "point-graphic",
           "uuid": "80651edb-67ea-497a-afb7-8c710e843798"
          }
         ],
         "modified": "2022-02-18T13:30:56.534232",
         "type": "display_item",
         "uuid": "ae43a370-73cf-4c61-beb2-ec9b89b6209e"
        },
        {
         "calibration_style_id": "calibrated",
         "created": "2022-02-18T13:13:11.526299",
         "display_data_channels": [
          {
           "adjustments": [],
           "brightness": 0,
           "collection_index": [
            0,
            0,
            0
           ],
           "contrast": 1,
           "data_item_reference": "6210ad76-aedb-4b7c-b3d0-ed312a4d6786",
           "sequence_index": 0,
           "slice_center": 0,
           "slice_width": 1,
           "type": "display_data_channel",
           "uuid": "145b5f7b-7683-4c90-b6d3-10fab539d42f"
          }
         ],
         "display_layers": [
          {
           "data_index": 0,
           "data_row": 0,
           "fill_color": "#1E90FF"
          }
         ],
         "display_properties": {},
         "graphics": [],
         "type": "display_item",
         "uuid": "bf0a8a0a-b45e-4e14-84d6-c092c3c52658"
        },
        {
         "calibration_style_id": "calibrated",
         "created": "2022-02-18T13:13:11.594670",
         "display_data_channels": [
          {
           "adjustments": [],
           "brightness": 0,
           "collection_index": [
            0,
            0,
            0
           ],
           "contrast": 1,
           "data_item_reference": "755ec4cd-c399-4697-a0dd-07d02e757ac7",
           "sequence_index": 0,
           "slice_center": 0,
           "slice_width": 1,
           "type": "display_data_channel",
           "uuid": "79c70123-9409-47e6-ba0d-baaf7e61e58f"
          }
         ],
         "display_layers": [
          {
           "data_index": 0,
           "data_row": 0,
           "fill_color": "#1E90FF"
          }
         ],
         "display_properties": {},
         "graphics": [],
         "type": "display_item",
         "uuid": "2141e682-8c83-421a-bd2c-96682043de5d"
        },
        {
         "calibration_style_id": "calibrated",
         "created": "2022-02-18T13:16:10.176745",
         "display_data_channels": [
          {
           "adjustments": [],
           "brightness": 0,
           "collection_index": [
            0,
            0,
            0
           ],
           "contrast": 1,
           "data_item_reference": "50f433fe-03f4-46af-a154-d2a12decc10c",
           "modified": "2022-02-18T20:28:52.997717",
           "sequence_index": 0,
           "slice_center": 0,
           "slice_width": 1,
           "type": "display_data_channel",
           "uuid": "520440e8-57be-41da-b85a-34402e50026e"
          }
         ],
         "display_layers": [
          {
           "data_index": 0,
           "data_row": 0,
           "fill_color": "#1E90FF"
          }
         ],
         "display_properties": {},
         "graphics": [],
         "modified": "2022-02-18T20:28:52.997717",
         "type": "display_item",
         "uuid": "bb4cde23-2437-4479-aa39-351d9c3f980a"
        },
        {
         "calibration_style_id": "calibrated",
         "created": "2022-02-18T13:16:10.199811",
         "display_data_channels": [
          {
           "adjustments": [],
           "brightness": 0,
           "collection_index": [
            0,
            0,
            0
           ],
           "contrast": 1,
           "data_item_reference": "773fef93-e2dd-4f1b-b6b2-d3572bd65c62",
           "sequence_index": 0,
           "slice_center": 0,
           "slice_width": 1,
           "type": "display_data_channel",
           "uuid": "81e6f271-f494-42f4-8b77-ce104c26d4c7"
          }
         ],
         "display_layers": [
          {
           "data_index": 0,
           "data_row": 0,
           "fill_color": "#1E90FF"
          }
         ],
         "display_properties": {},
         "graphics": [],
         "type": "display_item",
         "uuid": "ffcc53d7-2051-4c95-a225-cc6258a821d6"
        },
        {
         "calibration_style_id": "calibrated",
         "created": "2022-02-18T13:21:51.327961",
         "display_data_channels": [
          {
           "adjustments": [],
           "brightness": 0,
           "collection_index": [
            0,
            0,
            0
           ],
           "contrast": 1,
           "data_item_reference": "b3d3ebc3-2dac-4e0b-ba83-ea2aba0672ba",
           "modified": "2022-02-18T13:29:50.892698",
           "sequence_index": 0,
           "slice_center": 0,
           "slice_width": 1,
           "type": "display_data_channel",
           "uuid": "b19973a3-6ec9-4625-bf8d-71193756c6e0"
          }
         ],
         "display_layers": [
          {
           "data_index": 0,
           "data_row": 0,
           "fill_color": "#1E90FF"
          }
         ],
         "display_properties": {},
         "graphics": [],
         "modified": "2022-02-18T13:29:50.892698",
         "type": "display_item",
         "uuid": "a5afb097-df39-4bbe-bb95-94e7f5a67a6b"
        },
        {
         "calibration_style_id": "calibrated",
         "created": "2022-02-18T13:26:18.978983",
         "display_data_channels": [
          {
           "adjustments": [],
           "brightness": 0,
           "collection_index": [
            0,
            0,
            0
           ],
           "contrast": 1,
           "data_item_reference": "1c9dea8c-e46d-47b7-8225-ead2151cebd2",
           "sequence_index": 0,
           "slice_center": 0,
           "slice_width": 1,
           "type": "display_data_channel",
           "uuid": "d0987df8-b488-43f7-b85e-398d61f21ae3"
          }
         ],
         "display_layers": [
          {
           "data_index": 0,
           "data_row": 0,
           "fill_color": "#1E90FF"
          }
         ],
         "display_properties": {},
         "graphics": [],
         "type": "display_item",
         "uuid": "2adeba80-7518-49d9-9929-bff16f4cde82"
        },
        {
         "calibration_style_id": "calibrated",
         "created": "2022-02-18T13:26:19.167738",
         "display_data_channels": [
          {
           "adjustments": [],
           "brightness": 0,
           "collection_index": [
            0,
            0,
            0
           ],
           "contrast": 1,
           "data_item_reference": "772d219c-6178-4037-94c4-a6369df8c7ff",
           "sequence_index": 0,
           "slice_center": 0,
           "slice_width": 1,
           "type": "display_data_channel",
           "uuid": "d048770a-42a7-4b5a-9551-57141d8f4a5d"
          }
         ],
         "display_layers": [
          {
           "data_index": 0,
           "data_row": 0,
           "fill_color": "#1E90FF"
          }
         ],
         "display_properties": {},
         "graphics": [],
         "type": "display_item",
         "uuid": "8a15067f-76e9-42f5-ada5-5080238bb06c"
        },
        {
         "calibration_style_id": "calibrated",
         "created": "2022-02-18T13:27:03.146800",
         "display_data_channels": [
          {
           "adjustments": [],
           "brightness": 0,
           "collection_index": [
            0,
            0,
            0
           ],
           "contrast": 1,
           "data_item_reference": "96a3d707-b24c-4ba7-a9a9-4ab1005d3986",
           "sequence_index": 0,
           "slice_center": 0,
           "slice_width": 1,
           "type": "display_data_channel",
           "uuid": "75c66be0-66e6-4905-924a-82620d081893"
          }
         ],
         "display_layers": [
          {
           "data_index": 0,
           "data_row": 0,
           "fill_color": "#1E90FF"
          }
         ],
         "display_properties": {},
         "graphics": [],
         "type": "display_item",
         "uuid": "d10c690b-d5dc-4fa8-b5dd-aca73f7da799"
        },
        {
         "calibration_style_id": "calibrated",
         "created": "2022-02-18T13:27:03.331983",
         "display_data_channels": [
          {
           "adjustments": [],
           "brightness": 0,
           "collection_index": [
            5,
            9,
            0
           ],
           "contrast": 1,
           "data_item_reference": "e4900934-9332-4706-94cc-6fbe989647d9",
           "modified": "2022-02-18T20:25:58.472909",
           "sequence_index": 0,
           "slice_center": 0,
           "slice_width": 1,
           "type": "display_data_channel",
           "uuid": "bf507eec-e681-4a73-8be7-48a847a7841b"
          }
         ],
         "display_layers": [
          {
           "data_index": 0,
           "data_row": 0,
           "fill_color": "#1E90FF"
          }
         ],
         "display_properties": {},
         "graphics": [],
         "modified": "2022-02-18T20:25:58.472909",
         "type": "display_item",
         "uuid": "e7353c24-d69f-4c0a-999b-4fb321809d12"
        },
        {
         "calibration_style_id": "calibrated",
         "created": "2022-02-18T13:28:43.896239",
         "display_data_channels": [
          {
           "adjustments": [],
           "brightness": 0,
           "collection_index": [
            0,
            0,
            0
           ],
           "contrast": 1,
           "data_item_reference": "72f1cda3-dea5-4a1b-bb85-ee34d5009860",
           "sequence_index": 0,
           "slice_center": 0,
           "slice_width": 1,
           "type": "display_data_channel",
           "uuid": "2c81f7fd-62d1-43f9-9bd1-310ced1799c2"
          }
         ],
         "display_layers": [
          {
           "data_index": 0,
           "data_row": 0,
           "fill_color": "#1E90FF"
          }
         ],
         "display_properties": {},
         "graphics": [],
         "type": "display_item",
         "uuid": "d523c42c-2d93-429c-9549-fe83ee0875b9"
        },
        {
         "calibration_style_id": "calibrated",
         "created": "2022-02-18T13:28:43.957492",
         "display_data_channels": [
          {
           "adjustments": [],
           "brightness": 0,
           "collection_index": [
            0,
            0,
            0
           ],
           "contrast": 1,
           "data_item_reference": "940cd3ee-5479-4336-bf1a-a8811b28d58c",
           "modified": "2022-08-31T21:56:28.802724",
           "sequence_index": 0,
           "slice_center": 0,
           "slice_width": 1,
           "type": "display_data_channel",
           "uuid": "da066ca1-b784-45ea-9246-0bd7b892463c"
          }
         ],
         "display_layers": [
          {
           "data_index": 0,
           "data_row": 0,
           "fill_color": "#1E90FF"
          }
         ],
         "display_properties": {},
         "graphics": [],
         "modified": "2022-08-31T21:56:28.802724",
         "type": "display_item",
         "uuid": "33cb480c-259f-49b1-a70d-a9599f398851"
        },
        {
         "calibration_style_id": "calibrated",
         "created": "2022-02-18T13:30:30.674205",
         "display_data_channels": [
          {
           "adjustments": [],
           "brightness": 0,
           "collection_index": [
            0,
            0,
            0
           ],
           "contrast": 1,
           "data_item_reference": "7e19bb9e-78a5-4d1c-8bd3-b60e6cebae42",
           "sequence_index": 0,
           "slice_center": 0,
           "slice_width": 1,
           "type": "display_data_channel",
           "uuid": "0e619340-6eb3-4216-ab44-5d3146aef785"
          }
         ],
         "display_layers": [
          {
           "data_index": 0,
           "data_row": 0,
           "fill_color": "#1E90FF"
          }
         ],
         "display_properties": {},
         "graphics": [],
         "type": "display_item",
         "uuid": "9a38226f-fb47-4dc2-84ba-da18bccd8a35"
        },
        {
         "calibration_style_id": "calibrated",
         "created": "2022-02-18T13:30:30.717266",
         "display_data_channels": [
          {
           "adjustments": [],
           "brightness": 0,
           "collection_index": [
            0,
            0,
            0
           ],
           "contrast": 1,
           "data_item_reference": "602cc54e-0fe7-45cd-be75-f1b933a19a3f",
           "sequence_index": 0,
           "slice_center": 0,
           "slice_width": 1,
           "type": "display_data_channel",
           "uuid": "473920f0-7d77-4447-b507-688a20469b57"
          }
         ],
         "display_layers": [
          {
           "data_index": 0,
           "data_row": 0,
           "fill_color": "#1E90FF"
          }
         ],
         "display_properties": {},
         "graphics": [],
         "type": "display_item",
         "uuid": "01abcd83-6966-4f57-8c31-beb11ed2c262"
        }
       ],
       "modified": "2022-08-31T22:29:39.568453",
       "project_data_folders": [
        "2022-02-18_Metadata_Kuehbach Data"
       ],
       "uuid": "aaec9e79-2725-45b9-bd8b-1a70e0a3e4f9",
       "version": 3,
       "workspace_uuid": "d52b1b81-ac7e-4519-a2cb-6dbd65151300",
       "workspaces": [
        {
         "layout": {
          "display_item_specifier": "33cb480c-259f-49b1-a70d-a9599f398851",
          "identifier": "TX",
          "type": "image",
          "uuid": "e6405028-8fd8-4c5f-8256-ce80a9b75556"
         },
         "modified": "2022-08-31T22:29:39.568453",
         "name": "Workspace",
         "type": "workspace",
         "uuid": "d52b1b81-ac7e-4519-a2cb-6dbd65151300",
         "workspace_id": "1fd690c6-5fa3-4869-b5c8-499f821a1342"
        }
       ]
      },
      "text/plain": [
       "<IPython.core.display.JSON object>"
      ]
     },
     "execution_count": 50,
     "metadata": {
      "application/json": {
       "expanded": false,
       "root": "root"
      }
     },
     "output_type": "execute_result"
    }
   ],
   "source": [
    "JSON(\"2022-02-18_Metadata_Kuehbach.nsproj\")"
   ]
  },
  {
   "cell_type": "code",
   "execution_count": 3,
   "id": "86df86fc-8c03-4c7e-b58e-148d78a260e5",
   "metadata": {},
   "outputs": [
    {
     "name": "stdout",
     "output_type": "stream",
     "text": [
      "version\t\t\t3\n",
      "uuid\t\t\taaec9e79-2725-45b9-bd8b-1a70e0a3e4f9\n",
      "project_data_folders\t\t\t['2022-02-18_Metadata_Kuehbach Data']\n",
      "modified\t\t\t2022-08-31T22:29:39.568453\n",
      "data_groups\t\t\t[{'type': 'data_group', 'uuid': '14ba4658-3407-49b8-892b-f81b88ee347d', 'title': 'My Data', 'display_item_references': [], 'data_groups': []}]\n",
      "display_items\t\t\t[{'type': 'display_item', 'uuid': '0256be77-7f65-401b-a1ba-d31064e37dfb', 'created': '2022-02-18T13:09:47.976613', 'calibration_style_id': 'calibrated', 'display_properties': {}, 'graphics': [], 'display_layers': [{'data_row': 0, 'fill_color': '#1E90FF', 'data_index': 0}], 'display_data_channels': [{'type': 'display_data_channel', 'uuid': '9c48aa2a-c910-4200-a625-0f01a09a3578', 'brightness': 0.0, 'contrast': 1.0, 'adjustments': [], 'sequence_index': 0, 'collection_index': [0, 0, 0], 'slice_center': 0, 'slice_width': 1, 'data_item_reference': 'fc37bb8f-9de2-4cbd-9eaa-cf3fdc22a356', 'modified': '2022-02-18T20:27:44.597242'}], 'modified': '2022-08-31T21:51:34.436866'}, {'type': 'display_item', 'uuid': '286f567d-3dac-4d7c-83ef-31108d68dc3f', 'created': '2022-02-18T13:10:07.481671', 'calibration_style_id': 'calibrated', 'display_properties': {'image_position': [0.4537037037037039, 0.736111111111111], 'image_canvas_mode': 'custom'}, 'graphics': [{'type': 'point-graphic', 'uuid': '4fb6d52e-b6ba-4e63-aeda-1e1cf0c47a13', 'graphic_id': 'probe', 'stroke_color': '#F80', 'label': 'Probe', 'is_position_locked': False, 'is_shape_locked': False, 'is_bounds_constrained': True, 'position': [0.23842592592592604, 0.27956349206349207], 'modified': '2022-02-18T20:23:37.191413'}], 'display_layers': [{'data_row': 0, 'fill_color': '#1E90FF', 'data_index': 0}], 'display_data_channels': [{'type': 'display_data_channel', 'uuid': '0274158f-a96b-4ad8-a8ce-ae2bc2bfb7f8', 'brightness': 0.0, 'contrast': 1.0, 'adjustments': [], 'sequence_index': 0, 'collection_index': [0, 0, 0], 'slice_center': 0, 'slice_width': 1, 'data_item_reference': '8506c02c-8ba8-48ef-b22f-5e2878abe2d9'}], 'modified': '2022-02-18T20:23:37.191413'}, {'type': 'display_item', 'uuid': '13917a11-7539-4ec4-a14e-60d2196127ef', 'created': '2022-02-18T13:11:01.003702', 'calibration_style_id': 'calibrated', 'display_properties': {}, 'graphics': [], 'display_layers': [{'data_row': 0, 'fill_color': '#1E90FF', 'data_index': 0}], 'display_data_channels': [{'type': 'display_data_channel', 'uuid': '8e735841-d697-42d9-a9c0-93d2ff17a07c', 'brightness': 0.0, 'contrast': 1.0, 'adjustments': [], 'sequence_index': 0, 'collection_index': [0, 0, 0], 'slice_center': 0, 'slice_width': 1, 'data_item_reference': '615f4c2b-5ef8-46ed-b402-d5c04285cac6'}], 'modified': '2022-08-31T21:51:21.737727'}, {'type': 'display_item', 'uuid': 'b6f77336-617f-4a8e-a49e-ab530489fe7f', 'created': '2022-02-18T13:12:02.613283', 'calibration_style_id': 'calibrated', 'display_properties': {}, 'graphics': [], 'display_layers': [{'data_row': 0, 'fill_color': '#1E90FF', 'data_index': 0}], 'display_data_channels': [{'type': 'display_data_channel', 'uuid': '3052648c-b995-4ae5-b7bc-a00a51c5ffb9', 'brightness': 0.0, 'contrast': 1.202264434617413, 'adjustments': [], 'sequence_index': 0, 'collection_index': [0, 0, 0], 'slice_center': 0, 'slice_width': 1, 'data_item_reference': '640b9663-1f4d-4063-9b7f-1e6df805630e', 'modified': '2022-02-18T20:30:59.861506'}], 'modified': '2022-02-18T20:31:51.038437'}, {'type': 'display_item', 'uuid': 'ec4dabe0-dd81-4a46-80bd-bc1e40f3a71e', 'created': '2022-02-18T13:12:25.764385', 'calibration_style_id': 'calibrated', 'display_properties': {}, 'graphics': [], 'display_layers': [{'data_row': 0, 'fill_color': '#1E90FF', 'data_index': 0}], 'display_data_channels': [{'type': 'display_data_channel', 'uuid': 'a27e54d6-293d-4279-833f-3464f30ddb4d', 'brightness': 0.0, 'contrast': 1.0, 'adjustments': [], 'sequence_index': 0, 'collection_index': [0, 0, 0], 'slice_center': 0, 'slice_width': 1, 'data_item_reference': '529f8169-05e2-477f-b915-abee9d35803a'}]}, {'type': 'display_item', 'uuid': '3a8d54f2-af20-4c9f-a274-2072843dbf14', 'created': '2022-02-18T13:12:35.016268', 'calibration_style_id': 'calibrated', 'display_properties': {}, 'graphics': [{'type': 'point-graphic', 'uuid': '2bb6d4cd-5f95-490b-a69b-86c78f020948', 'graphic_id': 'probe', 'stroke_color': '#F80', 'label': 'Probe', 'is_position_locked': False, 'is_shape_locked': False, 'is_bounds_constrained': True, 'position': [0.31250000000000006, 0.46428571428571425]}], 'display_layers': [{'data_row': 0, 'fill_color': '#1E90FF', 'data_index': 0}], 'display_data_channels': [{'type': 'display_data_channel', 'uuid': 'a8d3d047-fe82-4f9f-88c9-ac5da663b77f', 'brightness': 0.0, 'contrast': 1.0, 'adjustments': [], 'sequence_index': 0, 'collection_index': [0, 0, 0], 'slice_center': 0, 'slice_width': 1, 'data_item_reference': 'fc9beab4-4e85-4440-ad49-2cea6f94661a'}], 'modified': '2022-02-18T13:30:56.518388'}, {'type': 'display_item', 'uuid': 'ae43a370-73cf-4c61-beb2-ec9b89b6209e', 'created': '2022-02-18T13:12:58.834407', 'calibration_style_id': 'calibrated', 'display_properties': {}, 'graphics': [{'type': 'point-graphic', 'uuid': '80651edb-67ea-497a-afb7-8c710e843798', 'graphic_id': 'probe', 'stroke_color': '#F80', 'label': 'Probe', 'is_position_locked': False, 'is_shape_locked': False, 'is_bounds_constrained': True, 'position': [0.31250000000000006, 0.46428571428571425]}], 'display_layers': [{'data_row': 0, 'fill_color': '#1E90FF', 'data_index': 0}], 'display_data_channels': [{'type': 'display_data_channel', 'uuid': 'c489ab3a-3343-448f-bb23-af2fce533456', 'brightness': 0.0, 'contrast': 1.0, 'adjustments': [], 'sequence_index': 0, 'collection_index': [0, 0, 0], 'slice_center': 0, 'slice_width': 1, 'data_item_reference': '7f6400b5-01d8-413a-830e-0ecc796109ca'}], 'modified': '2022-02-18T13:30:56.534232'}, {'type': 'display_item', 'uuid': 'bf0a8a0a-b45e-4e14-84d6-c092c3c52658', 'created': '2022-02-18T13:13:11.526299', 'calibration_style_id': 'calibrated', 'display_properties': {}, 'graphics': [], 'display_layers': [{'data_row': 0, 'fill_color': '#1E90FF', 'data_index': 0}], 'display_data_channels': [{'type': 'display_data_channel', 'uuid': '145b5f7b-7683-4c90-b6d3-10fab539d42f', 'brightness': 0.0, 'contrast': 1.0, 'adjustments': [], 'sequence_index': 0, 'collection_index': [0, 0, 0], 'slice_center': 0, 'slice_width': 1, 'data_item_reference': '6210ad76-aedb-4b7c-b3d0-ed312a4d6786'}]}, {'type': 'display_item', 'uuid': '2141e682-8c83-421a-bd2c-96682043de5d', 'created': '2022-02-18T13:13:11.594670', 'calibration_style_id': 'calibrated', 'display_properties': {}, 'graphics': [], 'display_layers': [{'data_row': 0, 'fill_color': '#1E90FF', 'data_index': 0}], 'display_data_channels': [{'type': 'display_data_channel', 'uuid': '79c70123-9409-47e6-ba0d-baaf7e61e58f', 'brightness': 0.0, 'contrast': 1.0, 'adjustments': [], 'sequence_index': 0, 'collection_index': [0, 0, 0], 'slice_center': 0, 'slice_width': 1, 'data_item_reference': '755ec4cd-c399-4697-a0dd-07d02e757ac7'}]}, {'type': 'display_item', 'uuid': 'bb4cde23-2437-4479-aa39-351d9c3f980a', 'created': '2022-02-18T13:16:10.176745', 'calibration_style_id': 'calibrated', 'display_properties': {}, 'graphics': [], 'display_layers': [{'data_row': 0, 'fill_color': '#1E90FF', 'data_index': 0}], 'display_data_channels': [{'type': 'display_data_channel', 'uuid': '520440e8-57be-41da-b85a-34402e50026e', 'brightness': 0.0, 'contrast': 1.0, 'adjustments': [], 'sequence_index': 0, 'collection_index': [0, 0, 0], 'slice_center': 0, 'slice_width': 1, 'data_item_reference': '50f433fe-03f4-46af-a154-d2a12decc10c', 'modified': '2022-02-18T20:28:52.997717'}], 'modified': '2022-02-18T20:28:52.997717'}, {'type': 'display_item', 'uuid': 'ffcc53d7-2051-4c95-a225-cc6258a821d6', 'created': '2022-02-18T13:16:10.199811', 'calibration_style_id': 'calibrated', 'display_properties': {}, 'graphics': [], 'display_layers': [{'data_row': 0, 'fill_color': '#1E90FF', 'data_index': 0}], 'display_data_channels': [{'type': 'display_data_channel', 'uuid': '81e6f271-f494-42f4-8b77-ce104c26d4c7', 'brightness': 0.0, 'contrast': 1.0, 'adjustments': [], 'sequence_index': 0, 'collection_index': [0, 0, 0], 'slice_center': 0, 'slice_width': 1, 'data_item_reference': '773fef93-e2dd-4f1b-b6b2-d3572bd65c62'}]}, {'type': 'display_item', 'uuid': 'a5afb097-df39-4bbe-bb95-94e7f5a67a6b', 'created': '2022-02-18T13:21:51.327961', 'calibration_style_id': 'calibrated', 'display_properties': {}, 'graphics': [], 'display_layers': [{'data_row': 0, 'fill_color': '#1E90FF', 'data_index': 0}], 'display_data_channels': [{'type': 'display_data_channel', 'uuid': 'b19973a3-6ec9-4625-bf8d-71193756c6e0', 'brightness': 0.0, 'contrast': 1.0, 'adjustments': [], 'sequence_index': 0, 'collection_index': [0, 0, 0], 'slice_center': 0, 'slice_width': 1, 'data_item_reference': 'b3d3ebc3-2dac-4e0b-ba83-ea2aba0672ba', 'modified': '2022-02-18T13:29:50.892698'}], 'modified': '2022-02-18T13:29:50.892698'}, {'type': 'display_item', 'uuid': '2adeba80-7518-49d9-9929-bff16f4cde82', 'created': '2022-02-18T13:26:18.978983', 'calibration_style_id': 'calibrated', 'display_properties': {}, 'graphics': [], 'display_layers': [{'data_row': 0, 'fill_color': '#1E90FF', 'data_index': 0}], 'display_data_channels': [{'type': 'display_data_channel', 'uuid': 'd0987df8-b488-43f7-b85e-398d61f21ae3', 'brightness': 0.0, 'contrast': 1.0, 'adjustments': [], 'sequence_index': 0, 'collection_index': [0, 0, 0], 'slice_center': 0, 'slice_width': 1, 'data_item_reference': '1c9dea8c-e46d-47b7-8225-ead2151cebd2'}]}, {'type': 'display_item', 'uuid': '8a15067f-76e9-42f5-ada5-5080238bb06c', 'created': '2022-02-18T13:26:19.167738', 'calibration_style_id': 'calibrated', 'display_properties': {}, 'graphics': [], 'display_layers': [{'data_row': 0, 'fill_color': '#1E90FF', 'data_index': 0}], 'display_data_channels': [{'type': 'display_data_channel', 'uuid': 'd048770a-42a7-4b5a-9551-57141d8f4a5d', 'brightness': 0.0, 'contrast': 1.0, 'adjustments': [], 'sequence_index': 0, 'collection_index': [0, 0, 0], 'slice_center': 0, 'slice_width': 1, 'data_item_reference': '772d219c-6178-4037-94c4-a6369df8c7ff'}]}, {'type': 'display_item', 'uuid': 'd10c690b-d5dc-4fa8-b5dd-aca73f7da799', 'created': '2022-02-18T13:27:03.146800', 'calibration_style_id': 'calibrated', 'display_properties': {}, 'graphics': [], 'display_layers': [{'data_row': 0, 'fill_color': '#1E90FF', 'data_index': 0}], 'display_data_channels': [{'type': 'display_data_channel', 'uuid': '75c66be0-66e6-4905-924a-82620d081893', 'brightness': 0.0, 'contrast': 1.0, 'adjustments': [], 'sequence_index': 0, 'collection_index': [0, 0, 0], 'slice_center': 0, 'slice_width': 1, 'data_item_reference': '96a3d707-b24c-4ba7-a9a9-4ab1005d3986'}]}, {'type': 'display_item', 'uuid': 'e7353c24-d69f-4c0a-999b-4fb321809d12', 'created': '2022-02-18T13:27:03.331983', 'calibration_style_id': 'calibrated', 'display_properties': {}, 'graphics': [], 'display_layers': [{'data_row': 0, 'fill_color': '#1E90FF', 'data_index': 0}], 'display_data_channels': [{'type': 'display_data_channel', 'uuid': 'bf507eec-e681-4a73-8be7-48a847a7841b', 'brightness': 0.0, 'contrast': 1.0, 'adjustments': [], 'sequence_index': 0, 'collection_index': [5, 9, 0], 'slice_center': 0, 'slice_width': 1, 'data_item_reference': 'e4900934-9332-4706-94cc-6fbe989647d9', 'modified': '2022-02-18T20:25:58.472909'}], 'modified': '2022-02-18T20:25:58.472909'}, {'type': 'display_item', 'uuid': 'd523c42c-2d93-429c-9549-fe83ee0875b9', 'created': '2022-02-18T13:28:43.896239', 'calibration_style_id': 'calibrated', 'display_properties': {}, 'graphics': [], 'display_layers': [{'data_row': 0, 'fill_color': '#1E90FF', 'data_index': 0}], 'display_data_channels': [{'type': 'display_data_channel', 'uuid': '2c81f7fd-62d1-43f9-9bd1-310ced1799c2', 'brightness': 0.0, 'contrast': 1.0, 'adjustments': [], 'sequence_index': 0, 'collection_index': [0, 0, 0], 'slice_center': 0, 'slice_width': 1, 'data_item_reference': '72f1cda3-dea5-4a1b-bb85-ee34d5009860'}]}, {'type': 'display_item', 'uuid': '33cb480c-259f-49b1-a70d-a9599f398851', 'created': '2022-02-18T13:28:43.957492', 'calibration_style_id': 'calibrated', 'display_properties': {}, 'graphics': [], 'display_layers': [{'data_row': 0, 'fill_color': '#1E90FF', 'data_index': 0}], 'display_data_channels': [{'type': 'display_data_channel', 'uuid': 'da066ca1-b784-45ea-9246-0bd7b892463c', 'brightness': 0.0, 'contrast': 1.0, 'adjustments': [], 'sequence_index': 0, 'collection_index': [0, 0, 0], 'slice_center': 0, 'slice_width': 1, 'data_item_reference': '940cd3ee-5479-4336-bf1a-a8811b28d58c', 'modified': '2022-08-31T21:56:28.802724'}], 'modified': '2022-08-31T21:56:28.802724'}, {'type': 'display_item', 'uuid': '9a38226f-fb47-4dc2-84ba-da18bccd8a35', 'created': '2022-02-18T13:30:30.674205', 'calibration_style_id': 'calibrated', 'display_properties': {}, 'graphics': [], 'display_layers': [{'data_row': 0, 'fill_color': '#1E90FF', 'data_index': 0}], 'display_data_channels': [{'type': 'display_data_channel', 'uuid': '0e619340-6eb3-4216-ab44-5d3146aef785', 'brightness': 0.0, 'contrast': 1.0, 'adjustments': [], 'sequence_index': 0, 'collection_index': [0, 0, 0], 'slice_center': 0, 'slice_width': 1, 'data_item_reference': '7e19bb9e-78a5-4d1c-8bd3-b60e6cebae42'}]}, {'type': 'display_item', 'uuid': '01abcd83-6966-4f57-8c31-beb11ed2c262', 'created': '2022-02-18T13:30:30.717266', 'calibration_style_id': 'calibrated', 'display_properties': {}, 'graphics': [], 'display_layers': [{'data_row': 0, 'fill_color': '#1E90FF', 'data_index': 0}], 'display_data_channels': [{'type': 'display_data_channel', 'uuid': '473920f0-7d77-4447-b507-688a20469b57', 'brightness': 0.0, 'contrast': 1.0, 'adjustments': [], 'sequence_index': 0, 'collection_index': [0, 0, 0], 'slice_center': 0, 'slice_width': 1, 'data_item_reference': '602cc54e-0fe7-45cd-be75-f1b933a19a3f'}]}]\n",
      "data_item_references/orca1\t\t\tfc37bb8f-9de2-4cbd-9eaa-cf3fdc22a356\n",
      "data_item_references/superscan_a\t\t\t8506c02c-8ba8-48ef-b22f-5e2878abe2d9\n",
      "data_item_references/dectris_ela\t\t\t3beff822-2fa3-4e0c-9685-7fd845b6edc2\n",
      "data_item_references/dectris_ela_summed\t\t\ted58bf35-df50-4386-852c-1c1bef5c7ebc\n",
      "data_item_references/superscan_c\t\t\tfc9beab4-4e85-4440-ad49-2cea6f94661a\n",
      "data_item_references/superscan_b\t\t\t7f6400b5-01d8-413a-830e-0ecc796109ca\n",
      "workspaces\t\t\t[{'type': 'workspace', 'uuid': 'd52b1b81-ac7e-4519-a2cb-6dbd65151300', 'name': 'Workspace', 'layout': {'type': 'image', 'identifier': 'TX', 'uuid': 'e6405028-8fd8-4c5f-8256-ce80a9b75556', 'display_item_specifier': '33cb480c-259f-49b1-a70d-a9599f398851'}, 'workspace_id': '1fd690c6-5fa3-4869-b5c8-499f821a1342', 'modified': '2022-08-31T22:29:39.568453'}]\n",
      "workspace_uuid\t\t\td52b1b81-ac7e-4519-a2cb-6dbd65151300\n",
      "computations\t\t\t[]\n"
     ]
    }
   ],
   "source": [
    "import yaml\n",
    "import flatdict as fd\n",
    "file_name = \"2022-02-18_Metadata_Kuehbach.nsproj\"\n",
    "with open(file_name, 'r') as stream:\n",
    "    yml = fd.FlatDict(yaml.safe_load(stream), delimiter='/')\n",
    "    for serialized_path in yml.keys():\n",
    "        print(f\"{serialized_path}\\t\\t\\t{yml[serialized_path]}\")"
   ]
  },
  {
   "cell_type": "markdown",
   "id": "08b31cad-33d2-4156-99fd-9b40d9d92cc8",
   "metadata": {},
   "source": [
    "1. Load nsproj walk display_items and compute data_alphabet_value check if such files exist\n",
    "2. For each such file perform the mapping into an own NXevent_data_em instance\n",
    "   For the H5 read attribute try to figure out what conceptually the item is"
   ]
  },
  {
   "cell_type": "markdown",
   "id": "b3e0f955-95a1-4ef7-b581-784a4ef291b2",
   "metadata": {},
   "source": [
    "Reproducibly recover the uuid management choices from ns"
   ]
  },
  {
   "cell_type": "code",
   "execution_count": 9,
   "id": "95bc921d-18f5-4321-b5c7-ae8bfb3609d6",
   "metadata": {},
   "outputs": [],
   "source": [
    "import uuid\n",
    "def encode(uuid_: uuid.UUID, alphabet: str) -> str:\n",
    "    result = str()\n",
    "    uuid_int = uuid_.int\n",
    "    while uuid_int:\n",
    "        uuid_int, digit = divmod(uuid_int, len(alphabet))\n",
    "        result += alphabet[digit]\n",
    "    return result"
   ]
  },
  {
   "cell_type": "code",
   "execution_count": 51,
   "id": "17a1d9b7-f93a-4ee7-befd-b6730e54f059",
   "metadata": {},
   "outputs": [
    {
     "name": "stdout",
     "output_type": "stream",
     "text": [
      "data_O4W29EVTX4DPTR33VRYHLI2QH\n"
     ]
    }
   ],
   "source": [
    "data_item_uuid_str = \"e4900934-9332-4706-94cc-6fbe989647d9\"\n",
    "data_item_uuid_str = \"72f1cda3-dea5-4a1b-bb85-ee34d5009860\"\n",
    "data_item_uuid_str = \"8506c02c-8ba8-48ef-b22f-5e2878abe2d9\"\n",
    "data_item_uuid_str = \"b753bea8-2526-4770-875d-52a262c3d9c4\"\n",
    "data_item_uuid_str = \"7e19bb9e-78a5-4d1c-8bd3-b60e6cebae42\"\n",
    "# data_item_uuid_str = \"9c48aa2a-c910-4200-a625-0f01a09a3578\"\n",
    "data_item_uuid_uuid = uuid.UUID(f'{data_item_uuid_str}')\n",
    "print(f'data_{encode(data_item_uuid_uuid, \"ABCDEFGHIJKLMNOPQRSTUVWXYZ1234567890\")}')  # 25 character results"
   ]
  },
  {
   "cell_type": "code",
   "execution_count": 52,
   "id": "0586fdf0-ada9-42b6-a02d-f56075f5c4a7",
   "metadata": {},
   "outputs": [
    {
     "data": {
      "application/x-hdf5": "/home/mkuehbach/Sprint14/finishing_in_migrated_places/merge-with-flo-apm-em-sp14-p1/pynxtools/pynxtools/pynxtools/data_7EPPSHNUFKH6F6A4JCR45J03G.h5",
      "text/plain": [
       "<jupyterlab_h5web.widget.H5Web object>"
      ]
     },
     "execution_count": 52,
     "metadata": {},
     "output_type": "execute_result"
    }
   ],
   "source": [
    "H5Web(\"data_7EPPSHNUFKH6F6A4JCR45J03G.h5\")"
   ]
  },
  {
   "cell_type": "code",
   "execution_count": 4,
   "id": "0fd737cf-3092-4884-a48a-0343ba581473",
   "metadata": {},
   "outputs": [
    {
     "name": "stdout",
     "output_type": "stream",
     "text": [
      "<class 'str'>\n",
      "<class 'str'>\n",
      "<class 'dict'>\n"
     ]
    }
   ],
   "source": [
    "import h5py\n",
    "fnm = \"data_7EPPSHNUFKH6F6A4JCR45J03G.h5\"\n",
    "# fnm = \"data_O4W29EVTX4DPTR33VRYHLI2QH.h5\"\n",
    "# fnm = \"data_24ZGOFFSF7NVOP322TBCKF0YF.h5\"\n",
    "h5r = h5py.File(fnm, \"r\")\n",
    "metadata = h5r[\"data\"].attrs[\"properties\"]\n",
    "print(type(metadata))\n",
    "h5r.close()\n",
    "# with open(\"data_7EPPSHNUFKH6F6A4JCR45J03G.h5.metadata.json\", \"w\") as f:\n",
    "#     f.write(metadata)\n",
    "import json\n",
    "print(type(metadata))\n",
    "json_object = json.loads(metadata)\n",
    "print(type(json_object))\n",
    "with open(f\"{fnm}.metadata.json\", \"w\") as f:\n",
    "    json.dump(metadata, f, ensure_ascii=False)"
   ]
  },
  {
   "cell_type": "code",
   "execution_count": 54,
   "id": "a07ff92d-b56d-47af-9f97-bd6ae754f4d0",
   "metadata": {},
   "outputs": [
    {
     "data": {
      "application/json": {
       "category": "persistent",
       "collection_dimension_count": 2,
       "created": "2022-02-18T13:28:43.889217",
       "data_dtype": "float32",
       "data_modified": "2022-02-18T13:29:09.975093",
       "data_shape": [
        6,
        6,
        10,
        128
       ],
       "datum_dimension_count": 1,
       "dimensional_calibrations": [
        {
         "offset": 0,
         "scale": 1,
         "units": ""
        },
        {
         "offset": -19.200000000000003,
         "scale": 6.4,
         "units": "nm"
        },
        {
         "offset": -32,
         "scale": 6.4,
         "units": "nm"
        },
        {
         "offset": -69.09271876220336,
         "scale": 5.57941750097627,
         "units": "eV"
        }
       ],
       "intensity_calibration": {
        "offset": 0,
        "scale": 1,
        "units": "counts"
       },
       "is_sequence": true,
       "metadata": {
        "MultiAcquire.parameters": {
         "exposure_ms": 50,
         "frames": 6,
         "index": 0,
         "offset_x": 0,
         "offset_y": 0
        },
        "MultiAcquire.settings": {
         "auto_dark_subtract": false,
         "blanker": "C_Blank",
         "blanker_delay": 0.25,
         "camera_hardware_source_id": "dectris_ela",
         "focus": "",
         "focus_delay": 0,
         "processing": "sum_project",
         "saturation_value": 12000,
         "shift_each_sequence_slice": false,
         "stitch_spectra": false,
         "sum_frames": false,
         "use_multi_eels_calibration": false,
         "x_shift_delay": 0.5,
         "x_shifter": "EELS_MagneticShift_Offset",
         "x_units_per_ev": 1,
         "y_align": true,
         "y_shift_delay": 0.05,
         "y_shifter": "",
         "y_units_per_px": 0.00081
        },
        "hardware_source": {
         "ImageRonchigram": {
          "C10": -1.8296492803322277e-08,
          "C12.a": -1.2218441555193799e-08,
          "C12.b": 4.013634028402345e-09,
          "C21.a": -5.1799755384334416e-08,
          "C21.b": -6.818567019810325e-08,
          "C23.a": -4.1209211839157565e-08,
          "C23.b": 3.7599952184036473e-08,
          "C30": -2.1108712089074635e-05,
          "C32.a": 1.5089795875004542e-06,
          "C32.b": -8.461729375893805e-06,
          "C34.a": 1.7032348249548835e-06,
          "C34.b": -1.8039792402869552e-06,
          "C50": 0.003206121407292487,
          "EHT": 60000,
          "LastTuneCurrent": 3.254823003557646e-11,
          "MajorOL": 1.5513793500440023,
          "StageOutA": 3.83483886718816e-08,
          "StageOutB": -0.00022999902707478522,
          "StageOutX": -0.00033887418362859006,
          "StageOutY": -0.00042519170411177,
          "StageOutZ": 0.00015538577300410784,
          "SuperFEG.^EmissionCurrent": 2.764680781194033e-06,
          "probe_ha": 0.03600084615384612
         },
         "binning": 8,
         "camera_processing_parameters": {
          "always_interpolate_racetracks": false,
          "apply_countrate_correction": true,
          "apply_gain_correction": false,
          "bad_pixels": [
           [
            269,
            628
           ]
          ],
          "binning": 8,
          "chip_size": [
           256,
           256
          ],
          "countrate_correction_cutoff": 5000000,
          "countrate_correction_factor": 1e-07,
          "flip_l_r": true,
          "interpolate_racetracks": true,
          "mark_saturated_pixels": true,
          "processing": "sum_project",
          "readout_area": [
           0,
           0,
           512,
           1028
          ],
          "sensor_dimensions": [
           512,
           1028
          ]
         },
         "defocus": -1.8296492803322277e-08,
         "detector_configuration": {
          "auto_summation": true,
          "beam_center_x": 0,
          "beam_center_y": 0,
          "bit_depth_image": 32,
          "bit_depth_readout": 16,
          "chi_increment": 0,
          "chi_start": 0,
          "compression": "lz4",
          "count_time": 0.049995000000000005,
          "countrate_correction_applied": false,
          "countrate_correction_count_cutoff": 916560,
          "data_collection_date": "2022-02-18T14:25:17.697+01:00",
          "description": "Dectris ELA Si 500K",
          "detector_distance": 0,
          "detector_number": "DP-094-01",
          "detector_readout_time": 1e-07,
          "detector_translation": [
           0,
           0,
           0
          ],
          "eiger_fw_version": "release-2020.2.2",
          "element": "",
          "flatfield_correction_applied": false,
          "frame_count_time": 0.0035746425,
          "frame_period": 0.0035746425,
          "frame_time": 0.05,
          "kappa_increment": 0,
          "kappa_start": 0,
          "nimages": 72,
          "ntrigger": 1000000000,
          "number_of_excluded_pixels": 1,
          "omega_increment": 0,
          "omega_start": 0,
          "phi_increment": 0,
          "phi_start": 0,
          "photon_energy": 40000,
          "pixel_mask_applied": true,
          "roi_mode": "",
          "sensor_material": "Si",
          "sensor_thickness": 0.00045,
          "software_version": "1.8.0",
          "threshold_energy": 20000,
          "trigger_mode": "ints",
          "two_theta_increment": 0,
          "two_theta_start": 0,
          "virtual_pixel_correction_applied": true,
          "wavelength": 0.30996049608300064,
          "x_pixel_size": 7.5e-05,
          "x_pixels_in_detector": 1028,
          "y_pixel_size": 7.5e-05,
          "y_pixels_in_detector": 512
         },
         "exposure": 0.05,
         "hardware_source_id": "dectris_ela",
         "hardware_source_name": "Dectris ELA",
         "header_info": {
          "header_detail": "basic",
          "htype": "dheader-1.0",
          "series": 59
         },
         "high_tension": 60000,
         "signal_type": "eels"
        },
        "instrument": {
         "ImageScanned": {
          "C1 ConstW": 0,
          "C10": -1.8296492803322277e-08,
          "C12.a": -1.2218441555193799e-08,
          "C12.b": 4.013634028402345e-09,
          "C2 ConstW": 0.6847009999999992,
          "C21.a": -5.1799755384334416e-08,
          "C21.b": -6.818567019810325e-08,
          "C23.a": -4.1209211839157565e-08,
          "C23.b": 3.7599952184036473e-08,
          "C3 ConstW": 0.9624699999999987,
          "C30": -2.1108712089074635e-05,
          "C32.a": 1.5089795875004542e-06,
          "C32.b": -8.461729375893805e-06,
          "C34.a": 1.7032348249548835e-06,
          "C34.b": -1.8039792402869552e-06,
          "C50": 0.003206121407292487,
          "EHT": 60000,
          "G_2Db": -0.008842152356133365,
          "GeometricProbeSize": 1.1659138292182322e-10,
          "HAADF_Inner_ha": 0.075,
          "HAADF_Outer_ha": 0.208,
          "LastTuneCurrent": 3.254823003557646e-11,
          "PMT2_gain": 672,
          "PMTBF_gain": 2048,
          "PMTDF_gain": 30937.5,
          "StageOutA": 3.83483886718816e-08,
          "StageOutB": -0.00022999902707478522,
          "StageOutX": -0.00033887418362859006,
          "StageOutY": -0.00042519170411177,
          "StageOutZ": 0.00015538577300410784,
          "SuperFEG.^EmissionCurrent": 2.7522294193263294e-06,
          "probe_ha": 0.03600084615384612
         },
         "defocus": -1.8296492803322277e-08,
         "high_tension": 60000
        },
        "scan": {
         "center_x_nm": 0,
         "center_y_nm": 0,
         "fov_nm": 64,
         "hardware_source_id": "superscan",
         "hardware_source_name": "SuperScan",
         "rotation": 0,
         "rotation_deg": 0,
         "scan_context_size": [
          6,
          10
         ],
         "scan_device_parameters": {
          "ac_frame_sync": true,
          "ac_line_sync": false,
          "center_nm": [
           0,
           0
          ],
          "external_clock_mode": 0,
          "external_clock_wait_time_ms": 20000,
          "external_scan_mode": 0,
          "external_scan_ratio": 0,
          "flyback_time_us": 120,
          "fov_nm": 64,
          "pixel_time_us": 4,
          "rotation_rad": 0,
          "scan_id": "7ce91dd2-37e3-46e8-ae8c-0b298d43bed2",
          "size": [
           6,
           10
          ]
         },
         "scan_id": "24b24c21-8453-4d99-b2bd-7baabd564c15",
         "scan_size": [
          6,
          10
         ],
         "valid_rows": 6
        }
       },
       "modified": "2022-02-18T13:29:09.982062",
       "session": {},
       "session_id": "20220218-140947",
       "timezone": "Europe/Berlin",
       "timezone_offset": "+0100",
       "title": "MultiAcquire (Dectris ELA) #1",
       "type": "data-item",
       "uuid": "72f1cda3-dea5-4a1b-bb85-ee34d5009860",
       "version": 13
      },
      "text/plain": [
       "<IPython.core.display.JSON object>"
      ]
     },
     "execution_count": 54,
     "metadata": {
      "application/json": {
       "expanded": false,
       "root": "root"
      }
     },
     "output_type": "execute_result"
    }
   ],
   "source": [
    "JSON(json_object)"
   ]
  },
  {
   "cell_type": "code",
   "execution_count": 48,
   "id": "9ca1fb97-1d3b-4ecf-8c2c-5e5e97a3daf3",
   "metadata": {},
   "outputs": [
    {
     "data": {
      "application/x-hdf5": "/home/mkuehbach/Sprint14/finishing_in_migrated_places/merge-with-flo-apm-em-sp14-p1/pynxtools/pynxtools/pynxtools/data_24ZGOFFSF7NVOP322TBCKF0YF.h5",
      "text/plain": [
       "<jupyterlab_h5web.widget.H5Web object>"
      ]
     },
     "execution_count": 48,
     "metadata": {},
     "output_type": "execute_result"
    }
   ],
   "source": [
    "H5Web(fnm)"
   ]
  },
  {
   "cell_type": "code",
   "execution_count": 5,
   "id": "e6f7dc63-97bf-4d60-8b0c-322d544116cc",
   "metadata": {},
   "outputs": [
    {
     "name": "stdout",
     "output_type": "stream",
     "text": [
      "1 0\n"
     ]
    }
   ],
   "source": [
    "for count, value in enumerate([0], start=1):\n",
    "    print(count, value)"
   ]
  },
  {
   "cell_type": "code",
   "execution_count": 6,
   "id": "f65580cd-ad6a-427a-a23b-98bf0b5b9078",
   "metadata": {},
   "outputs": [
    {
     "data": {
      "text/plain": [
       "True"
      ]
     },
     "execution_count": 6,
     "metadata": {},
     "output_type": "execute_result"
    }
   ],
   "source": [
    "new_shape = []\n",
    "not new_shape"
   ]
  },
  {
   "cell_type": "code",
   "execution_count": 45,
   "id": "3582fbe1-75f0-4595-88ec-23c13b03eeb9",
   "metadata": {},
   "outputs": [
    {
     "name": "stdout",
     "output_type": "stream",
     "text": [
      "/home/mkuehbach/Sprint14/finishing_in_migrated_places/merge-with-flo-apm-em-sp14-p1/pynxtools/pynxtools/pynxtools/HAADF_01.json\n",
      "version\t\t\t1\n",
      "reader_version\t\t\t1\n",
      "large_format\t\t\tFalse\n",
      "spatial_calibrations\t\t\t[{'offset': -4.0, 'scale': 0.015625, 'units': 'nm'}, {'offset': -4.0, 'scale': 0.015625, 'units': 'nm'}]\n",
      "intensity_calibration/offset\t\t\t0.0\n",
      "intensity_calibration/scale\t\t\t1.0\n",
      "intensity_calibration/units\t\t\t\n",
      "collection_dimension_count\t\t\t0\n",
      "datum_dimension_count\t\t\t2\n",
      "metadata/instrument/high_tension\t\t\t60000.0\n",
      "metadata/instrument/defocus\t\t\t2.107734855509256e-09\n",
      "metadata/instrument/ImageScanned/EHT\t\t\t60000.0\n",
      "metadata/instrument/ImageScanned/PMTBF_gain\t\t\t0.0\n",
      "metadata/instrument/ImageScanned/PMTDF_gain\t\t\t1933.59375\n",
      "metadata/instrument/ImageScanned/StageOutA\t\t\t-0.03729969210692419\n",
      "metadata/instrument/ImageScanned/StageOutB\t\t\t0.01738158857406741\n",
      "metadata/instrument/ImageScanned/StageOutX\t\t\t-0.0003063858235397869\n",
      "metadata/instrument/ImageScanned/StageOutY\t\t\t-0.0001353885807373515\n",
      "metadata/instrument/ImageScanned/StageOutZ\t\t\t0.0002824967227973447\n",
      "metadata/instrument/ImageScanned/C10\t\t\t2.107734855509256e-09\n",
      "metadata/instrument/ImageScanned/C12.a\t\t\t-1.3270899476983896e-09\n",
      "metadata/instrument/ImageScanned/C12.b\t\t\t2.45416743732438e-09\n",
      "metadata/instrument/ImageScanned/C21.a\t\t\t-1.8515161285500848e-08\n",
      "metadata/instrument/ImageScanned/C21.b\t\t\t1.455094762656879e-07\n",
      "metadata/instrument/ImageScanned/C23.a\t\t\t4.779994961830252e-08\n",
      "metadata/instrument/ImageScanned/C23.b\t\t\t8.451288085825055e-08\n",
      "metadata/instrument/ImageScanned/C30\t\t\t-6.482662696236511e-06\n",
      "metadata/instrument/ImageScanned/C32.a\t\t\t-9.283273836488566e-07\n",
      "metadata/instrument/ImageScanned/C32.b\t\t\t-2.1884600984798147e-06\n",
      "metadata/instrument/ImageScanned/C34.a\t\t\t2.9847510241933797e-06\n",
      "metadata/instrument/ImageScanned/C34.b\t\t\t-1.0075905433611283e-06\n",
      "metadata/instrument/ImageScanned/C50\t\t\t0.0041532602451731975\n",
      "metadata/instrument/ImageScanned/C1 ConstW\t\t\t0.0\n",
      "metadata/instrument/ImageScanned/C2 ConstW\t\t\t0.7066859999999983\n",
      "metadata/instrument/ImageScanned/C3 ConstW\t\t\t0.9436699999999997\n",
      "metadata/instrument/ImageScanned/PMT2_gain\t\t\t168.0\n",
      "metadata/instrument/ImageScanned/SuperFEG.^EmissionCurrent\t\t\t2.2013023715804147e-06\n",
      "metadata/instrument/ImageScanned/G_2Db\t\t\t-0.008842152356133365\n",
      "metadata/instrument/ImageScanned/LastTuneCurrent\t\t\t0.0\n",
      "metadata/instrument/ImageScanned/probe_ha\t\t\t0.03600084615384612\n",
      "metadata/instrument/ImageScanned/HAADF_Inner_ha\t\t\t0.075\n",
      "metadata/instrument/ImageScanned/HAADF_Outer_ha\t\t\t0.208\n",
      "metadata/instrument/ImageScanned/GeometricProbeSize\t\t\t8.687178534215421e-11\n",
      "metadata/scan/hardware_source_id\t\t\tsuperscan\n",
      "metadata/scan/hardware_source_name\t\t\tSuperScan\n",
      "metadata/scan/scan_id\t\t\tf3d8cb6f-7a51-4634-ba5d-30d363f99737\n",
      "metadata/scan/center_x_nm\t\t\t0.0\n",
      "metadata/scan/center_y_nm\t\t\t0.0\n",
      "metadata/scan/fov_nm\t\t\t8.0\n",
      "metadata/scan/rotation\t\t\t0.4171336889266968\n",
      "metadata/scan/rotation_deg\t\t\t23.89999986822269\n",
      "metadata/scan/scan_context_size\t\t\t[512, 512]\n",
      "metadata/scan/scan_size\t\t\t[512, 512]\n",
      "metadata/scan/scan_device_parameters/size\t\t\t[512, 512]\n",
      "metadata/scan/scan_device_parameters/center_nm\t\t\t[0.0, 0.0]\n",
      "metadata/scan/scan_device_parameters/pixel_time_us\t\t\t128.0\n",
      "metadata/scan/scan_device_parameters/fov_nm\t\t\t8.0\n",
      "metadata/scan/scan_device_parameters/rotation_rad\t\t\t0.4171336889266968\n",
      "metadata/scan/scan_device_parameters/ac_line_sync\t\t\tFalse\n",
      "metadata/scan/scan_device_parameters/ac_frame_sync\t\t\tTrue\n",
      "metadata/scan/scan_device_parameters/flyback_time_us\t\t\t120\n",
      "metadata/scan/scan_device_parameters/external_clock_mode\t\t\t0\n",
      "metadata/scan/scan_device_parameters/external_clock_wait_time_ms\t\t\t0\n",
      "metadata/scan/scan_device_parameters/external_scan_mode\t\t\t0\n",
      "metadata/scan/scan_device_parameters/external_scan_ratio\t\t\t0.0\n",
      "metadata/scan/scan_device_parameters/subscan_rotation\t\t\t0.0\n",
      "metadata/scan/scan_device_properties/ac_line_sync\t\t\t0.0\n",
      "metadata/scan/scan_device_properties/calibration_style\t\t\tspace\n",
      "metadata/scan/scan_device_properties/center_x_nm\t\t\t0.0\n",
      "metadata/scan/scan_device_properties/center_y_nm\t\t\t0.0\n",
      "metadata/scan/scan_device_properties/flyback_time_us\t\t\t254.0\n",
      "metadata/scan/scan_device_properties/fov_nm\t\t\t8.0\n",
      "metadata/scan/scan_device_properties/line_time_us\t\t\t65278.0\n",
      "metadata/scan/scan_device_properties/pixel_time_us\t\t\t127.0\n",
      "metadata/scan/scan_device_properties/pixels_x\t\t\t512.0\n",
      "metadata/scan/scan_device_properties/pixels_y\t\t\t512.0\n",
      "metadata/scan/scan_device_properties/requested_pixel_time_us\t\t\t127.999999676831\n",
      "metadata/scan/scan_device_properties/rotation_deg\t\t\t23.8999998682227\n",
      "metadata/scan/scan_device_properties/rotation_rad\t\t\t0.417133688926697\n",
      "metadata/scan/scan_device_properties/mag_boards/MagBoard 0 DAC 0\t\t\t0.0\n",
      "metadata/scan/scan_device_properties/mag_boards/MagBoard 0 DAC 1\t\t\t0.0\n",
      "metadata/scan/scan_device_properties/mag_boards/MagBoard 0 DAC 10\t\t\t59582.0\n",
      "metadata/scan/scan_device_properties/mag_boards/MagBoard 0 DAC 11\t\t\t54388.0\n",
      "metadata/scan/scan_device_properties/mag_boards/MagBoard 0 DAC 2\t\t\t0.0\n",
      "metadata/scan/scan_device_properties/mag_boards/MagBoard 0 DAC 3\t\t\t0.0\n",
      "metadata/scan/scan_device_properties/mag_boards/MagBoard 0 DAC 4\t\t\t59700.0\n",
      "metadata/scan/scan_device_properties/mag_boards/MagBoard 0 DAC 5\t\t\t10762.0\n",
      "metadata/scan/scan_device_properties/mag_boards/MagBoard 0 DAC 6\t\t\t45845.0\n",
      "metadata/scan/scan_device_properties/mag_boards/MagBoard 0 DAC 7\t\t\t681.0\n",
      "metadata/scan/scan_device_properties/mag_boards/MagBoard 0 DAC 8\t\t\t19705.0\n",
      "metadata/scan/scan_device_properties/mag_boards/MagBoard 0 DAC 9\t\t\t799.0\n",
      "metadata/scan/scan_device_properties/mag_boards/MagBoard 0 Relay\t\t\t0.0\n",
      "metadata/scan/scan_device_properties/mag_boards/MagBoard 1 DAC 0\t\t\t0.0\n",
      "metadata/scan/scan_device_properties/mag_boards/MagBoard 1 DAC 1\t\t\t0.0\n",
      "metadata/scan/scan_device_properties/mag_boards/MagBoard 1 DAC 10\t\t\t31608.0\n",
      "metadata/scan/scan_device_properties/mag_boards/MagBoard 1 DAC 11\t\t\t48046.0\n",
      "metadata/scan/scan_device_properties/mag_boards/MagBoard 1 DAC 2\t\t\t0.0\n",
      "metadata/scan/scan_device_properties/mag_boards/MagBoard 1 DAC 3\t\t\t0.0\n",
      "metadata/scan/scan_device_properties/mag_boards/MagBoard 1 DAC 4\t\t\t31738.0\n",
      "metadata/scan/scan_device_properties/mag_boards/MagBoard 1 DAC 5\t\t\t48122.0\n",
      "metadata/scan/scan_device_properties/mag_boards/MagBoard 1 DAC 6\t\t\t44233.0\n",
      "metadata/scan/scan_device_properties/mag_boards/MagBoard 1 DAC 7\t\t\t14038.0\n",
      "metadata/scan/scan_device_properties/mag_boards/MagBoard 1 DAC 8\t\t\t16265.0\n",
      "metadata/scan/scan_device_properties/mag_boards/MagBoard 1 DAC 9\t\t\t54988.0\n",
      "metadata/scan/scan_device_properties/mag_boards/MagBoard 1 Relay\t\t\t0.0\n",
      "metadata/scan/valid_rows\t\t\t512\n",
      "metadata/hardware_source/hardware_source_id\t\t\tsuperscan\n",
      "metadata/hardware_source/hardware_source_name\t\t\tSuperScan\n",
      "metadata/hardware_source/exposure\t\t\t33.292288\n",
      "metadata/hardware_source/frame_index\t\t\t54\n",
      "metadata/hardware_source/channel_id\t\t\ta\n",
      "metadata/hardware_source/channel_name\t\t\tHADF\n",
      "metadata/hardware_source/pixel_time_us\t\t\t127.0\n",
      "metadata/hardware_source/line_time_us\t\t\t65278.0\n",
      "metadata/hardware_source/valid_rows\t\t\t512\n",
      "metadata/hardware_source/channel_index\t\t\t0\n",
      "metadata/hardware_source/reference_key\t\t\tsuperscan_a\n",
      "properties/hardware_source_id\t\t\tsuperscan\n",
      "properties/hardware_source_name\t\t\tSuperScan\n",
      "properties/exposure\t\t\t33.292288\n",
      "properties/frame_index\t\t\t54\n",
      "properties/channel_id\t\t\ta\n",
      "properties/channel_name\t\t\tHADF\n",
      "properties/pixel_time_us\t\t\t127.0\n",
      "properties/line_time_us\t\t\t65278.0\n",
      "properties/valid_rows\t\t\t512\n",
      "properties/channel_index\t\t\t0\n",
      "properties/reference_key\t\t\tsuperscan_a\n",
      "title\t\t\tSuperScan (HADF)\n",
      "source_file_path\t\t\tNone\n",
      "datetime_modified/local_datetime\t\t\t2021-04-19T19:18:00.763327\n",
      "datetime_modified/tz\t\t\t+0200\n",
      "datetime_modified/dst\t\t\t+60\n",
      "datetime_modified/timezone\t\t\tEurope/Berlin\n",
      "datetime_original/local_datetime\t\t\t2021-04-19T19:18:00.763327\n",
      "datetime_original/tz\t\t\t+0200\n",
      "datetime_original/dst\t\t\t+60\n",
      "datetime_original/timezone\t\t\tEurope/Berlin\n",
      "uuid\t\t\t92511cb2-02ad-4114-b786-3b46558d7d04\n"
     ]
    }
   ],
   "source": [
    "import flatdict as fd\n",
    "import numpy as np\n",
    "import yaml\n",
    "import re\n",
    "import datetime\n",
    "import pandas as pd\n",
    "import os\n",
    "\n",
    "# file://///wsl.localhost/Ubuntu/home/mkuehbach/SPRINT-8/nexus_code_camp_2022/parser-nexus/nexusparser/tools/yaml2nxdl/sprint9_update_nx_em/test_manual_building/nexus_definitions/build/manual/build/html/classes/contributed_definitions/NXem.html#nxem\n",
    "\n",
    "# https://stackoverflow.com/questions/3663450/remove-substring-only-at-the-end-of-string\n",
    "def rchop(s, suffix):\n",
    "    if suffix and s.endswith(suffix):\n",
    "        return s[:-len(suffix)]\n",
    "    return s\n",
    "\n",
    "# import metadata from nionswift json file\n",
    "wkdir = os.getcwd()\n",
    "file_names = [\n",
    "    \"MultiAcquire (Dectris ELA) #1.json\",\n",
    "    \"MultiAcquire (HADF) #1.json\",\n",
    "    \"Recording of SuperScan (BF).json\",\n",
    "    \"Recording of SuperScan (HADF).json\",\n",
    "    \"RonchiCam1.json\",\n",
    "    \"RonchiCam2.json\",\n",
    "    \"Spectrum Image EELS.json\",\n",
    "    \"Spectrum Image HADF.json\",\n",
    "    \"SuperScan (BF).json\",\n",
    "    \"SuperScan (HADF).json\",\n",
    "    \"SuperScan (MADF).json\"\n",
    "    ]\n",
    "file_names = [\"HAADF_01.json\"]\n",
    "# file_names = [f\"{fnm}.metadata.json\"]\n",
    "\n",
    "# first of all create a global namespace of all keywords\n",
    "nion_path_id = 1\n",
    "all_uniq_path_to_id = {}\n",
    "all_uniq_id_to_path = {}\n",
    "\n",
    "for f in file_names:\n",
    "    file_name = f\"{wkdir}/{f}\"\n",
    "    print(file_name)\n",
    "\n",
    "    with open(file_name, 'r') as stream:\n",
    "        yml = fd.FlatDict(yaml.safe_load(stream), delimiter='/')\n",
    "\n",
    "    for serialized_path in yml.keys():\n",
    "        print(f\"{serialized_path}\\t\\t\\t{yml[serialized_path]}\")"
   ]
  },
  {
   "cell_type": "code",
   "execution_count": null,
   "id": "2475f64a-f433-44c5-a314-94c786efc3d5",
   "metadata": {},
   "outputs": [],
   "source": [
    "    # nionswift metadata have the subtility that some paths have lists as values\n",
    "    # which contain again dictionaries of the next deeper layer with metadata\n",
    "    # these we also would like to flatten\n",
    "    # nion_path_id = 1\n",
    "    # ns_uniq_path_to_id = {}\n",
    "    # ns_uniq_id_to_path = {}\n",
    "    for path in yml.keys():\n",
    "        prefix = path\n",
    "        if isinstance(yml[prefix], list):\n",
    "            only_dicts = True\n",
    "            for obj in yml[prefix]:\n",
    "                if type(obj) is not dict:\n",
    "                    only_dicts = False\n",
    "                # all obj have to be tested\n",
    "\n",
    "            if only_dicts is True:\n",
    "                for obj in yml[prefix]:\n",
    "                    flat = fd.FlatDict(obj, delimiter='/')\n",
    "                    for key, val in flat.items():\n",
    "                        keyword = prefix + '/' + key\n",
    "                        value = val\n",
    "                        if keyword not in all_uniq_path_to_id.keys():\n",
    "                            all_uniq_path_to_id[keyword] = (nion_path_id, file_name)\n",
    "                            # ns_uniq_path_to_id[keyword] = (nion_path_id, value)\n",
    "                            # ns_uniq_id_to_path[nion_path_id] = (keyword, value)\n",
    "                            nion_path_id += 1\n",
    "        # else:\n",
    "        keyword = path\n",
    "        value = yml[path]\n",
    "        if keyword not in all_uniq_path_to_id.keys():\n",
    "            all_uniq_path_to_id[keyword] = (nion_path_id, file_name)\n",
    "            # ns_uniq_path_to_id[keyword] = (nion_path_id, value)\n",
    "            # ns_uniq_id_to_path[nion_path_id] = (keyword, value)\n",
    "            nion_path_id += 1\n",
    "\n",
    "    # next file\n",
    "\n",
    "# create a table for pandas to export to excel/odfpy\n",
    "nion_path_id = []\n",
    "nion_path_name = []\n",
    "nion_path_file = []\n",
    "for key, val in all_uniq_path_to_id.items():\n",
    "    nion_path_id.append(val[0])\n",
    "    nion_path_name.append(key)\n",
    "    nion_path_file.append(val[1])\n",
    "\n",
    "df_ns = pd.DataFrame(\n",
    "    {'nion_path_id_nionswift': nion_path_id,\n",
    "     'flattened_path_in_nionswift.json': nion_path_name})\n",
    "df_ns = df_ns.sort_values(by=['flattened_path_in_nionswift.json'])\n",
    "# 'file_name first found': c})\n",
    "\n",
    "# remove temporary variables # all_uniq_id_to_path\n",
    "variables = [\n",
    "    file_name, file_names, flat, key, keyword, nion_path_file,\\\n",
    "    nion_path_id, nion_path_name, nx_em_id_to_path, nx_em_path_id, \\\n",
    "    nx_em_path_name, nx_em_path_to_id, obj, only_dicts, \\\n",
    "    path, prefix, serialized_path, stream, val, value]\n",
    "for i in variables:\n",
    "    del i"
   ]
  }
 ],
 "metadata": {
  "kernelspec": {
   "display_name": "Python 3 (ipykernel)",
   "language": "python",
   "name": "python3"
  },
  "language_info": {
   "codemirror_mode": {
    "name": "ipython",
    "version": 3
   },
   "file_extension": ".py",
   "mimetype": "text/x-python",
   "name": "python",
   "nbconvert_exporter": "python",
   "pygments_lexer": "ipython3",
   "version": "3.8.16"
  }
 },
 "nbformat": 4,
 "nbformat_minor": 5
}
