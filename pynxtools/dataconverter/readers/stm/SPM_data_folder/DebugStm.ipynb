{
 "cells": [
  {
   "cell_type": "code",
   "execution_count": null,
   "id": "140a9268-4752-4231-9217-2be2477e2fd3",
   "metadata": {},
   "outputs": [],
   "source": [
    "from pynxtools.dataconverter.readers.stm.bias_spec_data_parser import BiasSpectData\n",
    "import os\n",
    "\n",
    "import numpy as np"
   ]
  },
  {
   "cell_type": "code",
   "execution_count": null,
   "id": "49a75770-5d06-4cb2-a65c-077c12664643",
   "metadata": {},
   "outputs": [],
   "source": [
    "path = '/home/rubel/NOMAD-FAIRmat/GH/pynxtools/pynxtools/dataconverter/readers/stm/SPM_data_folder/'\n",
    "\n",
    "file_NAME = path + 'copy_Bias-Spectroscopy00026_Au_mica_2023_Y_A_diPAMY_154-211C_370C_1min_385C_30min_400C_1min_400C_30min_415_30min_430_30min_11min_20230418.dat'"
   ]
  },
  {
   "cell_type": "code",
   "execution_count": null,
   "id": "d6ce1c0e-0935-4ab7-9b2e-a859bc14fc60",
   "metadata": {},
   "outputs": [],
   "source": [
    "b_s = BiasSpectData(file_NAME)"
   ]
  },
  {
   "cell_type": "code",
   "execution_count": null,
   "id": "cca5be94-1e57-401e-a204-5ebe4ea37546",
   "metadata": {},
   "outputs": [],
   "source": [
    "b_s.get_data_nested_dict()"
   ]
  },
  {
   "cell_type": "code",
   "execution_count": null,
   "id": "fc2b1e6c-6c9c-4da7-978c-233a4bb38e2f",
   "metadata": {},
   "outputs": [],
   "source": [
    "li = [2, 5]\n",
    "\n",
    "m = np.empty(0)\n",
    "\n",
    "np.append(m, li)"
   ]
  },
  {
   "cell_type": "code",
   "execution_count": null,
   "id": "303d80c2-3a62-40a3-a4fa-083d1fdf654f",
   "metadata": {},
   "outputs": [],
   "source": [
    "m "
   ]
  },
  {
   "cell_type": "code",
   "execution_count": null,
   "id": "edd351d2-4229-40d2-9d32-a4e2d35526b8",
   "metadata": {},
   "outputs": [],
   "source": [
    "x = 'jlkj)'\n",
    "x.split(')')"
   ]
  },
  {
   "cell_type": "code",
   "execution_count": null,
   "id": "a9499398-85d9-407c-b41c-0f93ba3a5f7c",
   "metadata": {},
   "outputs": [],
   "source": [
    "pwd"
   ]
  },
  {
   "cell_type": "code",
   "execution_count": null,
   "id": "c3f86253-07c8-4186-84b3-fc4253b9af80",
   "metadata": {},
   "outputs": [],
   "source": []
  }
 ],
 "metadata": {
  "kernelspec": {
   "display_name": "Python 3 (ipykernel)",
   "language": "python",
   "name": "python3"
  },
  "language_info": {
   "codemirror_mode": {
    "name": "ipython",
    "version": 3
   },
   "file_extension": ".py",
   "mimetype": "text/x-python",
   "name": "python",
   "nbconvert_exporter": "python",
   "pygments_lexer": "ipython3",
   "version": "3.8.16"
  }
 },
 "nbformat": 4,
 "nbformat_minor": 5
}
