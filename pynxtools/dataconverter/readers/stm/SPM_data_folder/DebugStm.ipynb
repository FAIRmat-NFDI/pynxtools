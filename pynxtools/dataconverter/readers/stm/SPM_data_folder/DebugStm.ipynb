{
 "cells": [
  {
   "cell_type": "code",
   "execution_count": 2,
   "id": "140a9268-4752-4231-9217-2be2477e2fd3",
   "metadata": {},
   "outputs": [],
   "source": [
    "from pynxtools.dataconverter.readers.stm.bias_spec_data_parser import BiasSpectData\n",
    "import os\n",
    "import numpy as np"
   ]
  },
  {
   "cell_type": "code",
   "execution_count": 3,
   "id": "49a75770-5d06-4cb2-a65c-077c12664643",
   "metadata": {},
   "outputs": [],
   "source": [
    "file_NAME = 'copy_Bias-Spectroscopy00026_Au_mica_2023_Y_A_diPAMY_154-211C_370C_1min_385C_30min_400C_1min_400C_30min_415_30min_430_30min_11min_20230418.dat'"
   ]
  },
  {
   "cell_type": "code",
   "execution_count": 4,
   "id": "d6ce1c0e-0935-4ab7-9b2e-a859bc14fc60",
   "metadata": {},
   "outputs": [
    {
     "name": "stdout",
     "output_type": "stream",
     "text": [
      "#ssss\n"
     ]
    }
   ],
   "source": [
    "b_s = BiasSpectData(file_NAME)"
   ]
  },
  {
   "cell_type": "code",
   "execution_count": 5,
   "id": "0d9f6c82-35ad-4c55-9991-a092d1334557",
   "metadata": {},
   "outputs": [
    {
     "data": {
      "text/plain": [
       "{'value': '[DATA]',\n",
       " 'Bias calc': {'unit': '', 'value': [-0.050000001, -0.049951147]},\n",
       " 'Current': {'unit': 'A',\n",
       "  'value': [-1.8337298e-09, -1.8306987e-09],\n",
       "  'metadata': 'filt'},\n",
       " 'Temperature 1': {'unit': 'K',\n",
       "  'value': [1.6308206, 1.6308209],\n",
       "  'metadata': 'filt'},\n",
       " 'Bias': {'unit': 'V',\n",
       "  'value': [-0.050000001, -0.049951147],\n",
       "  'metadata': 'filt'},\n",
       " 'LI Demod 1 X': {'unit': 'A',\n",
       "  'value': [-3.5852554e-11, -3.7228449e-11],\n",
       "  'metadata': 'filt'},\n",
       " 'LI Demod 1 Y': {'unit': 'A',\n",
       "  'value': [-1.3055527e-11, -1.1931388e-11],\n",
       "  'metadata': 'filt'},\n",
       " 'LI Demod 2 X': {'unit': 'A',\n",
       "  'value': [1.1921537e-11, 1.0343709e-11],\n",
       "  'metadata': 'filt'},\n",
       " 'LI Demod 2 Y': {'unit': 'A',\n",
       "  'value': [-1.5540491e-11, -1.4420469e-11],\n",
       "  'metadata': 'filt'}}"
      ]
     },
     "execution_count": 5,
     "metadata": {},
     "output_type": "execute_result"
    }
   ],
   "source": [
    "b_s.get_data_nested_dict()"
   ]
  },
  {
   "cell_type": "code",
   "execution_count": 5,
   "id": "fc2b1e6c-6c9c-4da7-978c-233a4bb38e2f",
   "metadata": {},
   "outputs": [
    {
     "data": {
      "text/plain": [
       "array([2., 5.])"
      ]
     },
     "execution_count": 5,
     "metadata": {},
     "output_type": "execute_result"
    }
   ],
   "source": [
    "li = [2, 5]\n",
    "\n",
    "m = np.empty(0)\n",
    "\n",
    "np.append(m, li)"
   ]
  },
  {
   "cell_type": "code",
   "execution_count": 6,
   "id": "303d80c2-3a62-40a3-a4fa-083d1fdf654f",
   "metadata": {},
   "outputs": [
    {
     "data": {
      "text/plain": [
       "array([], dtype=float64)"
      ]
     },
     "execution_count": 6,
     "metadata": {},
     "output_type": "execute_result"
    }
   ],
   "source": [
    "m "
   ]
  },
  {
   "cell_type": "code",
   "execution_count": 5,
   "id": "edd351d2-4229-40d2-9d32-a4e2d35526b8",
   "metadata": {},
   "outputs": [
    {
     "data": {
      "text/plain": [
       "['jlkj', '']"
      ]
     },
     "execution_count": 5,
     "metadata": {},
     "output_type": "execute_result"
    }
   ],
   "source": [
    "x = 'jlkj)'\n",
    "x.split(')')"
   ]
  },
  {
   "cell_type": "code",
   "execution_count": null,
   "id": "a9499398-85d9-407c-b41c-0f93ba3a5f7c",
   "metadata": {},
   "outputs": [],
   "source": []
  }
 ],
 "metadata": {
  "kernelspec": {
   "display_name": "Python 3 (ipykernel)",
   "language": "python",
   "name": "python3"
  },
  "language_info": {
   "codemirror_mode": {
    "name": "ipython",
    "version": 3
   },
   "file_extension": ".py",
   "mimetype": "text/x-python",
   "name": "python",
   "nbconvert_exporter": "python",
   "pygments_lexer": "ipython3",
   "version": "3.8.10"
  }
 },
 "nbformat": 4,
 "nbformat_minor": 5
}
