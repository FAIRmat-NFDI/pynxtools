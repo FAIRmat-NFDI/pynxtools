{
 "cells": [
  {
   "cell_type": "markdown",
   "id": "3d7959af",
   "metadata": {},
   "source": [
    "# Nanonis Metadata and Data Read"
   ]
  },
  {
   "cell_type": "code",
   "execution_count": null,
   "id": "1f5d43c0",
   "metadata": {},
   "outputs": [],
   "source": [
    "# Read Nanonis metadata dictionary #CAP 23.03.11\n",
    "\n",
    "import os\n",
    "import re\n",
    "import itertools\n",
    "\n",
    "######################\n",
    "\n",
    "folder_path = \".\"  \n",
    "file_ext = \".sxm\" \n",
    "metadata_lines = 97 #need better metadata EOF\n",
    "\n",
    "######################\n",
    "\n",
    "def Convert(a): # change list to dictionary, keys and values not yet debugged\n",
    "    it = iter(a)\n",
    "    res_dct = dict(zip(it, it))\n",
    "    return res_dct\n",
    "                \n",
    "a=[]\n",
    "for file_name in os.listdir(folder_path):\n",
    "    try: \n",
    "        if file_name.endswith(file_ext):\n",
    "                #with open(os.path.join(folder_path, file_name), \"r\", errors=\"ignore\") as f:\n",
    "            with open(os.path.join(folder_path, file_name), \"r\", errors=\"ignore\") as f:\n",
    "                a = re.split('\\n:|:\\n', f.read())[:metadata_lines]\n",
    "    except:\n",
    "        print('An error occured or there is no file in the current directory with the extesion',file_ext)\n",
    "        \n",
    "#print(file_name)\n",
    "print(\"*Keys*\")\n",
    "print((Convert(a)).keys())\n",
    "print(\"*Values*\")\n",
    "print((Convert(a)).values())\n",
    "\n"
   ]
  },
  {
   "cell_type": "code",
   "execution_count": null,
   "id": "4a73b53f-8dca-42c4-9ee9-b47a7a7d2a0e",
   "metadata": {},
   "outputs": [],
   "source": [
    "Convert(a)"
   ]
  },
  {
   "cell_type": "code",
   "execution_count": null,
   "id": "027418f6",
   "metadata": {},
   "outputs": [],
   "source": [
    "import nanonispy as nap #CAP 23.03.11\n",
    "import numpy as np\n",
    "import matplotlib.pyplot as plt\n",
    "import matplotlib as mpl\n",
    "%matplotlib inline\n",
    "\n",
    "scan = nap.read.Scan('test.sxm')\n",
    "\n",
    "\n",
    "#dictionary of signals \n",
    "scan.signals\n",
    "\n",
    "#only one channel\n",
    "\n",
    "data=scan.signals['Z']['forward']\n",
    "np.shape(data) # number of pixels in x and y\n",
    "\n",
    "plt.imshow( data , cmap = 'magma' )\n",
    "  \n",
    "# Adding details to the plot\n",
    "plt.title( \"2D Heat Map as usually represented in scanning probe microscopy\" )\n",
    "plt.xlabel('slow scan direction in pixels')\n",
    "plt.ylabel('fast scan direction in pixels')\n",
    "\n",
    "# Adding a color bar to the plot\n",
    "plt.colorbar()\n",
    "\n",
    "# Displaying the plot\n",
    "plt.show()\n",
    "\n",
    "\n"
   ]
  },
  {
   "cell_type": "markdown",
   "id": "4cd91dd6",
   "metadata": {},
   "source": [
    "# Other methods parsing methods for Nanonis data format (not implemented)"
   ]
  },
  {
   "cell_type": "code",
   "execution_count": null,
   "id": "4842069b",
   "metadata": {},
   "outputs": [],
   "source": [
    "import pySPM\n",
    "print(pySPM.__version__)\n",
    "\n",
    "import numpy as np\n",
    "import matplotlib.pyplot as plt\n",
    "import matplotlib as mpl\n",
    "%matplotlib inline\n",
    "\n",
    "import os\n",
    "from IPython import display\n",
    "\n",
    "filename = get_data(\"test.sxm\")\n",
    "S = pySPM.SXM(filename)\n",
    "S.list_channels()\n",
    "fig, ax = plt.subplots(1,2,figsize=(14,7))\n",
    "S.get_channel('Z').show(ax=ax[0]);\n",
    "p = S.get_channel('Current').show(ax=ax[1], cmap='viridis');"
   ]
  },
  {
   "cell_type": "code",
   "execution_count": null,
   "id": "4f6c36d7",
   "metadata": {},
   "outputs": [],
   "source": [
    "\n",
    "import gwyfile\n",
    "import scipy.ndimage.filters\n",
    "# Load a Gwyddion file into memory\n",
    "\n",
    "obj = gwyfile.load('./test.sxm')\n",
    "#obj = gwyfile.load(f'{file_name}')\n",
    "\n",
    "# Return a dictionary with the datafield titles as keys and the\n",
    "# datafield objects as values.\n",
    "channels = gwyfile.util.get_datafields(obj)\n",
    "\n",
    "channels['Z (Forward)'].data # One data channel out of many available\n",
    "\n",
    "channel = channels['Z (Forward)']\n",
    "channel.xreal\n",
    "# Datafield objects have a `data` property to access their\n",
    "# two-dimensional data as numpy arrays.\n",
    "data = channel.data\n",
    "\n",
    "# Plot the data using matplotlib.\n",
    "import matplotlib.pyplot as plt\n",
    "fig, ax = plt.subplots()\n",
    "ax.imshow(data, interpolation='none', origin='upper',\n",
    "        extent=(0, channel.xreal, 0, channel.yreal), cmap='hot')\n",
    "plt.show()"
   ]
  },
  {
   "cell_type": "code",
   "execution_count": null,
   "id": "a5615ab7",
   "metadata": {},
   "outputs": [],
   "source": []
  }
 ],
 "metadata": {
  "hide_input": false,
  "kernelspec": {
   "display_name": "Python 3 (ipykernel)",
   "language": "python",
   "name": "python3"
  },
  "language_info": {
   "codemirror_mode": {
    "name": "ipython",
    "version": 3
   },
   "file_extension": ".py",
   "mimetype": "text/x-python",
   "name": "python",
   "nbconvert_exporter": "python",
   "pygments_lexer": "ipython3",
   "version": "3.8.16"
  },
  "toc": {
   "base_numbering": 1,
   "nav_menu": {},
   "number_sections": true,
   "sideBar": true,
   "skip_h1_title": false,
   "title_cell": "Table of Contents",
   "title_sidebar": "Contents",
   "toc_cell": false,
   "toc_position": {},
   "toc_section_display": true,
   "toc_window_display": false
  }
 },
 "nbformat": 4,
 "nbformat_minor": 5
}
