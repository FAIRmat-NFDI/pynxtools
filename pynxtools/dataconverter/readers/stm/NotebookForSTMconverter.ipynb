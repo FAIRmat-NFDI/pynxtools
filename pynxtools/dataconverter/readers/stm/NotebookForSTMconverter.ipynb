{
 "cells": [
  {
   "cell_type": "code",
   "execution_count": 1,
   "id": "45d84b47-8f66-4a3e-821c-306e47f5039f",
   "metadata": {
    "tags": []
   },
   "outputs": [
    {
     "name": "stdout",
     "output_type": "stream",
     "text": [
      "Using stm reader to convert the given files:  \n",
      "• ./SPM_data_folder/TiSe2_2303a_annealing_300C_5min_evaporate_Pyrene_1_0070.sxm \n",
      "/home/rubel/NOMAD-FAIRmat/GH/pynxtools/pynxtools/dataconverter/readers/stm/SPM_data_folder/TiSe2_2303a_annealing_300C_5min_evaporate_Pyrene_1_0070.sxm\n",
      "Traceback (most recent call last):\n",
      "  File \"/home/rubel/NOMAD-FAIRmat/GH/pynxtools/.pyenv_3_8/bin/dataconverter\", line 8, in <module>\n",
      "    sys.exit(convert_cli())\n",
      "  File \"/home/rubel/NOMAD-FAIRmat/GH/pynxtools/.pyenv_3_8/lib/python3.8/site-packages/click/core.py\", line 1130, in __call__\n",
      "    return self.main(*args, **kwargs)\n",
      "  File \"/home/rubel/NOMAD-FAIRmat/GH/pynxtools/.pyenv_3_8/lib/python3.8/site-packages/click/core.py\", line 1055, in main\n",
      "    rv = self.invoke(ctx)\n",
      "  File \"/home/rubel/NOMAD-FAIRmat/GH/pynxtools/.pyenv_3_8/lib/python3.8/site-packages/click/core.py\", line 1404, in invoke\n",
      "    return ctx.invoke(self.callback, **ctx.params)\n",
      "  File \"/home/rubel/NOMAD-FAIRmat/GH/pynxtools/.pyenv_3_8/lib/python3.8/site-packages/click/core.py\", line 760, in invoke\n",
      "    return __callback(*args, **kwargs)\n",
      "  File \"/home/rubel/NOMAD-FAIRmat/GH/pynxtools/pynxtools/dataconverter/convert.py\", line 202, in convert_cli\n",
      "    convert(input_file, reader, nxdl, output, generate_template, fair)\n",
      "  File \"/home/rubel/NOMAD-FAIRmat/GH/pynxtools/pynxtools/dataconverter/convert.py\", line 108, in convert\n",
      "    data = data_reader().read(  # type: ignore[operator]\n",
      "  File \"/home/rubel/NOMAD-FAIRmat/GH/pynxtools/pynxtools/dataconverter/readers/stm/reader.py\", line 225, in read\n",
      "    filled_template = pass_metadata_and_signal_into_template(clean_template, SPM_file)\n",
      "  File \"/home/rubel/NOMAD-FAIRmat/GH/pynxtools/pynxtools/dataconverter/readers/stm/reader.py\", line 156, in pass_metadata_and_signal_into_template\n",
      "    dict_path, signal = get_SPM_metadata_dict_and_signal(file_name)\n",
      "  File \"/home/rubel/NOMAD-FAIRmat/GH/pynxtools/pynxtools/dataconverter/readers/stm/reader.py\", line 134, in get_SPM_metadata_dict_and_signal\n",
      "    metadata_dict, signal = sxm_raw_metadata_and_signal(file_name)\n",
      "  File \"/home/rubel/NOMAD-FAIRmat/GH/pynxtools/pynxtools/dataconverter/readers/stm/reader.py\", line 116, in sxm_raw_metadata_and_signal\n",
      "    scan_file = nap.read.Scan(file_name)\n",
      "  File \"/home/rubel/NOMAD-FAIRmat/GH/pynxtools/.pyenv_3_8/lib/python3.8/site-packages/nanonispy/read.py\", line 325, in __init__\n",
      "    self.header = _parse_sxm_header(self.header_raw)\n",
      "  File \"/home/rubel/NOMAD-FAIRmat/GH/pynxtools/.pyenv_3_8/lib/python3.8/site-packages/nanonispy/read.py\", line 626, in _parse_sxm_header\n",
      "    header_dict[key] = np.asarray(header_dict[key], dtype=np.float)\n",
      "  File \"/home/rubel/NOMAD-FAIRmat/GH/pynxtools/.pyenv_3_8/lib/python3.8/site-packages/numpy/__init__.py\", line 305, in __getattr__\n",
      "    raise AttributeError(__former_attrs__[attr])\n",
      "AttributeError: module 'numpy' has no attribute 'float'.\n",
      "`np.float` was a deprecated alias for the builtin `float`. To avoid this error in existing code, use `float` by itself. Doing this will not modify any behavior and is safe. If you specifically wanted the numpy scalar type, use `np.float64` here.\n",
      "The aliases was originally deprecated in NumPy 1.20; for more details and guidance see the original release note at:\n",
      "    https://numpy.org/devdocs/release/1.20.0-notes.html#deprecations\n"
     ]
    }
   ],
   "source": [
    "!dataconverter \\\n",
    "--reader stm \\\n",
    "--nxdl NXroot \\\n",
    "--input-file ./SPM_data_folder/TiSe2_2303a_annealing_300C_5min_evaporate_Pyrene_1_0070.sxm \\\n",
    "--output xxspm_test_output.test.nxs\n"
   ]
  },
  {
   "cell_type": "code",
   "execution_count": null,
   "id": "09ed042e-0bbf-4299-aa71-c6269e0acc5a",
   "metadata": {},
   "outputs": [],
   "source": []
  },
  {
   "cell_type": "code",
   "execution_count": null,
   "id": "125ca83a-488a-4587-a39a-9094f3bb505a",
   "metadata": {},
   "outputs": [],
   "source": []
  },
  {
   "cell_type": "code",
   "execution_count": null,
   "id": "babfd08d-febb-4d84-b8e6-0416db52439f",
   "metadata": {},
   "outputs": [],
   "source": []
  }
 ],
 "metadata": {
  "kernelspec": {
   "display_name": "Python 3 (ipykernel)",
   "language": "python",
   "name": "python3"
  },
  "language_info": {
   "codemirror_mode": {
    "name": "ipython",
    "version": 3
   },
   "file_extension": ".py",
   "mimetype": "text/x-python",
   "name": "python",
   "nbconvert_exporter": "python",
   "pygments_lexer": "ipython3",
   "version": "3.8.16"
  }
 },
 "nbformat": 4,
 "nbformat_minor": 5
}
