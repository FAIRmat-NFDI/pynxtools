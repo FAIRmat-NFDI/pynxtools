{
 "cells": [
  {
   "cell_type": "code",
   "execution_count": null,
   "id": "45d84b47-8f66-4a3e-821c-306e47f5039f",
   "metadata": {
    "tags": []
   },
   "outputs": [],
   "source": [
    "!dataconverter \\\n",
    "--reader stm \\\n",
    "--nxdl NXroot \\\n",
    "--input-file ./SPM_data_folder/TiSe2_2303a_annealing_300C_5min_evaporate_Pyrene_1_0070.sxm \\\n",
    "--output xxspm_test_output.test.nxs\n"
   ]
  },
  {
   "cell_type": "code",
   "execution_count": null,
   "id": "09ed042e-0bbf-4299-aa71-c6269e0acc5a",
   "metadata": {},
   "outputs": [],
   "source": []
  },
  {
   "cell_type": "code",
   "execution_count": null,
   "id": "125ca83a-488a-4587-a39a-9094f3bb505a",
   "metadata": {},
   "outputs": [],
   "source": []
  },
  {
   "cell_type": "code",
   "execution_count": null,
   "id": "babfd08d-febb-4d84-b8e6-0416db52439f",
   "metadata": {},
   "outputs": [],
   "source": []
  }
 ],
 "metadata": {
  "kernelspec": {
   "display_name": "Python 3 (ipykernel)",
   "language": "python",
   "name": "python3"
  },
  "language_info": {
   "codemirror_mode": {
    "name": "ipython",
    "version": 3
   },
   "file_extension": ".py",
   "mimetype": "text/x-python",
   "name": "python",
   "nbconvert_exporter": "python",
   "pygments_lexer": "ipython3",
   "version": "3.8.16"
  }
 },
 "nbformat": 4,
 "nbformat_minor": 5
}
